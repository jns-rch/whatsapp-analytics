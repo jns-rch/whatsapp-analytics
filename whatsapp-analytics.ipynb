{
 "cells": [
  {
   "cell_type": "code",
   "execution_count": 13,
   "metadata": {},
   "outputs": [
    {
     "output_type": "stream",
     "name": "stderr",
     "text": [
      "[nltk_data] Downloading package stopwords to\n[nltk_data]     C:\\Users\\jonas\\AppData\\Roaming\\nltk_data...\n[nltk_data]   Package stopwords is already up-to-date!\n[nltk_data] Downloading package punkt to\n[nltk_data]     C:\\Users\\jonas\\AppData\\Roaming\\nltk_data...\n[nltk_data]   Package punkt is already up-to-date!\n[nltk_data] Downloading package wordnet to\n[nltk_data]     C:\\Users\\jonas\\AppData\\Roaming\\nltk_data...\n[nltk_data]   Package wordnet is already up-to-date!\n"
     ]
    },
    {
     "output_type": "execute_result",
     "data": {
      "text/plain": [
       "True"
      ]
     },
     "metadata": {},
     "execution_count": 13
    }
   ],
   "source": [
    "from src import *\n",
    "from plots import *\n",
    "import pandas as pd\n",
    "import nltk\n",
    "import seaborn as sns \n",
    "import matplotlib.pyplot as plt \n",
    "\n",
    "nltk.download('stopwords')\n",
    "nltk.download('punkt')\n",
    "nltk.download('wordnet')\n",
    "\n",
    "#!python -m spacy download de"
   ]
  },
  {
   "cell_type": "code",
   "execution_count": 14,
   "metadata": {},
   "outputs": [],
   "source": [
    "CHAT_TEXT_FILE = \"C:/Users/jonas/Documents/Dokumente/Projekte/00_DATA/chats/WhatsApp Chat_example.txt\"\n",
    "BAR_COLOR = \"royalblue\""
   ]
  },
  {
   "cell_type": "code",
   "execution_count": 15,
   "metadata": {},
   "outputs": [],
   "source": [
    "df = import_data(CHAT_TEXT_FILE)"
   ]
  },
  {
   "cell_type": "code",
   "execution_count": 16,
   "metadata": {},
   "outputs": [
    {
     "output_type": "execute_result",
     "data": {
      "text/plain": [
       "                                             RAW        date      time  \\\n",
       "0                    22.07.18, 10:05 - User 0: 👋  2018-07-22  10:05:00   \n",
       "1          22.07.18, 10:07 - User 3: Hallöchen ❤  2018-07-22  10:07:00   \n",
       "2         22.07.18, 10:12 - User 1: Hallöle 🤪😘😘😘  2018-07-22  10:12:00   \n",
       "3  22.07.18, 10:15 - User 3: Das kann ich auch 😎  2018-07-22  10:15:00   \n",
       "4         22.07.18, 10:15 - User 1: Super👍🏻👍🏻👍🏻😘  2018-07-22  10:15:00   \n",
       "\n",
       "   person              message            date_time weekday month  year hour  \\\n",
       "0  User 0                    👋  2018-07-22 10:05:00       6     7  2018   10   \n",
       "1  User 3          Hallöchen ❤  2018-07-22 10:07:00       6     7  2018   10   \n",
       "2  User 1         Hallöle 🤪😘😘😘  2018-07-22 10:12:00       6     7  2018   10   \n",
       "3  User 3  Das kann ich auch 😎  2018-07-22 10:15:00       6     7  2018   10   \n",
       "4  User 1         Super👍🏻👍🏻👍🏻😘  2018-07-22 10:15:00       6     7  2018   10   \n",
       "\n",
       "   text_length  \n",
       "0          1.0  \n",
       "1         11.0  \n",
       "2         12.0  \n",
       "3         19.0  \n",
       "4         12.0  "
      ],
      "text/html": "<div>\n<style scoped>\n    .dataframe tbody tr th:only-of-type {\n        vertical-align: middle;\n    }\n\n    .dataframe tbody tr th {\n        vertical-align: top;\n    }\n\n    .dataframe thead th {\n        text-align: right;\n    }\n</style>\n<table border=\"1\" class=\"dataframe\">\n  <thead>\n    <tr style=\"text-align: right;\">\n      <th></th>\n      <th>RAW</th>\n      <th>date</th>\n      <th>time</th>\n      <th>person</th>\n      <th>message</th>\n      <th>date_time</th>\n      <th>weekday</th>\n      <th>month</th>\n      <th>year</th>\n      <th>hour</th>\n      <th>text_length</th>\n    </tr>\n  </thead>\n  <tbody>\n    <tr>\n      <th>0</th>\n      <td>22.07.18, 10:05 - User 0: 👋</td>\n      <td>2018-07-22</td>\n      <td>10:05:00</td>\n      <td>User 0</td>\n      <td>👋</td>\n      <td>2018-07-22 10:05:00</td>\n      <td>6</td>\n      <td>7</td>\n      <td>2018</td>\n      <td>10</td>\n      <td>1.0</td>\n    </tr>\n    <tr>\n      <th>1</th>\n      <td>22.07.18, 10:07 - User 3: Hallöchen ❤</td>\n      <td>2018-07-22</td>\n      <td>10:07:00</td>\n      <td>User 3</td>\n      <td>Hallöchen ❤</td>\n      <td>2018-07-22 10:07:00</td>\n      <td>6</td>\n      <td>7</td>\n      <td>2018</td>\n      <td>10</td>\n      <td>11.0</td>\n    </tr>\n    <tr>\n      <th>2</th>\n      <td>22.07.18, 10:12 - User 1: Hallöle 🤪😘😘😘</td>\n      <td>2018-07-22</td>\n      <td>10:12:00</td>\n      <td>User 1</td>\n      <td>Hallöle 🤪😘😘😘</td>\n      <td>2018-07-22 10:12:00</td>\n      <td>6</td>\n      <td>7</td>\n      <td>2018</td>\n      <td>10</td>\n      <td>12.0</td>\n    </tr>\n    <tr>\n      <th>3</th>\n      <td>22.07.18, 10:15 - User 3: Das kann ich auch 😎</td>\n      <td>2018-07-22</td>\n      <td>10:15:00</td>\n      <td>User 3</td>\n      <td>Das kann ich auch 😎</td>\n      <td>2018-07-22 10:15:00</td>\n      <td>6</td>\n      <td>7</td>\n      <td>2018</td>\n      <td>10</td>\n      <td>19.0</td>\n    </tr>\n    <tr>\n      <th>4</th>\n      <td>22.07.18, 10:15 - User 1: Super👍🏻👍🏻👍🏻😘</td>\n      <td>2018-07-22</td>\n      <td>10:15:00</td>\n      <td>User 1</td>\n      <td>Super👍🏻👍🏻👍🏻😘</td>\n      <td>2018-07-22 10:15:00</td>\n      <td>6</td>\n      <td>7</td>\n      <td>2018</td>\n      <td>10</td>\n      <td>12.0</td>\n    </tr>\n  </tbody>\n</table>\n</div>"
     },
     "metadata": {},
     "execution_count": 16
    }
   ],
   "source": [
    "df.head()"
   ]
  },
  {
   "cell_type": "code",
   "execution_count": 17,
   "metadata": {},
   "outputs": [],
   "source": [
    "from plotly_plots import Plotter\n",
    "\n",
    "P = Plotter()"
   ]
  },
  {
   "cell_type": "code",
   "execution_count": 18,
   "metadata": {},
   "outputs": [
    {
     "output_type": "display_data",
     "data": {
      "application/vnd.plotly.v1+json": {
       "config": {
        "plotlyServerURL": "https://plot.ly"
       },
       "data": [
        {
         "customdata": [
          [
           "User 0"
          ],
          [
           "User 1"
          ],
          [
           "User 2"
          ],
          [
           "User 3"
          ]
         ],
         "domain": {
          "x": [
           0,
           1
          ],
          "y": [
           0,
           1
          ]
         },
         "hovertemplate": "person=%{customdata[0]}<br>messages_per_person=%{value}<extra></extra>",
         "labels": [
          "User 0",
          "User 1",
          "User 2",
          "User 3"
         ],
         "legendgroup": "",
         "marker": {
          "colors": [
           "#4C78A8",
           "#F58518",
           "#E45756",
           "#72B7B2"
          ]
         },
         "name": "",
         "showlegend": true,
         "type": "pie",
         "values": [
          234,
          220,
          396,
          600
         ]
        }
       ],
       "layout": {
        "autosize": true,
        "font": {
         "size": 14
        },
        "legend": {
         "orientation": "h",
         "tracegroupgap": 0,
         "y": -0.3
        },
        "margin": {
         "b": 0,
         "l": 0,
         "r": 0,
         "t": 120
        },
        "piecolorway": [
         "#4C78A8",
         "#F58518",
         "#E45756",
         "#72B7B2",
         "#54A24B",
         "#EECA3B",
         "#B279A2",
         "#FF9DA6",
         "#9D755D",
         "#BAB0AC"
        ],
        "template": {
         "data": {
          "bar": [
           {
            "error_x": {
             "color": "#2a3f5f"
            },
            "error_y": {
             "color": "#2a3f5f"
            },
            "marker": {
             "line": {
              "color": "white",
              "width": 0.5
             }
            },
            "type": "bar"
           }
          ],
          "barpolar": [
           {
            "marker": {
             "line": {
              "color": "white",
              "width": 0.5
             }
            },
            "type": "barpolar"
           }
          ],
          "carpet": [
           {
            "aaxis": {
             "endlinecolor": "#2a3f5f",
             "gridcolor": "#C8D4E3",
             "linecolor": "#C8D4E3",
             "minorgridcolor": "#C8D4E3",
             "startlinecolor": "#2a3f5f"
            },
            "baxis": {
             "endlinecolor": "#2a3f5f",
             "gridcolor": "#C8D4E3",
             "linecolor": "#C8D4E3",
             "minorgridcolor": "#C8D4E3",
             "startlinecolor": "#2a3f5f"
            },
            "type": "carpet"
           }
          ],
          "choropleth": [
           {
            "colorbar": {
             "outlinewidth": 0,
             "ticks": ""
            },
            "type": "choropleth"
           }
          ],
          "contour": [
           {
            "colorbar": {
             "outlinewidth": 0,
             "ticks": ""
            },
            "colorscale": [
             [
              0,
              "#0d0887"
             ],
             [
              0.1111111111111111,
              "#46039f"
             ],
             [
              0.2222222222222222,
              "#7201a8"
             ],
             [
              0.3333333333333333,
              "#9c179e"
             ],
             [
              0.4444444444444444,
              "#bd3786"
             ],
             [
              0.5555555555555556,
              "#d8576b"
             ],
             [
              0.6666666666666666,
              "#ed7953"
             ],
             [
              0.7777777777777778,
              "#fb9f3a"
             ],
             [
              0.8888888888888888,
              "#fdca26"
             ],
             [
              1,
              "#f0f921"
             ]
            ],
            "type": "contour"
           }
          ],
          "contourcarpet": [
           {
            "colorbar": {
             "outlinewidth": 0,
             "ticks": ""
            },
            "type": "contourcarpet"
           }
          ],
          "heatmap": [
           {
            "colorbar": {
             "outlinewidth": 0,
             "ticks": ""
            },
            "colorscale": [
             [
              0,
              "#0d0887"
             ],
             [
              0.1111111111111111,
              "#46039f"
             ],
             [
              0.2222222222222222,
              "#7201a8"
             ],
             [
              0.3333333333333333,
              "#9c179e"
             ],
             [
              0.4444444444444444,
              "#bd3786"
             ],
             [
              0.5555555555555556,
              "#d8576b"
             ],
             [
              0.6666666666666666,
              "#ed7953"
             ],
             [
              0.7777777777777778,
              "#fb9f3a"
             ],
             [
              0.8888888888888888,
              "#fdca26"
             ],
             [
              1,
              "#f0f921"
             ]
            ],
            "type": "heatmap"
           }
          ],
          "heatmapgl": [
           {
            "colorbar": {
             "outlinewidth": 0,
             "ticks": ""
            },
            "colorscale": [
             [
              0,
              "#0d0887"
             ],
             [
              0.1111111111111111,
              "#46039f"
             ],
             [
              0.2222222222222222,
              "#7201a8"
             ],
             [
              0.3333333333333333,
              "#9c179e"
             ],
             [
              0.4444444444444444,
              "#bd3786"
             ],
             [
              0.5555555555555556,
              "#d8576b"
             ],
             [
              0.6666666666666666,
              "#ed7953"
             ],
             [
              0.7777777777777778,
              "#fb9f3a"
             ],
             [
              0.8888888888888888,
              "#fdca26"
             ],
             [
              1,
              "#f0f921"
             ]
            ],
            "type": "heatmapgl"
           }
          ],
          "histogram": [
           {
            "marker": {
             "colorbar": {
              "outlinewidth": 0,
              "ticks": ""
             }
            },
            "type": "histogram"
           }
          ],
          "histogram2d": [
           {
            "colorbar": {
             "outlinewidth": 0,
             "ticks": ""
            },
            "colorscale": [
             [
              0,
              "#0d0887"
             ],
             [
              0.1111111111111111,
              "#46039f"
             ],
             [
              0.2222222222222222,
              "#7201a8"
             ],
             [
              0.3333333333333333,
              "#9c179e"
             ],
             [
              0.4444444444444444,
              "#bd3786"
             ],
             [
              0.5555555555555556,
              "#d8576b"
             ],
             [
              0.6666666666666666,
              "#ed7953"
             ],
             [
              0.7777777777777778,
              "#fb9f3a"
             ],
             [
              0.8888888888888888,
              "#fdca26"
             ],
             [
              1,
              "#f0f921"
             ]
            ],
            "type": "histogram2d"
           }
          ],
          "histogram2dcontour": [
           {
            "colorbar": {
             "outlinewidth": 0,
             "ticks": ""
            },
            "colorscale": [
             [
              0,
              "#0d0887"
             ],
             [
              0.1111111111111111,
              "#46039f"
             ],
             [
              0.2222222222222222,
              "#7201a8"
             ],
             [
              0.3333333333333333,
              "#9c179e"
             ],
             [
              0.4444444444444444,
              "#bd3786"
             ],
             [
              0.5555555555555556,
              "#d8576b"
             ],
             [
              0.6666666666666666,
              "#ed7953"
             ],
             [
              0.7777777777777778,
              "#fb9f3a"
             ],
             [
              0.8888888888888888,
              "#fdca26"
             ],
             [
              1,
              "#f0f921"
             ]
            ],
            "type": "histogram2dcontour"
           }
          ],
          "mesh3d": [
           {
            "colorbar": {
             "outlinewidth": 0,
             "ticks": ""
            },
            "type": "mesh3d"
           }
          ],
          "parcoords": [
           {
            "line": {
             "colorbar": {
              "outlinewidth": 0,
              "ticks": ""
             }
            },
            "type": "parcoords"
           }
          ],
          "pie": [
           {
            "automargin": true,
            "type": "pie"
           }
          ],
          "scatter": [
           {
            "marker": {
             "colorbar": {
              "outlinewidth": 0,
              "ticks": ""
             }
            },
            "type": "scatter"
           }
          ],
          "scatter3d": [
           {
            "line": {
             "colorbar": {
              "outlinewidth": 0,
              "ticks": ""
             }
            },
            "marker": {
             "colorbar": {
              "outlinewidth": 0,
              "ticks": ""
             }
            },
            "type": "scatter3d"
           }
          ],
          "scattercarpet": [
           {
            "marker": {
             "colorbar": {
              "outlinewidth": 0,
              "ticks": ""
             }
            },
            "type": "scattercarpet"
           }
          ],
          "scattergeo": [
           {
            "marker": {
             "colorbar": {
              "outlinewidth": 0,
              "ticks": ""
             }
            },
            "type": "scattergeo"
           }
          ],
          "scattergl": [
           {
            "marker": {
             "colorbar": {
              "outlinewidth": 0,
              "ticks": ""
             }
            },
            "type": "scattergl"
           }
          ],
          "scattermapbox": [
           {
            "marker": {
             "colorbar": {
              "outlinewidth": 0,
              "ticks": ""
             }
            },
            "type": "scattermapbox"
           }
          ],
          "scatterpolar": [
           {
            "marker": {
             "colorbar": {
              "outlinewidth": 0,
              "ticks": ""
             }
            },
            "type": "scatterpolar"
           }
          ],
          "scatterpolargl": [
           {
            "marker": {
             "colorbar": {
              "outlinewidth": 0,
              "ticks": ""
             }
            },
            "type": "scatterpolargl"
           }
          ],
          "scatterternary": [
           {
            "marker": {
             "colorbar": {
              "outlinewidth": 0,
              "ticks": ""
             }
            },
            "type": "scatterternary"
           }
          ],
          "surface": [
           {
            "colorbar": {
             "outlinewidth": 0,
             "ticks": ""
            },
            "colorscale": [
             [
              0,
              "#0d0887"
             ],
             [
              0.1111111111111111,
              "#46039f"
             ],
             [
              0.2222222222222222,
              "#7201a8"
             ],
             [
              0.3333333333333333,
              "#9c179e"
             ],
             [
              0.4444444444444444,
              "#bd3786"
             ],
             [
              0.5555555555555556,
              "#d8576b"
             ],
             [
              0.6666666666666666,
              "#ed7953"
             ],
             [
              0.7777777777777778,
              "#fb9f3a"
             ],
             [
              0.8888888888888888,
              "#fdca26"
             ],
             [
              1,
              "#f0f921"
             ]
            ],
            "type": "surface"
           }
          ],
          "table": [
           {
            "cells": {
             "fill": {
              "color": "#EBF0F8"
             },
             "line": {
              "color": "white"
             }
            },
            "header": {
             "fill": {
              "color": "#C8D4E3"
             },
             "line": {
              "color": "white"
             }
            },
            "type": "table"
           }
          ]
         },
         "layout": {
          "annotationdefaults": {
           "arrowcolor": "#2a3f5f",
           "arrowhead": 0,
           "arrowwidth": 1
          },
          "autotypenumbers": "strict",
          "coloraxis": {
           "colorbar": {
            "outlinewidth": 0,
            "ticks": ""
           }
          },
          "colorscale": {
           "diverging": [
            [
             0,
             "#8e0152"
            ],
            [
             0.1,
             "#c51b7d"
            ],
            [
             0.2,
             "#de77ae"
            ],
            [
             0.3,
             "#f1b6da"
            ],
            [
             0.4,
             "#fde0ef"
            ],
            [
             0.5,
             "#f7f7f7"
            ],
            [
             0.6,
             "#e6f5d0"
            ],
            [
             0.7,
             "#b8e186"
            ],
            [
             0.8,
             "#7fbc41"
            ],
            [
             0.9,
             "#4d9221"
            ],
            [
             1,
             "#276419"
            ]
           ],
           "sequential": [
            [
             0,
             "#0d0887"
            ],
            [
             0.1111111111111111,
             "#46039f"
            ],
            [
             0.2222222222222222,
             "#7201a8"
            ],
            [
             0.3333333333333333,
             "#9c179e"
            ],
            [
             0.4444444444444444,
             "#bd3786"
            ],
            [
             0.5555555555555556,
             "#d8576b"
            ],
            [
             0.6666666666666666,
             "#ed7953"
            ],
            [
             0.7777777777777778,
             "#fb9f3a"
            ],
            [
             0.8888888888888888,
             "#fdca26"
            ],
            [
             1,
             "#f0f921"
            ]
           ],
           "sequentialminus": [
            [
             0,
             "#0d0887"
            ],
            [
             0.1111111111111111,
             "#46039f"
            ],
            [
             0.2222222222222222,
             "#7201a8"
            ],
            [
             0.3333333333333333,
             "#9c179e"
            ],
            [
             0.4444444444444444,
             "#bd3786"
            ],
            [
             0.5555555555555556,
             "#d8576b"
            ],
            [
             0.6666666666666666,
             "#ed7953"
            ],
            [
             0.7777777777777778,
             "#fb9f3a"
            ],
            [
             0.8888888888888888,
             "#fdca26"
            ],
            [
             1,
             "#f0f921"
            ]
           ]
          },
          "colorway": [
           "#636efa",
           "#EF553B",
           "#00cc96",
           "#ab63fa",
           "#FFA15A",
           "#19d3f3",
           "#FF6692",
           "#B6E880",
           "#FF97FF",
           "#FECB52"
          ],
          "font": {
           "color": "#2a3f5f"
          },
          "geo": {
           "bgcolor": "white",
           "lakecolor": "white",
           "landcolor": "white",
           "showlakes": true,
           "showland": true,
           "subunitcolor": "#C8D4E3"
          },
          "hoverlabel": {
           "align": "left"
          },
          "hovermode": "closest",
          "mapbox": {
           "style": "light"
          },
          "paper_bgcolor": "white",
          "plot_bgcolor": "white",
          "polar": {
           "angularaxis": {
            "gridcolor": "#EBF0F8",
            "linecolor": "#EBF0F8",
            "ticks": ""
           },
           "bgcolor": "white",
           "radialaxis": {
            "gridcolor": "#EBF0F8",
            "linecolor": "#EBF0F8",
            "ticks": ""
           }
          },
          "scene": {
           "xaxis": {
            "backgroundcolor": "white",
            "gridcolor": "#DFE8F3",
            "gridwidth": 2,
            "linecolor": "#EBF0F8",
            "showbackground": true,
            "ticks": "",
            "zerolinecolor": "#EBF0F8"
           },
           "yaxis": {
            "backgroundcolor": "white",
            "gridcolor": "#DFE8F3",
            "gridwidth": 2,
            "linecolor": "#EBF0F8",
            "showbackground": true,
            "ticks": "",
            "zerolinecolor": "#EBF0F8"
           },
           "zaxis": {
            "backgroundcolor": "white",
            "gridcolor": "#DFE8F3",
            "gridwidth": 2,
            "linecolor": "#EBF0F8",
            "showbackground": true,
            "ticks": "",
            "zerolinecolor": "#EBF0F8"
           }
          },
          "shapedefaults": {
           "line": {
            "color": "#2a3f5f"
           }
          },
          "ternary": {
           "aaxis": {
            "gridcolor": "#DFE8F3",
            "linecolor": "#A2B1C6",
            "ticks": ""
           },
           "baxis": {
            "gridcolor": "#DFE8F3",
            "linecolor": "#A2B1C6",
            "ticks": ""
           },
           "bgcolor": "white",
           "caxis": {
            "gridcolor": "#DFE8F3",
            "linecolor": "#A2B1C6",
            "ticks": ""
           }
          },
          "title": {
           "x": 0.05
          },
          "xaxis": {
           "automargin": true,
           "gridcolor": "#EBF0F8",
           "linecolor": "#EBF0F8",
           "ticks": "",
           "title": {
            "standoff": 15
           },
           "zerolinecolor": "#EBF0F8",
           "zerolinewidth": 2
          },
          "yaxis": {
           "automargin": true,
           "gridcolor": "#EBF0F8",
           "linecolor": "#EBF0F8",
           "ticks": "",
           "title": {
            "standoff": 15
           },
           "zerolinecolor": "#EBF0F8",
           "zerolinewidth": 2
          }
         }
        },
        "title": {
         "font": {
          "size": 24
         },
         "text": "Messages per person",
         "x": 0.5
        }
       }
      }
     },
     "metadata": {}
    }
   ],
   "source": [
    "plot_data = pd.DataFrame()\n",
    "plot_data[\"messages_per_person\"]=df.groupby(['person']).count()[\"message\"]\n",
    "plot_data = plot_data.sort_values(by=[\"person\"])\n",
    "plot_data.reset_index(inplace=True)\n",
    "pie = P.pieplot(data=plot_data, values=\"messages_per_person\", names=\"person\", color=\"person\", title_text=\"Messages per person\")\n",
    "pie.show()"
   ]
  },
  {
   "cell_type": "code",
   "execution_count": 19,
   "metadata": {},
   "outputs": [
    {
     "output_type": "display_data",
     "data": {
      "application/vnd.plotly.v1+json": {
       "config": {
        "plotlyServerURL": "https://plot.ly"
       },
       "data": [
        {
         "alignmentgroup": "True",
         "bingroup": "x",
         "hovertemplate": "person=User 0<br>text_length=%{x}<br>count=%{y}<extra></extra>",
         "legendgroup": "User 0",
         "marker": {
          "color": "#4C78A8"
         },
         "name": "User 0",
         "offsetgroup": "User 0",
         "orientation": "v",
         "showlegend": true,
         "type": "histogram",
         "x": [
          1,
          6,
          15,
          31,
          34,
          33,
          2,
          52,
          2,
          100,
          58,
          17,
          14,
          6,
          41,
          23,
          30,
          42,
          41,
          10,
          14,
          24,
          56,
          20,
          18,
          14,
          19,
          92,
          55,
          26,
          12,
          13,
          1,
          27,
          18,
          100,
          7,
          19,
          25,
          3,
          36,
          14,
          42,
          21,
          24,
          31,
          10,
          20,
          75,
          16,
          12,
          28,
          30,
          32,
          19,
          58,
          46,
          55,
          27,
          32,
          58,
          12,
          54,
          15,
          7,
          9,
          94,
          8,
          4,
          24,
          6,
          23,
          7,
          4,
          11,
          67,
          14,
          12,
          14,
          19,
          36,
          6,
          14,
          1,
          35,
          6,
          17,
          6,
          34,
          1,
          23,
          20,
          6,
          31,
          14,
          20,
          1,
          6,
          27,
          3,
          12,
          10,
          31,
          16,
          49,
          17,
          12,
          46,
          17,
          23,
          5,
          12,
          8,
          16,
          55,
          30,
          20,
          37,
          72,
          21,
          76,
          29,
          42,
          22,
          36,
          16,
          35,
          16,
          25,
          81,
          17,
          63,
          5,
          53,
          38,
          1,
          4,
          36,
          62,
          8,
          45,
          77,
          19,
          27,
          37,
          79,
          29,
          34,
          53,
          7,
          136,
          17,
          21,
          7,
          7,
          30,
          88,
          37,
          24,
          16,
          23,
          77,
          4,
          33,
          22,
          10,
          27,
          1,
          17,
          33,
          170,
          8,
          16,
          16,
          54,
          1,
          16,
          2,
          23,
          13,
          30,
          2,
          1,
          29,
          18,
          26,
          20,
          49,
          26,
          80,
          46,
          7,
          24,
          19,
          31,
          52,
          17,
          21,
          3,
          24,
          26,
          20,
          46,
          31,
          49,
          56,
          70,
          2,
          10,
          26,
          7,
          139,
          19,
          24,
          80,
          16,
          15,
          11,
          10,
          41,
          18,
          48,
          18,
          24,
          35,
          57,
          24,
          69,
          49,
          9,
          80,
          18,
          12,
          8
         ],
         "xaxis": "x",
         "yaxis": "y"
        },
        {
         "alignmentgroup": "True",
         "bingroup": "x",
         "hovertemplate": "person=User 1<br>text_length=%{x}<br>count=%{y}<extra></extra>",
         "legendgroup": "User 1",
         "marker": {
          "color": "#F58518"
         },
         "name": "User 1",
         "offsetgroup": "User 1",
         "orientation": "v",
         "showlegend": true,
         "type": "histogram",
         "x": [
          2,
          178,
          24,
          57,
          65,
          72,
          48,
          69,
          51,
          7,
          89,
          41,
          2,
          54,
          5,
          103,
          2,
          15,
          40,
          45,
          12,
          50,
          17,
          28,
          53,
          62,
          25,
          58,
          3,
          23,
          114,
          8,
          64,
          26,
          9,
          39,
          15,
          23,
          6,
          7,
          39,
          37,
          28,
          52,
          39,
          16,
          19,
          7,
          30,
          14,
          178,
          76,
          69,
          17,
          6,
          101,
          41,
          35,
          38,
          92,
          32,
          38,
          18,
          72,
          23,
          55,
          41,
          17,
          12,
          71,
          43,
          100,
          9,
          12,
          40,
          155,
          14,
          23,
          26,
          81,
          25,
          3,
          31,
          27,
          76,
          70,
          60,
          7,
          77,
          62,
          56,
          10,
          7,
          48,
          35,
          8,
          35,
          60,
          9,
          21,
          21,
          56,
          1,
          16,
          16,
          43,
          29,
          26,
          128,
          178,
          39,
          2,
          45,
          70,
          2,
          5,
          39,
          56,
          2,
          103,
          2,
          25,
          1,
          2,
          113,
          2,
          50,
          124,
          19,
          10,
          29,
          32,
          34,
          14,
          23,
          8,
          17,
          53,
          30,
          55,
          4,
          19,
          71,
          163,
          23,
          20,
          42,
          32,
          2,
          15,
          1,
          26,
          21,
          61,
          30,
          53,
          19,
          58,
          49,
          76,
          4,
          42,
          97,
          79,
          7,
          4,
          13,
          7,
          33,
          2,
          2,
          9,
          6,
          46,
          1,
          79,
          37,
          34,
          90,
          26,
          99,
          8,
          6,
          74,
          31,
          71,
          85,
          73,
          15,
          26,
          107,
          59,
          10,
          21,
          16,
          73,
          3,
          7,
          90,
          51,
          51,
          59,
          51,
          14,
          36,
          25,
          78
         ],
         "xaxis": "x",
         "yaxis": "y"
        },
        {
         "alignmentgroup": "True",
         "bingroup": "x",
         "hovertemplate": "person=User 2<br>text_length=%{x}<br>count=%{y}<extra></extra>",
         "legendgroup": "User 2",
         "marker": {
          "color": "#E45756"
         },
         "name": "User 2",
         "offsetgroup": "User 2",
         "orientation": "v",
         "showlegend": true,
         "type": "histogram",
         "x": [
          50,
          19,
          13,
          111,
          1,
          35,
          77,
          111,
          11,
          42,
          13,
          2,
          9,
          26,
          16,
          27,
          25,
          70,
          79,
          23,
          152,
          6,
          47,
          14,
          6,
          44,
          68,
          31,
          49,
          35,
          34,
          8,
          139,
          26,
          61,
          52,
          67,
          91,
          33,
          60,
          88,
          59,
          90,
          32,
          47,
          76,
          97,
          126,
          34,
          47,
          68,
          60,
          42,
          36,
          63,
          78,
          40,
          51,
          54,
          33,
          50,
          16,
          71,
          46,
          4,
          32,
          45,
          44,
          63,
          65,
          9,
          29,
          25,
          1,
          42,
          23,
          86,
          80,
          42,
          20,
          46,
          78,
          113,
          35,
          119,
          14,
          1,
          1,
          18,
          27,
          34,
          147,
          19,
          118,
          1,
          11,
          45,
          65,
          12,
          76,
          145,
          83,
          45,
          32,
          1,
          32,
          119,
          69,
          7,
          118,
          40,
          133,
          65,
          31,
          45,
          23,
          89,
          87,
          14,
          102,
          49,
          20,
          1,
          56,
          30,
          23,
          3,
          25,
          74,
          33,
          15,
          36,
          13,
          47,
          45,
          57,
          6,
          109,
          32,
          38,
          40,
          61,
          2,
          101,
          91,
          86,
          43,
          97,
          29,
          176,
          1,
          23,
          41,
          84,
          49,
          117,
          56,
          46,
          54,
          27,
          32,
          60,
          33,
          148,
          1,
          28,
          50,
          102,
          75,
          19,
          34,
          20,
          145,
          35,
          34,
          162,
          17,
          77,
          29,
          127,
          2,
          2,
          64,
          22,
          34,
          70,
          17,
          21,
          113,
          46,
          28,
          33,
          62,
          63,
          120,
          26,
          13,
          105,
          32,
          15,
          60,
          58,
          31,
          82,
          110,
          96,
          45,
          37,
          57,
          21,
          27,
          59,
          63,
          87,
          39,
          55,
          165,
          101,
          48,
          29,
          51,
          11,
          29,
          33,
          70,
          36,
          68,
          35,
          47,
          17,
          30,
          2,
          28,
          39,
          21,
          69,
          43,
          70,
          153,
          1,
          58,
          114,
          45,
          72,
          76,
          32,
          80,
          78,
          60,
          44,
          21,
          16,
          50,
          13,
          40,
          78,
          196,
          78,
          43,
          45,
          33,
          81,
          31,
          10,
          31,
          101,
          45,
          2,
          56,
          42,
          39,
          9,
          89,
          5,
          42,
          90,
          7,
          34,
          25,
          29,
          37,
          40,
          38,
          36,
          21,
          33,
          19,
          49,
          82,
          54,
          15,
          38,
          30,
          22,
          19,
          78,
          15,
          10,
          1,
          46,
          35,
          28,
          1,
          16,
          38,
          1,
          91,
          28,
          37,
          69,
          154,
          51,
          29,
          47,
          24,
          63,
          25,
          22,
          25,
          25,
          6,
          1,
          34,
          15,
          40,
          70,
          68,
          25,
          2,
          73,
          60,
          39,
          70,
          82,
          29,
          73,
          65,
          27,
          113,
          37,
          42,
          31,
          13,
          68,
          21,
          102,
          20,
          77,
          41,
          104,
          85,
          46,
          24,
          29,
          34,
          33,
          39,
          71,
          21,
          5,
          1,
          54,
          58,
          56,
          21,
          70,
          37,
          96,
          29,
          9,
          54,
          53,
          35,
          44,
          32,
          34,
          102,
          51,
          48,
          37,
          14,
          3,
          15,
          64,
          139,
          67,
          55,
          83,
          49,
          3
         ],
         "xaxis": "x",
         "yaxis": "y"
        },
        {
         "alignmentgroup": "True",
         "bingroup": "x",
         "hovertemplate": "person=User 3<br>text_length=%{x}<br>count=%{y}<extra></extra>",
         "legendgroup": "User 3",
         "marker": {
          "color": "#72B7B2"
         },
         "name": "User 3",
         "offsetgroup": "User 3",
         "orientation": "v",
         "showlegend": true,
         "type": "histogram",
         "x": [
          42,
          18,
          39,
          80,
          67,
          22,
          48,
          18,
          8,
          30,
          30,
          133,
          26,
          47,
          18,
          8,
          29,
          47,
          13,
          30,
          25,
          122,
          53,
          55,
          34,
          9,
          10,
          155,
          32,
          7,
          7,
          5,
          16,
          47,
          93,
          19,
          9,
          54,
          28,
          7,
          16,
          9,
          22,
          36,
          16,
          132,
          14,
          38,
          151,
          8,
          52,
          17,
          64,
          6,
          22,
          26,
          3,
          72,
          7,
          31,
          10,
          15,
          44,
          4,
          45,
          20,
          62,
          80,
          48,
          7,
          25,
          35,
          34,
          38,
          23,
          47,
          58,
          101,
          25,
          192,
          13,
          122,
          135,
          51,
          48,
          9,
          3,
          18,
          23,
          11,
          2,
          75,
          5,
          53,
          29,
          9,
          11,
          68,
          14,
          30,
          3,
          11,
          59,
          21,
          1,
          123,
          13,
          24,
          48,
          12,
          15,
          33,
          32,
          33,
          26,
          7,
          13,
          3,
          11,
          22,
          1,
          14,
          10,
          26,
          36,
          56,
          7,
          14,
          113,
          27,
          10,
          27,
          24,
          2,
          71,
          28,
          12,
          8,
          24,
          12,
          34,
          3,
          89,
          41,
          5,
          34,
          14,
          18,
          2,
          9,
          27,
          91,
          67,
          36,
          3,
          42,
          5,
          31,
          2,
          39,
          35,
          56,
          32,
          83,
          78,
          28,
          21,
          41,
          41,
          19,
          2,
          44,
          2,
          81,
          55,
          20,
          21,
          8,
          6,
          30,
          20,
          39,
          20,
          18,
          1,
          8,
          13,
          159,
          50,
          73,
          47,
          124,
          17,
          34,
          29,
          6,
          33,
          26,
          61,
          9,
          18,
          15,
          28,
          35,
          7,
          16,
          97,
          73,
          41,
          19,
          12,
          31,
          9,
          19,
          43,
          7,
          9,
          53,
          13,
          21,
          106,
          51,
          10,
          6,
          22,
          26,
          23,
          10,
          11,
          13,
          9,
          26,
          47,
          57,
          24,
          19,
          38,
          54,
          29,
          7,
          8,
          70,
          114,
          2,
          55,
          144,
          31,
          15,
          19,
          3,
          34,
          24,
          27,
          5,
          22,
          2,
          6,
          7,
          18,
          121,
          92,
          16,
          25,
          76,
          33,
          22,
          30,
          30,
          99,
          32,
          32,
          59,
          28,
          88,
          42,
          20,
          13,
          32,
          43,
          89,
          8,
          83,
          75,
          4,
          42,
          22,
          10,
          5,
          56,
          11,
          24,
          21,
          14,
          7,
          26,
          6,
          64,
          44,
          11,
          11,
          19,
          12,
          168,
          29,
          120,
          7,
          141,
          68,
          33,
          32,
          17,
          62,
          78,
          60,
          51,
          52,
          137,
          69,
          44,
          133,
          115,
          190,
          9,
          31,
          18,
          51,
          40,
          42,
          31,
          77,
          42,
          48,
          8,
          14,
          24,
          40,
          6,
          3,
          28,
          8,
          11,
          11,
          2,
          22,
          69,
          32,
          11,
          7,
          25,
          75,
          5,
          13,
          55,
          80,
          36,
          18,
          14,
          43,
          14,
          30,
          14,
          27,
          130,
          20,
          51,
          20,
          56,
          17,
          19,
          36,
          45,
          147,
          35,
          20,
          8,
          21,
          59,
          43,
          47,
          24,
          22,
          64,
          6,
          8,
          31,
          8,
          60,
          7,
          7,
          58,
          61,
          33,
          3,
          30,
          19,
          7,
          43,
          31,
          44,
          20,
          11,
          13,
          18,
          131,
          43,
          94,
          6,
          35,
          58,
          13,
          13,
          74,
          30,
          62,
          66,
          51,
          22,
          28,
          7,
          131,
          24,
          2,
          49,
          38,
          21,
          59,
          50,
          43,
          33,
          95,
          22,
          6,
          20,
          26,
          29,
          14,
          16,
          46,
          6,
          11,
          21,
          20,
          8,
          8,
          34,
          19,
          47,
          2,
          38,
          41,
          35,
          20,
          29,
          24,
          1,
          22,
          24,
          12,
          11,
          6,
          52,
          12,
          42,
          21,
          43,
          17,
          20,
          2,
          27,
          31,
          17,
          17,
          21,
          44,
          21,
          28,
          18,
          9,
          15,
          20,
          6,
          31,
          37,
          98,
          4,
          100,
          15,
          7,
          13,
          52,
          89,
          95,
          19,
          59,
          25,
          29,
          39,
          12,
          55,
          40,
          52,
          66,
          181,
          58,
          55,
          113,
          2,
          85,
          10,
          57,
          96,
          5,
          61,
          23,
          51,
          4,
          14,
          30,
          17,
          52,
          8,
          4,
          21,
          1,
          56,
          44,
          22,
          5,
          13,
          86,
          111,
          68,
          2,
          8,
          13,
          7,
          77,
          4,
          41,
          38,
          1,
          22,
          2,
          17,
          10,
          14,
          105,
          43,
          37,
          81,
          55,
          23,
          14,
          34,
          7,
          23,
          45,
          12,
          50,
          173,
          21,
          14,
          46,
          12,
          24,
          20,
          20,
          30,
          100,
          6,
          16,
          44,
          18,
          7,
          87,
          6,
          50,
          31,
          14,
          12,
          19,
          56,
          69,
          36,
          44,
          83,
          29,
          39,
          18,
          18,
          78,
          2,
          10
         ],
         "xaxis": "x",
         "yaxis": "y"
        }
       ],
       "layout": {
        "autosize": true,
        "barmode": "relative",
        "font": {
         "size": 14
        },
        "legend": {
         "orientation": "h",
         "title": {},
         "tracegroupgap": 0,
         "y": -0.3
        },
        "margin": {
         "b": 0,
         "l": 0,
         "r": 0,
         "t": 120
        },
        "template": {
         "data": {
          "bar": [
           {
            "error_x": {
             "color": "#2a3f5f"
            },
            "error_y": {
             "color": "#2a3f5f"
            },
            "marker": {
             "line": {
              "color": "white",
              "width": 0.5
             }
            },
            "type": "bar"
           }
          ],
          "barpolar": [
           {
            "marker": {
             "line": {
              "color": "white",
              "width": 0.5
             }
            },
            "type": "barpolar"
           }
          ],
          "carpet": [
           {
            "aaxis": {
             "endlinecolor": "#2a3f5f",
             "gridcolor": "#C8D4E3",
             "linecolor": "#C8D4E3",
             "minorgridcolor": "#C8D4E3",
             "startlinecolor": "#2a3f5f"
            },
            "baxis": {
             "endlinecolor": "#2a3f5f",
             "gridcolor": "#C8D4E3",
             "linecolor": "#C8D4E3",
             "minorgridcolor": "#C8D4E3",
             "startlinecolor": "#2a3f5f"
            },
            "type": "carpet"
           }
          ],
          "choropleth": [
           {
            "colorbar": {
             "outlinewidth": 0,
             "ticks": ""
            },
            "type": "choropleth"
           }
          ],
          "contour": [
           {
            "colorbar": {
             "outlinewidth": 0,
             "ticks": ""
            },
            "colorscale": [
             [
              0,
              "#0d0887"
             ],
             [
              0.1111111111111111,
              "#46039f"
             ],
             [
              0.2222222222222222,
              "#7201a8"
             ],
             [
              0.3333333333333333,
              "#9c179e"
             ],
             [
              0.4444444444444444,
              "#bd3786"
             ],
             [
              0.5555555555555556,
              "#d8576b"
             ],
             [
              0.6666666666666666,
              "#ed7953"
             ],
             [
              0.7777777777777778,
              "#fb9f3a"
             ],
             [
              0.8888888888888888,
              "#fdca26"
             ],
             [
              1,
              "#f0f921"
             ]
            ],
            "type": "contour"
           }
          ],
          "contourcarpet": [
           {
            "colorbar": {
             "outlinewidth": 0,
             "ticks": ""
            },
            "type": "contourcarpet"
           }
          ],
          "heatmap": [
           {
            "colorbar": {
             "outlinewidth": 0,
             "ticks": ""
            },
            "colorscale": [
             [
              0,
              "#0d0887"
             ],
             [
              0.1111111111111111,
              "#46039f"
             ],
             [
              0.2222222222222222,
              "#7201a8"
             ],
             [
              0.3333333333333333,
              "#9c179e"
             ],
             [
              0.4444444444444444,
              "#bd3786"
             ],
             [
              0.5555555555555556,
              "#d8576b"
             ],
             [
              0.6666666666666666,
              "#ed7953"
             ],
             [
              0.7777777777777778,
              "#fb9f3a"
             ],
             [
              0.8888888888888888,
              "#fdca26"
             ],
             [
              1,
              "#f0f921"
             ]
            ],
            "type": "heatmap"
           }
          ],
          "heatmapgl": [
           {
            "colorbar": {
             "outlinewidth": 0,
             "ticks": ""
            },
            "colorscale": [
             [
              0,
              "#0d0887"
             ],
             [
              0.1111111111111111,
              "#46039f"
             ],
             [
              0.2222222222222222,
              "#7201a8"
             ],
             [
              0.3333333333333333,
              "#9c179e"
             ],
             [
              0.4444444444444444,
              "#bd3786"
             ],
             [
              0.5555555555555556,
              "#d8576b"
             ],
             [
              0.6666666666666666,
              "#ed7953"
             ],
             [
              0.7777777777777778,
              "#fb9f3a"
             ],
             [
              0.8888888888888888,
              "#fdca26"
             ],
             [
              1,
              "#f0f921"
             ]
            ],
            "type": "heatmapgl"
           }
          ],
          "histogram": [
           {
            "marker": {
             "colorbar": {
              "outlinewidth": 0,
              "ticks": ""
             }
            },
            "type": "histogram"
           }
          ],
          "histogram2d": [
           {
            "colorbar": {
             "outlinewidth": 0,
             "ticks": ""
            },
            "colorscale": [
             [
              0,
              "#0d0887"
             ],
             [
              0.1111111111111111,
              "#46039f"
             ],
             [
              0.2222222222222222,
              "#7201a8"
             ],
             [
              0.3333333333333333,
              "#9c179e"
             ],
             [
              0.4444444444444444,
              "#bd3786"
             ],
             [
              0.5555555555555556,
              "#d8576b"
             ],
             [
              0.6666666666666666,
              "#ed7953"
             ],
             [
              0.7777777777777778,
              "#fb9f3a"
             ],
             [
              0.8888888888888888,
              "#fdca26"
             ],
             [
              1,
              "#f0f921"
             ]
            ],
            "type": "histogram2d"
           }
          ],
          "histogram2dcontour": [
           {
            "colorbar": {
             "outlinewidth": 0,
             "ticks": ""
            },
            "colorscale": [
             [
              0,
              "#0d0887"
             ],
             [
              0.1111111111111111,
              "#46039f"
             ],
             [
              0.2222222222222222,
              "#7201a8"
             ],
             [
              0.3333333333333333,
              "#9c179e"
             ],
             [
              0.4444444444444444,
              "#bd3786"
             ],
             [
              0.5555555555555556,
              "#d8576b"
             ],
             [
              0.6666666666666666,
              "#ed7953"
             ],
             [
              0.7777777777777778,
              "#fb9f3a"
             ],
             [
              0.8888888888888888,
              "#fdca26"
             ],
             [
              1,
              "#f0f921"
             ]
            ],
            "type": "histogram2dcontour"
           }
          ],
          "mesh3d": [
           {
            "colorbar": {
             "outlinewidth": 0,
             "ticks": ""
            },
            "type": "mesh3d"
           }
          ],
          "parcoords": [
           {
            "line": {
             "colorbar": {
              "outlinewidth": 0,
              "ticks": ""
             }
            },
            "type": "parcoords"
           }
          ],
          "pie": [
           {
            "automargin": true,
            "type": "pie"
           }
          ],
          "scatter": [
           {
            "marker": {
             "colorbar": {
              "outlinewidth": 0,
              "ticks": ""
             }
            },
            "type": "scatter"
           }
          ],
          "scatter3d": [
           {
            "line": {
             "colorbar": {
              "outlinewidth": 0,
              "ticks": ""
             }
            },
            "marker": {
             "colorbar": {
              "outlinewidth": 0,
              "ticks": ""
             }
            },
            "type": "scatter3d"
           }
          ],
          "scattercarpet": [
           {
            "marker": {
             "colorbar": {
              "outlinewidth": 0,
              "ticks": ""
             }
            },
            "type": "scattercarpet"
           }
          ],
          "scattergeo": [
           {
            "marker": {
             "colorbar": {
              "outlinewidth": 0,
              "ticks": ""
             }
            },
            "type": "scattergeo"
           }
          ],
          "scattergl": [
           {
            "marker": {
             "colorbar": {
              "outlinewidth": 0,
              "ticks": ""
             }
            },
            "type": "scattergl"
           }
          ],
          "scattermapbox": [
           {
            "marker": {
             "colorbar": {
              "outlinewidth": 0,
              "ticks": ""
             }
            },
            "type": "scattermapbox"
           }
          ],
          "scatterpolar": [
           {
            "marker": {
             "colorbar": {
              "outlinewidth": 0,
              "ticks": ""
             }
            },
            "type": "scatterpolar"
           }
          ],
          "scatterpolargl": [
           {
            "marker": {
             "colorbar": {
              "outlinewidth": 0,
              "ticks": ""
             }
            },
            "type": "scatterpolargl"
           }
          ],
          "scatterternary": [
           {
            "marker": {
             "colorbar": {
              "outlinewidth": 0,
              "ticks": ""
             }
            },
            "type": "scatterternary"
           }
          ],
          "surface": [
           {
            "colorbar": {
             "outlinewidth": 0,
             "ticks": ""
            },
            "colorscale": [
             [
              0,
              "#0d0887"
             ],
             [
              0.1111111111111111,
              "#46039f"
             ],
             [
              0.2222222222222222,
              "#7201a8"
             ],
             [
              0.3333333333333333,
              "#9c179e"
             ],
             [
              0.4444444444444444,
              "#bd3786"
             ],
             [
              0.5555555555555556,
              "#d8576b"
             ],
             [
              0.6666666666666666,
              "#ed7953"
             ],
             [
              0.7777777777777778,
              "#fb9f3a"
             ],
             [
              0.8888888888888888,
              "#fdca26"
             ],
             [
              1,
              "#f0f921"
             ]
            ],
            "type": "surface"
           }
          ],
          "table": [
           {
            "cells": {
             "fill": {
              "color": "#EBF0F8"
             },
             "line": {
              "color": "white"
             }
            },
            "header": {
             "fill": {
              "color": "#C8D4E3"
             },
             "line": {
              "color": "white"
             }
            },
            "type": "table"
           }
          ]
         },
         "layout": {
          "annotationdefaults": {
           "arrowcolor": "#2a3f5f",
           "arrowhead": 0,
           "arrowwidth": 1
          },
          "autotypenumbers": "strict",
          "coloraxis": {
           "colorbar": {
            "outlinewidth": 0,
            "ticks": ""
           }
          },
          "colorscale": {
           "diverging": [
            [
             0,
             "#8e0152"
            ],
            [
             0.1,
             "#c51b7d"
            ],
            [
             0.2,
             "#de77ae"
            ],
            [
             0.3,
             "#f1b6da"
            ],
            [
             0.4,
             "#fde0ef"
            ],
            [
             0.5,
             "#f7f7f7"
            ],
            [
             0.6,
             "#e6f5d0"
            ],
            [
             0.7,
             "#b8e186"
            ],
            [
             0.8,
             "#7fbc41"
            ],
            [
             0.9,
             "#4d9221"
            ],
            [
             1,
             "#276419"
            ]
           ],
           "sequential": [
            [
             0,
             "#0d0887"
            ],
            [
             0.1111111111111111,
             "#46039f"
            ],
            [
             0.2222222222222222,
             "#7201a8"
            ],
            [
             0.3333333333333333,
             "#9c179e"
            ],
            [
             0.4444444444444444,
             "#bd3786"
            ],
            [
             0.5555555555555556,
             "#d8576b"
            ],
            [
             0.6666666666666666,
             "#ed7953"
            ],
            [
             0.7777777777777778,
             "#fb9f3a"
            ],
            [
             0.8888888888888888,
             "#fdca26"
            ],
            [
             1,
             "#f0f921"
            ]
           ],
           "sequentialminus": [
            [
             0,
             "#0d0887"
            ],
            [
             0.1111111111111111,
             "#46039f"
            ],
            [
             0.2222222222222222,
             "#7201a8"
            ],
            [
             0.3333333333333333,
             "#9c179e"
            ],
            [
             0.4444444444444444,
             "#bd3786"
            ],
            [
             0.5555555555555556,
             "#d8576b"
            ],
            [
             0.6666666666666666,
             "#ed7953"
            ],
            [
             0.7777777777777778,
             "#fb9f3a"
            ],
            [
             0.8888888888888888,
             "#fdca26"
            ],
            [
             1,
             "#f0f921"
            ]
           ]
          },
          "colorway": [
           "#636efa",
           "#EF553B",
           "#00cc96",
           "#ab63fa",
           "#FFA15A",
           "#19d3f3",
           "#FF6692",
           "#B6E880",
           "#FF97FF",
           "#FECB52"
          ],
          "font": {
           "color": "#2a3f5f"
          },
          "geo": {
           "bgcolor": "white",
           "lakecolor": "white",
           "landcolor": "white",
           "showlakes": true,
           "showland": true,
           "subunitcolor": "#C8D4E3"
          },
          "hoverlabel": {
           "align": "left"
          },
          "hovermode": "closest",
          "mapbox": {
           "style": "light"
          },
          "paper_bgcolor": "white",
          "plot_bgcolor": "white",
          "polar": {
           "angularaxis": {
            "gridcolor": "#EBF0F8",
            "linecolor": "#EBF0F8",
            "ticks": ""
           },
           "bgcolor": "white",
           "radialaxis": {
            "gridcolor": "#EBF0F8",
            "linecolor": "#EBF0F8",
            "ticks": ""
           }
          },
          "scene": {
           "xaxis": {
            "backgroundcolor": "white",
            "gridcolor": "#DFE8F3",
            "gridwidth": 2,
            "linecolor": "#EBF0F8",
            "showbackground": true,
            "ticks": "",
            "zerolinecolor": "#EBF0F8"
           },
           "yaxis": {
            "backgroundcolor": "white",
            "gridcolor": "#DFE8F3",
            "gridwidth": 2,
            "linecolor": "#EBF0F8",
            "showbackground": true,
            "ticks": "",
            "zerolinecolor": "#EBF0F8"
           },
           "zaxis": {
            "backgroundcolor": "white",
            "gridcolor": "#DFE8F3",
            "gridwidth": 2,
            "linecolor": "#EBF0F8",
            "showbackground": true,
            "ticks": "",
            "zerolinecolor": "#EBF0F8"
           }
          },
          "shapedefaults": {
           "line": {
            "color": "#2a3f5f"
           }
          },
          "ternary": {
           "aaxis": {
            "gridcolor": "#DFE8F3",
            "linecolor": "#A2B1C6",
            "ticks": ""
           },
           "baxis": {
            "gridcolor": "#DFE8F3",
            "linecolor": "#A2B1C6",
            "ticks": ""
           },
           "bgcolor": "white",
           "caxis": {
            "gridcolor": "#DFE8F3",
            "linecolor": "#A2B1C6",
            "ticks": ""
           }
          },
          "title": {
           "x": 0.05
          },
          "xaxis": {
           "automargin": true,
           "gridcolor": "#EBF0F8",
           "linecolor": "#EBF0F8",
           "ticks": "",
           "title": {
            "standoff": 15
           },
           "zerolinecolor": "#EBF0F8",
           "zerolinewidth": 2
          },
          "yaxis": {
           "automargin": true,
           "gridcolor": "#EBF0F8",
           "linecolor": "#EBF0F8",
           "ticks": "",
           "title": {
            "standoff": 15
           },
           "zerolinecolor": "#EBF0F8",
           "zerolinewidth": 2
          }
         }
        },
        "title": {
         "font": {
          "size": 24
         },
         "text": "Text lenght per person",
         "x": 0.5
        },
        "xaxis": {
         "anchor": "y",
         "domain": [
          0,
          1
         ],
         "title": {
          "text": "Text length [characters]"
         }
        },
        "yaxis": {
         "anchor": "x",
         "domain": [
          0,
          1
         ],
         "title": {
          "text": "Count"
         }
        }
       }
      }
     },
     "metadata": {}
    }
   ],
   "source": [
    "plot_data = df[df[\"text_length\"]<=200][[\"text_length\",\"person\"]]\n",
    "plot_data = plot_data.sort_values(by=[\"person\"])\n",
    "bar = P.histogram(data=plot_data, x=\"text_length\", color=plot_data[\"person\"], title_text=\"Text lenght per person\", xaxis_title=\"Text length [characters]\", yaxis_title=\"Count\")\n",
    "bar.show()"
   ]
  },
  {
   "cell_type": "code",
   "execution_count": 20,
   "metadata": {},
   "outputs": [
    {
     "output_type": "display_data",
     "data": {
      "application/vnd.plotly.v1+json": {
       "config": {
        "plotlyServerURL": "https://plot.ly"
       },
       "data": [
        {
         "alignmentgroup": "True",
         "hovertemplate": "person=%{x}<br>text_length=%{y}<extra></extra>",
         "legendgroup": "",
         "marker": {
          "color": "#4C78A8"
         },
         "name": "",
         "notched": false,
         "offsetgroup": "",
         "orientation": "v",
         "showlegend": false,
         "type": "box",
         "x": [
          "User 0",
          "User 0",
          "User 0",
          "User 0",
          "User 0",
          "User 0",
          "User 0",
          "User 0",
          "User 0",
          "User 0",
          "User 0",
          "User 0",
          "User 0",
          "User 0",
          "User 0",
          "User 0",
          "User 0",
          "User 0",
          "User 0",
          "User 0",
          "User 0",
          "User 0",
          "User 0",
          "User 0",
          "User 0",
          "User 0",
          "User 0",
          "User 0",
          "User 0",
          "User 0",
          "User 0",
          "User 0",
          "User 0",
          "User 0",
          "User 0",
          "User 0",
          "User 0",
          "User 0",
          "User 0",
          "User 0",
          "User 0",
          "User 0",
          "User 0",
          "User 0",
          "User 0",
          "User 0",
          "User 0",
          "User 0",
          "User 0",
          "User 0",
          "User 0",
          "User 0",
          "User 0",
          "User 0",
          "User 0",
          "User 0",
          "User 0",
          "User 0",
          "User 0",
          "User 0",
          "User 0",
          "User 0",
          "User 0",
          "User 0",
          "User 0",
          "User 0",
          "User 0",
          "User 0",
          "User 0",
          "User 0",
          "User 0",
          "User 0",
          "User 0",
          "User 0",
          "User 0",
          "User 0",
          "User 0",
          "User 0",
          "User 0",
          "User 0",
          "User 0",
          "User 0",
          "User 0",
          "User 0",
          "User 0",
          "User 0",
          "User 0",
          "User 0",
          "User 0",
          "User 0",
          "User 0",
          "User 0",
          "User 0",
          "User 0",
          "User 0",
          "User 0",
          "User 0",
          "User 0",
          "User 0",
          "User 0",
          "User 0",
          "User 0",
          "User 0",
          "User 0",
          "User 0",
          "User 0",
          "User 0",
          "User 0",
          "User 0",
          "User 0",
          "User 0",
          "User 0",
          "User 0",
          "User 0",
          "User 0",
          "User 0",
          "User 0",
          "User 0",
          "User 0",
          "User 0",
          "User 0",
          "User 0",
          "User 0",
          "User 0",
          "User 0",
          "User 0",
          "User 0",
          "User 0",
          "User 0",
          "User 0",
          "User 0",
          "User 0",
          "User 0",
          "User 0",
          "User 0",
          "User 0",
          "User 0",
          "User 0",
          "User 0",
          "User 0",
          "User 0",
          "User 0",
          "User 0",
          "User 0",
          "User 0",
          "User 0",
          "User 0",
          "User 0",
          "User 0",
          "User 0",
          "User 0",
          "User 0",
          "User 0",
          "User 0",
          "User 0",
          "User 0",
          "User 0",
          "User 0",
          "User 0",
          "User 0",
          "User 0",
          "User 0",
          "User 0",
          "User 0",
          "User 0",
          "User 0",
          "User 0",
          "User 0",
          "User 0",
          "User 0",
          "User 0",
          "User 0",
          "User 0",
          "User 0",
          "User 0",
          "User 0",
          "User 0",
          "User 0",
          "User 0",
          "User 0",
          "User 0",
          "User 0",
          "User 0",
          "User 0",
          "User 0",
          "User 0",
          "User 0",
          "User 0",
          "User 0",
          "User 0",
          "User 0",
          "User 0",
          "User 0",
          "User 0",
          "User 0",
          "User 0",
          "User 0",
          "User 0",
          "User 0",
          "User 0",
          "User 0",
          "User 0",
          "User 0",
          "User 0",
          "User 0",
          "User 0",
          "User 0",
          "User 0",
          "User 0",
          "User 0",
          "User 0",
          "User 0",
          "User 0",
          "User 0",
          "User 0",
          "User 0",
          "User 0",
          "User 0",
          "User 0",
          "User 0",
          "User 0",
          "User 0",
          "User 0",
          "User 0",
          "User 0",
          "User 0",
          "User 0",
          "User 0",
          "User 0",
          "User 0",
          "User 0",
          "User 0",
          "User 0",
          "User 0",
          "User 1",
          "User 1",
          "User 1",
          "User 1",
          "User 1",
          "User 1",
          "User 1",
          "User 1",
          "User 1",
          "User 1",
          "User 1",
          "User 1",
          "User 1",
          "User 1",
          "User 1",
          "User 1",
          "User 1",
          "User 1",
          "User 1",
          "User 1",
          "User 1",
          "User 1",
          "User 1",
          "User 1",
          "User 1",
          "User 1",
          "User 1",
          "User 1",
          "User 1",
          "User 1",
          "User 1",
          "User 1",
          "User 1",
          "User 1",
          "User 1",
          "User 1",
          "User 1",
          "User 1",
          "User 1",
          "User 1",
          "User 1",
          "User 1",
          "User 1",
          "User 1",
          "User 1",
          "User 1",
          "User 1",
          "User 1",
          "User 1",
          "User 1",
          "User 1",
          "User 1",
          "User 1",
          "User 1",
          "User 1",
          "User 1",
          "User 1",
          "User 1",
          "User 1",
          "User 1",
          "User 1",
          "User 1",
          "User 1",
          "User 1",
          "User 1",
          "User 1",
          "User 1",
          "User 1",
          "User 1",
          "User 1",
          "User 1",
          "User 1",
          "User 1",
          "User 1",
          "User 1",
          "User 1",
          "User 1",
          "User 1",
          "User 1",
          "User 1",
          "User 1",
          "User 1",
          "User 1",
          "User 1",
          "User 1",
          "User 1",
          "User 1",
          "User 1",
          "User 1",
          "User 1",
          "User 1",
          "User 1",
          "User 1",
          "User 1",
          "User 1",
          "User 1",
          "User 1",
          "User 1",
          "User 1",
          "User 1",
          "User 1",
          "User 1",
          "User 1",
          "User 1",
          "User 1",
          "User 1",
          "User 1",
          "User 1",
          "User 1",
          "User 1",
          "User 1",
          "User 1",
          "User 1",
          "User 1",
          "User 1",
          "User 1",
          "User 1",
          "User 1",
          "User 1",
          "User 1",
          "User 1",
          "User 1",
          "User 1",
          "User 1",
          "User 1",
          "User 1",
          "User 1",
          "User 1",
          "User 1",
          "User 1",
          "User 1",
          "User 1",
          "User 1",
          "User 1",
          "User 1",
          "User 1",
          "User 1",
          "User 1",
          "User 1",
          "User 1",
          "User 1",
          "User 1",
          "User 1",
          "User 1",
          "User 1",
          "User 1",
          "User 1",
          "User 1",
          "User 1",
          "User 1",
          "User 1",
          "User 1",
          "User 1",
          "User 1",
          "User 1",
          "User 1",
          "User 1",
          "User 1",
          "User 1",
          "User 1",
          "User 1",
          "User 1",
          "User 1",
          "User 1",
          "User 1",
          "User 1",
          "User 1",
          "User 1",
          "User 1",
          "User 1",
          "User 1",
          "User 1",
          "User 1",
          "User 1",
          "User 1",
          "User 1",
          "User 1",
          "User 1",
          "User 1",
          "User 1",
          "User 1",
          "User 1",
          "User 1",
          "User 1",
          "User 1",
          "User 1",
          "User 1",
          "User 1",
          "User 1",
          "User 1",
          "User 1",
          "User 1",
          "User 1",
          "User 1",
          "User 1",
          "User 1",
          "User 1",
          "User 1",
          "User 1",
          "User 1",
          "User 1",
          "User 1",
          "User 1",
          "User 1",
          "User 1",
          "User 1",
          "User 1",
          "User 2",
          "User 2",
          "User 2",
          "User 2",
          "User 2",
          "User 2",
          "User 2",
          "User 2",
          "User 2",
          "User 2",
          "User 2",
          "User 2",
          "User 2",
          "User 2",
          "User 2",
          "User 2",
          "User 2",
          "User 2",
          "User 2",
          "User 2",
          "User 2",
          "User 2",
          "User 2",
          "User 2",
          "User 2",
          "User 2",
          "User 2",
          "User 2",
          "User 2",
          "User 2",
          "User 2",
          "User 2",
          "User 2",
          "User 2",
          "User 2",
          "User 2",
          "User 2",
          "User 2",
          "User 2",
          "User 2",
          "User 2",
          "User 2",
          "User 2",
          "User 2",
          "User 2",
          "User 2",
          "User 2",
          "User 2",
          "User 2",
          "User 2",
          "User 2",
          "User 2",
          "User 2",
          "User 2",
          "User 2",
          "User 2",
          "User 2",
          "User 2",
          "User 2",
          "User 2",
          "User 2",
          "User 2",
          "User 2",
          "User 2",
          "User 2",
          "User 2",
          "User 2",
          "User 2",
          "User 2",
          "User 2",
          "User 2",
          "User 2",
          "User 2",
          "User 2",
          "User 2",
          "User 2",
          "User 2",
          "User 2",
          "User 2",
          "User 2",
          "User 2",
          "User 2",
          "User 2",
          "User 2",
          "User 2",
          "User 2",
          "User 2",
          "User 2",
          "User 2",
          "User 2",
          "User 2",
          "User 2",
          "User 2",
          "User 2",
          "User 2",
          "User 2",
          "User 2",
          "User 2",
          "User 2",
          "User 2",
          "User 2",
          "User 2",
          "User 2",
          "User 2",
          "User 2",
          "User 2",
          "User 2",
          "User 2",
          "User 2",
          "User 2",
          "User 2",
          "User 2",
          "User 2",
          "User 2",
          "User 2",
          "User 2",
          "User 2",
          "User 2",
          "User 2",
          "User 2",
          "User 2",
          "User 2",
          "User 2",
          "User 2",
          "User 2",
          "User 2",
          "User 2",
          "User 2",
          "User 2",
          "User 2",
          "User 2",
          "User 2",
          "User 2",
          "User 2",
          "User 2",
          "User 2",
          "User 2",
          "User 2",
          "User 2",
          "User 2",
          "User 2",
          "User 2",
          "User 2",
          "User 2",
          "User 2",
          "User 2",
          "User 2",
          "User 2",
          "User 2",
          "User 2",
          "User 2",
          "User 2",
          "User 2",
          "User 2",
          "User 2",
          "User 2",
          "User 2",
          "User 2",
          "User 2",
          "User 2",
          "User 2",
          "User 2",
          "User 2",
          "User 2",
          "User 2",
          "User 2",
          "User 2",
          "User 2",
          "User 2",
          "User 2",
          "User 2",
          "User 2",
          "User 2",
          "User 2",
          "User 2",
          "User 2",
          "User 2",
          "User 2",
          "User 2",
          "User 2",
          "User 2",
          "User 2",
          "User 2",
          "User 2",
          "User 2",
          "User 2",
          "User 2",
          "User 2",
          "User 2",
          "User 2",
          "User 2",
          "User 2",
          "User 2",
          "User 2",
          "User 2",
          "User 2",
          "User 2",
          "User 2",
          "User 2",
          "User 2",
          "User 2",
          "User 2",
          "User 2",
          "User 2",
          "User 2",
          "User 2",
          "User 2",
          "User 2",
          "User 2",
          "User 2",
          "User 2",
          "User 2",
          "User 2",
          "User 2",
          "User 2",
          "User 2",
          "User 2",
          "User 2",
          "User 2",
          "User 2",
          "User 2",
          "User 2",
          "User 2",
          "User 2",
          "User 2",
          "User 2",
          "User 2",
          "User 2",
          "User 2",
          "User 2",
          "User 2",
          "User 2",
          "User 2",
          "User 2",
          "User 2",
          "User 2",
          "User 2",
          "User 2",
          "User 2",
          "User 2",
          "User 2",
          "User 2",
          "User 2",
          "User 2",
          "User 2",
          "User 2",
          "User 2",
          "User 2",
          "User 2",
          "User 2",
          "User 2",
          "User 2",
          "User 2",
          "User 2",
          "User 2",
          "User 2",
          "User 2",
          "User 2",
          "User 2",
          "User 2",
          "User 2",
          "User 2",
          "User 2",
          "User 2",
          "User 2",
          "User 2",
          "User 2",
          "User 2",
          "User 2",
          "User 2",
          "User 2",
          "User 2",
          "User 2",
          "User 2",
          "User 2",
          "User 2",
          "User 2",
          "User 2",
          "User 2",
          "User 2",
          "User 2",
          "User 2",
          "User 2",
          "User 2",
          "User 2",
          "User 2",
          "User 2",
          "User 2",
          "User 2",
          "User 2",
          "User 2",
          "User 2",
          "User 2",
          "User 2",
          "User 2",
          "User 2",
          "User 2",
          "User 2",
          "User 2",
          "User 2",
          "User 2",
          "User 2",
          "User 2",
          "User 2",
          "User 2",
          "User 2",
          "User 2",
          "User 2",
          "User 2",
          "User 2",
          "User 2",
          "User 2",
          "User 2",
          "User 2",
          "User 2",
          "User 2",
          "User 2",
          "User 2",
          "User 2",
          "User 2",
          "User 2",
          "User 2",
          "User 2",
          "User 2",
          "User 2",
          "User 2",
          "User 2",
          "User 2",
          "User 2",
          "User 2",
          "User 2",
          "User 2",
          "User 2",
          "User 2",
          "User 2",
          "User 2",
          "User 2",
          "User 2",
          "User 2",
          "User 2",
          "User 2",
          "User 2",
          "User 2",
          "User 2",
          "User 2",
          "User 2",
          "User 2",
          "User 2",
          "User 2",
          "User 2",
          "User 2",
          "User 2",
          "User 2",
          "User 2",
          "User 2",
          "User 2",
          "User 2",
          "User 2",
          "User 2",
          "User 2",
          "User 2",
          "User 2",
          "User 2",
          "User 2",
          "User 2",
          "User 2",
          "User 2",
          "User 2",
          "User 2",
          "User 2",
          "User 2",
          "User 2",
          "User 2",
          "User 2",
          "User 2",
          "User 2",
          "User 2",
          "User 2",
          "User 2",
          "User 2",
          "User 2",
          "User 2",
          "User 2",
          "User 2",
          "User 2",
          "User 2",
          "User 2",
          "User 2",
          "User 2",
          "User 2",
          "User 3",
          "User 3",
          "User 3",
          "User 3",
          "User 3",
          "User 3",
          "User 3",
          "User 3",
          "User 3",
          "User 3",
          "User 3",
          "User 3",
          "User 3",
          "User 3",
          "User 3",
          "User 3",
          "User 3",
          "User 3",
          "User 3",
          "User 3",
          "User 3",
          "User 3",
          "User 3",
          "User 3",
          "User 3",
          "User 3",
          "User 3",
          "User 3",
          "User 3",
          "User 3",
          "User 3",
          "User 3",
          "User 3",
          "User 3",
          "User 3",
          "User 3",
          "User 3",
          "User 3",
          "User 3",
          "User 3",
          "User 3",
          "User 3",
          "User 3",
          "User 3",
          "User 3",
          "User 3",
          "User 3",
          "User 3",
          "User 3",
          "User 3",
          "User 3",
          "User 3",
          "User 3",
          "User 3",
          "User 3",
          "User 3",
          "User 3",
          "User 3",
          "User 3",
          "User 3",
          "User 3",
          "User 3",
          "User 3",
          "User 3",
          "User 3",
          "User 3",
          "User 3",
          "User 3",
          "User 3",
          "User 3",
          "User 3",
          "User 3",
          "User 3",
          "User 3",
          "User 3",
          "User 3",
          "User 3",
          "User 3",
          "User 3",
          "User 3",
          "User 3",
          "User 3",
          "User 3",
          "User 3",
          "User 3",
          "User 3",
          "User 3",
          "User 3",
          "User 3",
          "User 3",
          "User 3",
          "User 3",
          "User 3",
          "User 3",
          "User 3",
          "User 3",
          "User 3",
          "User 3",
          "User 3",
          "User 3",
          "User 3",
          "User 3",
          "User 3",
          "User 3",
          "User 3",
          "User 3",
          "User 3",
          "User 3",
          "User 3",
          "User 3",
          "User 3",
          "User 3",
          "User 3",
          "User 3",
          "User 3",
          "User 3",
          "User 3",
          "User 3",
          "User 3",
          "User 3",
          "User 3",
          "User 3",
          "User 3",
          "User 3",
          "User 3",
          "User 3",
          "User 3",
          "User 3",
          "User 3",
          "User 3",
          "User 3",
          "User 3",
          "User 3",
          "User 3",
          "User 3",
          "User 3",
          "User 3",
          "User 3",
          "User 3",
          "User 3",
          "User 3",
          "User 3",
          "User 3",
          "User 3",
          "User 3",
          "User 3",
          "User 3",
          "User 3",
          "User 3",
          "User 3",
          "User 3",
          "User 3",
          "User 3",
          "User 3",
          "User 3",
          "User 3",
          "User 3",
          "User 3",
          "User 3",
          "User 3",
          "User 3",
          "User 3",
          "User 3",
          "User 3",
          "User 3",
          "User 3",
          "User 3",
          "User 3",
          "User 3",
          "User 3",
          "User 3",
          "User 3",
          "User 3",
          "User 3",
          "User 3",
          "User 3",
          "User 3",
          "User 3",
          "User 3",
          "User 3",
          "User 3",
          "User 3",
          "User 3",
          "User 3",
          "User 3",
          "User 3",
          "User 3",
          "User 3",
          "User 3",
          "User 3",
          "User 3",
          "User 3",
          "User 3",
          "User 3",
          "User 3",
          "User 3",
          "User 3",
          "User 3",
          "User 3",
          "User 3",
          "User 3",
          "User 3",
          "User 3",
          "User 3",
          "User 3",
          "User 3",
          "User 3",
          "User 3",
          "User 3",
          "User 3",
          "User 3",
          "User 3",
          "User 3",
          "User 3",
          "User 3",
          "User 3",
          "User 3",
          "User 3",
          "User 3",
          "User 3",
          "User 3",
          "User 3",
          "User 3",
          "User 3",
          "User 3",
          "User 3",
          "User 3",
          "User 3",
          "User 3",
          "User 3",
          "User 3",
          "User 3",
          "User 3",
          "User 3",
          "User 3",
          "User 3",
          "User 3",
          "User 3",
          "User 3",
          "User 3",
          "User 3",
          "User 3",
          "User 3",
          "User 3",
          "User 3",
          "User 3",
          "User 3",
          "User 3",
          "User 3",
          "User 3",
          "User 3",
          "User 3",
          "User 3",
          "User 3",
          "User 3",
          "User 3",
          "User 3",
          "User 3",
          "User 3",
          "User 3",
          "User 3",
          "User 3",
          "User 3",
          "User 3",
          "User 3",
          "User 3",
          "User 3",
          "User 3",
          "User 3",
          "User 3",
          "User 3",
          "User 3",
          "User 3",
          "User 3",
          "User 3",
          "User 3",
          "User 3",
          "User 3",
          "User 3",
          "User 3",
          "User 3",
          "User 3",
          "User 3",
          "User 3",
          "User 3",
          "User 3",
          "User 3",
          "User 3",
          "User 3",
          "User 3",
          "User 3",
          "User 3",
          "User 3",
          "User 3",
          "User 3",
          "User 3",
          "User 3",
          "User 3",
          "User 3",
          "User 3",
          "User 3",
          "User 3",
          "User 3",
          "User 3",
          "User 3",
          "User 3",
          "User 3",
          "User 3",
          "User 3",
          "User 3",
          "User 3",
          "User 3",
          "User 3",
          "User 3",
          "User 3",
          "User 3",
          "User 3",
          "User 3",
          "User 3",
          "User 3",
          "User 3",
          "User 3",
          "User 3",
          "User 3",
          "User 3",
          "User 3",
          "User 3",
          "User 3",
          "User 3",
          "User 3",
          "User 3",
          "User 3",
          "User 3",
          "User 3",
          "User 3",
          "User 3",
          "User 3",
          "User 3",
          "User 3",
          "User 3",
          "User 3",
          "User 3",
          "User 3",
          "User 3",
          "User 3",
          "User 3",
          "User 3",
          "User 3",
          "User 3",
          "User 3",
          "User 3",
          "User 3",
          "User 3",
          "User 3",
          "User 3",
          "User 3",
          "User 3",
          "User 3",
          "User 3",
          "User 3",
          "User 3",
          "User 3",
          "User 3",
          "User 3",
          "User 3",
          "User 3",
          "User 3",
          "User 3",
          "User 3",
          "User 3",
          "User 3",
          "User 3",
          "User 3",
          "User 3",
          "User 3",
          "User 3",
          "User 3",
          "User 3",
          "User 3",
          "User 3",
          "User 3",
          "User 3",
          "User 3",
          "User 3",
          "User 3",
          "User 3",
          "User 3",
          "User 3",
          "User 3",
          "User 3",
          "User 3",
          "User 3",
          "User 3",
          "User 3",
          "User 3",
          "User 3",
          "User 3",
          "User 3",
          "User 3",
          "User 3",
          "User 3",
          "User 3",
          "User 3",
          "User 3",
          "User 3",
          "User 3",
          "User 3",
          "User 3",
          "User 3",
          "User 3",
          "User 3",
          "User 3",
          "User 3",
          "User 3",
          "User 3",
          "User 3",
          "User 3",
          "User 3",
          "User 3",
          "User 3",
          "User 3",
          "User 3",
          "User 3",
          "User 3",
          "User 3",
          "User 3",
          "User 3",
          "User 3",
          "User 3",
          "User 3",
          "User 3",
          "User 3",
          "User 3",
          "User 3",
          "User 3",
          "User 3",
          "User 3",
          "User 3",
          "User 3",
          "User 3",
          "User 3",
          "User 3",
          "User 3",
          "User 3",
          "User 3",
          "User 3",
          "User 3",
          "User 3",
          "User 3",
          "User 3",
          "User 3",
          "User 3",
          "User 3",
          "User 3",
          "User 3",
          "User 3",
          "User 3",
          "User 3",
          "User 3",
          "User 3",
          "User 3",
          "User 3",
          "User 3",
          "User 3",
          "User 3",
          "User 3",
          "User 3",
          "User 3",
          "User 3",
          "User 3",
          "User 3",
          "User 3",
          "User 3",
          "User 3",
          "User 3",
          "User 3",
          "User 3",
          "User 3",
          "User 3",
          "User 3",
          "User 3",
          "User 3",
          "User 3",
          "User 3",
          "User 3",
          "User 3",
          "User 3",
          "User 3",
          "User 3",
          "User 3",
          "User 3",
          "User 3",
          "User 3",
          "User 3",
          "User 3",
          "User 3",
          "User 3",
          "User 3",
          "User 3",
          "User 3",
          "User 3",
          "User 3",
          "User 3",
          "User 3",
          "User 3",
          "User 3",
          "User 3",
          "User 3",
          "User 3",
          "User 3",
          "User 3",
          "User 3",
          "User 3",
          "User 3",
          "User 3",
          "User 3",
          "User 3",
          "User 3",
          "User 3",
          "User 3",
          "User 3",
          "User 3",
          "User 3",
          "User 3",
          "User 3",
          "User 3",
          "User 3",
          "User 3",
          "User 3",
          "User 3",
          "User 3",
          "User 3",
          "User 3",
          "User 3",
          "User 3",
          "User 3",
          "User 3",
          "User 3",
          "User 3",
          "User 3",
          "User 3",
          "User 3",
          "User 3",
          "User 3",
          "User 3",
          "User 3",
          "User 3",
          "User 3",
          "User 3",
          "User 3",
          "User 3",
          "User 3",
          "User 3",
          "User 3",
          "User 3",
          "User 3",
          "User 3",
          "User 3",
          "User 3",
          "User 3",
          "User 3",
          "User 3",
          "User 3",
          "User 3",
          "User 3",
          "User 3",
          "User 3",
          "User 3",
          "User 3",
          "User 3",
          "User 3",
          "User 3",
          "User 3",
          "User 3",
          "User 3",
          "User 3",
          "User 3",
          "User 3",
          "User 3",
          "User 3",
          "User 3",
          "User 3",
          "User 3",
          "User 3",
          "User 3",
          "User 3",
          "User 3",
          "User 3",
          "User 3",
          "User 3",
          "User 3",
          "User 3",
          "User 3"
         ],
         "x0": " ",
         "xaxis": "x",
         "y": [
          1,
          6,
          15,
          31,
          34,
          33,
          2,
          52,
          2,
          100,
          58,
          17,
          14,
          6,
          41,
          23,
          30,
          42,
          41,
          10,
          14,
          24,
          56,
          20,
          18,
          14,
          19,
          92,
          55,
          26,
          12,
          13,
          1,
          27,
          18,
          100,
          7,
          19,
          25,
          3,
          36,
          14,
          42,
          21,
          24,
          31,
          10,
          20,
          75,
          16,
          12,
          28,
          30,
          32,
          19,
          58,
          46,
          55,
          27,
          32,
          58,
          12,
          54,
          15,
          7,
          9,
          94,
          8,
          4,
          24,
          6,
          23,
          7,
          4,
          11,
          67,
          14,
          12,
          14,
          19,
          36,
          6,
          14,
          1,
          35,
          6,
          17,
          6,
          34,
          1,
          23,
          20,
          6,
          31,
          14,
          20,
          1,
          6,
          27,
          3,
          12,
          10,
          31,
          16,
          49,
          17,
          12,
          46,
          17,
          23,
          5,
          12,
          8,
          16,
          55,
          30,
          20,
          37,
          72,
          21,
          76,
          29,
          42,
          22,
          36,
          16,
          35,
          16,
          25,
          81,
          17,
          63,
          5,
          53,
          38,
          1,
          4,
          36,
          62,
          8,
          45,
          77,
          19,
          27,
          37,
          79,
          29,
          34,
          53,
          7,
          136,
          17,
          21,
          7,
          7,
          30,
          88,
          37,
          24,
          16,
          23,
          77,
          4,
          33,
          22,
          10,
          27,
          1,
          17,
          33,
          170,
          8,
          16,
          16,
          54,
          1,
          16,
          2,
          23,
          13,
          30,
          2,
          1,
          29,
          18,
          26,
          20,
          49,
          26,
          80,
          46,
          7,
          24,
          19,
          31,
          52,
          17,
          21,
          3,
          24,
          26,
          20,
          46,
          31,
          49,
          56,
          70,
          2,
          10,
          26,
          7,
          139,
          19,
          24,
          80,
          16,
          15,
          11,
          10,
          41,
          18,
          48,
          18,
          24,
          35,
          57,
          24,
          69,
          49,
          9,
          80,
          18,
          12,
          8,
          2,
          178,
          24,
          57,
          65,
          72,
          48,
          69,
          51,
          7,
          89,
          41,
          2,
          54,
          5,
          103,
          2,
          15,
          40,
          45,
          12,
          50,
          17,
          28,
          53,
          62,
          25,
          58,
          3,
          23,
          114,
          8,
          64,
          26,
          9,
          39,
          15,
          23,
          6,
          7,
          39,
          37,
          28,
          52,
          39,
          16,
          19,
          7,
          30,
          14,
          178,
          76,
          69,
          17,
          6,
          101,
          41,
          35,
          38,
          92,
          32,
          38,
          18,
          72,
          23,
          55,
          41,
          17,
          12,
          71,
          43,
          100,
          9,
          12,
          40,
          155,
          14,
          23,
          26,
          81,
          25,
          3,
          31,
          27,
          76,
          70,
          60,
          7,
          77,
          62,
          56,
          10,
          7,
          48,
          35,
          8,
          35,
          60,
          9,
          21,
          21,
          56,
          1,
          16,
          16,
          43,
          29,
          26,
          128,
          178,
          39,
          2,
          45,
          70,
          2,
          5,
          39,
          56,
          2,
          103,
          2,
          25,
          1,
          2,
          113,
          2,
          50,
          124,
          19,
          10,
          29,
          32,
          34,
          14,
          23,
          8,
          17,
          53,
          30,
          55,
          4,
          19,
          71,
          163,
          23,
          20,
          42,
          32,
          2,
          15,
          1,
          26,
          21,
          61,
          30,
          53,
          19,
          58,
          49,
          76,
          4,
          42,
          97,
          79,
          7,
          4,
          13,
          7,
          33,
          2,
          2,
          9,
          6,
          46,
          1,
          79,
          37,
          34,
          90,
          26,
          99,
          8,
          6,
          74,
          31,
          71,
          85,
          73,
          15,
          26,
          107,
          59,
          10,
          21,
          16,
          73,
          3,
          7,
          90,
          51,
          51,
          59,
          51,
          14,
          36,
          25,
          78,
          50,
          19,
          13,
          111,
          1,
          35,
          77,
          111,
          11,
          42,
          13,
          2,
          9,
          26,
          16,
          27,
          25,
          70,
          79,
          23,
          152,
          6,
          47,
          14,
          6,
          44,
          68,
          31,
          49,
          35,
          34,
          8,
          139,
          26,
          61,
          52,
          67,
          91,
          33,
          60,
          88,
          59,
          90,
          32,
          47,
          76,
          97,
          126,
          34,
          47,
          68,
          60,
          42,
          36,
          63,
          78,
          40,
          51,
          54,
          33,
          50,
          16,
          71,
          46,
          4,
          32,
          45,
          44,
          63,
          65,
          9,
          29,
          25,
          1,
          42,
          23,
          86,
          80,
          42,
          20,
          46,
          78,
          113,
          35,
          119,
          14,
          1,
          1,
          18,
          27,
          34,
          147,
          19,
          118,
          1,
          11,
          45,
          65,
          12,
          76,
          145,
          83,
          45,
          32,
          1,
          32,
          119,
          69,
          7,
          118,
          40,
          133,
          65,
          31,
          45,
          23,
          89,
          87,
          14,
          102,
          49,
          20,
          1,
          56,
          30,
          23,
          3,
          25,
          74,
          33,
          15,
          36,
          13,
          47,
          45,
          57,
          6,
          109,
          32,
          38,
          40,
          61,
          2,
          101,
          91,
          86,
          43,
          97,
          29,
          176,
          1,
          23,
          41,
          84,
          49,
          117,
          56,
          46,
          54,
          27,
          32,
          60,
          33,
          148,
          1,
          28,
          50,
          102,
          75,
          19,
          34,
          20,
          145,
          35,
          34,
          162,
          17,
          77,
          29,
          127,
          2,
          2,
          64,
          22,
          34,
          70,
          17,
          21,
          113,
          46,
          28,
          33,
          62,
          63,
          120,
          26,
          13,
          105,
          32,
          15,
          60,
          58,
          31,
          82,
          110,
          96,
          45,
          37,
          57,
          21,
          27,
          59,
          63,
          87,
          39,
          55,
          165,
          101,
          48,
          29,
          51,
          11,
          29,
          33,
          70,
          36,
          68,
          35,
          47,
          17,
          30,
          2,
          28,
          39,
          21,
          69,
          43,
          70,
          153,
          1,
          58,
          114,
          45,
          72,
          76,
          32,
          80,
          78,
          60,
          44,
          21,
          16,
          50,
          13,
          40,
          78,
          196,
          78,
          43,
          45,
          33,
          81,
          31,
          10,
          31,
          101,
          45,
          2,
          56,
          42,
          39,
          9,
          89,
          5,
          42,
          90,
          7,
          34,
          25,
          29,
          37,
          40,
          38,
          36,
          21,
          33,
          19,
          49,
          82,
          54,
          15,
          38,
          30,
          22,
          19,
          78,
          15,
          10,
          1,
          46,
          35,
          28,
          1,
          16,
          38,
          1,
          91,
          28,
          37,
          69,
          154,
          51,
          29,
          47,
          24,
          63,
          25,
          22,
          25,
          25,
          6,
          1,
          34,
          15,
          40,
          70,
          68,
          25,
          2,
          73,
          60,
          39,
          70,
          82,
          29,
          73,
          65,
          27,
          113,
          37,
          42,
          31,
          13,
          68,
          21,
          102,
          20,
          77,
          41,
          104,
          85,
          46,
          24,
          29,
          34,
          33,
          39,
          71,
          21,
          5,
          1,
          54,
          58,
          56,
          21,
          70,
          37,
          96,
          29,
          9,
          54,
          53,
          35,
          44,
          32,
          34,
          102,
          51,
          48,
          37,
          14,
          3,
          15,
          64,
          139,
          67,
          55,
          83,
          49,
          3,
          42,
          18,
          39,
          80,
          67,
          22,
          48,
          18,
          8,
          30,
          30,
          133,
          26,
          47,
          18,
          8,
          29,
          47,
          13,
          30,
          25,
          122,
          53,
          55,
          34,
          9,
          10,
          155,
          32,
          7,
          7,
          5,
          16,
          47,
          93,
          19,
          9,
          54,
          28,
          7,
          16,
          9,
          22,
          36,
          16,
          132,
          14,
          38,
          151,
          8,
          52,
          17,
          64,
          6,
          22,
          26,
          3,
          72,
          7,
          31,
          10,
          15,
          44,
          4,
          45,
          20,
          62,
          80,
          48,
          7,
          25,
          35,
          34,
          38,
          23,
          47,
          58,
          101,
          25,
          192,
          13,
          122,
          135,
          51,
          48,
          9,
          3,
          18,
          23,
          11,
          2,
          75,
          5,
          53,
          29,
          9,
          11,
          68,
          14,
          30,
          3,
          11,
          59,
          21,
          1,
          123,
          13,
          24,
          48,
          12,
          15,
          33,
          32,
          33,
          26,
          7,
          13,
          3,
          11,
          22,
          1,
          14,
          10,
          26,
          36,
          56,
          7,
          14,
          113,
          27,
          10,
          27,
          24,
          2,
          71,
          28,
          12,
          8,
          24,
          12,
          34,
          3,
          89,
          41,
          5,
          34,
          14,
          18,
          2,
          9,
          27,
          91,
          67,
          36,
          3,
          42,
          5,
          31,
          2,
          39,
          35,
          56,
          32,
          83,
          78,
          28,
          21,
          41,
          41,
          19,
          2,
          44,
          2,
          81,
          55,
          20,
          21,
          8,
          6,
          30,
          20,
          39,
          20,
          18,
          1,
          8,
          13,
          159,
          50,
          73,
          47,
          124,
          17,
          34,
          29,
          6,
          33,
          26,
          61,
          9,
          18,
          15,
          28,
          35,
          7,
          16,
          97,
          73,
          41,
          19,
          12,
          31,
          9,
          19,
          43,
          7,
          9,
          53,
          13,
          21,
          106,
          51,
          10,
          6,
          22,
          26,
          23,
          10,
          11,
          13,
          9,
          26,
          47,
          57,
          24,
          19,
          38,
          54,
          29,
          7,
          8,
          70,
          114,
          2,
          55,
          144,
          31,
          15,
          19,
          3,
          34,
          24,
          27,
          5,
          22,
          2,
          6,
          7,
          18,
          121,
          92,
          16,
          25,
          76,
          33,
          22,
          30,
          30,
          99,
          32,
          32,
          59,
          28,
          88,
          42,
          20,
          13,
          32,
          43,
          89,
          8,
          83,
          75,
          4,
          42,
          22,
          10,
          5,
          56,
          11,
          24,
          21,
          14,
          7,
          26,
          6,
          64,
          44,
          11,
          11,
          19,
          12,
          168,
          29,
          120,
          7,
          141,
          68,
          33,
          32,
          17,
          62,
          78,
          60,
          51,
          52,
          137,
          69,
          44,
          133,
          115,
          190,
          9,
          31,
          18,
          51,
          40,
          42,
          31,
          77,
          42,
          48,
          8,
          14,
          24,
          40,
          6,
          3,
          28,
          8,
          11,
          11,
          2,
          22,
          69,
          32,
          11,
          7,
          25,
          75,
          5,
          13,
          55,
          80,
          36,
          18,
          14,
          43,
          14,
          30,
          14,
          27,
          130,
          20,
          51,
          20,
          56,
          17,
          19,
          36,
          45,
          147,
          35,
          20,
          8,
          21,
          59,
          43,
          47,
          24,
          22,
          64,
          6,
          8,
          31,
          8,
          60,
          7,
          7,
          58,
          61,
          33,
          3,
          30,
          19,
          7,
          43,
          31,
          44,
          20,
          11,
          13,
          18,
          131,
          43,
          94,
          6,
          35,
          58,
          13,
          13,
          74,
          30,
          62,
          66,
          51,
          22,
          28,
          7,
          131,
          24,
          2,
          49,
          38,
          21,
          59,
          50,
          43,
          33,
          95,
          22,
          6,
          20,
          26,
          29,
          14,
          16,
          46,
          6,
          11,
          21,
          20,
          8,
          8,
          34,
          19,
          47,
          2,
          38,
          41,
          35,
          20,
          29,
          24,
          1,
          22,
          24,
          12,
          11,
          6,
          52,
          12,
          42,
          21,
          43,
          17,
          20,
          2,
          27,
          31,
          17,
          17,
          21,
          44,
          21,
          28,
          18,
          9,
          15,
          20,
          6,
          31,
          37,
          98,
          4,
          100,
          15,
          7,
          13,
          52,
          89,
          95,
          19,
          59,
          25,
          29,
          39,
          12,
          55,
          40,
          52,
          66,
          181,
          58,
          55,
          113,
          2,
          85,
          10,
          57,
          96,
          5,
          61,
          23,
          51,
          4,
          14,
          30,
          17,
          52,
          8,
          4,
          21,
          1,
          56,
          44,
          22,
          5,
          13,
          86,
          111,
          68,
          2,
          8,
          13,
          7,
          77,
          4,
          41,
          38,
          1,
          22,
          2,
          17,
          10,
          14,
          105,
          43,
          37,
          81,
          55,
          23,
          14,
          34,
          7,
          23,
          45,
          12,
          50,
          173,
          21,
          14,
          46,
          12,
          24,
          20,
          20,
          30,
          100,
          6,
          16,
          44,
          18,
          7,
          87,
          6,
          50,
          31,
          14,
          12,
          19,
          56,
          69,
          36,
          44,
          83,
          29,
          39,
          18,
          18,
          78,
          2,
          10
         ],
         "y0": " ",
         "yaxis": "y"
        }
       ],
       "layout": {
        "autosize": true,
        "boxmode": "group",
        "font": {
         "size": 14
        },
        "legend": {
         "orientation": "h",
         "tracegroupgap": 0,
         "y": -0.3
        },
        "margin": {
         "b": 0,
         "l": 0,
         "r": 0,
         "t": 120
        },
        "template": {
         "data": {
          "bar": [
           {
            "error_x": {
             "color": "#2a3f5f"
            },
            "error_y": {
             "color": "#2a3f5f"
            },
            "marker": {
             "line": {
              "color": "white",
              "width": 0.5
             }
            },
            "type": "bar"
           }
          ],
          "barpolar": [
           {
            "marker": {
             "line": {
              "color": "white",
              "width": 0.5
             }
            },
            "type": "barpolar"
           }
          ],
          "carpet": [
           {
            "aaxis": {
             "endlinecolor": "#2a3f5f",
             "gridcolor": "#C8D4E3",
             "linecolor": "#C8D4E3",
             "minorgridcolor": "#C8D4E3",
             "startlinecolor": "#2a3f5f"
            },
            "baxis": {
             "endlinecolor": "#2a3f5f",
             "gridcolor": "#C8D4E3",
             "linecolor": "#C8D4E3",
             "minorgridcolor": "#C8D4E3",
             "startlinecolor": "#2a3f5f"
            },
            "type": "carpet"
           }
          ],
          "choropleth": [
           {
            "colorbar": {
             "outlinewidth": 0,
             "ticks": ""
            },
            "type": "choropleth"
           }
          ],
          "contour": [
           {
            "colorbar": {
             "outlinewidth": 0,
             "ticks": ""
            },
            "colorscale": [
             [
              0,
              "#0d0887"
             ],
             [
              0.1111111111111111,
              "#46039f"
             ],
             [
              0.2222222222222222,
              "#7201a8"
             ],
             [
              0.3333333333333333,
              "#9c179e"
             ],
             [
              0.4444444444444444,
              "#bd3786"
             ],
             [
              0.5555555555555556,
              "#d8576b"
             ],
             [
              0.6666666666666666,
              "#ed7953"
             ],
             [
              0.7777777777777778,
              "#fb9f3a"
             ],
             [
              0.8888888888888888,
              "#fdca26"
             ],
             [
              1,
              "#f0f921"
             ]
            ],
            "type": "contour"
           }
          ],
          "contourcarpet": [
           {
            "colorbar": {
             "outlinewidth": 0,
             "ticks": ""
            },
            "type": "contourcarpet"
           }
          ],
          "heatmap": [
           {
            "colorbar": {
             "outlinewidth": 0,
             "ticks": ""
            },
            "colorscale": [
             [
              0,
              "#0d0887"
             ],
             [
              0.1111111111111111,
              "#46039f"
             ],
             [
              0.2222222222222222,
              "#7201a8"
             ],
             [
              0.3333333333333333,
              "#9c179e"
             ],
             [
              0.4444444444444444,
              "#bd3786"
             ],
             [
              0.5555555555555556,
              "#d8576b"
             ],
             [
              0.6666666666666666,
              "#ed7953"
             ],
             [
              0.7777777777777778,
              "#fb9f3a"
             ],
             [
              0.8888888888888888,
              "#fdca26"
             ],
             [
              1,
              "#f0f921"
             ]
            ],
            "type": "heatmap"
           }
          ],
          "heatmapgl": [
           {
            "colorbar": {
             "outlinewidth": 0,
             "ticks": ""
            },
            "colorscale": [
             [
              0,
              "#0d0887"
             ],
             [
              0.1111111111111111,
              "#46039f"
             ],
             [
              0.2222222222222222,
              "#7201a8"
             ],
             [
              0.3333333333333333,
              "#9c179e"
             ],
             [
              0.4444444444444444,
              "#bd3786"
             ],
             [
              0.5555555555555556,
              "#d8576b"
             ],
             [
              0.6666666666666666,
              "#ed7953"
             ],
             [
              0.7777777777777778,
              "#fb9f3a"
             ],
             [
              0.8888888888888888,
              "#fdca26"
             ],
             [
              1,
              "#f0f921"
             ]
            ],
            "type": "heatmapgl"
           }
          ],
          "histogram": [
           {
            "marker": {
             "colorbar": {
              "outlinewidth": 0,
              "ticks": ""
             }
            },
            "type": "histogram"
           }
          ],
          "histogram2d": [
           {
            "colorbar": {
             "outlinewidth": 0,
             "ticks": ""
            },
            "colorscale": [
             [
              0,
              "#0d0887"
             ],
             [
              0.1111111111111111,
              "#46039f"
             ],
             [
              0.2222222222222222,
              "#7201a8"
             ],
             [
              0.3333333333333333,
              "#9c179e"
             ],
             [
              0.4444444444444444,
              "#bd3786"
             ],
             [
              0.5555555555555556,
              "#d8576b"
             ],
             [
              0.6666666666666666,
              "#ed7953"
             ],
             [
              0.7777777777777778,
              "#fb9f3a"
             ],
             [
              0.8888888888888888,
              "#fdca26"
             ],
             [
              1,
              "#f0f921"
             ]
            ],
            "type": "histogram2d"
           }
          ],
          "histogram2dcontour": [
           {
            "colorbar": {
             "outlinewidth": 0,
             "ticks": ""
            },
            "colorscale": [
             [
              0,
              "#0d0887"
             ],
             [
              0.1111111111111111,
              "#46039f"
             ],
             [
              0.2222222222222222,
              "#7201a8"
             ],
             [
              0.3333333333333333,
              "#9c179e"
             ],
             [
              0.4444444444444444,
              "#bd3786"
             ],
             [
              0.5555555555555556,
              "#d8576b"
             ],
             [
              0.6666666666666666,
              "#ed7953"
             ],
             [
              0.7777777777777778,
              "#fb9f3a"
             ],
             [
              0.8888888888888888,
              "#fdca26"
             ],
             [
              1,
              "#f0f921"
             ]
            ],
            "type": "histogram2dcontour"
           }
          ],
          "mesh3d": [
           {
            "colorbar": {
             "outlinewidth": 0,
             "ticks": ""
            },
            "type": "mesh3d"
           }
          ],
          "parcoords": [
           {
            "line": {
             "colorbar": {
              "outlinewidth": 0,
              "ticks": ""
             }
            },
            "type": "parcoords"
           }
          ],
          "pie": [
           {
            "automargin": true,
            "type": "pie"
           }
          ],
          "scatter": [
           {
            "marker": {
             "colorbar": {
              "outlinewidth": 0,
              "ticks": ""
             }
            },
            "type": "scatter"
           }
          ],
          "scatter3d": [
           {
            "line": {
             "colorbar": {
              "outlinewidth": 0,
              "ticks": ""
             }
            },
            "marker": {
             "colorbar": {
              "outlinewidth": 0,
              "ticks": ""
             }
            },
            "type": "scatter3d"
           }
          ],
          "scattercarpet": [
           {
            "marker": {
             "colorbar": {
              "outlinewidth": 0,
              "ticks": ""
             }
            },
            "type": "scattercarpet"
           }
          ],
          "scattergeo": [
           {
            "marker": {
             "colorbar": {
              "outlinewidth": 0,
              "ticks": ""
             }
            },
            "type": "scattergeo"
           }
          ],
          "scattergl": [
           {
            "marker": {
             "colorbar": {
              "outlinewidth": 0,
              "ticks": ""
             }
            },
            "type": "scattergl"
           }
          ],
          "scattermapbox": [
           {
            "marker": {
             "colorbar": {
              "outlinewidth": 0,
              "ticks": ""
             }
            },
            "type": "scattermapbox"
           }
          ],
          "scatterpolar": [
           {
            "marker": {
             "colorbar": {
              "outlinewidth": 0,
              "ticks": ""
             }
            },
            "type": "scatterpolar"
           }
          ],
          "scatterpolargl": [
           {
            "marker": {
             "colorbar": {
              "outlinewidth": 0,
              "ticks": ""
             }
            },
            "type": "scatterpolargl"
           }
          ],
          "scatterternary": [
           {
            "marker": {
             "colorbar": {
              "outlinewidth": 0,
              "ticks": ""
             }
            },
            "type": "scatterternary"
           }
          ],
          "surface": [
           {
            "colorbar": {
             "outlinewidth": 0,
             "ticks": ""
            },
            "colorscale": [
             [
              0,
              "#0d0887"
             ],
             [
              0.1111111111111111,
              "#46039f"
             ],
             [
              0.2222222222222222,
              "#7201a8"
             ],
             [
              0.3333333333333333,
              "#9c179e"
             ],
             [
              0.4444444444444444,
              "#bd3786"
             ],
             [
              0.5555555555555556,
              "#d8576b"
             ],
             [
              0.6666666666666666,
              "#ed7953"
             ],
             [
              0.7777777777777778,
              "#fb9f3a"
             ],
             [
              0.8888888888888888,
              "#fdca26"
             ],
             [
              1,
              "#f0f921"
             ]
            ],
            "type": "surface"
           }
          ],
          "table": [
           {
            "cells": {
             "fill": {
              "color": "#EBF0F8"
             },
             "line": {
              "color": "white"
             }
            },
            "header": {
             "fill": {
              "color": "#C8D4E3"
             },
             "line": {
              "color": "white"
             }
            },
            "type": "table"
           }
          ]
         },
         "layout": {
          "annotationdefaults": {
           "arrowcolor": "#2a3f5f",
           "arrowhead": 0,
           "arrowwidth": 1
          },
          "autotypenumbers": "strict",
          "coloraxis": {
           "colorbar": {
            "outlinewidth": 0,
            "ticks": ""
           }
          },
          "colorscale": {
           "diverging": [
            [
             0,
             "#8e0152"
            ],
            [
             0.1,
             "#c51b7d"
            ],
            [
             0.2,
             "#de77ae"
            ],
            [
             0.3,
             "#f1b6da"
            ],
            [
             0.4,
             "#fde0ef"
            ],
            [
             0.5,
             "#f7f7f7"
            ],
            [
             0.6,
             "#e6f5d0"
            ],
            [
             0.7,
             "#b8e186"
            ],
            [
             0.8,
             "#7fbc41"
            ],
            [
             0.9,
             "#4d9221"
            ],
            [
             1,
             "#276419"
            ]
           ],
           "sequential": [
            [
             0,
             "#0d0887"
            ],
            [
             0.1111111111111111,
             "#46039f"
            ],
            [
             0.2222222222222222,
             "#7201a8"
            ],
            [
             0.3333333333333333,
             "#9c179e"
            ],
            [
             0.4444444444444444,
             "#bd3786"
            ],
            [
             0.5555555555555556,
             "#d8576b"
            ],
            [
             0.6666666666666666,
             "#ed7953"
            ],
            [
             0.7777777777777778,
             "#fb9f3a"
            ],
            [
             0.8888888888888888,
             "#fdca26"
            ],
            [
             1,
             "#f0f921"
            ]
           ],
           "sequentialminus": [
            [
             0,
             "#0d0887"
            ],
            [
             0.1111111111111111,
             "#46039f"
            ],
            [
             0.2222222222222222,
             "#7201a8"
            ],
            [
             0.3333333333333333,
             "#9c179e"
            ],
            [
             0.4444444444444444,
             "#bd3786"
            ],
            [
             0.5555555555555556,
             "#d8576b"
            ],
            [
             0.6666666666666666,
             "#ed7953"
            ],
            [
             0.7777777777777778,
             "#fb9f3a"
            ],
            [
             0.8888888888888888,
             "#fdca26"
            ],
            [
             1,
             "#f0f921"
            ]
           ]
          },
          "colorway": [
           "#636efa",
           "#EF553B",
           "#00cc96",
           "#ab63fa",
           "#FFA15A",
           "#19d3f3",
           "#FF6692",
           "#B6E880",
           "#FF97FF",
           "#FECB52"
          ],
          "font": {
           "color": "#2a3f5f"
          },
          "geo": {
           "bgcolor": "white",
           "lakecolor": "white",
           "landcolor": "white",
           "showlakes": true,
           "showland": true,
           "subunitcolor": "#C8D4E3"
          },
          "hoverlabel": {
           "align": "left"
          },
          "hovermode": "closest",
          "mapbox": {
           "style": "light"
          },
          "paper_bgcolor": "white",
          "plot_bgcolor": "white",
          "polar": {
           "angularaxis": {
            "gridcolor": "#EBF0F8",
            "linecolor": "#EBF0F8",
            "ticks": ""
           },
           "bgcolor": "white",
           "radialaxis": {
            "gridcolor": "#EBF0F8",
            "linecolor": "#EBF0F8",
            "ticks": ""
           }
          },
          "scene": {
           "xaxis": {
            "backgroundcolor": "white",
            "gridcolor": "#DFE8F3",
            "gridwidth": 2,
            "linecolor": "#EBF0F8",
            "showbackground": true,
            "ticks": "",
            "zerolinecolor": "#EBF0F8"
           },
           "yaxis": {
            "backgroundcolor": "white",
            "gridcolor": "#DFE8F3",
            "gridwidth": 2,
            "linecolor": "#EBF0F8",
            "showbackground": true,
            "ticks": "",
            "zerolinecolor": "#EBF0F8"
           },
           "zaxis": {
            "backgroundcolor": "white",
            "gridcolor": "#DFE8F3",
            "gridwidth": 2,
            "linecolor": "#EBF0F8",
            "showbackground": true,
            "ticks": "",
            "zerolinecolor": "#EBF0F8"
           }
          },
          "shapedefaults": {
           "line": {
            "color": "#2a3f5f"
           }
          },
          "ternary": {
           "aaxis": {
            "gridcolor": "#DFE8F3",
            "linecolor": "#A2B1C6",
            "ticks": ""
           },
           "baxis": {
            "gridcolor": "#DFE8F3",
            "linecolor": "#A2B1C6",
            "ticks": ""
           },
           "bgcolor": "white",
           "caxis": {
            "gridcolor": "#DFE8F3",
            "linecolor": "#A2B1C6",
            "ticks": ""
           }
          },
          "title": {
           "x": 0.05
          },
          "xaxis": {
           "automargin": true,
           "gridcolor": "#EBF0F8",
           "linecolor": "#EBF0F8",
           "ticks": "",
           "title": {
            "standoff": 15
           },
           "zerolinecolor": "#EBF0F8",
           "zerolinewidth": 2
          },
          "yaxis": {
           "automargin": true,
           "gridcolor": "#EBF0F8",
           "linecolor": "#EBF0F8",
           "ticks": "",
           "title": {
            "standoff": 15
           },
           "zerolinecolor": "#EBF0F8",
           "zerolinewidth": 2
          }
         }
        },
        "title": {
         "font": {
          "size": 24
         },
         "text": "Text lenght per person",
         "x": 0.5
        },
        "xaxis": {
         "anchor": "y",
         "domain": [
          0,
          1
         ],
         "title": {
          "text": "Text length [characters]"
         }
        },
        "yaxis": {
         "anchor": "x",
         "domain": [
          0,
          1
         ],
         "title": {}
        }
       }
      }
     },
     "metadata": {}
    }
   ],
   "source": [
    "box1=P.boxplot(data = plot_data, y=\"text_length\", x=\"person\", title_text=\"Text lenght per person\", xaxis_title=\"Text length [characters]\")\n",
    "box1.show()"
   ]
  },
  {
   "cell_type": "code",
   "execution_count": 21,
   "metadata": {},
   "outputs": [
    {
     "output_type": "display_data",
     "data": {
      "application/vnd.plotly.v1+json": {
       "config": {
        "plotlyServerURL": "https://plot.ly"
       },
       "data": [
        {
         "alignmentgroup": "True",
         "hovertemplate": "hour=%{x}<br>message_per_hour=%{y}<extra></extra>",
         "legendgroup": "",
         "marker": {
          "color": "#4C78A8"
         },
         "name": "",
         "offsetgroup": "",
         "orientation": "v",
         "showlegend": false,
         "textposition": "auto",
         "type": "bar",
         "x": [
          0,
          1,
          2,
          5,
          6,
          7,
          8,
          9,
          10,
          11,
          12,
          13,
          14,
          15,
          16,
          17,
          18,
          19,
          20,
          21,
          22,
          23
         ],
         "xaxis": "x",
         "y": [
          0.45454545454545453,
          0.22727272727272727,
          0.045454545454545456,
          0.36363636363636365,
          0.8636363636363636,
          1.1363636363636365,
          2.8181818181818183,
          1.5,
          5.363636363636363,
          4.636363636363637,
          3.9545454545454546,
          3.3636363636363638,
          2.409090909090909,
          3.272727272727273,
          2.772727272727273,
          5.590909090909091,
          9.090909090909092,
          5.2272727272727275,
          6.136363636363637,
          4.681818181818182,
          1.5,
          0.5
         ],
         "yaxis": "y"
        }
       ],
       "layout": {
        "autosize": true,
        "font": {
         "size": 14
        },
        "legend": {
         "orientation": "h",
         "tracegroupgap": 0,
         "y": -0.3
        },
        "margin": {
         "b": 0,
         "l": 0,
         "r": 0,
         "t": 120
        },
        "template": {
         "data": {
          "bar": [
           {
            "error_x": {
             "color": "#2a3f5f"
            },
            "error_y": {
             "color": "#2a3f5f"
            },
            "marker": {
             "line": {
              "color": "white",
              "width": 0.5
             }
            },
            "type": "bar"
           }
          ],
          "barpolar": [
           {
            "marker": {
             "line": {
              "color": "white",
              "width": 0.5
             }
            },
            "type": "barpolar"
           }
          ],
          "carpet": [
           {
            "aaxis": {
             "endlinecolor": "#2a3f5f",
             "gridcolor": "#C8D4E3",
             "linecolor": "#C8D4E3",
             "minorgridcolor": "#C8D4E3",
             "startlinecolor": "#2a3f5f"
            },
            "baxis": {
             "endlinecolor": "#2a3f5f",
             "gridcolor": "#C8D4E3",
             "linecolor": "#C8D4E3",
             "minorgridcolor": "#C8D4E3",
             "startlinecolor": "#2a3f5f"
            },
            "type": "carpet"
           }
          ],
          "choropleth": [
           {
            "colorbar": {
             "outlinewidth": 0,
             "ticks": ""
            },
            "type": "choropleth"
           }
          ],
          "contour": [
           {
            "colorbar": {
             "outlinewidth": 0,
             "ticks": ""
            },
            "colorscale": [
             [
              0,
              "#0d0887"
             ],
             [
              0.1111111111111111,
              "#46039f"
             ],
             [
              0.2222222222222222,
              "#7201a8"
             ],
             [
              0.3333333333333333,
              "#9c179e"
             ],
             [
              0.4444444444444444,
              "#bd3786"
             ],
             [
              0.5555555555555556,
              "#d8576b"
             ],
             [
              0.6666666666666666,
              "#ed7953"
             ],
             [
              0.7777777777777778,
              "#fb9f3a"
             ],
             [
              0.8888888888888888,
              "#fdca26"
             ],
             [
              1,
              "#f0f921"
             ]
            ],
            "type": "contour"
           }
          ],
          "contourcarpet": [
           {
            "colorbar": {
             "outlinewidth": 0,
             "ticks": ""
            },
            "type": "contourcarpet"
           }
          ],
          "heatmap": [
           {
            "colorbar": {
             "outlinewidth": 0,
             "ticks": ""
            },
            "colorscale": [
             [
              0,
              "#0d0887"
             ],
             [
              0.1111111111111111,
              "#46039f"
             ],
             [
              0.2222222222222222,
              "#7201a8"
             ],
             [
              0.3333333333333333,
              "#9c179e"
             ],
             [
              0.4444444444444444,
              "#bd3786"
             ],
             [
              0.5555555555555556,
              "#d8576b"
             ],
             [
              0.6666666666666666,
              "#ed7953"
             ],
             [
              0.7777777777777778,
              "#fb9f3a"
             ],
             [
              0.8888888888888888,
              "#fdca26"
             ],
             [
              1,
              "#f0f921"
             ]
            ],
            "type": "heatmap"
           }
          ],
          "heatmapgl": [
           {
            "colorbar": {
             "outlinewidth": 0,
             "ticks": ""
            },
            "colorscale": [
             [
              0,
              "#0d0887"
             ],
             [
              0.1111111111111111,
              "#46039f"
             ],
             [
              0.2222222222222222,
              "#7201a8"
             ],
             [
              0.3333333333333333,
              "#9c179e"
             ],
             [
              0.4444444444444444,
              "#bd3786"
             ],
             [
              0.5555555555555556,
              "#d8576b"
             ],
             [
              0.6666666666666666,
              "#ed7953"
             ],
             [
              0.7777777777777778,
              "#fb9f3a"
             ],
             [
              0.8888888888888888,
              "#fdca26"
             ],
             [
              1,
              "#f0f921"
             ]
            ],
            "type": "heatmapgl"
           }
          ],
          "histogram": [
           {
            "marker": {
             "colorbar": {
              "outlinewidth": 0,
              "ticks": ""
             }
            },
            "type": "histogram"
           }
          ],
          "histogram2d": [
           {
            "colorbar": {
             "outlinewidth": 0,
             "ticks": ""
            },
            "colorscale": [
             [
              0,
              "#0d0887"
             ],
             [
              0.1111111111111111,
              "#46039f"
             ],
             [
              0.2222222222222222,
              "#7201a8"
             ],
             [
              0.3333333333333333,
              "#9c179e"
             ],
             [
              0.4444444444444444,
              "#bd3786"
             ],
             [
              0.5555555555555556,
              "#d8576b"
             ],
             [
              0.6666666666666666,
              "#ed7953"
             ],
             [
              0.7777777777777778,
              "#fb9f3a"
             ],
             [
              0.8888888888888888,
              "#fdca26"
             ],
             [
              1,
              "#f0f921"
             ]
            ],
            "type": "histogram2d"
           }
          ],
          "histogram2dcontour": [
           {
            "colorbar": {
             "outlinewidth": 0,
             "ticks": ""
            },
            "colorscale": [
             [
              0,
              "#0d0887"
             ],
             [
              0.1111111111111111,
              "#46039f"
             ],
             [
              0.2222222222222222,
              "#7201a8"
             ],
             [
              0.3333333333333333,
              "#9c179e"
             ],
             [
              0.4444444444444444,
              "#bd3786"
             ],
             [
              0.5555555555555556,
              "#d8576b"
             ],
             [
              0.6666666666666666,
              "#ed7953"
             ],
             [
              0.7777777777777778,
              "#fb9f3a"
             ],
             [
              0.8888888888888888,
              "#fdca26"
             ],
             [
              1,
              "#f0f921"
             ]
            ],
            "type": "histogram2dcontour"
           }
          ],
          "mesh3d": [
           {
            "colorbar": {
             "outlinewidth": 0,
             "ticks": ""
            },
            "type": "mesh3d"
           }
          ],
          "parcoords": [
           {
            "line": {
             "colorbar": {
              "outlinewidth": 0,
              "ticks": ""
             }
            },
            "type": "parcoords"
           }
          ],
          "pie": [
           {
            "automargin": true,
            "type": "pie"
           }
          ],
          "scatter": [
           {
            "marker": {
             "colorbar": {
              "outlinewidth": 0,
              "ticks": ""
             }
            },
            "type": "scatter"
           }
          ],
          "scatter3d": [
           {
            "line": {
             "colorbar": {
              "outlinewidth": 0,
              "ticks": ""
             }
            },
            "marker": {
             "colorbar": {
              "outlinewidth": 0,
              "ticks": ""
             }
            },
            "type": "scatter3d"
           }
          ],
          "scattercarpet": [
           {
            "marker": {
             "colorbar": {
              "outlinewidth": 0,
              "ticks": ""
             }
            },
            "type": "scattercarpet"
           }
          ],
          "scattergeo": [
           {
            "marker": {
             "colorbar": {
              "outlinewidth": 0,
              "ticks": ""
             }
            },
            "type": "scattergeo"
           }
          ],
          "scattergl": [
           {
            "marker": {
             "colorbar": {
              "outlinewidth": 0,
              "ticks": ""
             }
            },
            "type": "scattergl"
           }
          ],
          "scattermapbox": [
           {
            "marker": {
             "colorbar": {
              "outlinewidth": 0,
              "ticks": ""
             }
            },
            "type": "scattermapbox"
           }
          ],
          "scatterpolar": [
           {
            "marker": {
             "colorbar": {
              "outlinewidth": 0,
              "ticks": ""
             }
            },
            "type": "scatterpolar"
           }
          ],
          "scatterpolargl": [
           {
            "marker": {
             "colorbar": {
              "outlinewidth": 0,
              "ticks": ""
             }
            },
            "type": "scatterpolargl"
           }
          ],
          "scatterternary": [
           {
            "marker": {
             "colorbar": {
              "outlinewidth": 0,
              "ticks": ""
             }
            },
            "type": "scatterternary"
           }
          ],
          "surface": [
           {
            "colorbar": {
             "outlinewidth": 0,
             "ticks": ""
            },
            "colorscale": [
             [
              0,
              "#0d0887"
             ],
             [
              0.1111111111111111,
              "#46039f"
             ],
             [
              0.2222222222222222,
              "#7201a8"
             ],
             [
              0.3333333333333333,
              "#9c179e"
             ],
             [
              0.4444444444444444,
              "#bd3786"
             ],
             [
              0.5555555555555556,
              "#d8576b"
             ],
             [
              0.6666666666666666,
              "#ed7953"
             ],
             [
              0.7777777777777778,
              "#fb9f3a"
             ],
             [
              0.8888888888888888,
              "#fdca26"
             ],
             [
              1,
              "#f0f921"
             ]
            ],
            "type": "surface"
           }
          ],
          "table": [
           {
            "cells": {
             "fill": {
              "color": "#EBF0F8"
             },
             "line": {
              "color": "white"
             }
            },
            "header": {
             "fill": {
              "color": "#C8D4E3"
             },
             "line": {
              "color": "white"
             }
            },
            "type": "table"
           }
          ]
         },
         "layout": {
          "annotationdefaults": {
           "arrowcolor": "#2a3f5f",
           "arrowhead": 0,
           "arrowwidth": 1
          },
          "autotypenumbers": "strict",
          "coloraxis": {
           "colorbar": {
            "outlinewidth": 0,
            "ticks": ""
           }
          },
          "colorscale": {
           "diverging": [
            [
             0,
             "#8e0152"
            ],
            [
             0.1,
             "#c51b7d"
            ],
            [
             0.2,
             "#de77ae"
            ],
            [
             0.3,
             "#f1b6da"
            ],
            [
             0.4,
             "#fde0ef"
            ],
            [
             0.5,
             "#f7f7f7"
            ],
            [
             0.6,
             "#e6f5d0"
            ],
            [
             0.7,
             "#b8e186"
            ],
            [
             0.8,
             "#7fbc41"
            ],
            [
             0.9,
             "#4d9221"
            ],
            [
             1,
             "#276419"
            ]
           ],
           "sequential": [
            [
             0,
             "#0d0887"
            ],
            [
             0.1111111111111111,
             "#46039f"
            ],
            [
             0.2222222222222222,
             "#7201a8"
            ],
            [
             0.3333333333333333,
             "#9c179e"
            ],
            [
             0.4444444444444444,
             "#bd3786"
            ],
            [
             0.5555555555555556,
             "#d8576b"
            ],
            [
             0.6666666666666666,
             "#ed7953"
            ],
            [
             0.7777777777777778,
             "#fb9f3a"
            ],
            [
             0.8888888888888888,
             "#fdca26"
            ],
            [
             1,
             "#f0f921"
            ]
           ],
           "sequentialminus": [
            [
             0,
             "#0d0887"
            ],
            [
             0.1111111111111111,
             "#46039f"
            ],
            [
             0.2222222222222222,
             "#7201a8"
            ],
            [
             0.3333333333333333,
             "#9c179e"
            ],
            [
             0.4444444444444444,
             "#bd3786"
            ],
            [
             0.5555555555555556,
             "#d8576b"
            ],
            [
             0.6666666666666666,
             "#ed7953"
            ],
            [
             0.7777777777777778,
             "#fb9f3a"
            ],
            [
             0.8888888888888888,
             "#fdca26"
            ],
            [
             1,
             "#f0f921"
            ]
           ]
          },
          "colorway": [
           "#636efa",
           "#EF553B",
           "#00cc96",
           "#ab63fa",
           "#FFA15A",
           "#19d3f3",
           "#FF6692",
           "#B6E880",
           "#FF97FF",
           "#FECB52"
          ],
          "font": {
           "color": "#2a3f5f"
          },
          "geo": {
           "bgcolor": "white",
           "lakecolor": "white",
           "landcolor": "white",
           "showlakes": true,
           "showland": true,
           "subunitcolor": "#C8D4E3"
          },
          "hoverlabel": {
           "align": "left"
          },
          "hovermode": "closest",
          "mapbox": {
           "style": "light"
          },
          "paper_bgcolor": "white",
          "plot_bgcolor": "white",
          "polar": {
           "angularaxis": {
            "gridcolor": "#EBF0F8",
            "linecolor": "#EBF0F8",
            "ticks": ""
           },
           "bgcolor": "white",
           "radialaxis": {
            "gridcolor": "#EBF0F8",
            "linecolor": "#EBF0F8",
            "ticks": ""
           }
          },
          "scene": {
           "xaxis": {
            "backgroundcolor": "white",
            "gridcolor": "#DFE8F3",
            "gridwidth": 2,
            "linecolor": "#EBF0F8",
            "showbackground": true,
            "ticks": "",
            "zerolinecolor": "#EBF0F8"
           },
           "yaxis": {
            "backgroundcolor": "white",
            "gridcolor": "#DFE8F3",
            "gridwidth": 2,
            "linecolor": "#EBF0F8",
            "showbackground": true,
            "ticks": "",
            "zerolinecolor": "#EBF0F8"
           },
           "zaxis": {
            "backgroundcolor": "white",
            "gridcolor": "#DFE8F3",
            "gridwidth": 2,
            "linecolor": "#EBF0F8",
            "showbackground": true,
            "ticks": "",
            "zerolinecolor": "#EBF0F8"
           }
          },
          "shapedefaults": {
           "line": {
            "color": "#2a3f5f"
           }
          },
          "ternary": {
           "aaxis": {
            "gridcolor": "#DFE8F3",
            "linecolor": "#A2B1C6",
            "ticks": ""
           },
           "baxis": {
            "gridcolor": "#DFE8F3",
            "linecolor": "#A2B1C6",
            "ticks": ""
           },
           "bgcolor": "white",
           "caxis": {
            "gridcolor": "#DFE8F3",
            "linecolor": "#A2B1C6",
            "ticks": ""
           }
          },
          "title": {
           "x": 0.05
          },
          "xaxis": {
           "automargin": true,
           "gridcolor": "#EBF0F8",
           "linecolor": "#EBF0F8",
           "ticks": "",
           "title": {
            "standoff": 15
           },
           "zerolinecolor": "#EBF0F8",
           "zerolinewidth": 2
          },
          "yaxis": {
           "automargin": true,
           "gridcolor": "#EBF0F8",
           "linecolor": "#EBF0F8",
           "ticks": "",
           "title": {
            "standoff": 15
           },
           "zerolinecolor": "#EBF0F8",
           "zerolinewidth": 2
          }
         }
        },
        "title": {
         "font": {
          "size": 24
         },
         "text": "Average messages per hour",
         "x": 0.5
        },
        "xaxis": {
         "anchor": "y",
         "domain": [
          0,
          1
         ],
         "tickvals": [
          0,
          1,
          2,
          5,
          6,
          7,
          8,
          9,
          10,
          11,
          12,
          13,
          14,
          15,
          16,
          17,
          18,
          19,
          20,
          21,
          22,
          23
         ],
         "title": {
          "text": "Hour of the day"
         }
        },
        "yaxis": {
         "anchor": "x",
         "domain": [
          0,
          1
         ],
         "title": {
          "text": "Messages"
         }
        }
       }
      }
     },
     "metadata": {}
    }
   ],
   "source": [
    "plot_data = pd.DataFrame()\n",
    "plot_data[\"message_per_hour\"] = df.groupby(['hour']).count()['message'] / len(df.groupby(['hour']).count().index)\n",
    "plot_data.reset_index(inplace=True)\n",
    "bar1 = P.barplot(data=plot_data, x=\"hour\",y=\"message_per_hour\", title_text=\"Average messages per hour\", xaxis_title=\"Hour of the day\", yaxis_title=\"Messages\",xtickvals=plot_data[\"hour\"])\n",
    "bar1.show()"
   ]
  },
  {
   "cell_type": "code",
   "execution_count": 22,
   "metadata": {},
   "outputs": [
    {
     "output_type": "display_data",
     "data": {
      "application/vnd.plotly.v1+json": {
       "config": {
        "plotlyServerURL": "https://plot.ly"
       },
       "data": [
        {
         "alignmentgroup": "True",
         "hovertemplate": "weekday=%{x}<br>text_length=%{y}<extra></extra>",
         "legendgroup": "",
         "marker": {
          "color": "#4C78A8"
         },
         "name": "",
         "offsetgroup": "",
         "orientation": "v",
         "showlegend": false,
         "textposition": "auto",
         "type": "bar",
         "x": [
          "Sun",
          "Mon",
          "Tue",
          "Wed",
          "Thr",
          "Fri",
          "Sat"
         ],
         "xaxis": "x",
         "y": [
          61.261146496815286,
          48.71523178807947,
          42.71084337349398,
          37.90592334494774,
          42.57219251336898,
          39.89453125,
          42.264227642276424
         ],
         "yaxis": "y"
        }
       ],
       "layout": {
        "autosize": true,
        "font": {
         "size": 14
        },
        "legend": {
         "orientation": "h",
         "tracegroupgap": 0,
         "y": -0.3
        },
        "margin": {
         "b": 0,
         "l": 0,
         "r": 0,
         "t": 120
        },
        "template": {
         "data": {
          "bar": [
           {
            "error_x": {
             "color": "#2a3f5f"
            },
            "error_y": {
             "color": "#2a3f5f"
            },
            "marker": {
             "line": {
              "color": "white",
              "width": 0.5
             }
            },
            "type": "bar"
           }
          ],
          "barpolar": [
           {
            "marker": {
             "line": {
              "color": "white",
              "width": 0.5
             }
            },
            "type": "barpolar"
           }
          ],
          "carpet": [
           {
            "aaxis": {
             "endlinecolor": "#2a3f5f",
             "gridcolor": "#C8D4E3",
             "linecolor": "#C8D4E3",
             "minorgridcolor": "#C8D4E3",
             "startlinecolor": "#2a3f5f"
            },
            "baxis": {
             "endlinecolor": "#2a3f5f",
             "gridcolor": "#C8D4E3",
             "linecolor": "#C8D4E3",
             "minorgridcolor": "#C8D4E3",
             "startlinecolor": "#2a3f5f"
            },
            "type": "carpet"
           }
          ],
          "choropleth": [
           {
            "colorbar": {
             "outlinewidth": 0,
             "ticks": ""
            },
            "type": "choropleth"
           }
          ],
          "contour": [
           {
            "colorbar": {
             "outlinewidth": 0,
             "ticks": ""
            },
            "colorscale": [
             [
              0,
              "#0d0887"
             ],
             [
              0.1111111111111111,
              "#46039f"
             ],
             [
              0.2222222222222222,
              "#7201a8"
             ],
             [
              0.3333333333333333,
              "#9c179e"
             ],
             [
              0.4444444444444444,
              "#bd3786"
             ],
             [
              0.5555555555555556,
              "#d8576b"
             ],
             [
              0.6666666666666666,
              "#ed7953"
             ],
             [
              0.7777777777777778,
              "#fb9f3a"
             ],
             [
              0.8888888888888888,
              "#fdca26"
             ],
             [
              1,
              "#f0f921"
             ]
            ],
            "type": "contour"
           }
          ],
          "contourcarpet": [
           {
            "colorbar": {
             "outlinewidth": 0,
             "ticks": ""
            },
            "type": "contourcarpet"
           }
          ],
          "heatmap": [
           {
            "colorbar": {
             "outlinewidth": 0,
             "ticks": ""
            },
            "colorscale": [
             [
              0,
              "#0d0887"
             ],
             [
              0.1111111111111111,
              "#46039f"
             ],
             [
              0.2222222222222222,
              "#7201a8"
             ],
             [
              0.3333333333333333,
              "#9c179e"
             ],
             [
              0.4444444444444444,
              "#bd3786"
             ],
             [
              0.5555555555555556,
              "#d8576b"
             ],
             [
              0.6666666666666666,
              "#ed7953"
             ],
             [
              0.7777777777777778,
              "#fb9f3a"
             ],
             [
              0.8888888888888888,
              "#fdca26"
             ],
             [
              1,
              "#f0f921"
             ]
            ],
            "type": "heatmap"
           }
          ],
          "heatmapgl": [
           {
            "colorbar": {
             "outlinewidth": 0,
             "ticks": ""
            },
            "colorscale": [
             [
              0,
              "#0d0887"
             ],
             [
              0.1111111111111111,
              "#46039f"
             ],
             [
              0.2222222222222222,
              "#7201a8"
             ],
             [
              0.3333333333333333,
              "#9c179e"
             ],
             [
              0.4444444444444444,
              "#bd3786"
             ],
             [
              0.5555555555555556,
              "#d8576b"
             ],
             [
              0.6666666666666666,
              "#ed7953"
             ],
             [
              0.7777777777777778,
              "#fb9f3a"
             ],
             [
              0.8888888888888888,
              "#fdca26"
             ],
             [
              1,
              "#f0f921"
             ]
            ],
            "type": "heatmapgl"
           }
          ],
          "histogram": [
           {
            "marker": {
             "colorbar": {
              "outlinewidth": 0,
              "ticks": ""
             }
            },
            "type": "histogram"
           }
          ],
          "histogram2d": [
           {
            "colorbar": {
             "outlinewidth": 0,
             "ticks": ""
            },
            "colorscale": [
             [
              0,
              "#0d0887"
             ],
             [
              0.1111111111111111,
              "#46039f"
             ],
             [
              0.2222222222222222,
              "#7201a8"
             ],
             [
              0.3333333333333333,
              "#9c179e"
             ],
             [
              0.4444444444444444,
              "#bd3786"
             ],
             [
              0.5555555555555556,
              "#d8576b"
             ],
             [
              0.6666666666666666,
              "#ed7953"
             ],
             [
              0.7777777777777778,
              "#fb9f3a"
             ],
             [
              0.8888888888888888,
              "#fdca26"
             ],
             [
              1,
              "#f0f921"
             ]
            ],
            "type": "histogram2d"
           }
          ],
          "histogram2dcontour": [
           {
            "colorbar": {
             "outlinewidth": 0,
             "ticks": ""
            },
            "colorscale": [
             [
              0,
              "#0d0887"
             ],
             [
              0.1111111111111111,
              "#46039f"
             ],
             [
              0.2222222222222222,
              "#7201a8"
             ],
             [
              0.3333333333333333,
              "#9c179e"
             ],
             [
              0.4444444444444444,
              "#bd3786"
             ],
             [
              0.5555555555555556,
              "#d8576b"
             ],
             [
              0.6666666666666666,
              "#ed7953"
             ],
             [
              0.7777777777777778,
              "#fb9f3a"
             ],
             [
              0.8888888888888888,
              "#fdca26"
             ],
             [
              1,
              "#f0f921"
             ]
            ],
            "type": "histogram2dcontour"
           }
          ],
          "mesh3d": [
           {
            "colorbar": {
             "outlinewidth": 0,
             "ticks": ""
            },
            "type": "mesh3d"
           }
          ],
          "parcoords": [
           {
            "line": {
             "colorbar": {
              "outlinewidth": 0,
              "ticks": ""
             }
            },
            "type": "parcoords"
           }
          ],
          "pie": [
           {
            "automargin": true,
            "type": "pie"
           }
          ],
          "scatter": [
           {
            "marker": {
             "colorbar": {
              "outlinewidth": 0,
              "ticks": ""
             }
            },
            "type": "scatter"
           }
          ],
          "scatter3d": [
           {
            "line": {
             "colorbar": {
              "outlinewidth": 0,
              "ticks": ""
             }
            },
            "marker": {
             "colorbar": {
              "outlinewidth": 0,
              "ticks": ""
             }
            },
            "type": "scatter3d"
           }
          ],
          "scattercarpet": [
           {
            "marker": {
             "colorbar": {
              "outlinewidth": 0,
              "ticks": ""
             }
            },
            "type": "scattercarpet"
           }
          ],
          "scattergeo": [
           {
            "marker": {
             "colorbar": {
              "outlinewidth": 0,
              "ticks": ""
             }
            },
            "type": "scattergeo"
           }
          ],
          "scattergl": [
           {
            "marker": {
             "colorbar": {
              "outlinewidth": 0,
              "ticks": ""
             }
            },
            "type": "scattergl"
           }
          ],
          "scattermapbox": [
           {
            "marker": {
             "colorbar": {
              "outlinewidth": 0,
              "ticks": ""
             }
            },
            "type": "scattermapbox"
           }
          ],
          "scatterpolar": [
           {
            "marker": {
             "colorbar": {
              "outlinewidth": 0,
              "ticks": ""
             }
            },
            "type": "scatterpolar"
           }
          ],
          "scatterpolargl": [
           {
            "marker": {
             "colorbar": {
              "outlinewidth": 0,
              "ticks": ""
             }
            },
            "type": "scatterpolargl"
           }
          ],
          "scatterternary": [
           {
            "marker": {
             "colorbar": {
              "outlinewidth": 0,
              "ticks": ""
             }
            },
            "type": "scatterternary"
           }
          ],
          "surface": [
           {
            "colorbar": {
             "outlinewidth": 0,
             "ticks": ""
            },
            "colorscale": [
             [
              0,
              "#0d0887"
             ],
             [
              0.1111111111111111,
              "#46039f"
             ],
             [
              0.2222222222222222,
              "#7201a8"
             ],
             [
              0.3333333333333333,
              "#9c179e"
             ],
             [
              0.4444444444444444,
              "#bd3786"
             ],
             [
              0.5555555555555556,
              "#d8576b"
             ],
             [
              0.6666666666666666,
              "#ed7953"
             ],
             [
              0.7777777777777778,
              "#fb9f3a"
             ],
             [
              0.8888888888888888,
              "#fdca26"
             ],
             [
              1,
              "#f0f921"
             ]
            ],
            "type": "surface"
           }
          ],
          "table": [
           {
            "cells": {
             "fill": {
              "color": "#EBF0F8"
             },
             "line": {
              "color": "white"
             }
            },
            "header": {
             "fill": {
              "color": "#C8D4E3"
             },
             "line": {
              "color": "white"
             }
            },
            "type": "table"
           }
          ]
         },
         "layout": {
          "annotationdefaults": {
           "arrowcolor": "#2a3f5f",
           "arrowhead": 0,
           "arrowwidth": 1
          },
          "autotypenumbers": "strict",
          "coloraxis": {
           "colorbar": {
            "outlinewidth": 0,
            "ticks": ""
           }
          },
          "colorscale": {
           "diverging": [
            [
             0,
             "#8e0152"
            ],
            [
             0.1,
             "#c51b7d"
            ],
            [
             0.2,
             "#de77ae"
            ],
            [
             0.3,
             "#f1b6da"
            ],
            [
             0.4,
             "#fde0ef"
            ],
            [
             0.5,
             "#f7f7f7"
            ],
            [
             0.6,
             "#e6f5d0"
            ],
            [
             0.7,
             "#b8e186"
            ],
            [
             0.8,
             "#7fbc41"
            ],
            [
             0.9,
             "#4d9221"
            ],
            [
             1,
             "#276419"
            ]
           ],
           "sequential": [
            [
             0,
             "#0d0887"
            ],
            [
             0.1111111111111111,
             "#46039f"
            ],
            [
             0.2222222222222222,
             "#7201a8"
            ],
            [
             0.3333333333333333,
             "#9c179e"
            ],
            [
             0.4444444444444444,
             "#bd3786"
            ],
            [
             0.5555555555555556,
             "#d8576b"
            ],
            [
             0.6666666666666666,
             "#ed7953"
            ],
            [
             0.7777777777777778,
             "#fb9f3a"
            ],
            [
             0.8888888888888888,
             "#fdca26"
            ],
            [
             1,
             "#f0f921"
            ]
           ],
           "sequentialminus": [
            [
             0,
             "#0d0887"
            ],
            [
             0.1111111111111111,
             "#46039f"
            ],
            [
             0.2222222222222222,
             "#7201a8"
            ],
            [
             0.3333333333333333,
             "#9c179e"
            ],
            [
             0.4444444444444444,
             "#bd3786"
            ],
            [
             0.5555555555555556,
             "#d8576b"
            ],
            [
             0.6666666666666666,
             "#ed7953"
            ],
            [
             0.7777777777777778,
             "#fb9f3a"
            ],
            [
             0.8888888888888888,
             "#fdca26"
            ],
            [
             1,
             "#f0f921"
            ]
           ]
          },
          "colorway": [
           "#636efa",
           "#EF553B",
           "#00cc96",
           "#ab63fa",
           "#FFA15A",
           "#19d3f3",
           "#FF6692",
           "#B6E880",
           "#FF97FF",
           "#FECB52"
          ],
          "font": {
           "color": "#2a3f5f"
          },
          "geo": {
           "bgcolor": "white",
           "lakecolor": "white",
           "landcolor": "white",
           "showlakes": true,
           "showland": true,
           "subunitcolor": "#C8D4E3"
          },
          "hoverlabel": {
           "align": "left"
          },
          "hovermode": "closest",
          "mapbox": {
           "style": "light"
          },
          "paper_bgcolor": "white",
          "plot_bgcolor": "white",
          "polar": {
           "angularaxis": {
            "gridcolor": "#EBF0F8",
            "linecolor": "#EBF0F8",
            "ticks": ""
           },
           "bgcolor": "white",
           "radialaxis": {
            "gridcolor": "#EBF0F8",
            "linecolor": "#EBF0F8",
            "ticks": ""
           }
          },
          "scene": {
           "xaxis": {
            "backgroundcolor": "white",
            "gridcolor": "#DFE8F3",
            "gridwidth": 2,
            "linecolor": "#EBF0F8",
            "showbackground": true,
            "ticks": "",
            "zerolinecolor": "#EBF0F8"
           },
           "yaxis": {
            "backgroundcolor": "white",
            "gridcolor": "#DFE8F3",
            "gridwidth": 2,
            "linecolor": "#EBF0F8",
            "showbackground": true,
            "ticks": "",
            "zerolinecolor": "#EBF0F8"
           },
           "zaxis": {
            "backgroundcolor": "white",
            "gridcolor": "#DFE8F3",
            "gridwidth": 2,
            "linecolor": "#EBF0F8",
            "showbackground": true,
            "ticks": "",
            "zerolinecolor": "#EBF0F8"
           }
          },
          "shapedefaults": {
           "line": {
            "color": "#2a3f5f"
           }
          },
          "ternary": {
           "aaxis": {
            "gridcolor": "#DFE8F3",
            "linecolor": "#A2B1C6",
            "ticks": ""
           },
           "baxis": {
            "gridcolor": "#DFE8F3",
            "linecolor": "#A2B1C6",
            "ticks": ""
           },
           "bgcolor": "white",
           "caxis": {
            "gridcolor": "#DFE8F3",
            "linecolor": "#A2B1C6",
            "ticks": ""
           }
          },
          "title": {
           "x": 0.05
          },
          "xaxis": {
           "automargin": true,
           "gridcolor": "#EBF0F8",
           "linecolor": "#EBF0F8",
           "ticks": "",
           "title": {
            "standoff": 15
           },
           "zerolinecolor": "#EBF0F8",
           "zerolinewidth": 2
          },
          "yaxis": {
           "automargin": true,
           "gridcolor": "#EBF0F8",
           "linecolor": "#EBF0F8",
           "ticks": "",
           "title": {
            "standoff": 15
           },
           "zerolinecolor": "#EBF0F8",
           "zerolinewidth": 2
          }
         }
        },
        "title": {
         "font": {
          "size": 24
         },
         "text": "Average text length per weekday",
         "x": 0.5
        },
        "xaxis": {
         "anchor": "y",
         "domain": [
          0,
          1
         ],
         "tickvals": [
          "Sun",
          "Mon",
          "Tue",
          "Wed",
          "Thr",
          "Fri",
          "Sat"
         ],
         "title": {
          "text": "weekday"
         }
        },
        "yaxis": {
         "anchor": "x",
         "domain": [
          0,
          1
         ],
         "title": {
          "text": "Text length"
         }
        }
       }
      }
     },
     "metadata": {}
    }
   ],
   "source": [
    "plot_data = pd.DataFrame()\n",
    "plot_data[\"text_length\"] = df.groupby(['weekday']).mean()[\"text_length\"]\n",
    "plot_data.reset_index(inplace=True)\n",
    "plot_data[\"weekday\"] = map_datetime(plot_data[\"weekday\"], \"week\")\n",
    "bar2 = P.barplot(data=plot_data, x=\"weekday\",y=\"text_length\", title_text=\"Average text length per weekday\", xaxis_title=\"weekday\", yaxis_title=\"Text length\",xtickvals=plot_data[\"weekday\"])\n",
    "bar2.show()"
   ]
  },
  {
   "cell_type": "code",
   "execution_count": 23,
   "metadata": {},
   "outputs": [
    {
     "output_type": "display_data",
     "data": {
      "application/vnd.plotly.v1+json": {
       "config": {
        "plotlyServerURL": "https://plot.ly"
       },
       "data": [
        {
         "alignmentgroup": "True",
         "hovertemplate": "weekday=%{x}<br>messages=%{y}<extra></extra>",
         "legendgroup": "",
         "marker": {
          "color": "#4C78A8"
         },
         "name": "",
         "offsetgroup": "",
         "orientation": "v",
         "showlegend": false,
         "textposition": "auto",
         "type": "bar",
         "x": [
          "Sun",
          "Mon",
          "Tue",
          "Wed",
          "Thr",
          "Fri",
          "Sat"
         ],
         "xaxis": "x",
         "y": [
          22.428571428571427,
          21.571428571428573,
          23.714285714285715,
          41,
          26.714285714285715,
          36.57142857142857,
          35.142857142857146
         ],
         "yaxis": "y"
        }
       ],
       "layout": {
        "autosize": true,
        "font": {
         "size": 14
        },
        "legend": {
         "orientation": "h",
         "tracegroupgap": 0,
         "y": -0.3
        },
        "margin": {
         "b": 0,
         "l": 0,
         "r": 0,
         "t": 120
        },
        "template": {
         "data": {
          "bar": [
           {
            "error_x": {
             "color": "#2a3f5f"
            },
            "error_y": {
             "color": "#2a3f5f"
            },
            "marker": {
             "line": {
              "color": "white",
              "width": 0.5
             }
            },
            "type": "bar"
           }
          ],
          "barpolar": [
           {
            "marker": {
             "line": {
              "color": "white",
              "width": 0.5
             }
            },
            "type": "barpolar"
           }
          ],
          "carpet": [
           {
            "aaxis": {
             "endlinecolor": "#2a3f5f",
             "gridcolor": "#C8D4E3",
             "linecolor": "#C8D4E3",
             "minorgridcolor": "#C8D4E3",
             "startlinecolor": "#2a3f5f"
            },
            "baxis": {
             "endlinecolor": "#2a3f5f",
             "gridcolor": "#C8D4E3",
             "linecolor": "#C8D4E3",
             "minorgridcolor": "#C8D4E3",
             "startlinecolor": "#2a3f5f"
            },
            "type": "carpet"
           }
          ],
          "choropleth": [
           {
            "colorbar": {
             "outlinewidth": 0,
             "ticks": ""
            },
            "type": "choropleth"
           }
          ],
          "contour": [
           {
            "colorbar": {
             "outlinewidth": 0,
             "ticks": ""
            },
            "colorscale": [
             [
              0,
              "#0d0887"
             ],
             [
              0.1111111111111111,
              "#46039f"
             ],
             [
              0.2222222222222222,
              "#7201a8"
             ],
             [
              0.3333333333333333,
              "#9c179e"
             ],
             [
              0.4444444444444444,
              "#bd3786"
             ],
             [
              0.5555555555555556,
              "#d8576b"
             ],
             [
              0.6666666666666666,
              "#ed7953"
             ],
             [
              0.7777777777777778,
              "#fb9f3a"
             ],
             [
              0.8888888888888888,
              "#fdca26"
             ],
             [
              1,
              "#f0f921"
             ]
            ],
            "type": "contour"
           }
          ],
          "contourcarpet": [
           {
            "colorbar": {
             "outlinewidth": 0,
             "ticks": ""
            },
            "type": "contourcarpet"
           }
          ],
          "heatmap": [
           {
            "colorbar": {
             "outlinewidth": 0,
             "ticks": ""
            },
            "colorscale": [
             [
              0,
              "#0d0887"
             ],
             [
              0.1111111111111111,
              "#46039f"
             ],
             [
              0.2222222222222222,
              "#7201a8"
             ],
             [
              0.3333333333333333,
              "#9c179e"
             ],
             [
              0.4444444444444444,
              "#bd3786"
             ],
             [
              0.5555555555555556,
              "#d8576b"
             ],
             [
              0.6666666666666666,
              "#ed7953"
             ],
             [
              0.7777777777777778,
              "#fb9f3a"
             ],
             [
              0.8888888888888888,
              "#fdca26"
             ],
             [
              1,
              "#f0f921"
             ]
            ],
            "type": "heatmap"
           }
          ],
          "heatmapgl": [
           {
            "colorbar": {
             "outlinewidth": 0,
             "ticks": ""
            },
            "colorscale": [
             [
              0,
              "#0d0887"
             ],
             [
              0.1111111111111111,
              "#46039f"
             ],
             [
              0.2222222222222222,
              "#7201a8"
             ],
             [
              0.3333333333333333,
              "#9c179e"
             ],
             [
              0.4444444444444444,
              "#bd3786"
             ],
             [
              0.5555555555555556,
              "#d8576b"
             ],
             [
              0.6666666666666666,
              "#ed7953"
             ],
             [
              0.7777777777777778,
              "#fb9f3a"
             ],
             [
              0.8888888888888888,
              "#fdca26"
             ],
             [
              1,
              "#f0f921"
             ]
            ],
            "type": "heatmapgl"
           }
          ],
          "histogram": [
           {
            "marker": {
             "colorbar": {
              "outlinewidth": 0,
              "ticks": ""
             }
            },
            "type": "histogram"
           }
          ],
          "histogram2d": [
           {
            "colorbar": {
             "outlinewidth": 0,
             "ticks": ""
            },
            "colorscale": [
             [
              0,
              "#0d0887"
             ],
             [
              0.1111111111111111,
              "#46039f"
             ],
             [
              0.2222222222222222,
              "#7201a8"
             ],
             [
              0.3333333333333333,
              "#9c179e"
             ],
             [
              0.4444444444444444,
              "#bd3786"
             ],
             [
              0.5555555555555556,
              "#d8576b"
             ],
             [
              0.6666666666666666,
              "#ed7953"
             ],
             [
              0.7777777777777778,
              "#fb9f3a"
             ],
             [
              0.8888888888888888,
              "#fdca26"
             ],
             [
              1,
              "#f0f921"
             ]
            ],
            "type": "histogram2d"
           }
          ],
          "histogram2dcontour": [
           {
            "colorbar": {
             "outlinewidth": 0,
             "ticks": ""
            },
            "colorscale": [
             [
              0,
              "#0d0887"
             ],
             [
              0.1111111111111111,
              "#46039f"
             ],
             [
              0.2222222222222222,
              "#7201a8"
             ],
             [
              0.3333333333333333,
              "#9c179e"
             ],
             [
              0.4444444444444444,
              "#bd3786"
             ],
             [
              0.5555555555555556,
              "#d8576b"
             ],
             [
              0.6666666666666666,
              "#ed7953"
             ],
             [
              0.7777777777777778,
              "#fb9f3a"
             ],
             [
              0.8888888888888888,
              "#fdca26"
             ],
             [
              1,
              "#f0f921"
             ]
            ],
            "type": "histogram2dcontour"
           }
          ],
          "mesh3d": [
           {
            "colorbar": {
             "outlinewidth": 0,
             "ticks": ""
            },
            "type": "mesh3d"
           }
          ],
          "parcoords": [
           {
            "line": {
             "colorbar": {
              "outlinewidth": 0,
              "ticks": ""
             }
            },
            "type": "parcoords"
           }
          ],
          "pie": [
           {
            "automargin": true,
            "type": "pie"
           }
          ],
          "scatter": [
           {
            "marker": {
             "colorbar": {
              "outlinewidth": 0,
              "ticks": ""
             }
            },
            "type": "scatter"
           }
          ],
          "scatter3d": [
           {
            "line": {
             "colorbar": {
              "outlinewidth": 0,
              "ticks": ""
             }
            },
            "marker": {
             "colorbar": {
              "outlinewidth": 0,
              "ticks": ""
             }
            },
            "type": "scatter3d"
           }
          ],
          "scattercarpet": [
           {
            "marker": {
             "colorbar": {
              "outlinewidth": 0,
              "ticks": ""
             }
            },
            "type": "scattercarpet"
           }
          ],
          "scattergeo": [
           {
            "marker": {
             "colorbar": {
              "outlinewidth": 0,
              "ticks": ""
             }
            },
            "type": "scattergeo"
           }
          ],
          "scattergl": [
           {
            "marker": {
             "colorbar": {
              "outlinewidth": 0,
              "ticks": ""
             }
            },
            "type": "scattergl"
           }
          ],
          "scattermapbox": [
           {
            "marker": {
             "colorbar": {
              "outlinewidth": 0,
              "ticks": ""
             }
            },
            "type": "scattermapbox"
           }
          ],
          "scatterpolar": [
           {
            "marker": {
             "colorbar": {
              "outlinewidth": 0,
              "ticks": ""
             }
            },
            "type": "scatterpolar"
           }
          ],
          "scatterpolargl": [
           {
            "marker": {
             "colorbar": {
              "outlinewidth": 0,
              "ticks": ""
             }
            },
            "type": "scatterpolargl"
           }
          ],
          "scatterternary": [
           {
            "marker": {
             "colorbar": {
              "outlinewidth": 0,
              "ticks": ""
             }
            },
            "type": "scatterternary"
           }
          ],
          "surface": [
           {
            "colorbar": {
             "outlinewidth": 0,
             "ticks": ""
            },
            "colorscale": [
             [
              0,
              "#0d0887"
             ],
             [
              0.1111111111111111,
              "#46039f"
             ],
             [
              0.2222222222222222,
              "#7201a8"
             ],
             [
              0.3333333333333333,
              "#9c179e"
             ],
             [
              0.4444444444444444,
              "#bd3786"
             ],
             [
              0.5555555555555556,
              "#d8576b"
             ],
             [
              0.6666666666666666,
              "#ed7953"
             ],
             [
              0.7777777777777778,
              "#fb9f3a"
             ],
             [
              0.8888888888888888,
              "#fdca26"
             ],
             [
              1,
              "#f0f921"
             ]
            ],
            "type": "surface"
           }
          ],
          "table": [
           {
            "cells": {
             "fill": {
              "color": "#EBF0F8"
             },
             "line": {
              "color": "white"
             }
            },
            "header": {
             "fill": {
              "color": "#C8D4E3"
             },
             "line": {
              "color": "white"
             }
            },
            "type": "table"
           }
          ]
         },
         "layout": {
          "annotationdefaults": {
           "arrowcolor": "#2a3f5f",
           "arrowhead": 0,
           "arrowwidth": 1
          },
          "autotypenumbers": "strict",
          "coloraxis": {
           "colorbar": {
            "outlinewidth": 0,
            "ticks": ""
           }
          },
          "colorscale": {
           "diverging": [
            [
             0,
             "#8e0152"
            ],
            [
             0.1,
             "#c51b7d"
            ],
            [
             0.2,
             "#de77ae"
            ],
            [
             0.3,
             "#f1b6da"
            ],
            [
             0.4,
             "#fde0ef"
            ],
            [
             0.5,
             "#f7f7f7"
            ],
            [
             0.6,
             "#e6f5d0"
            ],
            [
             0.7,
             "#b8e186"
            ],
            [
             0.8,
             "#7fbc41"
            ],
            [
             0.9,
             "#4d9221"
            ],
            [
             1,
             "#276419"
            ]
           ],
           "sequential": [
            [
             0,
             "#0d0887"
            ],
            [
             0.1111111111111111,
             "#46039f"
            ],
            [
             0.2222222222222222,
             "#7201a8"
            ],
            [
             0.3333333333333333,
             "#9c179e"
            ],
            [
             0.4444444444444444,
             "#bd3786"
            ],
            [
             0.5555555555555556,
             "#d8576b"
            ],
            [
             0.6666666666666666,
             "#ed7953"
            ],
            [
             0.7777777777777778,
             "#fb9f3a"
            ],
            [
             0.8888888888888888,
             "#fdca26"
            ],
            [
             1,
             "#f0f921"
            ]
           ],
           "sequentialminus": [
            [
             0,
             "#0d0887"
            ],
            [
             0.1111111111111111,
             "#46039f"
            ],
            [
             0.2222222222222222,
             "#7201a8"
            ],
            [
             0.3333333333333333,
             "#9c179e"
            ],
            [
             0.4444444444444444,
             "#bd3786"
            ],
            [
             0.5555555555555556,
             "#d8576b"
            ],
            [
             0.6666666666666666,
             "#ed7953"
            ],
            [
             0.7777777777777778,
             "#fb9f3a"
            ],
            [
             0.8888888888888888,
             "#fdca26"
            ],
            [
             1,
             "#f0f921"
            ]
           ]
          },
          "colorway": [
           "#636efa",
           "#EF553B",
           "#00cc96",
           "#ab63fa",
           "#FFA15A",
           "#19d3f3",
           "#FF6692",
           "#B6E880",
           "#FF97FF",
           "#FECB52"
          ],
          "font": {
           "color": "#2a3f5f"
          },
          "geo": {
           "bgcolor": "white",
           "lakecolor": "white",
           "landcolor": "white",
           "showlakes": true,
           "showland": true,
           "subunitcolor": "#C8D4E3"
          },
          "hoverlabel": {
           "align": "left"
          },
          "hovermode": "closest",
          "mapbox": {
           "style": "light"
          },
          "paper_bgcolor": "white",
          "plot_bgcolor": "white",
          "polar": {
           "angularaxis": {
            "gridcolor": "#EBF0F8",
            "linecolor": "#EBF0F8",
            "ticks": ""
           },
           "bgcolor": "white",
           "radialaxis": {
            "gridcolor": "#EBF0F8",
            "linecolor": "#EBF0F8",
            "ticks": ""
           }
          },
          "scene": {
           "xaxis": {
            "backgroundcolor": "white",
            "gridcolor": "#DFE8F3",
            "gridwidth": 2,
            "linecolor": "#EBF0F8",
            "showbackground": true,
            "ticks": "",
            "zerolinecolor": "#EBF0F8"
           },
           "yaxis": {
            "backgroundcolor": "white",
            "gridcolor": "#DFE8F3",
            "gridwidth": 2,
            "linecolor": "#EBF0F8",
            "showbackground": true,
            "ticks": "",
            "zerolinecolor": "#EBF0F8"
           },
           "zaxis": {
            "backgroundcolor": "white",
            "gridcolor": "#DFE8F3",
            "gridwidth": 2,
            "linecolor": "#EBF0F8",
            "showbackground": true,
            "ticks": "",
            "zerolinecolor": "#EBF0F8"
           }
          },
          "shapedefaults": {
           "line": {
            "color": "#2a3f5f"
           }
          },
          "ternary": {
           "aaxis": {
            "gridcolor": "#DFE8F3",
            "linecolor": "#A2B1C6",
            "ticks": ""
           },
           "baxis": {
            "gridcolor": "#DFE8F3",
            "linecolor": "#A2B1C6",
            "ticks": ""
           },
           "bgcolor": "white",
           "caxis": {
            "gridcolor": "#DFE8F3",
            "linecolor": "#A2B1C6",
            "ticks": ""
           }
          },
          "title": {
           "x": 0.05
          },
          "xaxis": {
           "automargin": true,
           "gridcolor": "#EBF0F8",
           "linecolor": "#EBF0F8",
           "ticks": "",
           "title": {
            "standoff": 15
           },
           "zerolinecolor": "#EBF0F8",
           "zerolinewidth": 2
          },
          "yaxis": {
           "automargin": true,
           "gridcolor": "#EBF0F8",
           "linecolor": "#EBF0F8",
           "ticks": "",
           "title": {
            "standoff": 15
           },
           "zerolinecolor": "#EBF0F8",
           "zerolinewidth": 2
          }
         }
        },
        "title": {
         "font": {
          "size": 24
         },
         "text": "Average messages per weekday",
         "x": 0.5
        },
        "xaxis": {
         "anchor": "y",
         "domain": [
          0,
          1
         ],
         "tickvals": [
          "Sun",
          "Mon",
          "Tue",
          "Wed",
          "Thr",
          "Fri",
          "Sat"
         ],
         "title": {
          "text": "weekday"
         }
        },
        "yaxis": {
         "anchor": "x",
         "domain": [
          0,
          1
         ],
         "title": {
          "text": "Messages"
         }
        }
       }
      }
     },
     "metadata": {}
    }
   ],
   "source": [
    "plot_data = pd.DataFrame()\n",
    "plot_data[\"messages\"] = df.groupby(['weekday']).count()['message'] / len(df.groupby(['weekday']).count().index)\n",
    "plot_data.reset_index(inplace=True)\n",
    "plot_data[\"weekday\"] = map_datetime(plot_data[\"weekday\"], \"week\")\n",
    "\n",
    "bar3 = P.barplot(data=plot_data, x=\"weekday\",y=\"messages\", title_text=\"Average messages per weekday\", xaxis_title=\"weekday\", yaxis_title=\"Messages\",xtickvals=plot_data[\"weekday\"])\n",
    "bar3.show()"
   ]
  },
  {
   "cell_type": "code",
   "execution_count": 24,
   "metadata": {},
   "outputs": [
    {
     "output_type": "display_data",
     "data": {
      "application/vnd.plotly.v1+json": {
       "config": {
        "plotlyServerURL": "https://plot.ly"
       },
       "data": [
        {
         "alignmentgroup": "True",
         "hovertemplate": "month=%{x}<br>messages=%{y}<extra></extra>",
         "legendgroup": "",
         "marker": {
          "color": "#4C78A8"
         },
         "name": "",
         "offsetgroup": "",
         "orientation": "v",
         "showlegend": false,
         "textposition": "auto",
         "type": "bar",
         "x": [
          "Jan",
          "Feb",
          "Mar",
          "Apr",
          "May",
          "Jun",
          "Jul",
          "Aug",
          "Sep",
          "Oct",
          "Nov",
          "Dec"
         ],
         "xaxis": "x",
         "y": [
          14.5,
          4.083333333333333,
          2.4166666666666665,
          1.0833333333333333,
          2.25,
          2.3333333333333335,
          9.666666666666666,
          19,
          11,
          18.25,
          21.666666666666668,
          14.583333333333334
         ],
         "yaxis": "y"
        }
       ],
       "layout": {
        "autosize": true,
        "font": {
         "size": 14
        },
        "legend": {
         "orientation": "h",
         "tracegroupgap": 0,
         "y": -0.3
        },
        "margin": {
         "b": 0,
         "l": 0,
         "r": 0,
         "t": 120
        },
        "template": {
         "data": {
          "bar": [
           {
            "error_x": {
             "color": "#2a3f5f"
            },
            "error_y": {
             "color": "#2a3f5f"
            },
            "marker": {
             "line": {
              "color": "white",
              "width": 0.5
             }
            },
            "type": "bar"
           }
          ],
          "barpolar": [
           {
            "marker": {
             "line": {
              "color": "white",
              "width": 0.5
             }
            },
            "type": "barpolar"
           }
          ],
          "carpet": [
           {
            "aaxis": {
             "endlinecolor": "#2a3f5f",
             "gridcolor": "#C8D4E3",
             "linecolor": "#C8D4E3",
             "minorgridcolor": "#C8D4E3",
             "startlinecolor": "#2a3f5f"
            },
            "baxis": {
             "endlinecolor": "#2a3f5f",
             "gridcolor": "#C8D4E3",
             "linecolor": "#C8D4E3",
             "minorgridcolor": "#C8D4E3",
             "startlinecolor": "#2a3f5f"
            },
            "type": "carpet"
           }
          ],
          "choropleth": [
           {
            "colorbar": {
             "outlinewidth": 0,
             "ticks": ""
            },
            "type": "choropleth"
           }
          ],
          "contour": [
           {
            "colorbar": {
             "outlinewidth": 0,
             "ticks": ""
            },
            "colorscale": [
             [
              0,
              "#0d0887"
             ],
             [
              0.1111111111111111,
              "#46039f"
             ],
             [
              0.2222222222222222,
              "#7201a8"
             ],
             [
              0.3333333333333333,
              "#9c179e"
             ],
             [
              0.4444444444444444,
              "#bd3786"
             ],
             [
              0.5555555555555556,
              "#d8576b"
             ],
             [
              0.6666666666666666,
              "#ed7953"
             ],
             [
              0.7777777777777778,
              "#fb9f3a"
             ],
             [
              0.8888888888888888,
              "#fdca26"
             ],
             [
              1,
              "#f0f921"
             ]
            ],
            "type": "contour"
           }
          ],
          "contourcarpet": [
           {
            "colorbar": {
             "outlinewidth": 0,
             "ticks": ""
            },
            "type": "contourcarpet"
           }
          ],
          "heatmap": [
           {
            "colorbar": {
             "outlinewidth": 0,
             "ticks": ""
            },
            "colorscale": [
             [
              0,
              "#0d0887"
             ],
             [
              0.1111111111111111,
              "#46039f"
             ],
             [
              0.2222222222222222,
              "#7201a8"
             ],
             [
              0.3333333333333333,
              "#9c179e"
             ],
             [
              0.4444444444444444,
              "#bd3786"
             ],
             [
              0.5555555555555556,
              "#d8576b"
             ],
             [
              0.6666666666666666,
              "#ed7953"
             ],
             [
              0.7777777777777778,
              "#fb9f3a"
             ],
             [
              0.8888888888888888,
              "#fdca26"
             ],
             [
              1,
              "#f0f921"
             ]
            ],
            "type": "heatmap"
           }
          ],
          "heatmapgl": [
           {
            "colorbar": {
             "outlinewidth": 0,
             "ticks": ""
            },
            "colorscale": [
             [
              0,
              "#0d0887"
             ],
             [
              0.1111111111111111,
              "#46039f"
             ],
             [
              0.2222222222222222,
              "#7201a8"
             ],
             [
              0.3333333333333333,
              "#9c179e"
             ],
             [
              0.4444444444444444,
              "#bd3786"
             ],
             [
              0.5555555555555556,
              "#d8576b"
             ],
             [
              0.6666666666666666,
              "#ed7953"
             ],
             [
              0.7777777777777778,
              "#fb9f3a"
             ],
             [
              0.8888888888888888,
              "#fdca26"
             ],
             [
              1,
              "#f0f921"
             ]
            ],
            "type": "heatmapgl"
           }
          ],
          "histogram": [
           {
            "marker": {
             "colorbar": {
              "outlinewidth": 0,
              "ticks": ""
             }
            },
            "type": "histogram"
           }
          ],
          "histogram2d": [
           {
            "colorbar": {
             "outlinewidth": 0,
             "ticks": ""
            },
            "colorscale": [
             [
              0,
              "#0d0887"
             ],
             [
              0.1111111111111111,
              "#46039f"
             ],
             [
              0.2222222222222222,
              "#7201a8"
             ],
             [
              0.3333333333333333,
              "#9c179e"
             ],
             [
              0.4444444444444444,
              "#bd3786"
             ],
             [
              0.5555555555555556,
              "#d8576b"
             ],
             [
              0.6666666666666666,
              "#ed7953"
             ],
             [
              0.7777777777777778,
              "#fb9f3a"
             ],
             [
              0.8888888888888888,
              "#fdca26"
             ],
             [
              1,
              "#f0f921"
             ]
            ],
            "type": "histogram2d"
           }
          ],
          "histogram2dcontour": [
           {
            "colorbar": {
             "outlinewidth": 0,
             "ticks": ""
            },
            "colorscale": [
             [
              0,
              "#0d0887"
             ],
             [
              0.1111111111111111,
              "#46039f"
             ],
             [
              0.2222222222222222,
              "#7201a8"
             ],
             [
              0.3333333333333333,
              "#9c179e"
             ],
             [
              0.4444444444444444,
              "#bd3786"
             ],
             [
              0.5555555555555556,
              "#d8576b"
             ],
             [
              0.6666666666666666,
              "#ed7953"
             ],
             [
              0.7777777777777778,
              "#fb9f3a"
             ],
             [
              0.8888888888888888,
              "#fdca26"
             ],
             [
              1,
              "#f0f921"
             ]
            ],
            "type": "histogram2dcontour"
           }
          ],
          "mesh3d": [
           {
            "colorbar": {
             "outlinewidth": 0,
             "ticks": ""
            },
            "type": "mesh3d"
           }
          ],
          "parcoords": [
           {
            "line": {
             "colorbar": {
              "outlinewidth": 0,
              "ticks": ""
             }
            },
            "type": "parcoords"
           }
          ],
          "pie": [
           {
            "automargin": true,
            "type": "pie"
           }
          ],
          "scatter": [
           {
            "marker": {
             "colorbar": {
              "outlinewidth": 0,
              "ticks": ""
             }
            },
            "type": "scatter"
           }
          ],
          "scatter3d": [
           {
            "line": {
             "colorbar": {
              "outlinewidth": 0,
              "ticks": ""
             }
            },
            "marker": {
             "colorbar": {
              "outlinewidth": 0,
              "ticks": ""
             }
            },
            "type": "scatter3d"
           }
          ],
          "scattercarpet": [
           {
            "marker": {
             "colorbar": {
              "outlinewidth": 0,
              "ticks": ""
             }
            },
            "type": "scattercarpet"
           }
          ],
          "scattergeo": [
           {
            "marker": {
             "colorbar": {
              "outlinewidth": 0,
              "ticks": ""
             }
            },
            "type": "scattergeo"
           }
          ],
          "scattergl": [
           {
            "marker": {
             "colorbar": {
              "outlinewidth": 0,
              "ticks": ""
             }
            },
            "type": "scattergl"
           }
          ],
          "scattermapbox": [
           {
            "marker": {
             "colorbar": {
              "outlinewidth": 0,
              "ticks": ""
             }
            },
            "type": "scattermapbox"
           }
          ],
          "scatterpolar": [
           {
            "marker": {
             "colorbar": {
              "outlinewidth": 0,
              "ticks": ""
             }
            },
            "type": "scatterpolar"
           }
          ],
          "scatterpolargl": [
           {
            "marker": {
             "colorbar": {
              "outlinewidth": 0,
              "ticks": ""
             }
            },
            "type": "scatterpolargl"
           }
          ],
          "scatterternary": [
           {
            "marker": {
             "colorbar": {
              "outlinewidth": 0,
              "ticks": ""
             }
            },
            "type": "scatterternary"
           }
          ],
          "surface": [
           {
            "colorbar": {
             "outlinewidth": 0,
             "ticks": ""
            },
            "colorscale": [
             [
              0,
              "#0d0887"
             ],
             [
              0.1111111111111111,
              "#46039f"
             ],
             [
              0.2222222222222222,
              "#7201a8"
             ],
             [
              0.3333333333333333,
              "#9c179e"
             ],
             [
              0.4444444444444444,
              "#bd3786"
             ],
             [
              0.5555555555555556,
              "#d8576b"
             ],
             [
              0.6666666666666666,
              "#ed7953"
             ],
             [
              0.7777777777777778,
              "#fb9f3a"
             ],
             [
              0.8888888888888888,
              "#fdca26"
             ],
             [
              1,
              "#f0f921"
             ]
            ],
            "type": "surface"
           }
          ],
          "table": [
           {
            "cells": {
             "fill": {
              "color": "#EBF0F8"
             },
             "line": {
              "color": "white"
             }
            },
            "header": {
             "fill": {
              "color": "#C8D4E3"
             },
             "line": {
              "color": "white"
             }
            },
            "type": "table"
           }
          ]
         },
         "layout": {
          "annotationdefaults": {
           "arrowcolor": "#2a3f5f",
           "arrowhead": 0,
           "arrowwidth": 1
          },
          "autotypenumbers": "strict",
          "coloraxis": {
           "colorbar": {
            "outlinewidth": 0,
            "ticks": ""
           }
          },
          "colorscale": {
           "diverging": [
            [
             0,
             "#8e0152"
            ],
            [
             0.1,
             "#c51b7d"
            ],
            [
             0.2,
             "#de77ae"
            ],
            [
             0.3,
             "#f1b6da"
            ],
            [
             0.4,
             "#fde0ef"
            ],
            [
             0.5,
             "#f7f7f7"
            ],
            [
             0.6,
             "#e6f5d0"
            ],
            [
             0.7,
             "#b8e186"
            ],
            [
             0.8,
             "#7fbc41"
            ],
            [
             0.9,
             "#4d9221"
            ],
            [
             1,
             "#276419"
            ]
           ],
           "sequential": [
            [
             0,
             "#0d0887"
            ],
            [
             0.1111111111111111,
             "#46039f"
            ],
            [
             0.2222222222222222,
             "#7201a8"
            ],
            [
             0.3333333333333333,
             "#9c179e"
            ],
            [
             0.4444444444444444,
             "#bd3786"
            ],
            [
             0.5555555555555556,
             "#d8576b"
            ],
            [
             0.6666666666666666,
             "#ed7953"
            ],
            [
             0.7777777777777778,
             "#fb9f3a"
            ],
            [
             0.8888888888888888,
             "#fdca26"
            ],
            [
             1,
             "#f0f921"
            ]
           ],
           "sequentialminus": [
            [
             0,
             "#0d0887"
            ],
            [
             0.1111111111111111,
             "#46039f"
            ],
            [
             0.2222222222222222,
             "#7201a8"
            ],
            [
             0.3333333333333333,
             "#9c179e"
            ],
            [
             0.4444444444444444,
             "#bd3786"
            ],
            [
             0.5555555555555556,
             "#d8576b"
            ],
            [
             0.6666666666666666,
             "#ed7953"
            ],
            [
             0.7777777777777778,
             "#fb9f3a"
            ],
            [
             0.8888888888888888,
             "#fdca26"
            ],
            [
             1,
             "#f0f921"
            ]
           ]
          },
          "colorway": [
           "#636efa",
           "#EF553B",
           "#00cc96",
           "#ab63fa",
           "#FFA15A",
           "#19d3f3",
           "#FF6692",
           "#B6E880",
           "#FF97FF",
           "#FECB52"
          ],
          "font": {
           "color": "#2a3f5f"
          },
          "geo": {
           "bgcolor": "white",
           "lakecolor": "white",
           "landcolor": "white",
           "showlakes": true,
           "showland": true,
           "subunitcolor": "#C8D4E3"
          },
          "hoverlabel": {
           "align": "left"
          },
          "hovermode": "closest",
          "mapbox": {
           "style": "light"
          },
          "paper_bgcolor": "white",
          "plot_bgcolor": "white",
          "polar": {
           "angularaxis": {
            "gridcolor": "#EBF0F8",
            "linecolor": "#EBF0F8",
            "ticks": ""
           },
           "bgcolor": "white",
           "radialaxis": {
            "gridcolor": "#EBF0F8",
            "linecolor": "#EBF0F8",
            "ticks": ""
           }
          },
          "scene": {
           "xaxis": {
            "backgroundcolor": "white",
            "gridcolor": "#DFE8F3",
            "gridwidth": 2,
            "linecolor": "#EBF0F8",
            "showbackground": true,
            "ticks": "",
            "zerolinecolor": "#EBF0F8"
           },
           "yaxis": {
            "backgroundcolor": "white",
            "gridcolor": "#DFE8F3",
            "gridwidth": 2,
            "linecolor": "#EBF0F8",
            "showbackground": true,
            "ticks": "",
            "zerolinecolor": "#EBF0F8"
           },
           "zaxis": {
            "backgroundcolor": "white",
            "gridcolor": "#DFE8F3",
            "gridwidth": 2,
            "linecolor": "#EBF0F8",
            "showbackground": true,
            "ticks": "",
            "zerolinecolor": "#EBF0F8"
           }
          },
          "shapedefaults": {
           "line": {
            "color": "#2a3f5f"
           }
          },
          "ternary": {
           "aaxis": {
            "gridcolor": "#DFE8F3",
            "linecolor": "#A2B1C6",
            "ticks": ""
           },
           "baxis": {
            "gridcolor": "#DFE8F3",
            "linecolor": "#A2B1C6",
            "ticks": ""
           },
           "bgcolor": "white",
           "caxis": {
            "gridcolor": "#DFE8F3",
            "linecolor": "#A2B1C6",
            "ticks": ""
           }
          },
          "title": {
           "x": 0.05
          },
          "xaxis": {
           "automargin": true,
           "gridcolor": "#EBF0F8",
           "linecolor": "#EBF0F8",
           "ticks": "",
           "title": {
            "standoff": 15
           },
           "zerolinecolor": "#EBF0F8",
           "zerolinewidth": 2
          },
          "yaxis": {
           "automargin": true,
           "gridcolor": "#EBF0F8",
           "linecolor": "#EBF0F8",
           "ticks": "",
           "title": {
            "standoff": 15
           },
           "zerolinecolor": "#EBF0F8",
           "zerolinewidth": 2
          }
         }
        },
        "title": {
         "font": {
          "size": 24
         },
         "text": "Average messages per month",
         "x": 0.5
        },
        "xaxis": {
         "anchor": "y",
         "domain": [
          0,
          1
         ],
         "tickvals": [
          "Jan",
          "Feb",
          "Mar",
          "Apr",
          "May",
          "Jun",
          "Jul",
          "Aug",
          "Sep",
          "Oct",
          "Nov",
          "Dec"
         ],
         "title": {
          "text": "Month"
         }
        },
        "yaxis": {
         "anchor": "x",
         "domain": [
          0,
          1
         ],
         "title": {
          "text": "Messages"
         }
        }
       }
      }
     },
     "metadata": {}
    },
    {
     "output_type": "execute_result",
     "data": {
      "text/plain": [
       "'\\nbar4 = barplot(data=messages_per_month, title = \"Messages per Month\")\\nfig = bar4.plot(figsize=(10,5), title_size=16, x_label=\"Month\", y_label=\"Percentage\")\\nplt.show()\\n'"
      ]
     },
     "metadata": {},
     "execution_count": 24
    }
   ],
   "source": [
    "plot_data = pd.DataFrame()\n",
    "plot_data[\"messages\"] = df.groupby(['month']).count()['message'] / len(df.groupby(['month']).count().index)\n",
    "plot_data.reset_index(inplace=True)\n",
    "plot_data[\"month\"] = map_datetime(plot_data[\"month\"], \"month\")\n",
    "\n",
    "bar4 = P.barplot(data=plot_data, x=\"month\",y=\"messages\", title_text=\"Average messages per month\", xaxis_title=\"Month\", yaxis_title=\"Messages\",xtickvals=plot_data[\"month\"])\n",
    "bar4.show()\n",
    "\n",
    "'''\n",
    "bar4 = barplot(data=messages_per_month, title = \"Messages per Month\")\n",
    "fig = bar4.plot(figsize=(10,5), title_size=16, x_label=\"Month\", y_label=\"Percentage\")\n",
    "plt.show()\n",
    "'''"
   ]
  },
  {
   "cell_type": "code",
   "execution_count": 25,
   "metadata": {},
   "outputs": [
    {
     "output_type": "display_data",
     "data": {
      "application/vnd.plotly.v1+json": {
       "config": {
        "plotlyServerURL": "https://plot.ly"
       },
       "data": [
        {
         "hovertemplate": "date=%{x}<br>message=%{y}<extra></extra>",
         "legendgroup": "",
         "line": {
          "color": "#4C78A8",
          "dash": "solid"
         },
         "mode": "lines",
         "name": "",
         "orientation": "v",
         "showlegend": false,
         "type": "scatter",
         "x": [
          "2018-07-22T00:00:00",
          "2018-07-23T00:00:00",
          "2018-07-24T00:00:00",
          "2018-07-25T00:00:00",
          "2018-07-26T00:00:00",
          "2018-07-27T00:00:00",
          "2018-07-28T00:00:00",
          "2018-07-29T00:00:00",
          "2018-07-30T00:00:00",
          "2018-07-31T00:00:00",
          "2018-08-01T00:00:00",
          "2018-08-02T00:00:00",
          "2018-08-03T00:00:00",
          "2018-08-04T00:00:00",
          "2018-08-05T00:00:00",
          "2018-08-06T00:00:00",
          "2018-08-07T00:00:00",
          "2018-08-08T00:00:00",
          "2018-08-09T00:00:00",
          "2018-08-10T00:00:00",
          "2018-08-11T00:00:00",
          "2018-08-12T00:00:00",
          "2018-08-13T00:00:00",
          "2018-08-14T00:00:00",
          "2018-08-15T00:00:00",
          "2018-08-16T00:00:00",
          "2018-08-17T00:00:00",
          "2018-08-18T00:00:00",
          "2018-08-19T00:00:00",
          "2018-08-20T00:00:00",
          "2018-08-21T00:00:00",
          "2018-08-22T00:00:00",
          "2018-08-23T00:00:00",
          "2018-08-24T00:00:00",
          "2018-08-25T00:00:00",
          "2018-08-26T00:00:00",
          "2018-08-27T00:00:00",
          "2018-08-28T00:00:00",
          "2018-08-29T00:00:00",
          "2018-08-30T00:00:00",
          "2018-08-31T00:00:00",
          "2018-09-01T00:00:00",
          "2018-09-02T00:00:00",
          "2018-09-03T00:00:00",
          "2018-09-04T00:00:00",
          "2018-09-05T00:00:00",
          "2018-09-06T00:00:00",
          "2018-09-07T00:00:00",
          "2018-09-08T00:00:00",
          "2018-09-09T00:00:00",
          "2018-09-10T00:00:00",
          "2018-09-11T00:00:00",
          "2018-09-12T00:00:00",
          "2018-09-13T00:00:00",
          "2018-09-14T00:00:00",
          "2018-09-15T00:00:00",
          "2018-09-16T00:00:00",
          "2018-09-17T00:00:00",
          "2018-09-18T00:00:00",
          "2018-09-19T00:00:00",
          "2018-09-20T00:00:00",
          "2018-09-21T00:00:00",
          "2018-09-22T00:00:00",
          "2018-09-23T00:00:00",
          "2018-09-24T00:00:00",
          "2018-09-25T00:00:00",
          "2018-09-26T00:00:00",
          "2018-09-27T00:00:00",
          "2018-09-28T00:00:00",
          "2018-09-29T00:00:00",
          "2018-09-30T00:00:00",
          "2018-10-01T00:00:00",
          "2018-10-02T00:00:00",
          "2018-10-03T00:00:00",
          "2018-10-04T00:00:00",
          "2018-10-05T00:00:00",
          "2018-10-06T00:00:00",
          "2018-10-07T00:00:00",
          "2018-10-08T00:00:00",
          "2018-10-09T00:00:00",
          "2018-10-10T00:00:00",
          "2018-10-11T00:00:00",
          "2018-10-12T00:00:00",
          "2018-10-13T00:00:00",
          "2018-10-14T00:00:00",
          "2018-10-15T00:00:00",
          "2018-10-16T00:00:00",
          "2018-10-17T00:00:00",
          "2018-10-18T00:00:00",
          "2018-10-19T00:00:00",
          "2018-10-20T00:00:00",
          "2018-10-21T00:00:00",
          "2018-10-22T00:00:00",
          "2018-10-23T00:00:00",
          "2018-10-24T00:00:00",
          "2018-10-25T00:00:00",
          "2018-10-26T00:00:00",
          "2018-10-27T00:00:00",
          "2018-10-28T00:00:00",
          "2018-10-29T00:00:00",
          "2018-10-30T00:00:00",
          "2018-10-31T00:00:00",
          "2018-11-01T00:00:00",
          "2018-11-02T00:00:00",
          "2018-11-03T00:00:00",
          "2018-11-04T00:00:00",
          "2018-11-05T00:00:00",
          "2018-11-06T00:00:00",
          "2018-11-07T00:00:00",
          "2018-11-08T00:00:00",
          "2018-11-09T00:00:00",
          "2018-11-10T00:00:00",
          "2018-11-11T00:00:00",
          "2018-11-12T00:00:00",
          "2018-11-13T00:00:00",
          "2018-11-14T00:00:00",
          "2018-11-15T00:00:00",
          "2018-11-16T00:00:00",
          "2018-11-17T00:00:00",
          "2018-11-18T00:00:00",
          "2018-11-19T00:00:00",
          "2018-11-20T00:00:00",
          "2018-11-21T00:00:00",
          "2018-11-22T00:00:00",
          "2018-11-23T00:00:00",
          "2018-11-24T00:00:00",
          "2018-11-25T00:00:00",
          "2018-11-26T00:00:00",
          "2018-11-27T00:00:00",
          "2018-11-28T00:00:00",
          "2018-11-29T00:00:00",
          "2018-11-30T00:00:00",
          "2018-12-01T00:00:00",
          "2018-12-02T00:00:00",
          "2018-12-03T00:00:00",
          "2018-12-04T00:00:00",
          "2018-12-05T00:00:00",
          "2018-12-06T00:00:00",
          "2018-12-07T00:00:00",
          "2018-12-08T00:00:00",
          "2018-12-09T00:00:00",
          "2018-12-10T00:00:00",
          "2018-12-11T00:00:00",
          "2018-12-12T00:00:00",
          "2018-12-13T00:00:00",
          "2018-12-14T00:00:00",
          "2018-12-15T00:00:00",
          "2018-12-16T00:00:00",
          "2018-12-17T00:00:00",
          "2018-12-18T00:00:00",
          "2018-12-19T00:00:00",
          "2018-12-20T00:00:00",
          "2018-12-21T00:00:00",
          "2018-12-22T00:00:00",
          "2018-12-23T00:00:00",
          "2018-12-24T00:00:00",
          "2018-12-25T00:00:00",
          "2018-12-26T00:00:00",
          "2018-12-27T00:00:00",
          "2018-12-28T00:00:00",
          "2018-12-29T00:00:00",
          "2018-12-30T00:00:00",
          "2018-12-31T00:00:00",
          "2019-01-01T00:00:00",
          "2019-01-02T00:00:00",
          "2019-01-03T00:00:00",
          "2019-01-04T00:00:00",
          "2019-01-05T00:00:00",
          "2019-01-06T00:00:00",
          "2019-01-07T00:00:00",
          "2019-01-08T00:00:00",
          "2019-01-09T00:00:00",
          "2019-01-10T00:00:00",
          "2019-01-11T00:00:00",
          "2019-01-12T00:00:00",
          "2019-01-13T00:00:00",
          "2019-01-14T00:00:00",
          "2019-01-15T00:00:00",
          "2019-01-16T00:00:00",
          "2019-01-17T00:00:00",
          "2019-01-18T00:00:00",
          "2019-01-19T00:00:00",
          "2019-01-20T00:00:00",
          "2019-01-21T00:00:00",
          "2019-01-22T00:00:00",
          "2019-01-23T00:00:00",
          "2019-01-24T00:00:00",
          "2019-01-25T00:00:00",
          "2019-01-26T00:00:00",
          "2019-01-27T00:00:00",
          "2019-01-28T00:00:00",
          "2019-01-29T00:00:00",
          "2019-01-30T00:00:00",
          "2019-01-31T00:00:00",
          "2019-02-01T00:00:00",
          "2019-02-02T00:00:00",
          "2019-02-03T00:00:00",
          "2019-02-04T00:00:00",
          "2019-02-05T00:00:00",
          "2019-02-06T00:00:00",
          "2019-02-07T00:00:00",
          "2019-02-08T00:00:00",
          "2019-02-09T00:00:00",
          "2019-02-10T00:00:00",
          "2019-02-11T00:00:00",
          "2019-02-12T00:00:00",
          "2019-02-13T00:00:00",
          "2019-02-14T00:00:00",
          "2019-02-15T00:00:00",
          "2019-02-16T00:00:00",
          "2019-02-17T00:00:00",
          "2019-02-18T00:00:00",
          "2019-02-19T00:00:00",
          "2019-02-20T00:00:00",
          "2019-02-21T00:00:00",
          "2019-02-22T00:00:00",
          "2019-02-23T00:00:00",
          "2019-02-24T00:00:00",
          "2019-02-25T00:00:00",
          "2019-02-26T00:00:00",
          "2019-02-27T00:00:00",
          "2019-02-28T00:00:00",
          "2019-03-01T00:00:00",
          "2019-03-02T00:00:00",
          "2019-03-03T00:00:00",
          "2019-03-04T00:00:00",
          "2019-03-05T00:00:00",
          "2019-03-06T00:00:00",
          "2019-03-07T00:00:00",
          "2019-03-08T00:00:00",
          "2019-03-09T00:00:00",
          "2019-03-10T00:00:00",
          "2019-03-11T00:00:00",
          "2019-03-12T00:00:00",
          "2019-03-13T00:00:00",
          "2019-03-14T00:00:00",
          "2019-03-15T00:00:00",
          "2019-03-16T00:00:00",
          "2019-03-17T00:00:00",
          "2019-03-18T00:00:00",
          "2019-03-19T00:00:00",
          "2019-03-20T00:00:00",
          "2019-03-21T00:00:00",
          "2019-03-22T00:00:00",
          "2019-03-23T00:00:00",
          "2019-03-24T00:00:00",
          "2019-03-25T00:00:00",
          "2019-03-26T00:00:00",
          "2019-03-27T00:00:00",
          "2019-03-28T00:00:00",
          "2019-03-29T00:00:00",
          "2019-03-30T00:00:00",
          "2019-03-31T00:00:00",
          "2019-04-01T00:00:00",
          "2019-04-02T00:00:00",
          "2019-04-03T00:00:00",
          "2019-04-04T00:00:00",
          "2019-04-05T00:00:00",
          "2019-04-06T00:00:00",
          "2019-04-07T00:00:00",
          "2019-04-08T00:00:00",
          "2019-04-09T00:00:00",
          "2019-04-10T00:00:00",
          "2019-04-11T00:00:00",
          "2019-04-12T00:00:00",
          "2019-04-13T00:00:00",
          "2019-04-14T00:00:00",
          "2019-04-15T00:00:00",
          "2019-04-16T00:00:00",
          "2019-04-17T00:00:00",
          "2019-04-18T00:00:00",
          "2019-04-19T00:00:00",
          "2019-04-20T00:00:00",
          "2019-04-21T00:00:00",
          "2019-04-22T00:00:00",
          "2019-04-23T00:00:00",
          "2019-04-24T00:00:00",
          "2019-04-25T00:00:00",
          "2019-04-26T00:00:00",
          "2019-04-27T00:00:00",
          "2019-04-28T00:00:00",
          "2019-04-29T00:00:00",
          "2019-04-30T00:00:00",
          "2019-05-01T00:00:00",
          "2019-05-02T00:00:00",
          "2019-05-03T00:00:00",
          "2019-05-04T00:00:00",
          "2019-05-05T00:00:00",
          "2019-05-06T00:00:00",
          "2019-05-07T00:00:00",
          "2019-05-08T00:00:00",
          "2019-05-09T00:00:00",
          "2019-05-10T00:00:00",
          "2019-05-11T00:00:00",
          "2019-05-12T00:00:00",
          "2019-05-13T00:00:00",
          "2019-05-14T00:00:00",
          "2019-05-15T00:00:00",
          "2019-05-16T00:00:00",
          "2019-05-17T00:00:00",
          "2019-05-18T00:00:00",
          "2019-05-19T00:00:00",
          "2019-05-20T00:00:00",
          "2019-05-21T00:00:00",
          "2019-05-22T00:00:00",
          "2019-05-23T00:00:00",
          "2019-05-24T00:00:00",
          "2019-05-25T00:00:00",
          "2019-05-26T00:00:00",
          "2019-05-27T00:00:00",
          "2019-05-28T00:00:00",
          "2019-05-29T00:00:00",
          "2019-05-30T00:00:00",
          "2019-05-31T00:00:00",
          "2019-06-01T00:00:00",
          "2019-06-02T00:00:00",
          "2019-06-03T00:00:00",
          "2019-06-04T00:00:00",
          "2019-06-05T00:00:00",
          "2019-06-06T00:00:00",
          "2019-06-07T00:00:00",
          "2019-06-08T00:00:00",
          "2019-06-09T00:00:00",
          "2019-06-10T00:00:00",
          "2019-06-11T00:00:00",
          "2019-06-12T00:00:00",
          "2019-06-13T00:00:00",
          "2019-06-14T00:00:00",
          "2019-06-15T00:00:00",
          "2019-06-16T00:00:00",
          "2019-06-17T00:00:00",
          "2019-06-18T00:00:00",
          "2019-06-19T00:00:00",
          "2019-06-20T00:00:00",
          "2019-06-21T00:00:00",
          "2019-06-22T00:00:00",
          "2019-06-23T00:00:00",
          "2019-06-24T00:00:00",
          "2019-06-25T00:00:00",
          "2019-06-26T00:00:00",
          "2019-06-27T00:00:00",
          "2019-06-28T00:00:00",
          "2019-06-29T00:00:00",
          "2019-06-30T00:00:00",
          "2019-07-01T00:00:00",
          "2019-07-02T00:00:00",
          "2019-07-03T00:00:00",
          "2019-07-04T00:00:00",
          "2019-07-05T00:00:00",
          "2019-07-06T00:00:00",
          "2019-07-07T00:00:00",
          "2019-07-08T00:00:00",
          "2019-07-09T00:00:00",
          "2019-07-10T00:00:00",
          "2019-07-11T00:00:00",
          "2019-07-12T00:00:00",
          "2019-07-13T00:00:00",
          "2019-07-14T00:00:00",
          "2019-07-15T00:00:00",
          "2019-07-16T00:00:00",
          "2019-07-17T00:00:00",
          "2019-07-18T00:00:00",
          "2019-07-19T00:00:00",
          "2019-07-20T00:00:00",
          "2019-07-21T00:00:00",
          "2019-07-22T00:00:00",
          "2019-07-23T00:00:00",
          "2019-07-24T00:00:00",
          "2019-07-25T00:00:00",
          "2019-07-26T00:00:00",
          "2019-07-27T00:00:00",
          "2019-07-28T00:00:00",
          "2019-07-29T00:00:00",
          "2019-07-30T00:00:00",
          "2019-07-31T00:00:00",
          "2019-08-01T00:00:00",
          "2019-08-02T00:00:00",
          "2019-08-03T00:00:00",
          "2019-08-04T00:00:00",
          "2019-08-05T00:00:00",
          "2019-08-06T00:00:00",
          "2019-08-07T00:00:00",
          "2019-08-08T00:00:00",
          "2019-08-09T00:00:00",
          "2019-08-10T00:00:00",
          "2019-08-11T00:00:00",
          "2019-08-12T00:00:00",
          "2019-08-13T00:00:00",
          "2019-08-14T00:00:00",
          "2019-08-15T00:00:00",
          "2019-08-16T00:00:00",
          "2019-08-17T00:00:00",
          "2019-08-18T00:00:00",
          "2019-08-19T00:00:00",
          "2019-08-20T00:00:00",
          "2019-08-21T00:00:00",
          "2019-08-22T00:00:00",
          "2019-08-23T00:00:00",
          "2019-08-24T00:00:00",
          "2019-08-25T00:00:00",
          "2019-08-26T00:00:00",
          "2019-08-27T00:00:00",
          "2019-08-28T00:00:00",
          "2019-08-29T00:00:00",
          "2019-08-30T00:00:00",
          "2019-08-31T00:00:00",
          "2019-09-01T00:00:00",
          "2019-09-02T00:00:00",
          "2019-09-03T00:00:00",
          "2019-09-04T00:00:00",
          "2019-09-05T00:00:00",
          "2019-09-06T00:00:00",
          "2019-09-07T00:00:00",
          "2019-09-08T00:00:00",
          "2019-09-09T00:00:00",
          "2019-09-10T00:00:00",
          "2019-09-11T00:00:00",
          "2019-09-12T00:00:00",
          "2019-09-13T00:00:00",
          "2019-09-14T00:00:00",
          "2019-09-15T00:00:00",
          "2019-09-16T00:00:00",
          "2019-09-17T00:00:00",
          "2019-09-18T00:00:00",
          "2019-09-19T00:00:00",
          "2019-09-20T00:00:00",
          "2019-09-21T00:00:00",
          "2019-09-22T00:00:00",
          "2019-09-23T00:00:00",
          "2019-09-24T00:00:00",
          "2019-09-25T00:00:00",
          "2019-09-26T00:00:00",
          "2019-09-27T00:00:00",
          "2019-09-28T00:00:00",
          "2019-09-29T00:00:00",
          "2019-09-30T00:00:00",
          "2019-10-01T00:00:00",
          "2019-10-02T00:00:00",
          "2019-10-03T00:00:00",
          "2019-10-04T00:00:00",
          "2019-10-05T00:00:00",
          "2019-10-06T00:00:00",
          "2019-10-07T00:00:00",
          "2019-10-08T00:00:00",
          "2019-10-09T00:00:00",
          "2019-10-10T00:00:00",
          "2019-10-11T00:00:00",
          "2019-10-12T00:00:00",
          "2019-10-13T00:00:00",
          "2019-10-14T00:00:00",
          "2019-10-15T00:00:00",
          "2019-10-16T00:00:00",
          "2019-10-17T00:00:00",
          "2019-10-18T00:00:00",
          "2019-10-19T00:00:00",
          "2019-10-20T00:00:00",
          "2019-10-21T00:00:00",
          "2019-10-22T00:00:00",
          "2019-10-23T00:00:00",
          "2019-10-24T00:00:00",
          "2019-10-25T00:00:00",
          "2019-10-26T00:00:00",
          "2019-10-27T00:00:00",
          "2019-10-28T00:00:00",
          "2019-10-29T00:00:00",
          "2019-10-30T00:00:00",
          "2019-10-31T00:00:00",
          "2019-11-01T00:00:00",
          "2019-11-02T00:00:00",
          "2019-11-03T00:00:00",
          "2019-11-04T00:00:00",
          "2019-11-05T00:00:00",
          "2019-11-06T00:00:00",
          "2019-11-07T00:00:00",
          "2019-11-08T00:00:00",
          "2019-11-09T00:00:00",
          "2019-11-10T00:00:00",
          "2019-11-11T00:00:00",
          "2019-11-12T00:00:00",
          "2019-11-13T00:00:00",
          "2019-11-14T00:00:00",
          "2019-11-15T00:00:00",
          "2019-11-16T00:00:00",
          "2019-11-17T00:00:00",
          "2019-11-18T00:00:00",
          "2019-11-19T00:00:00",
          "2019-11-20T00:00:00",
          "2019-11-21T00:00:00",
          "2019-11-22T00:00:00",
          "2019-11-23T00:00:00",
          "2019-11-24T00:00:00",
          "2019-11-25T00:00:00",
          "2019-11-26T00:00:00",
          "2019-11-27T00:00:00",
          "2019-11-28T00:00:00",
          "2019-11-29T00:00:00",
          "2019-11-30T00:00:00",
          "2019-12-01T00:00:00",
          "2019-12-02T00:00:00",
          "2019-12-03T00:00:00",
          "2019-12-04T00:00:00",
          "2019-12-05T00:00:00",
          "2019-12-06T00:00:00",
          "2019-12-07T00:00:00",
          "2019-12-08T00:00:00",
          "2019-12-09T00:00:00",
          "2019-12-10T00:00:00",
          "2019-12-11T00:00:00",
          "2019-12-12T00:00:00",
          "2019-12-13T00:00:00",
          "2019-12-14T00:00:00",
          "2019-12-15T00:00:00",
          "2019-12-16T00:00:00",
          "2019-12-17T00:00:00",
          "2019-12-18T00:00:00",
          "2019-12-19T00:00:00",
          "2019-12-20T00:00:00",
          "2019-12-21T00:00:00",
          "2019-12-22T00:00:00",
          "2019-12-23T00:00:00",
          "2019-12-24T00:00:00",
          "2019-12-25T00:00:00",
          "2019-12-26T00:00:00",
          "2019-12-27T00:00:00",
          "2019-12-28T00:00:00",
          "2019-12-29T00:00:00",
          "2019-12-30T00:00:00",
          "2019-12-31T00:00:00",
          "2020-01-01T00:00:00",
          "2020-01-02T00:00:00",
          "2020-01-03T00:00:00",
          "2020-01-04T00:00:00",
          "2020-01-05T00:00:00",
          "2020-01-06T00:00:00",
          "2020-01-07T00:00:00",
          "2020-01-08T00:00:00",
          "2020-01-09T00:00:00",
          "2020-01-10T00:00:00",
          "2020-01-11T00:00:00",
          "2020-01-12T00:00:00",
          "2020-01-13T00:00:00",
          "2020-01-14T00:00:00",
          "2020-01-15T00:00:00",
          "2020-01-16T00:00:00",
          "2020-01-17T00:00:00",
          "2020-01-18T00:00:00",
          "2020-01-19T00:00:00",
          "2020-01-20T00:00:00",
          "2020-01-21T00:00:00",
          "2020-01-22T00:00:00",
          "2020-01-23T00:00:00",
          "2020-01-24T00:00:00",
          "2020-01-25T00:00:00",
          "2020-01-26T00:00:00",
          "2020-01-27T00:00:00",
          "2020-01-28T00:00:00",
          "2020-01-29T00:00:00",
          "2020-01-30T00:00:00",
          "2020-01-31T00:00:00",
          "2020-02-01T00:00:00",
          "2020-02-02T00:00:00",
          "2020-02-03T00:00:00",
          "2020-02-04T00:00:00",
          "2020-02-05T00:00:00",
          "2020-02-06T00:00:00",
          "2020-02-07T00:00:00",
          "2020-02-08T00:00:00",
          "2020-02-09T00:00:00",
          "2020-02-10T00:00:00",
          "2020-02-11T00:00:00",
          "2020-02-12T00:00:00",
          "2020-02-13T00:00:00",
          "2020-02-14T00:00:00",
          "2020-02-15T00:00:00",
          "2020-02-16T00:00:00",
          "2020-02-17T00:00:00",
          "2020-02-18T00:00:00",
          "2020-02-19T00:00:00",
          "2020-02-20T00:00:00",
          "2020-02-21T00:00:00",
          "2020-02-22T00:00:00",
          "2020-02-23T00:00:00",
          "2020-02-24T00:00:00",
          "2020-02-25T00:00:00",
          "2020-02-26T00:00:00",
          "2020-02-27T00:00:00",
          "2020-02-28T00:00:00",
          "2020-02-29T00:00:00",
          "2020-03-01T00:00:00",
          "2020-03-02T00:00:00",
          "2020-03-03T00:00:00",
          "2020-03-04T00:00:00",
          "2020-03-05T00:00:00",
          "2020-03-06T00:00:00",
          "2020-03-07T00:00:00",
          "2020-03-08T00:00:00",
          "2020-03-09T00:00:00",
          "2020-03-10T00:00:00",
          "2020-03-11T00:00:00",
          "2020-03-12T00:00:00",
          "2020-03-13T00:00:00",
          "2020-03-14T00:00:00",
          "2020-03-15T00:00:00",
          "2020-03-16T00:00:00",
          "2020-03-17T00:00:00",
          "2020-03-18T00:00:00",
          "2020-03-19T00:00:00",
          "2020-03-20T00:00:00",
          "2020-03-21T00:00:00",
          "2020-03-22T00:00:00",
          "2020-03-23T00:00:00",
          "2020-03-24T00:00:00",
          "2020-03-25T00:00:00",
          "2020-03-26T00:00:00",
          "2020-03-27T00:00:00",
          "2020-03-28T00:00:00",
          "2020-03-29T00:00:00",
          "2020-03-30T00:00:00",
          "2020-03-31T00:00:00",
          "2020-04-01T00:00:00",
          "2020-04-02T00:00:00",
          "2020-04-03T00:00:00",
          "2020-04-04T00:00:00",
          "2020-04-05T00:00:00",
          "2020-04-06T00:00:00",
          "2020-04-07T00:00:00",
          "2020-04-08T00:00:00",
          "2020-04-09T00:00:00",
          "2020-04-10T00:00:00",
          "2020-04-11T00:00:00",
          "2020-04-12T00:00:00",
          "2020-04-13T00:00:00",
          "2020-04-14T00:00:00",
          "2020-04-15T00:00:00",
          "2020-04-16T00:00:00",
          "2020-04-17T00:00:00",
          "2020-04-18T00:00:00",
          "2020-04-19T00:00:00",
          "2020-04-20T00:00:00",
          "2020-04-21T00:00:00",
          "2020-04-22T00:00:00",
          "2020-04-23T00:00:00",
          "2020-04-24T00:00:00",
          "2020-04-25T00:00:00",
          "2020-04-26T00:00:00",
          "2020-04-27T00:00:00",
          "2020-04-28T00:00:00",
          "2020-04-29T00:00:00",
          "2020-04-30T00:00:00",
          "2020-05-01T00:00:00",
          "2020-05-02T00:00:00",
          "2020-05-03T00:00:00",
          "2020-05-04T00:00:00",
          "2020-05-05T00:00:00",
          "2020-05-06T00:00:00",
          "2020-05-07T00:00:00",
          "2020-05-08T00:00:00",
          "2020-05-09T00:00:00",
          "2020-05-10T00:00:00",
          "2020-05-11T00:00:00",
          "2020-05-12T00:00:00",
          "2020-05-13T00:00:00",
          "2020-05-14T00:00:00",
          "2020-05-15T00:00:00",
          "2020-05-16T00:00:00",
          "2020-05-17T00:00:00",
          "2020-05-18T00:00:00",
          "2020-05-19T00:00:00",
          "2020-05-20T00:00:00",
          "2020-05-21T00:00:00",
          "2020-05-22T00:00:00",
          "2020-05-23T00:00:00",
          "2020-05-24T00:00:00",
          "2020-05-25T00:00:00",
          "2020-05-26T00:00:00",
          "2020-05-27T00:00:00",
          "2020-05-28T00:00:00",
          "2020-05-29T00:00:00",
          "2020-05-30T00:00:00",
          "2020-05-31T00:00:00",
          "2020-06-01T00:00:00",
          "2020-06-02T00:00:00",
          "2020-06-03T00:00:00",
          "2020-06-04T00:00:00",
          "2020-06-05T00:00:00",
          "2020-06-06T00:00:00",
          "2020-06-07T00:00:00",
          "2020-06-08T00:00:00",
          "2020-06-09T00:00:00",
          "2020-06-10T00:00:00",
          "2020-06-11T00:00:00",
          "2020-06-12T00:00:00",
          "2020-06-13T00:00:00",
          "2020-06-14T00:00:00",
          "2020-06-15T00:00:00",
          "2020-06-16T00:00:00",
          "2020-06-17T00:00:00",
          "2020-06-18T00:00:00",
          "2020-06-19T00:00:00",
          "2020-06-20T00:00:00",
          "2020-06-21T00:00:00",
          "2020-06-22T00:00:00",
          "2020-06-23T00:00:00",
          "2020-06-24T00:00:00",
          "2020-06-25T00:00:00",
          "2020-06-26T00:00:00",
          "2020-06-27T00:00:00",
          "2020-06-28T00:00:00",
          "2020-06-29T00:00:00",
          "2020-06-30T00:00:00",
          "2020-07-01T00:00:00",
          "2020-07-02T00:00:00",
          "2020-07-03T00:00:00",
          "2020-07-04T00:00:00",
          "2020-07-05T00:00:00",
          "2020-07-06T00:00:00",
          "2020-07-07T00:00:00",
          "2020-07-08T00:00:00",
          "2020-07-09T00:00:00",
          "2020-07-10T00:00:00",
          "2020-07-11T00:00:00",
          "2020-07-12T00:00:00",
          "2020-07-13T00:00:00",
          "2020-07-14T00:00:00",
          "2020-07-15T00:00:00",
          "2020-07-16T00:00:00",
          "2020-07-17T00:00:00",
          "2020-07-18T00:00:00",
          "2020-07-19T00:00:00",
          "2020-07-20T00:00:00",
          "2020-07-21T00:00:00",
          "2020-07-22T00:00:00",
          "2020-07-23T00:00:00",
          "2020-07-24T00:00:00",
          "2020-07-25T00:00:00",
          "2020-07-26T00:00:00",
          "2020-07-27T00:00:00",
          "2020-07-28T00:00:00",
          "2020-07-29T00:00:00",
          "2020-07-30T00:00:00",
          "2020-07-31T00:00:00",
          "2020-08-01T00:00:00",
          "2020-08-02T00:00:00",
          "2020-08-03T00:00:00",
          "2020-08-04T00:00:00",
          "2020-08-05T00:00:00",
          "2020-08-06T00:00:00",
          "2020-08-07T00:00:00",
          "2020-08-08T00:00:00",
          "2020-08-09T00:00:00",
          "2020-08-10T00:00:00",
          "2020-08-11T00:00:00",
          "2020-08-12T00:00:00",
          "2020-08-13T00:00:00",
          "2020-08-14T00:00:00",
          "2020-08-15T00:00:00",
          "2020-08-16T00:00:00",
          "2020-08-17T00:00:00",
          "2020-08-18T00:00:00",
          "2020-08-19T00:00:00",
          "2020-08-20T00:00:00",
          "2020-08-21T00:00:00",
          "2020-08-22T00:00:00",
          "2020-08-23T00:00:00",
          "2020-08-24T00:00:00",
          "2020-08-25T00:00:00",
          "2020-08-26T00:00:00",
          "2020-08-27T00:00:00",
          "2020-08-28T00:00:00",
          "2020-08-29T00:00:00",
          "2020-08-30T00:00:00",
          "2020-08-31T00:00:00",
          "2020-09-01T00:00:00",
          "2020-09-02T00:00:00",
          "2020-09-03T00:00:00",
          "2020-09-04T00:00:00",
          "2020-09-05T00:00:00",
          "2020-09-06T00:00:00",
          "2020-09-07T00:00:00",
          "2020-09-08T00:00:00",
          "2020-09-09T00:00:00",
          "2020-09-10T00:00:00",
          "2020-09-11T00:00:00",
          "2020-09-12T00:00:00",
          "2020-09-13T00:00:00",
          "2020-09-14T00:00:00",
          "2020-09-15T00:00:00",
          "2020-09-16T00:00:00",
          "2020-09-17T00:00:00",
          "2020-09-18T00:00:00",
          "2020-09-19T00:00:00",
          "2020-09-20T00:00:00",
          "2020-09-21T00:00:00",
          "2020-09-22T00:00:00",
          "2020-09-23T00:00:00",
          "2020-09-24T00:00:00",
          "2020-09-25T00:00:00",
          "2020-09-26T00:00:00",
          "2020-09-27T00:00:00",
          "2020-09-28T00:00:00",
          "2020-09-29T00:00:00",
          "2020-09-30T00:00:00",
          "2020-10-01T00:00:00",
          "2020-10-02T00:00:00",
          "2020-10-03T00:00:00",
          "2020-10-04T00:00:00",
          "2020-10-05T00:00:00",
          "2020-10-06T00:00:00",
          "2020-10-07T00:00:00",
          "2020-10-08T00:00:00",
          "2020-10-09T00:00:00",
          "2020-10-10T00:00:00",
          "2020-10-11T00:00:00",
          "2020-10-12T00:00:00",
          "2020-10-13T00:00:00",
          "2020-10-14T00:00:00",
          "2020-10-15T00:00:00",
          "2020-10-16T00:00:00",
          "2020-10-17T00:00:00",
          "2020-10-18T00:00:00",
          "2020-10-19T00:00:00",
          "2020-10-20T00:00:00",
          "2020-10-21T00:00:00",
          "2020-10-22T00:00:00",
          "2020-10-23T00:00:00",
          "2020-10-24T00:00:00",
          "2020-10-25T00:00:00",
          "2020-10-26T00:00:00",
          "2020-10-27T00:00:00",
          "2020-10-28T00:00:00",
          "2020-10-29T00:00:00",
          "2020-10-30T00:00:00",
          "2020-10-31T00:00:00",
          "2020-11-01T00:00:00",
          "2020-11-02T00:00:00",
          "2020-11-03T00:00:00",
          "2020-11-04T00:00:00",
          "2020-11-05T00:00:00",
          "2020-11-06T00:00:00",
          "2020-11-07T00:00:00",
          "2020-11-08T00:00:00",
          "2020-11-09T00:00:00",
          "2020-11-10T00:00:00",
          "2020-11-11T00:00:00",
          "2020-11-12T00:00:00",
          "2020-11-13T00:00:00",
          "2020-11-14T00:00:00",
          "2020-11-15T00:00:00",
          "2020-11-16T00:00:00",
          "2020-11-17T00:00:00",
          "2020-11-18T00:00:00",
          "2020-11-19T00:00:00",
          "2020-11-20T00:00:00",
          "2020-11-21T00:00:00",
          "2020-11-22T00:00:00",
          "2020-11-23T00:00:00",
          "2020-11-24T00:00:00",
          "2020-11-25T00:00:00",
          "2020-11-26T00:00:00",
          "2020-11-27T00:00:00",
          "2020-11-28T00:00:00",
          "2020-11-29T00:00:00",
          "2020-11-30T00:00:00",
          "2020-12-01T00:00:00",
          "2020-12-02T00:00:00",
          "2020-12-03T00:00:00",
          "2020-12-04T00:00:00",
          "2020-12-05T00:00:00",
          "2020-12-06T00:00:00",
          "2020-12-07T00:00:00",
          "2020-12-08T00:00:00",
          "2020-12-09T00:00:00",
          "2020-12-10T00:00:00",
          "2020-12-11T00:00:00",
          "2020-12-12T00:00:00",
          "2020-12-13T00:00:00",
          "2020-12-14T00:00:00",
          "2020-12-15T00:00:00",
          "2020-12-16T00:00:00",
          "2020-12-17T00:00:00",
          "2020-12-18T00:00:00",
          "2020-12-19T00:00:00",
          "2020-12-20T00:00:00",
          "2020-12-21T00:00:00",
          "2020-12-22T00:00:00",
          "2020-12-23T00:00:00",
          "2020-12-24T00:00:00",
          "2020-12-25T00:00:00",
          "2020-12-26T00:00:00",
          "2020-12-27T00:00:00",
          "2020-12-28T00:00:00",
          "2020-12-29T00:00:00",
          "2020-12-30T00:00:00",
          "2020-12-31T00:00:00",
          "2021-01-01T00:00:00",
          "2021-01-02T00:00:00",
          "2021-01-03T00:00:00",
          "2021-01-04T00:00:00",
          "2021-01-05T00:00:00",
          "2021-01-06T00:00:00",
          "2021-01-07T00:00:00",
          "2021-01-08T00:00:00",
          "2021-01-09T00:00:00",
          "2021-01-10T00:00:00",
          "2021-01-11T00:00:00",
          "2021-01-12T00:00:00",
          "2021-01-13T00:00:00",
          "2021-01-14T00:00:00",
          "2021-01-15T00:00:00",
          "2021-01-16T00:00:00",
          "2021-01-17T00:00:00",
          "2021-01-18T00:00:00",
          "2021-01-19T00:00:00",
          "2021-01-20T00:00:00",
          "2021-01-21T00:00:00",
          "2021-01-22T00:00:00",
          "2021-01-23T00:00:00",
          "2021-01-24T00:00:00",
          "2021-01-25T00:00:00",
          "2021-01-26T00:00:00",
          "2021-01-27T00:00:00",
          "2021-01-28T00:00:00",
          "2021-01-29T00:00:00",
          "2021-01-30T00:00:00"
         ],
         "xaxis": "x",
         "y": [
          8,
          0,
          0,
          0,
          8,
          0,
          0,
          0,
          0,
          0,
          0,
          0,
          0,
          0,
          0,
          0,
          0,
          0,
          0,
          0,
          0,
          0,
          0,
          0,
          0,
          0,
          0,
          8,
          19,
          4,
          16,
          0,
          0,
          17,
          39,
          4,
          19,
          2,
          7,
          1,
          17,
          2,
          0,
          0,
          0,
          0,
          4,
          0,
          0,
          0,
          0,
          0,
          0,
          0,
          0,
          0,
          0,
          0,
          0,
          0,
          0,
          0,
          0,
          0,
          0,
          0,
          0,
          0,
          0,
          0,
          0,
          0,
          0,
          0,
          0,
          0,
          0,
          0,
          0,
          0,
          0,
          0,
          0,
          0,
          0,
          0,
          0,
          0,
          0,
          1,
          1,
          0,
          8,
          3,
          0,
          0,
          3,
          0,
          0,
          0,
          0,
          0,
          0,
          0,
          0,
          0,
          0,
          0,
          0,
          0,
          0,
          0,
          0,
          0,
          0,
          0,
          0,
          0,
          0,
          0,
          0,
          0,
          0,
          0,
          0,
          0,
          0,
          0,
          0,
          0,
          0,
          0,
          0,
          0,
          0,
          0,
          0,
          0,
          0,
          0,
          0,
          0,
          0,
          0,
          0,
          0,
          0,
          0,
          0,
          0,
          0,
          3,
          0,
          0,
          0,
          0,
          0,
          0,
          0,
          0,
          0,
          15,
          0,
          1,
          1,
          19,
          0,
          0,
          0,
          0,
          0,
          0,
          0,
          0,
          0,
          0,
          6,
          0,
          0,
          0,
          0,
          3,
          0,
          0,
          0,
          1,
          16,
          7,
          0,
          0,
          0,
          0,
          0,
          0,
          0,
          0,
          0,
          0,
          0,
          0,
          0,
          0,
          0,
          0,
          0,
          0,
          0,
          0,
          0,
          0,
          0,
          0,
          0,
          0,
          0,
          0,
          0,
          0,
          0,
          0,
          0,
          0,
          0,
          0,
          0,
          0,
          0,
          0,
          0,
          0,
          0,
          0,
          0,
          0,
          0,
          0,
          0,
          0,
          0,
          0,
          0,
          0,
          0,
          0,
          0,
          0,
          0,
          0,
          0,
          0,
          0,
          0,
          0,
          0,
          0,
          0,
          0,
          0,
          0,
          0,
          0,
          0,
          0,
          0,
          0,
          0,
          0,
          0,
          0,
          0,
          0,
          2,
          0,
          0,
          0,
          0,
          4,
          0,
          0,
          0,
          0,
          0,
          0,
          0,
          0,
          0,
          4,
          0,
          1,
          0,
          0,
          0,
          0,
          0,
          0,
          0,
          0,
          0,
          0,
          6,
          0,
          0,
          0,
          0,
          0,
          0,
          0,
          0,
          0,
          0,
          0,
          0,
          0,
          2,
          0,
          0,
          0,
          0,
          0,
          0,
          0,
          0,
          0,
          0,
          0,
          0,
          0,
          0,
          0,
          0,
          0,
          0,
          0,
          0,
          0,
          0,
          0,
          0,
          2,
          6,
          0,
          0,
          0,
          0,
          0,
          0,
          0,
          32,
          13,
          2,
          0,
          0,
          0,
          0,
          2,
          0,
          0,
          2,
          0,
          0,
          6,
          0,
          0,
          1,
          5,
          2,
          4,
          1,
          3,
          3,
          0,
          0,
          0,
          0,
          0,
          0,
          0,
          0,
          0,
          0,
          0,
          0,
          0,
          0,
          0,
          2,
          13,
          0,
          0,
          0,
          0,
          0,
          0,
          0,
          2,
          0,
          0,
          0,
          3,
          0,
          0,
          0,
          0,
          0,
          0,
          0,
          1,
          4,
          0,
          13,
          8,
          1,
          5,
          1,
          1,
          0,
          0,
          1,
          0,
          0,
          0,
          0,
          0,
          0,
          0,
          6,
          6,
          8,
          0,
          3,
          1,
          0,
          4,
          22,
          7,
          0,
          0,
          0,
          5,
          0,
          0,
          0,
          0,
          0,
          5,
          0,
          0,
          7,
          0,
          0,
          0,
          0,
          0,
          0,
          5,
          0,
          0,
          0,
          0,
          0,
          0,
          0,
          2,
          0,
          0,
          0,
          0,
          0,
          0,
          27,
          15,
          14,
          0,
          5,
          36,
          7,
          17,
          7,
          3,
          26,
          0,
          0,
          0,
          6,
          0,
          2,
          0,
          0,
          0,
          0,
          9,
          5,
          5,
          2,
          0,
          4,
          4,
          0,
          8,
          3,
          10,
          29,
          2,
          11,
          3,
          3,
          0,
          0,
          5,
          3,
          8,
          0,
          2,
          13,
          0,
          3,
          1,
          7,
          0,
          0,
          0,
          0,
          0,
          0,
          0,
          12,
          5,
          2,
          5,
          5,
          3,
          0,
          2,
          11,
          0,
          0,
          0,
          0,
          5,
          0,
          2,
          7,
          2,
          0,
          0,
          2,
          20,
          0,
          1,
          0,
          3,
          5,
          0,
          0,
          0,
          10,
          0,
          0,
          0,
          0,
          0,
          0,
          3,
          0,
          0,
          0,
          1,
          1,
          0,
          3,
          0,
          0,
          3,
          0,
          0,
          0,
          27,
          6,
          1,
          0,
          1,
          0,
          0,
          0,
          0,
          0,
          3,
          0,
          0,
          0,
          0,
          5,
          0,
          0,
          0,
          0,
          5,
          0,
          0,
          0,
          0,
          1,
          18,
          0,
          0,
          0,
          0,
          0,
          0,
          0,
          0,
          0,
          0,
          0,
          0,
          0,
          0,
          0,
          0,
          0,
          0,
          0,
          0,
          0,
          0,
          0,
          0,
          5,
          0,
          0,
          0,
          0,
          0,
          0,
          0,
          0,
          0,
          0,
          0,
          0,
          0,
          0,
          0,
          0,
          2,
          0,
          0,
          0,
          0,
          0,
          0,
          0,
          0,
          1,
          0,
          3,
          0,
          0,
          0,
          0,
          0,
          0,
          8,
          0,
          0,
          0,
          0,
          0,
          0,
          0,
          0,
          0,
          0,
          0,
          2,
          0,
          0,
          0,
          0,
          0,
          0,
          0,
          0,
          0,
          0,
          0,
          0,
          0,
          0,
          0,
          1,
          0,
          0,
          13,
          0,
          0,
          4,
          0,
          0,
          0,
          2,
          0,
          0,
          0,
          0,
          0,
          0,
          0,
          0,
          0,
          0,
          1,
          0,
          0,
          7,
          1,
          0,
          0,
          4,
          0,
          0,
          0,
          0,
          0,
          0,
          0,
          0,
          0,
          0,
          0,
          4,
          7,
          0,
          0,
          0,
          0,
          0,
          0,
          0,
          0,
          0,
          0,
          0,
          0,
          1,
          0,
          3,
          0,
          11,
          0,
          0,
          0,
          5,
          13,
          0,
          0,
          1,
          0,
          0,
          0,
          0,
          0,
          8,
          2,
          3,
          5,
          0,
          2,
          1,
          0,
          0,
          0,
          0,
          0,
          0,
          0,
          1,
          0,
          0,
          0,
          3,
          1,
          0,
          0,
          0,
          0,
          0,
          0,
          0,
          0,
          0,
          0,
          0,
          0,
          8,
          11,
          10,
          0,
          0,
          0,
          0,
          0,
          23,
          0,
          10,
          14,
          5,
          1,
          8,
          7,
          0,
          8,
          1,
          3,
          3,
          0,
          9,
          0,
          1,
          0,
          4,
          0,
          1,
          6,
          11,
          0,
          2,
          6,
          8,
          7,
          18,
          7,
          16,
          0,
          0,
          0,
          0,
          0,
          1,
          2,
          0,
          0,
          0,
          0,
          15,
          0,
          2,
          0,
          0,
          0,
          15,
          0,
          2,
          0,
          0,
          0,
          0,
          0,
          1,
          11,
          17,
          0,
          0,
          0,
          0,
          0,
          0,
          4,
          0,
          0,
          0,
          0,
          0,
          0,
          7,
          13,
          0,
          0,
          0,
          0,
          0,
          0,
          0,
          0,
          0,
          0,
          0,
          0,
          1,
          0,
          0,
          0,
          0,
          2,
          2,
          0,
          0,
          10,
          0,
          7,
          0,
          0,
          0,
          0,
          4,
          0,
          0,
          1,
          0,
          0,
          0,
          0,
          0,
          0,
          0,
          0,
          0,
          0,
          0,
          0,
          0,
          0,
          0,
          13
         ],
         "yaxis": "y"
        }
       ],
       "layout": {
        "autosize": true,
        "font": {
         "size": 14
        },
        "legend": {
         "orientation": "h",
         "tracegroupgap": 0,
         "y": -0.3
        },
        "margin": {
         "b": 0,
         "l": 0,
         "r": 0,
         "t": 120
        },
        "template": {
         "data": {
          "bar": [
           {
            "error_x": {
             "color": "#2a3f5f"
            },
            "error_y": {
             "color": "#2a3f5f"
            },
            "marker": {
             "line": {
              "color": "white",
              "width": 0.5
             }
            },
            "type": "bar"
           }
          ],
          "barpolar": [
           {
            "marker": {
             "line": {
              "color": "white",
              "width": 0.5
             }
            },
            "type": "barpolar"
           }
          ],
          "carpet": [
           {
            "aaxis": {
             "endlinecolor": "#2a3f5f",
             "gridcolor": "#C8D4E3",
             "linecolor": "#C8D4E3",
             "minorgridcolor": "#C8D4E3",
             "startlinecolor": "#2a3f5f"
            },
            "baxis": {
             "endlinecolor": "#2a3f5f",
             "gridcolor": "#C8D4E3",
             "linecolor": "#C8D4E3",
             "minorgridcolor": "#C8D4E3",
             "startlinecolor": "#2a3f5f"
            },
            "type": "carpet"
           }
          ],
          "choropleth": [
           {
            "colorbar": {
             "outlinewidth": 0,
             "ticks": ""
            },
            "type": "choropleth"
           }
          ],
          "contour": [
           {
            "colorbar": {
             "outlinewidth": 0,
             "ticks": ""
            },
            "colorscale": [
             [
              0,
              "#0d0887"
             ],
             [
              0.1111111111111111,
              "#46039f"
             ],
             [
              0.2222222222222222,
              "#7201a8"
             ],
             [
              0.3333333333333333,
              "#9c179e"
             ],
             [
              0.4444444444444444,
              "#bd3786"
             ],
             [
              0.5555555555555556,
              "#d8576b"
             ],
             [
              0.6666666666666666,
              "#ed7953"
             ],
             [
              0.7777777777777778,
              "#fb9f3a"
             ],
             [
              0.8888888888888888,
              "#fdca26"
             ],
             [
              1,
              "#f0f921"
             ]
            ],
            "type": "contour"
           }
          ],
          "contourcarpet": [
           {
            "colorbar": {
             "outlinewidth": 0,
             "ticks": ""
            },
            "type": "contourcarpet"
           }
          ],
          "heatmap": [
           {
            "colorbar": {
             "outlinewidth": 0,
             "ticks": ""
            },
            "colorscale": [
             [
              0,
              "#0d0887"
             ],
             [
              0.1111111111111111,
              "#46039f"
             ],
             [
              0.2222222222222222,
              "#7201a8"
             ],
             [
              0.3333333333333333,
              "#9c179e"
             ],
             [
              0.4444444444444444,
              "#bd3786"
             ],
             [
              0.5555555555555556,
              "#d8576b"
             ],
             [
              0.6666666666666666,
              "#ed7953"
             ],
             [
              0.7777777777777778,
              "#fb9f3a"
             ],
             [
              0.8888888888888888,
              "#fdca26"
             ],
             [
              1,
              "#f0f921"
             ]
            ],
            "type": "heatmap"
           }
          ],
          "heatmapgl": [
           {
            "colorbar": {
             "outlinewidth": 0,
             "ticks": ""
            },
            "colorscale": [
             [
              0,
              "#0d0887"
             ],
             [
              0.1111111111111111,
              "#46039f"
             ],
             [
              0.2222222222222222,
              "#7201a8"
             ],
             [
              0.3333333333333333,
              "#9c179e"
             ],
             [
              0.4444444444444444,
              "#bd3786"
             ],
             [
              0.5555555555555556,
              "#d8576b"
             ],
             [
              0.6666666666666666,
              "#ed7953"
             ],
             [
              0.7777777777777778,
              "#fb9f3a"
             ],
             [
              0.8888888888888888,
              "#fdca26"
             ],
             [
              1,
              "#f0f921"
             ]
            ],
            "type": "heatmapgl"
           }
          ],
          "histogram": [
           {
            "marker": {
             "colorbar": {
              "outlinewidth": 0,
              "ticks": ""
             }
            },
            "type": "histogram"
           }
          ],
          "histogram2d": [
           {
            "colorbar": {
             "outlinewidth": 0,
             "ticks": ""
            },
            "colorscale": [
             [
              0,
              "#0d0887"
             ],
             [
              0.1111111111111111,
              "#46039f"
             ],
             [
              0.2222222222222222,
              "#7201a8"
             ],
             [
              0.3333333333333333,
              "#9c179e"
             ],
             [
              0.4444444444444444,
              "#bd3786"
             ],
             [
              0.5555555555555556,
              "#d8576b"
             ],
             [
              0.6666666666666666,
              "#ed7953"
             ],
             [
              0.7777777777777778,
              "#fb9f3a"
             ],
             [
              0.8888888888888888,
              "#fdca26"
             ],
             [
              1,
              "#f0f921"
             ]
            ],
            "type": "histogram2d"
           }
          ],
          "histogram2dcontour": [
           {
            "colorbar": {
             "outlinewidth": 0,
             "ticks": ""
            },
            "colorscale": [
             [
              0,
              "#0d0887"
             ],
             [
              0.1111111111111111,
              "#46039f"
             ],
             [
              0.2222222222222222,
              "#7201a8"
             ],
             [
              0.3333333333333333,
              "#9c179e"
             ],
             [
              0.4444444444444444,
              "#bd3786"
             ],
             [
              0.5555555555555556,
              "#d8576b"
             ],
             [
              0.6666666666666666,
              "#ed7953"
             ],
             [
              0.7777777777777778,
              "#fb9f3a"
             ],
             [
              0.8888888888888888,
              "#fdca26"
             ],
             [
              1,
              "#f0f921"
             ]
            ],
            "type": "histogram2dcontour"
           }
          ],
          "mesh3d": [
           {
            "colorbar": {
             "outlinewidth": 0,
             "ticks": ""
            },
            "type": "mesh3d"
           }
          ],
          "parcoords": [
           {
            "line": {
             "colorbar": {
              "outlinewidth": 0,
              "ticks": ""
             }
            },
            "type": "parcoords"
           }
          ],
          "pie": [
           {
            "automargin": true,
            "type": "pie"
           }
          ],
          "scatter": [
           {
            "marker": {
             "colorbar": {
              "outlinewidth": 0,
              "ticks": ""
             }
            },
            "type": "scatter"
           }
          ],
          "scatter3d": [
           {
            "line": {
             "colorbar": {
              "outlinewidth": 0,
              "ticks": ""
             }
            },
            "marker": {
             "colorbar": {
              "outlinewidth": 0,
              "ticks": ""
             }
            },
            "type": "scatter3d"
           }
          ],
          "scattercarpet": [
           {
            "marker": {
             "colorbar": {
              "outlinewidth": 0,
              "ticks": ""
             }
            },
            "type": "scattercarpet"
           }
          ],
          "scattergeo": [
           {
            "marker": {
             "colorbar": {
              "outlinewidth": 0,
              "ticks": ""
             }
            },
            "type": "scattergeo"
           }
          ],
          "scattergl": [
           {
            "marker": {
             "colorbar": {
              "outlinewidth": 0,
              "ticks": ""
             }
            },
            "type": "scattergl"
           }
          ],
          "scattermapbox": [
           {
            "marker": {
             "colorbar": {
              "outlinewidth": 0,
              "ticks": ""
             }
            },
            "type": "scattermapbox"
           }
          ],
          "scatterpolar": [
           {
            "marker": {
             "colorbar": {
              "outlinewidth": 0,
              "ticks": ""
             }
            },
            "type": "scatterpolar"
           }
          ],
          "scatterpolargl": [
           {
            "marker": {
             "colorbar": {
              "outlinewidth": 0,
              "ticks": ""
             }
            },
            "type": "scatterpolargl"
           }
          ],
          "scatterternary": [
           {
            "marker": {
             "colorbar": {
              "outlinewidth": 0,
              "ticks": ""
             }
            },
            "type": "scatterternary"
           }
          ],
          "surface": [
           {
            "colorbar": {
             "outlinewidth": 0,
             "ticks": ""
            },
            "colorscale": [
             [
              0,
              "#0d0887"
             ],
             [
              0.1111111111111111,
              "#46039f"
             ],
             [
              0.2222222222222222,
              "#7201a8"
             ],
             [
              0.3333333333333333,
              "#9c179e"
             ],
             [
              0.4444444444444444,
              "#bd3786"
             ],
             [
              0.5555555555555556,
              "#d8576b"
             ],
             [
              0.6666666666666666,
              "#ed7953"
             ],
             [
              0.7777777777777778,
              "#fb9f3a"
             ],
             [
              0.8888888888888888,
              "#fdca26"
             ],
             [
              1,
              "#f0f921"
             ]
            ],
            "type": "surface"
           }
          ],
          "table": [
           {
            "cells": {
             "fill": {
              "color": "#EBF0F8"
             },
             "line": {
              "color": "white"
             }
            },
            "header": {
             "fill": {
              "color": "#C8D4E3"
             },
             "line": {
              "color": "white"
             }
            },
            "type": "table"
           }
          ]
         },
         "layout": {
          "annotationdefaults": {
           "arrowcolor": "#2a3f5f",
           "arrowhead": 0,
           "arrowwidth": 1
          },
          "autotypenumbers": "strict",
          "coloraxis": {
           "colorbar": {
            "outlinewidth": 0,
            "ticks": ""
           }
          },
          "colorscale": {
           "diverging": [
            [
             0,
             "#8e0152"
            ],
            [
             0.1,
             "#c51b7d"
            ],
            [
             0.2,
             "#de77ae"
            ],
            [
             0.3,
             "#f1b6da"
            ],
            [
             0.4,
             "#fde0ef"
            ],
            [
             0.5,
             "#f7f7f7"
            ],
            [
             0.6,
             "#e6f5d0"
            ],
            [
             0.7,
             "#b8e186"
            ],
            [
             0.8,
             "#7fbc41"
            ],
            [
             0.9,
             "#4d9221"
            ],
            [
             1,
             "#276419"
            ]
           ],
           "sequential": [
            [
             0,
             "#0d0887"
            ],
            [
             0.1111111111111111,
             "#46039f"
            ],
            [
             0.2222222222222222,
             "#7201a8"
            ],
            [
             0.3333333333333333,
             "#9c179e"
            ],
            [
             0.4444444444444444,
             "#bd3786"
            ],
            [
             0.5555555555555556,
             "#d8576b"
            ],
            [
             0.6666666666666666,
             "#ed7953"
            ],
            [
             0.7777777777777778,
             "#fb9f3a"
            ],
            [
             0.8888888888888888,
             "#fdca26"
            ],
            [
             1,
             "#f0f921"
            ]
           ],
           "sequentialminus": [
            [
             0,
             "#0d0887"
            ],
            [
             0.1111111111111111,
             "#46039f"
            ],
            [
             0.2222222222222222,
             "#7201a8"
            ],
            [
             0.3333333333333333,
             "#9c179e"
            ],
            [
             0.4444444444444444,
             "#bd3786"
            ],
            [
             0.5555555555555556,
             "#d8576b"
            ],
            [
             0.6666666666666666,
             "#ed7953"
            ],
            [
             0.7777777777777778,
             "#fb9f3a"
            ],
            [
             0.8888888888888888,
             "#fdca26"
            ],
            [
             1,
             "#f0f921"
            ]
           ]
          },
          "colorway": [
           "#636efa",
           "#EF553B",
           "#00cc96",
           "#ab63fa",
           "#FFA15A",
           "#19d3f3",
           "#FF6692",
           "#B6E880",
           "#FF97FF",
           "#FECB52"
          ],
          "font": {
           "color": "#2a3f5f"
          },
          "geo": {
           "bgcolor": "white",
           "lakecolor": "white",
           "landcolor": "white",
           "showlakes": true,
           "showland": true,
           "subunitcolor": "#C8D4E3"
          },
          "hoverlabel": {
           "align": "left"
          },
          "hovermode": "closest",
          "mapbox": {
           "style": "light"
          },
          "paper_bgcolor": "white",
          "plot_bgcolor": "white",
          "polar": {
           "angularaxis": {
            "gridcolor": "#EBF0F8",
            "linecolor": "#EBF0F8",
            "ticks": ""
           },
           "bgcolor": "white",
           "radialaxis": {
            "gridcolor": "#EBF0F8",
            "linecolor": "#EBF0F8",
            "ticks": ""
           }
          },
          "scene": {
           "xaxis": {
            "backgroundcolor": "white",
            "gridcolor": "#DFE8F3",
            "gridwidth": 2,
            "linecolor": "#EBF0F8",
            "showbackground": true,
            "ticks": "",
            "zerolinecolor": "#EBF0F8"
           },
           "yaxis": {
            "backgroundcolor": "white",
            "gridcolor": "#DFE8F3",
            "gridwidth": 2,
            "linecolor": "#EBF0F8",
            "showbackground": true,
            "ticks": "",
            "zerolinecolor": "#EBF0F8"
           },
           "zaxis": {
            "backgroundcolor": "white",
            "gridcolor": "#DFE8F3",
            "gridwidth": 2,
            "linecolor": "#EBF0F8",
            "showbackground": true,
            "ticks": "",
            "zerolinecolor": "#EBF0F8"
           }
          },
          "shapedefaults": {
           "line": {
            "color": "#2a3f5f"
           }
          },
          "ternary": {
           "aaxis": {
            "gridcolor": "#DFE8F3",
            "linecolor": "#A2B1C6",
            "ticks": ""
           },
           "baxis": {
            "gridcolor": "#DFE8F3",
            "linecolor": "#A2B1C6",
            "ticks": ""
           },
           "bgcolor": "white",
           "caxis": {
            "gridcolor": "#DFE8F3",
            "linecolor": "#A2B1C6",
            "ticks": ""
           }
          },
          "title": {
           "x": 0.05
          },
          "xaxis": {
           "automargin": true,
           "gridcolor": "#EBF0F8",
           "linecolor": "#EBF0F8",
           "ticks": "",
           "title": {
            "standoff": 15
           },
           "zerolinecolor": "#EBF0F8",
           "zerolinewidth": 2
          },
          "yaxis": {
           "automargin": true,
           "gridcolor": "#EBF0F8",
           "linecolor": "#EBF0F8",
           "ticks": "",
           "title": {
            "standoff": 15
           },
           "zerolinecolor": "#EBF0F8",
           "zerolinewidth": 2
          }
         }
        },
        "title": {
         "font": {
          "size": 24
         },
         "text": "Messages per date",
         "x": 0.5
        },
        "xaxis": {
         "anchor": "y",
         "domain": [
          0,
          1
         ],
         "title": {
          "text": "Date"
         }
        },
        "yaxis": {
         "anchor": "x",
         "domain": [
          0,
          1
         ],
         "title": {
          "text": "Messages"
         }
        }
       }
      }
     },
     "metadata": {}
    }
   ],
   "source": [
    "messages_per_date =  pd.DataFrame(df.groupby(['date']).count()['message'])\n",
    "r = pd.date_range(start=messages_per_date.index.min(), end=messages_per_date.index.max())\n",
    "messages_count = messages_per_date.reindex(r).fillna(0).rename_axis('date').reset_index()\n",
    "\n",
    "plot_data = messages_count\n",
    "\n",
    "line1 = P.lineplot(data=plot_data, x=\"date\",y=\"message\", title_text=\"Messages per date\", xaxis_title=\"Date\", yaxis_title=\"Messages\")\n",
    "line1.show()"
   ]
  },
  {
   "cell_type": "code",
   "execution_count": 26,
   "metadata": {},
   "outputs": [
    {
     "output_type": "display_data",
     "data": {
      "application/vnd.plotly.v1+json": {
       "config": {
        "plotlyServerURL": "https://plot.ly"
       },
       "data": [
        {
         "alignmentgroup": "True",
         "hovertemplate": "person=User 0<br>emoji=%{x}<br>count=%{y}<extra></extra>",
         "legendgroup": "User 0",
         "marker": {
          "color": "#4C78A8"
         },
         "name": "User 0",
         "offsetgroup": "User 0",
         "orientation": "v",
         "showlegend": true,
         "textposition": "auto",
         "type": "bar",
         "x": [
          "🙈",
          "😄",
          "😊",
          "😅",
          "😂",
          "😍",
          "🙌",
          "👍"
         ],
         "xaxis": "x",
         "y": [
          6,
          14,
          24,
          32,
          34,
          45,
          6,
          28
         ],
         "yaxis": "y"
        },
        {
         "alignmentgroup": "True",
         "hovertemplate": "person=User 1<br>emoji=%{x}<br>count=%{y}<extra></extra>",
         "legendgroup": "User 1",
         "marker": {
          "color": "#F58518"
         },
         "name": "User 1",
         "offsetgroup": "User 1",
         "orientation": "v",
         "showlegend": true,
         "textposition": "auto",
         "type": "bar",
         "x": [
          "🤣",
          "😉",
          "😜",
          "😘",
          "💪",
          "💗",
          "😋",
          "👍",
          "🥰",
          "🤪"
         ],
         "xaxis": "x",
         "y": [
          29,
          16,
          8,
          70,
          10,
          10,
          9,
          97,
          61,
          9
         ],
         "yaxis": "y"
        },
        {
         "alignmentgroup": "True",
         "hovertemplate": "person=User 2<br>emoji=%{x}<br>count=%{y}<extra></extra>",
         "legendgroup": "User 2",
         "marker": {
          "color": "#E45756"
         },
         "name": "User 2",
         "offsetgroup": "User 2",
         "orientation": "v",
         "showlegend": true,
         "textposition": "auto",
         "type": "bar",
         "x": [
          "🙈",
          "🙂",
          "😂",
          "🤣",
          "😋",
          "🤪",
          "😘",
          "😎",
          "😄",
          "😀",
          "😁",
          "👍"
         ],
         "xaxis": "x",
         "y": [
          5,
          11,
          10,
          13,
          7,
          5,
          21,
          7,
          31,
          6,
          18,
          25
         ],
         "yaxis": "y"
        },
        {
         "alignmentgroup": "True",
         "hovertemplate": "person=User 3<br>emoji=%{x}<br>count=%{y}<extra></extra>",
         "legendgroup": "User 3",
         "marker": {
          "color": "#72B7B2"
         },
         "name": "User 3",
         "offsetgroup": "User 3",
         "orientation": "v",
         "showlegend": true,
         "textposition": "auto",
         "type": "bar",
         "x": [
          "😀",
          "😥",
          "😉",
          "👌",
          "🥳",
          "😎",
          "🤭",
          "😂",
          "👀",
          "🙌",
          "❣",
          "🤗",
          "👍",
          "😘",
          "❤",
          "🥰",
          "😍",
          "🙈",
          "😊",
          "😅",
          "😋",
          "☺"
         ],
         "xaxis": "x",
         "y": [
          6,
          7,
          7,
          5,
          5,
          5,
          5,
          103,
          10,
          12,
          17,
          22,
          28,
          41,
          54,
          57,
          63,
          75,
          83,
          89,
          8,
          14
         ],
         "yaxis": "y"
        }
       ],
       "layout": {
        "autosize": true,
        "barmode": "group",
        "font": {
         "size": 14
        },
        "legend": {
         "orientation": "h",
         "title": {},
         "tracegroupgap": 0,
         "y": -0.3
        },
        "margin": {
         "b": 0,
         "l": 0,
         "r": 0,
         "t": 120
        },
        "template": {
         "data": {
          "bar": [
           {
            "error_x": {
             "color": "#2a3f5f"
            },
            "error_y": {
             "color": "#2a3f5f"
            },
            "marker": {
             "line": {
              "color": "white",
              "width": 0.5
             }
            },
            "type": "bar"
           }
          ],
          "barpolar": [
           {
            "marker": {
             "line": {
              "color": "white",
              "width": 0.5
             }
            },
            "type": "barpolar"
           }
          ],
          "carpet": [
           {
            "aaxis": {
             "endlinecolor": "#2a3f5f",
             "gridcolor": "#C8D4E3",
             "linecolor": "#C8D4E3",
             "minorgridcolor": "#C8D4E3",
             "startlinecolor": "#2a3f5f"
            },
            "baxis": {
             "endlinecolor": "#2a3f5f",
             "gridcolor": "#C8D4E3",
             "linecolor": "#C8D4E3",
             "minorgridcolor": "#C8D4E3",
             "startlinecolor": "#2a3f5f"
            },
            "type": "carpet"
           }
          ],
          "choropleth": [
           {
            "colorbar": {
             "outlinewidth": 0,
             "ticks": ""
            },
            "type": "choropleth"
           }
          ],
          "contour": [
           {
            "colorbar": {
             "outlinewidth": 0,
             "ticks": ""
            },
            "colorscale": [
             [
              0,
              "#0d0887"
             ],
             [
              0.1111111111111111,
              "#46039f"
             ],
             [
              0.2222222222222222,
              "#7201a8"
             ],
             [
              0.3333333333333333,
              "#9c179e"
             ],
             [
              0.4444444444444444,
              "#bd3786"
             ],
             [
              0.5555555555555556,
              "#d8576b"
             ],
             [
              0.6666666666666666,
              "#ed7953"
             ],
             [
              0.7777777777777778,
              "#fb9f3a"
             ],
             [
              0.8888888888888888,
              "#fdca26"
             ],
             [
              1,
              "#f0f921"
             ]
            ],
            "type": "contour"
           }
          ],
          "contourcarpet": [
           {
            "colorbar": {
             "outlinewidth": 0,
             "ticks": ""
            },
            "type": "contourcarpet"
           }
          ],
          "heatmap": [
           {
            "colorbar": {
             "outlinewidth": 0,
             "ticks": ""
            },
            "colorscale": [
             [
              0,
              "#0d0887"
             ],
             [
              0.1111111111111111,
              "#46039f"
             ],
             [
              0.2222222222222222,
              "#7201a8"
             ],
             [
              0.3333333333333333,
              "#9c179e"
             ],
             [
              0.4444444444444444,
              "#bd3786"
             ],
             [
              0.5555555555555556,
              "#d8576b"
             ],
             [
              0.6666666666666666,
              "#ed7953"
             ],
             [
              0.7777777777777778,
              "#fb9f3a"
             ],
             [
              0.8888888888888888,
              "#fdca26"
             ],
             [
              1,
              "#f0f921"
             ]
            ],
            "type": "heatmap"
           }
          ],
          "heatmapgl": [
           {
            "colorbar": {
             "outlinewidth": 0,
             "ticks": ""
            },
            "colorscale": [
             [
              0,
              "#0d0887"
             ],
             [
              0.1111111111111111,
              "#46039f"
             ],
             [
              0.2222222222222222,
              "#7201a8"
             ],
             [
              0.3333333333333333,
              "#9c179e"
             ],
             [
              0.4444444444444444,
              "#bd3786"
             ],
             [
              0.5555555555555556,
              "#d8576b"
             ],
             [
              0.6666666666666666,
              "#ed7953"
             ],
             [
              0.7777777777777778,
              "#fb9f3a"
             ],
             [
              0.8888888888888888,
              "#fdca26"
             ],
             [
              1,
              "#f0f921"
             ]
            ],
            "type": "heatmapgl"
           }
          ],
          "histogram": [
           {
            "marker": {
             "colorbar": {
              "outlinewidth": 0,
              "ticks": ""
             }
            },
            "type": "histogram"
           }
          ],
          "histogram2d": [
           {
            "colorbar": {
             "outlinewidth": 0,
             "ticks": ""
            },
            "colorscale": [
             [
              0,
              "#0d0887"
             ],
             [
              0.1111111111111111,
              "#46039f"
             ],
             [
              0.2222222222222222,
              "#7201a8"
             ],
             [
              0.3333333333333333,
              "#9c179e"
             ],
             [
              0.4444444444444444,
              "#bd3786"
             ],
             [
              0.5555555555555556,
              "#d8576b"
             ],
             [
              0.6666666666666666,
              "#ed7953"
             ],
             [
              0.7777777777777778,
              "#fb9f3a"
             ],
             [
              0.8888888888888888,
              "#fdca26"
             ],
             [
              1,
              "#f0f921"
             ]
            ],
            "type": "histogram2d"
           }
          ],
          "histogram2dcontour": [
           {
            "colorbar": {
             "outlinewidth": 0,
             "ticks": ""
            },
            "colorscale": [
             [
              0,
              "#0d0887"
             ],
             [
              0.1111111111111111,
              "#46039f"
             ],
             [
              0.2222222222222222,
              "#7201a8"
             ],
             [
              0.3333333333333333,
              "#9c179e"
             ],
             [
              0.4444444444444444,
              "#bd3786"
             ],
             [
              0.5555555555555556,
              "#d8576b"
             ],
             [
              0.6666666666666666,
              "#ed7953"
             ],
             [
              0.7777777777777778,
              "#fb9f3a"
             ],
             [
              0.8888888888888888,
              "#fdca26"
             ],
             [
              1,
              "#f0f921"
             ]
            ],
            "type": "histogram2dcontour"
           }
          ],
          "mesh3d": [
           {
            "colorbar": {
             "outlinewidth": 0,
             "ticks": ""
            },
            "type": "mesh3d"
           }
          ],
          "parcoords": [
           {
            "line": {
             "colorbar": {
              "outlinewidth": 0,
              "ticks": ""
             }
            },
            "type": "parcoords"
           }
          ],
          "pie": [
           {
            "automargin": true,
            "type": "pie"
           }
          ],
          "scatter": [
           {
            "marker": {
             "colorbar": {
              "outlinewidth": 0,
              "ticks": ""
             }
            },
            "type": "scatter"
           }
          ],
          "scatter3d": [
           {
            "line": {
             "colorbar": {
              "outlinewidth": 0,
              "ticks": ""
             }
            },
            "marker": {
             "colorbar": {
              "outlinewidth": 0,
              "ticks": ""
             }
            },
            "type": "scatter3d"
           }
          ],
          "scattercarpet": [
           {
            "marker": {
             "colorbar": {
              "outlinewidth": 0,
              "ticks": ""
             }
            },
            "type": "scattercarpet"
           }
          ],
          "scattergeo": [
           {
            "marker": {
             "colorbar": {
              "outlinewidth": 0,
              "ticks": ""
             }
            },
            "type": "scattergeo"
           }
          ],
          "scattergl": [
           {
            "marker": {
             "colorbar": {
              "outlinewidth": 0,
              "ticks": ""
             }
            },
            "type": "scattergl"
           }
          ],
          "scattermapbox": [
           {
            "marker": {
             "colorbar": {
              "outlinewidth": 0,
              "ticks": ""
             }
            },
            "type": "scattermapbox"
           }
          ],
          "scatterpolar": [
           {
            "marker": {
             "colorbar": {
              "outlinewidth": 0,
              "ticks": ""
             }
            },
            "type": "scatterpolar"
           }
          ],
          "scatterpolargl": [
           {
            "marker": {
             "colorbar": {
              "outlinewidth": 0,
              "ticks": ""
             }
            },
            "type": "scatterpolargl"
           }
          ],
          "scatterternary": [
           {
            "marker": {
             "colorbar": {
              "outlinewidth": 0,
              "ticks": ""
             }
            },
            "type": "scatterternary"
           }
          ],
          "surface": [
           {
            "colorbar": {
             "outlinewidth": 0,
             "ticks": ""
            },
            "colorscale": [
             [
              0,
              "#0d0887"
             ],
             [
              0.1111111111111111,
              "#46039f"
             ],
             [
              0.2222222222222222,
              "#7201a8"
             ],
             [
              0.3333333333333333,
              "#9c179e"
             ],
             [
              0.4444444444444444,
              "#bd3786"
             ],
             [
              0.5555555555555556,
              "#d8576b"
             ],
             [
              0.6666666666666666,
              "#ed7953"
             ],
             [
              0.7777777777777778,
              "#fb9f3a"
             ],
             [
              0.8888888888888888,
              "#fdca26"
             ],
             [
              1,
              "#f0f921"
             ]
            ],
            "type": "surface"
           }
          ],
          "table": [
           {
            "cells": {
             "fill": {
              "color": "#EBF0F8"
             },
             "line": {
              "color": "white"
             }
            },
            "header": {
             "fill": {
              "color": "#C8D4E3"
             },
             "line": {
              "color": "white"
             }
            },
            "type": "table"
           }
          ]
         },
         "layout": {
          "annotationdefaults": {
           "arrowcolor": "#2a3f5f",
           "arrowhead": 0,
           "arrowwidth": 1
          },
          "autotypenumbers": "strict",
          "coloraxis": {
           "colorbar": {
            "outlinewidth": 0,
            "ticks": ""
           }
          },
          "colorscale": {
           "diverging": [
            [
             0,
             "#8e0152"
            ],
            [
             0.1,
             "#c51b7d"
            ],
            [
             0.2,
             "#de77ae"
            ],
            [
             0.3,
             "#f1b6da"
            ],
            [
             0.4,
             "#fde0ef"
            ],
            [
             0.5,
             "#f7f7f7"
            ],
            [
             0.6,
             "#e6f5d0"
            ],
            [
             0.7,
             "#b8e186"
            ],
            [
             0.8,
             "#7fbc41"
            ],
            [
             0.9,
             "#4d9221"
            ],
            [
             1,
             "#276419"
            ]
           ],
           "sequential": [
            [
             0,
             "#0d0887"
            ],
            [
             0.1111111111111111,
             "#46039f"
            ],
            [
             0.2222222222222222,
             "#7201a8"
            ],
            [
             0.3333333333333333,
             "#9c179e"
            ],
            [
             0.4444444444444444,
             "#bd3786"
            ],
            [
             0.5555555555555556,
             "#d8576b"
            ],
            [
             0.6666666666666666,
             "#ed7953"
            ],
            [
             0.7777777777777778,
             "#fb9f3a"
            ],
            [
             0.8888888888888888,
             "#fdca26"
            ],
            [
             1,
             "#f0f921"
            ]
           ],
           "sequentialminus": [
            [
             0,
             "#0d0887"
            ],
            [
             0.1111111111111111,
             "#46039f"
            ],
            [
             0.2222222222222222,
             "#7201a8"
            ],
            [
             0.3333333333333333,
             "#9c179e"
            ],
            [
             0.4444444444444444,
             "#bd3786"
            ],
            [
             0.5555555555555556,
             "#d8576b"
            ],
            [
             0.6666666666666666,
             "#ed7953"
            ],
            [
             0.7777777777777778,
             "#fb9f3a"
            ],
            [
             0.8888888888888888,
             "#fdca26"
            ],
            [
             1,
             "#f0f921"
            ]
           ]
          },
          "colorway": [
           "#636efa",
           "#EF553B",
           "#00cc96",
           "#ab63fa",
           "#FFA15A",
           "#19d3f3",
           "#FF6692",
           "#B6E880",
           "#FF97FF",
           "#FECB52"
          ],
          "font": {
           "color": "#2a3f5f"
          },
          "geo": {
           "bgcolor": "white",
           "lakecolor": "white",
           "landcolor": "white",
           "showlakes": true,
           "showland": true,
           "subunitcolor": "#C8D4E3"
          },
          "hoverlabel": {
           "align": "left"
          },
          "hovermode": "closest",
          "mapbox": {
           "style": "light"
          },
          "paper_bgcolor": "white",
          "plot_bgcolor": "white",
          "polar": {
           "angularaxis": {
            "gridcolor": "#EBF0F8",
            "linecolor": "#EBF0F8",
            "ticks": ""
           },
           "bgcolor": "white",
           "radialaxis": {
            "gridcolor": "#EBF0F8",
            "linecolor": "#EBF0F8",
            "ticks": ""
           }
          },
          "scene": {
           "xaxis": {
            "backgroundcolor": "white",
            "gridcolor": "#DFE8F3",
            "gridwidth": 2,
            "linecolor": "#EBF0F8",
            "showbackground": true,
            "ticks": "",
            "zerolinecolor": "#EBF0F8"
           },
           "yaxis": {
            "backgroundcolor": "white",
            "gridcolor": "#DFE8F3",
            "gridwidth": 2,
            "linecolor": "#EBF0F8",
            "showbackground": true,
            "ticks": "",
            "zerolinecolor": "#EBF0F8"
           },
           "zaxis": {
            "backgroundcolor": "white",
            "gridcolor": "#DFE8F3",
            "gridwidth": 2,
            "linecolor": "#EBF0F8",
            "showbackground": true,
            "ticks": "",
            "zerolinecolor": "#EBF0F8"
           }
          },
          "shapedefaults": {
           "line": {
            "color": "#2a3f5f"
           }
          },
          "ternary": {
           "aaxis": {
            "gridcolor": "#DFE8F3",
            "linecolor": "#A2B1C6",
            "ticks": ""
           },
           "baxis": {
            "gridcolor": "#DFE8F3",
            "linecolor": "#A2B1C6",
            "ticks": ""
           },
           "bgcolor": "white",
           "caxis": {
            "gridcolor": "#DFE8F3",
            "linecolor": "#A2B1C6",
            "ticks": ""
           }
          },
          "title": {
           "x": 0.05
          },
          "xaxis": {
           "automargin": true,
           "gridcolor": "#EBF0F8",
           "linecolor": "#EBF0F8",
           "ticks": "",
           "title": {
            "standoff": 15
           },
           "zerolinecolor": "#EBF0F8",
           "zerolinewidth": 2
          },
          "yaxis": {
           "automargin": true,
           "gridcolor": "#EBF0F8",
           "linecolor": "#EBF0F8",
           "ticks": "",
           "title": {
            "standoff": 15
           },
           "zerolinecolor": "#EBF0F8",
           "zerolinewidth": 2
          }
         }
        },
        "title": {
         "font": {
          "size": 24
         },
         "text": "Emojis used by person",
         "x": 0.5
        },
        "xaxis": {
         "anchor": "y",
         "domain": [
          0,
          1
         ],
         "tickangle": 0,
         "title": {
          "text": "Emojies"
         }
        },
        "yaxis": {
         "anchor": "x",
         "domain": [
          0,
          1
         ],
         "title": {
          "text": "Count"
         }
        }
       }
      }
     },
     "metadata": {}
    }
   ],
   "source": [
    "df[\"emojis\"] = \"\"\n",
    "df[\"emojis\"] = df['message'].apply(lambda x: get_emojis(x))\n",
    "df_emojies = count_emojis_by_name(df)\n",
    "plot_data = df_emojies[df_emojies[\"count\"] >= 5]\n",
    "plot_data = plot_data.sort_values(by=[\"person\"])\n",
    "\n",
    "bar5 = P.barplot(data=plot_data, x=\"emoji\", y=\"count\", color=\"person\", barmode=\"group\", title_text=\"Emojis used by person\", xaxis_title=\"Emojies\", yaxis_title=\"Count\",xtickangle=0)\n",
    "bar5.show()"
   ]
  },
  {
   "cell_type": "code",
   "execution_count": 27,
   "metadata": {},
   "outputs": [
    {
     "output_type": "display_data",
     "data": {
      "text/plain": "<Figure size 720x576 with 4 Axes>",
      "image/svg+xml": "<?xml version=\"1.0\" encoding=\"utf-8\" standalone=\"no\"?>\r\n<!DOCTYPE svg PUBLIC \"-//W3C//DTD SVG 1.1//EN\"\r\n  \"http://www.w3.org/Graphics/SVG/1.1/DTD/svg11.dtd\">\r\n<!-- Created with matplotlib (https://matplotlib.org/) -->\r\n<svg height=\"506.88pt\" version=\"1.1\" viewBox=\"0 0 516.436364 506.88\" width=\"516.436364pt\" xmlns=\"http://www.w3.org/2000/svg\" xmlns:xlink=\"http://www.w3.org/1999/xlink\">\r\n <metadata>\r\n  <rdf:RDF xmlns:cc=\"http://creativecommons.org/ns#\" xmlns:dc=\"http://purl.org/dc/elements/1.1/\" xmlns:rdf=\"http://www.w3.org/1999/02/22-rdf-syntax-ns#\">\r\n   <cc:Work>\r\n    <dc:type rdf:resource=\"http://purl.org/dc/dcmitype/StillImage\"/>\r\n    <dc:date>2021-02-23T10:49:44.091754</dc:date>\r\n    <dc:format>image/svg+xml</dc:format>\r\n    <dc:creator>\r\n     <cc:Agent>\r\n      <dc:title>Matplotlib v3.3.4, https://matplotlib.org/</dc:title>\r\n     </cc:Agent>\r\n    </dc:creator>\r\n   </cc:Work>\r\n  </rdf:RDF>\r\n </metadata>\r\n <defs>\r\n  <style type=\"text/css\">*{stroke-linecap:butt;stroke-linejoin:round;}</style>\r\n </defs>\r\n <g id=\"figure_1\">\r\n  <g id=\"patch_1\">\r\n   <path d=\"M 0 506.88 \r\nL 516.436364 506.88 \r\nL 516.436364 0 \r\nL 0 0 \r\nz\r\n\" style=\"fill:none;\"/>\r\n  </g>\r\n  <g id=\"axes_1\">\r\n   <g clip-path=\"url(#p99fbb45690)\">\r\n    <image height=\"198\" id=\"image795cf47a14\" transform=\"scale(1 -1)translate(0 -198)\" width=\"198\" x=\"7.2\" xlink:href=\"data:image/png;base64,\r\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\" y=\"-64.472727\"/>\r\n   </g>\r\n   <g id=\"text_1\">\r\n    <!-- User 0 -->\r\n    <g transform=\"translate(67.236989 58.8)scale(0.24 -0.24)\">\r\n     <defs>\r\n      <path d=\"M 8.6875 72.90625 \r\nL 18.609375 72.90625 \r\nL 18.609375 28.609375 \r\nQ 18.609375 16.890625 22.84375 11.734375 \r\nQ 27.09375 6.59375 36.625 6.59375 \r\nQ 46.09375 6.59375 50.34375 11.734375 \r\nQ 54.59375 16.890625 54.59375 28.609375 \r\nL 54.59375 72.90625 \r\nL 64.5 72.90625 \r\nL 64.5 27.390625 \r\nQ 64.5 13.140625 57.4375 5.859375 \r\nQ 50.390625 -1.421875 36.625 -1.421875 \r\nQ 22.796875 -1.421875 15.734375 5.859375 \r\nQ 8.6875 13.140625 8.6875 27.390625 \r\nz\r\n\" id=\"DejaVuSans-85\"/>\r\n      <path d=\"M 44.28125 53.078125 \r\nL 44.28125 44.578125 \r\nQ 40.484375 46.53125 36.375 47.5 \r\nQ 32.28125 48.484375 27.875 48.484375 \r\nQ 21.1875 48.484375 17.84375 46.4375 \r\nQ 14.5 44.390625 14.5 40.28125 \r\nQ 14.5 37.15625 16.890625 35.375 \r\nQ 19.28125 33.59375 26.515625 31.984375 \r\nL 29.59375 31.296875 \r\nQ 39.15625 29.25 43.1875 25.515625 \r\nQ 47.21875 21.78125 47.21875 15.09375 \r\nQ 47.21875 7.46875 41.1875 3.015625 \r\nQ 35.15625 -1.421875 24.609375 -1.421875 \r\nQ 20.21875 -1.421875 15.453125 -0.5625 \r\nQ 10.6875 0.296875 5.421875 2 \r\nL 5.421875 11.28125 \r\nQ 10.40625 8.6875 15.234375 7.390625 \r\nQ 20.0625 6.109375 24.8125 6.109375 \r\nQ 31.15625 6.109375 34.5625 8.28125 \r\nQ 37.984375 10.453125 37.984375 14.40625 \r\nQ 37.984375 18.0625 35.515625 20.015625 \r\nQ 33.0625 21.96875 24.703125 23.78125 \r\nL 21.578125 24.515625 \r\nQ 13.234375 26.265625 9.515625 29.90625 \r\nQ 5.8125 33.546875 5.8125 39.890625 \r\nQ 5.8125 47.609375 11.28125 51.796875 \r\nQ 16.75 56 26.8125 56 \r\nQ 31.78125 56 36.171875 55.265625 \r\nQ 40.578125 54.546875 44.28125 53.078125 \r\nz\r\n\" id=\"DejaVuSans-115\"/>\r\n      <path d=\"M 56.203125 29.59375 \r\nL 56.203125 25.203125 \r\nL 14.890625 25.203125 \r\nQ 15.484375 15.921875 20.484375 11.0625 \r\nQ 25.484375 6.203125 34.421875 6.203125 \r\nQ 39.59375 6.203125 44.453125 7.46875 \r\nQ 49.3125 8.734375 54.109375 11.28125 \r\nL 54.109375 2.78125 \r\nQ 49.265625 0.734375 44.1875 -0.34375 \r\nQ 39.109375 -1.421875 33.890625 -1.421875 \r\nQ 20.796875 -1.421875 13.15625 6.1875 \r\nQ 5.515625 13.8125 5.515625 26.8125 \r\nQ 5.515625 40.234375 12.765625 48.109375 \r\nQ 20.015625 56 32.328125 56 \r\nQ 43.359375 56 49.78125 48.890625 \r\nQ 56.203125 41.796875 56.203125 29.59375 \r\nz\r\nM 47.21875 32.234375 \r\nQ 47.125 39.59375 43.09375 43.984375 \r\nQ 39.0625 48.390625 32.421875 48.390625 \r\nQ 24.90625 48.390625 20.390625 44.140625 \r\nQ 15.875 39.890625 15.1875 32.171875 \r\nz\r\n\" id=\"DejaVuSans-101\"/>\r\n      <path d=\"M 41.109375 46.296875 \r\nQ 39.59375 47.171875 37.8125 47.578125 \r\nQ 36.03125 48 33.890625 48 \r\nQ 26.265625 48 22.1875 43.046875 \r\nQ 18.109375 38.09375 18.109375 28.8125 \r\nL 18.109375 0 \r\nL 9.078125 0 \r\nL 9.078125 54.6875 \r\nL 18.109375 54.6875 \r\nL 18.109375 46.1875 \r\nQ 20.953125 51.171875 25.484375 53.578125 \r\nQ 30.03125 56 36.53125 56 \r\nQ 37.453125 56 38.578125 55.875 \r\nQ 39.703125 55.765625 41.0625 55.515625 \r\nz\r\n\" id=\"DejaVuSans-114\"/>\r\n      <path id=\"DejaVuSans-32\"/>\r\n      <path d=\"M 31.78125 66.40625 \r\nQ 24.171875 66.40625 20.328125 58.90625 \r\nQ 16.5 51.421875 16.5 36.375 \r\nQ 16.5 21.390625 20.328125 13.890625 \r\nQ 24.171875 6.390625 31.78125 6.390625 \r\nQ 39.453125 6.390625 43.28125 13.890625 \r\nQ 47.125 21.390625 47.125 36.375 \r\nQ 47.125 51.421875 43.28125 58.90625 \r\nQ 39.453125 66.40625 31.78125 66.40625 \r\nz\r\nM 31.78125 74.21875 \r\nQ 44.046875 74.21875 50.515625 64.515625 \r\nQ 56.984375 54.828125 56.984375 36.375 \r\nQ 56.984375 17.96875 50.515625 8.265625 \r\nQ 44.046875 -1.421875 31.78125 -1.421875 \r\nQ 19.53125 -1.421875 13.0625 8.265625 \r\nQ 6.59375 17.96875 6.59375 36.375 \r\nQ 6.59375 54.828125 13.0625 64.515625 \r\nQ 19.53125 74.21875 31.78125 74.21875 \r\nz\r\n\" id=\"DejaVuSans-48\"/>\r\n     </defs>\r\n     <use xlink:href=\"#DejaVuSans-85\"/>\r\n     <use x=\"73.193359\" xlink:href=\"#DejaVuSans-115\"/>\r\n     <use x=\"125.292969\" xlink:href=\"#DejaVuSans-101\"/>\r\n     <use x=\"186.816406\" xlink:href=\"#DejaVuSans-114\"/>\r\n     <use x=\"227.929688\" xlink:href=\"#DejaVuSans-32\"/>\r\n     <use x=\"259.716797\" xlink:href=\"#DejaVuSans-48\"/>\r\n    </g>\r\n   </g>\r\n  </g>\r\n  <g id=\"axes_2\">\r\n   <g clip-path=\"url(#pcd5a280e82)\">\r\n    <image height=\"198\" id=\"imagef694682b4d\" transform=\"scale(1 -1)translate(0 -198)\" width=\"198\" x=\"311.563636\" xlink:href=\"data:image/png;base64,\r\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\" y=\"-64.472727\"/>\r\n   </g>\r\n   <g id=\"text_2\">\r\n    <!-- User 3 -->\r\n    <g transform=\"translate(371.600625 58.8)scale(0.24 -0.24)\">\r\n     <defs>\r\n      <path d=\"M 40.578125 39.3125 \r\nQ 47.65625 37.796875 51.625 33 \r\nQ 55.609375 28.21875 55.609375 21.1875 \r\nQ 55.609375 10.40625 48.1875 4.484375 \r\nQ 40.765625 -1.421875 27.09375 -1.421875 \r\nQ 22.515625 -1.421875 17.65625 -0.515625 \r\nQ 12.796875 0.390625 7.625 2.203125 \r\nL 7.625 11.71875 \r\nQ 11.71875 9.328125 16.59375 8.109375 \r\nQ 21.484375 6.890625 26.8125 6.890625 \r\nQ 36.078125 6.890625 40.9375 10.546875 \r\nQ 45.796875 14.203125 45.796875 21.1875 \r\nQ 45.796875 27.640625 41.28125 31.265625 \r\nQ 36.765625 34.90625 28.71875 34.90625 \r\nL 20.21875 34.90625 \r\nL 20.21875 43.015625 \r\nL 29.109375 43.015625 \r\nQ 36.375 43.015625 40.234375 45.921875 \r\nQ 44.09375 48.828125 44.09375 54.296875 \r\nQ 44.09375 59.90625 40.109375 62.90625 \r\nQ 36.140625 65.921875 28.71875 65.921875 \r\nQ 24.65625 65.921875 20.015625 65.03125 \r\nQ 15.375 64.15625 9.8125 62.3125 \r\nL 9.8125 71.09375 \r\nQ 15.4375 72.65625 20.34375 73.4375 \r\nQ 25.25 74.21875 29.59375 74.21875 \r\nQ 40.828125 74.21875 47.359375 69.109375 \r\nQ 53.90625 64.015625 53.90625 55.328125 \r\nQ 53.90625 49.265625 50.4375 45.09375 \r\nQ 46.96875 40.921875 40.578125 39.3125 \r\nz\r\n\" id=\"DejaVuSans-51\"/>\r\n     </defs>\r\n     <use xlink:href=\"#DejaVuSans-85\"/>\r\n     <use x=\"73.193359\" xlink:href=\"#DejaVuSans-115\"/>\r\n     <use x=\"125.292969\" xlink:href=\"#DejaVuSans-101\"/>\r\n     <use x=\"186.816406\" xlink:href=\"#DejaVuSans-114\"/>\r\n     <use x=\"227.929688\" xlink:href=\"#DejaVuSans-32\"/>\r\n     <use x=\"259.716797\" xlink:href=\"#DejaVuSans-51\"/>\r\n    </g>\r\n   </g>\r\n  </g>\r\n  <g id=\"axes_3\">\r\n   <g clip-path=\"url(#p70752aada2)\">\r\n    <image height=\"198\" id=\"image19bd70549c\" transform=\"scale(1 -1)translate(0 -198)\" width=\"198\" x=\"7.2\" xlink:href=\"data:image/png;base64,\r\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\" y=\"-301.68\"/>\r\n   </g>\r\n   <g id=\"text_3\">\r\n    <!-- User 1 -->\r\n    <g transform=\"translate(67.236989 296.007273)scale(0.24 -0.24)\">\r\n     <defs>\r\n      <path d=\"M 12.40625 8.296875 \r\nL 28.515625 8.296875 \r\nL 28.515625 63.921875 \r\nL 10.984375 60.40625 \r\nL 10.984375 69.390625 \r\nL 28.421875 72.90625 \r\nL 38.28125 72.90625 \r\nL 38.28125 8.296875 \r\nL 54.390625 8.296875 \r\nL 54.390625 0 \r\nL 12.40625 0 \r\nz\r\n\" id=\"DejaVuSans-49\"/>\r\n     </defs>\r\n     <use xlink:href=\"#DejaVuSans-85\"/>\r\n     <use x=\"73.193359\" xlink:href=\"#DejaVuSans-115\"/>\r\n     <use x=\"125.292969\" xlink:href=\"#DejaVuSans-101\"/>\r\n     <use x=\"186.816406\" xlink:href=\"#DejaVuSans-114\"/>\r\n     <use x=\"227.929688\" xlink:href=\"#DejaVuSans-32\"/>\r\n     <use x=\"259.716797\" xlink:href=\"#DejaVuSans-49\"/>\r\n    </g>\r\n   </g>\r\n  </g>\r\n  <g id=\"axes_4\">\r\n   <g clip-path=\"url(#p5aefca21f1)\">\r\n    <image height=\"198\" id=\"image197f49aef4\" transform=\"scale(1 -1)translate(0 -198)\" width=\"198\" x=\"311.563636\" xlink:href=\"data:image/png;base64,\r\niVBORw0KGgoAAAANSUhEUgAAAMYAAADGCAYAAACJm/9dAAC730lEQVR4nOz9d5gc13nni39Ohc65J+cMYAY5kSDAnElREiWKCpYoyVnOa3t9vfbd+1t7vffnfbz37tq70jrJsmQFK1BUIEVSzBkgiJwHwGBynumezl1dVef+0TMNDCYikKJ3/dVDkdNddep0Vb3nvPH7Ciml5F/xr/hXzIPys57Av+Jf8X6EBiClJJ0zSOUMbFvidmgEvC4UIRBCMHeMLSXJTJ5svoCmKQQ8LhyaihCCVDZP1igQ9XtQlKK8pXMGmZxBJOBBnf3MlpJUNk86Z6AKBb/HicuhIYQgZxSYSeeIBrxoavH4nGGSSGcJ+z3omnpFP05KG1hsQxTA/N82/7iL310ca/Fj5n++9GcrXefidwuv/a9476EBnBmY4H/88A2SmRwg0DWFXesa+fjtm/G5nUgpmUnn+N6rR3nrZC85w0RTFVqqo3zhgzdREfLxwsGzvHK0h//w2XsIeFwAvHq0h2f2n+ZPPnsvIZ+bbL7Ak3tP8tzBs2RyBkIIKkI+fuNDu2mujnC0Z4S/fWov//Fz91EdDQBwsm+Uv/7xW/yfP3cXDZXhK/pxvcnnGEy/gU0BKW2EUFDQKHdvZE3wo4DAsg3GsgcZSr9J1prGqQaocG2i3ncLmuJGSknBTjGUeYuxzEEMO4VLDVPvu4Uq9zYkkrMzP0Bi0RH8CAINU2Y5E/8uElgbehQNF4adZCj9BmPZQ5h2Fo9WQY33RqrcWxFCJWUOcyL2ddaFPk7Q0XQdH/G/4mqgAbgcGh/c1UljZRinrtEzMs2XfvQGzdVR7tjSRsGy+afnDrD/zACP3bON+vIQ2XyB4ekEyuzqljUKxFNZpH1xRcwZBWLJLLZd3G2e3HuSb798mE/ftY219RUULIvBiXhpdzAKFtOJDNYlYximxXQyg2nbV/zjylxdONUQceM8J2LfYG3oY0Sda/FoFYDAlhbdM9/nbOJHVLq3EHGuIW/FGc7so8K9CU1xY8osh6f+lpHM21R7dhBxdpC1pojlz1Hp3gJIpvPd2LKADNpYssC5mR/Tm3yeHeW/iyZcFOwUByf/B7H8Oao82/HrtaTNMYbTb1Hu2ogmVAwrxUhmHy3++6/hcf4rrhc0gKaqCE1VEaSUGKbFVCIDFF9sgPFYkleP9fDZe7Zzx5Z25jb6Ta01q75QKpvn6bdPc/e2Dh66sRNFKY6yvqnqOv6c+fA76vA76nCqQbpnvk+FezOV7s2l7xPGIN0zT7A+8hjN/vtQhIqUEkvmUYSOlJLJ3AkG06+zrew3qffdWjrGxkSgIjFL40lpM5x5i3OJH7I+/FnK3RsRQjCceZuJ7FFuqvr3RJ2ds+qWjSXzqMLxrv3+nwWklNi2ZM6nI2bVcSH4F6UilmyMVM7gQPcgLx06x5nBCba01XLDugYA4qksiXSOE71jxFPZeQNsbKlhQ3Px5b5cg74U6ZzBVCLDwMQM33zpEJfeoqaqCLu7mi755L1xlCWMPgp2Ck3xMJ0/Pe87j1aJW40Sy5/DofqpcG9GEUUbRwiBil6c6exU40YPF5LP0D3zA5r999Hgu70kRJO542iKB8vOM5U/WbqGQMHvaMAhvMvOU0rJRDrNwZERFCGoDwQwbJuuigoOjYxQFwhQ7feTyOU4NjbG9tpaAPYPDbGxqoqA0zlvvNGhGEfe7sHtdbJjTwduT1E4kzMZ3n7tLFJKtu9uIxTxAZDPFXjnjbOkkjk6NzdQ31S2YH62ZTMyGOP4wT7OnR5mejKFAHxBNzX1UVrXVtHSUUUo4istinPoPjFEz5lR5GX216V22uyVAEG03M/WG1vR9OLzMPIF3nnzHDOxNDX1UdZvbURVF/qVbMvm6IFeRganCYa9bL+pHYdTW/SeawCprMF/ffxVugcnuGFtAw/fvIG19eW4HMWHr2saCMHw1AymZQFFo/iNE718+s6tJcEwCiYF07p4wwBRtHPRVAVNUxibTuJ2FCdj2ZK3Tvaxc019STAKlk3OuHQVnn9rricsmcewkxyf/iqqKP5WW1pkzHHWRx5jTfARLGmgCh1FLH4D52BLg6PTXyHqXEd78MOoytxOUNyBEoV+Dk59CTH7S0w7h2En2VP1p1S4N87+VgksVBlzpskX9+1DCEFzOMzjJ05QGwjQHo3yg5MnuaetjWq/n/F0mm8cPcq68nIUIfj64cP8wc03LxCMsyeH+as/+zGVNSHWbawvCcbkWIK/+S9PY1s2//GLnykJRiaV5xt/8zJ9PeP85h8/NE8wpJSkkzme/cFBfvK9dxgdimFZC3+Dy+2gvbOG3/+PD1NZM99W3PfKGf75H15Fzu40iwYQBKWdZ/POFtZvbSwJRjZj8K2/e4WzJ4e5/f6NrNtYv6hgWJbN04+/wyvPHqejq5auLY3LC8bw1AwHzw7y+4/exo3rGgHIF0ws20ZVFCrCPlqqImxrr+MTt29GVRXODExwsm+MhspwaYscjSU52T/Gbr8HKSVDkzO4HDoOTUXXHKyrr8DncfJbD+/BpeuMx5OcHhinrbasNEYinePw+SEaZ8cdmUqgKApOh8Z0OoNxieBdCkUIwh73FXmu3GoZTjXMlugXCDvbAUiZw7w28u/RFA8g8Gjl5K0EOWsKh+JfUh0oc3URcrbRl3yeqdwpqj3bEUIFBF6tCr9ex66KP8apBgEYyezj0NSX0BTXxQcnDdKFMaRLzrtOMp9nNJXi391yCw2hEJZt0z8zs+rf+W4imzb45t+9wpPfeRuzYFFVF6ajs5ZoRQAhIJXIMj4yw1D/FCOD02QzhQVj7Lp9LeFyH5lUnmw6TzqVZ9+rZxgbjhMMe9l1+1oCIQ8erxOP10lNfQSHY/mF6lqhAUQDXurKgvzgjeOc6B0jmckxmUjzhYduorEyTNDr4uO3b+arz+5ncHKGoNfF0Z4Rupoq2d5RVxpMV1W+9+pRDp0dwjAt3jzRy0f2bMDt1FGE4BO3b+G/ff9V/vxbL1ETDXC6f5ywz82dW9tLY/jcDl450sOFkWl0TeXNE71s66jH73Hxj28coHt0EltKptMZPA4HntldzePQ+bU7b6QxunrPVcjZQtDRxGD6NQKOehThYDx7BE1xUTZrC1S4NqIrXk7Gvsna0MdxqgEMK4WqOPFpF20sKW1a/R9AIDgy/fdIbKo9O1GESrXnBnqTP2Use4B6321YMs9IZj8hR9u8MQSCvtQLePUqfHo1BTuDSw1jSQUBOFQVRQjKvV6Gk8nidSm6wOdhzgXMu6uU2rbNq88d5yePv4Nl2dz+wEYe/fzN1DRE0GYXKGlLcrkC0xNJLpwdIxTxLBinbV0Nbesu3gfLspkYm2FsOE5lTYhf+O278QcXnvduYlYwPPzhJ+/gjRO9DE8mcDt1bt/URtjvBoqr8Z71zZQHvbx9up9EJs9Duzq5qauJoPfiilcdDfDY3ds5dmGEVDbPFz54E7u7mkrxkM6mSv745+7izRO9TMRT7F7fxJ4NzVSF/QDURAM8ds92trXXse9UPxMzKT5151Zu2diCz+XgUzduxjAtjg+N8s6FIT68tZOgx4VAoAgIe6/s5jmUAJujv8LRqS/z+uh/QKAgsdgQ+RwBR3Hn9Ok1bC37NU7E/ok3xv4UVehYskCD9zbWRx4rjSWRqIpOe+BDSGlzbPorKEKjyr2NsLONrshjdMe/T2/qBaQ00RUvm6K/hK4U7QshBF6tklrvbo5Nf4WCncaSBhsin0Nn+7x5X7qbmJbF+elpdjc2ksjnQUrU2VhKyjC4MD1NfbC4S+mKcl0N4Ph0mmefOEguY9C5uYHP/vqdlFcF511DqKK00tddZpusCqL0f+8pNCje6LryEB+/bfPSB6oKXU1VdC3jRRJAR20ZO9bUL/q9IgTNVRGaqyKLft9SE6WlJgpAW+3Cmxj1FV/8V89coLO2grXV5df0oIUQRJ3r2F3170kYg9iYeLVKvFolQiizxyhUuXcQdnaQKgxj2lk0xY1Pq17glQJQFScdwYcpd29AVzyzv1ulyXcXFa5NpM3RotGt1+FUQ6X5+/VadlT8HiFHKzWeG0iZIyhCJ6A3EMsKHJpWOlYVAl1V534EB4aHiedy9M/MsKm6Gq+ukyoUiHo87B8a4sDwMA5N47NbthBxu6/6fl2OC92j9J0fR1UV9tzZSXll8F+U52k5vLuK2ruEiM/NU0fPYNsS56wBpqsqO5rrCHkuPvhitL6AJfOXeTwuQgiBUw1R7g4teT0hBC41hEtdeMxihqKqOClzdV02hoJXr8SrVy56DV3xUubqBEBTqvDqFxegsMvk13fuLL3UO+rqWFdeXhQQReEDa9ZQFwigKAqt4TCaquIFfnvXLkIuFwMzM+iqis9x/VzDUkr6eibIZgzcHgeta6sRyv8aQgHXUTDCfg/1lSEsYZO1DKScTbwQAk0oqOL6beO72hpJ5gzOjk8yF/dz6RrrayvnCUbOinEi9jVi+bNIaSGWSA0rxiUklm1jYZdedkWAIhQ0oZZ+y0IIVKHPepvenRfDqWmsKS8v/V3m8VDm8ZA3i7uVz+FgU3X1vHN0VaU1UtyZo57rr59LWxKfSiGlRAg4d3qEdCq34nker5POTfU4nPp1n9P1xDUJhpSSvG0yko1jVGTx6hZ/0f0TZgpZDKuAIhS8mpMKV4AmXxlrA9U0+8oJ6O5SxPzy8WYKGYYyscsziqhyB4k6i+5Dn9PBw1s7sWfztwzTQleVi+rFLHTFQ5P/buq9tyKESsjRUvrOkjZxI0N/eopzyXEGMlNM5JIkClkM20QCLkUn7PBQ7QnR4qug3V9JjTuES9VLQiJQWBt6FIlEoDKciTNtpObNQxUKDd4oXm2+2/RaoSoKtzY10RAKXddxVwMJWGZxVUqn8vzjf39+QXxiMTS0lPMf/vLniJa/O4KxlGZwpbgqwZBSkrUMDk3388zwUQ7G+pjMJcnb5pLnqELg19y0BSq5u6qL26rWUeFc6P58dvg4/6P7+XnuFFVR+I01d/FIww4AYuks0+kMjdEwz504x4unzrOhropHd2zA7bh4wzXFtUClMW2LC6lJXhw9yesT3fSnp0iZeSy5fMqJQ9Eoc/rYGK7nnur17Ig249NcCKEQcBQDoYZl8vfnXua5kRPzzvVqTv58y6NsjjQse40rhaYo3NPevvKBS6AYM1j4IsnS/y0NIQSu2fiHogiq68KleMjlsCybwd5JctkCZmFxd/v1QsGwFv1NV4orFgxb2pxPTvD1C2/y8tgpZgrZlU8CLCmJFzK8M3WBI7F+nh4+ymdb9rC7vB1dKWbo2kjOJEZIFuZvyapQMKyLQrf/wiDjyRRep4O3ewa4d307z588z2BshvbKxT0fUkriRoYfDB7g+/0HGMrEsK9gdTFsk+FsnOFsnNfHu9lV1sZjLbvpDNWizhrqWcvgXHKcpDl//hK5ouD9LFAoWPOCcXN3w7bsywK1csFKLASUVwVRNQVNU3ns1+5g8w2ti14nOZPhT//Nt7hwdgynS0d3XFmW9JVgZjpNwTBxuhbuSJL5NuFy+9sVCYZpW7w5cY4vdj9Pd2Lsqretgm1xONZP37Ef8Jnm3Xy86Qa8mpOcVaA/M73i+ZOpNCG3i3gmS2M0xJ72Jk4Oj5eiypdDSslQNsZ/P/08L42dwlhmZ1sNUmae50dP0J0c5Qsdd3BnVRe6ohIz0kzmk9c09nsJI2+STRulvwuGVRQKwyQ1c3HBs+1iyocANG3OWydoaqvEH3CTiGcYHpjmpjs6F1WnYlMp0qk8AJU1Idzudy8/bGwkzvjoDL7AQu+bZdpk0sV5aLqKskh0fA6rLlSybJuXxk7z5yee5Ezi8ryWq0PMyPB3517mH8+/TtY0SBSyjGVXjuhGvB5eO9vHm+f6GZie4fEDx0nm8pT5FzcyJ/JJ/p+Tz/DcyPFrFoo5SKAvPcV/OfkMzw4fw7QtxnKJVe+gi44pJba0yVp5pvJx+jMjnE32cyrRw8mZHk4nLnA22U9/eoTx3DSpQgbDLly16pDLGIyNxEsqVWwyST5XwLJserpHS+PmMgaZlIFQFLy+i3Gr+qYy1m6sx7Ylb750ionRmQVzsW2bo/t7iE0l0XSVzTe0lFI53g1MTyR5/fkTFIyFz3lidIahvikAImU+nEukg8AqdwwpJQeme/nL0z9lOBtf8XhNKDhVHV2oCAGmbVOwLfK2uUCgslaBb1x4k7DDw9pgNXEjs+L4N7Y2MJZI0TsZw7JtukcnCbhd5AoLb0bOKvC1njd4bfzMqlQnXVFxKhq6Unx4pm1TkBaGZS56/mQ+yZe6X6Dc5acvPUXeWpjysBKKTocU51L9nJw5T096iMl8nIyVJW8ZmLKo1ggEqqLiUDRcihOf5qHSFaXBU0Wbv4FGTzUhhx9VrO7FMy2b1587wdoNdWiaylsvn6ZQsHA4Nfa9eoab7lhHTX2EU0cHmImncXscRMr9pfM9PicPPLKd08cGOHtymK/+j+d55HN7qK4No6gKRr7A0QO9fP/rb1EwLDo31bP9pvZFvXu2bWOadmnHMgtXqXoKePrxAwRCHm6+qwtfoFhTMz2Z5Htfe4PxkTiqqrBhW1MpOr8YVhQMKSUj2Th/ffZFBpdRc5RZz9GOaAubww3UeSP4NCcCgWGbTOVT9KUnORzr53h8kKl8qvSaZSyDr5x/jZ1lLWQsY8lrzCHodvKZXVsW1Ghol22NUkoOTPXy5OBhzGV0fE0oNPvK2VnWQlewlip3CI9a3O4N2yRmpBnITHMiPsSx+AAj2Zl5NsNwNs4Xz7xAQHcve53LIaUkY2V5c/IIz4/t40J6iJyVW158L7NdTycvIBC4VCfVrjK2htexp3wLjZ4aNGV5AWnpqGJyPMGf/f63cTg1Th7uRwjBrfduYHJshj//w+9S0xDl3KlhjLzJmq5aqmovptwIIdi8s4VHP38z3/q7V3j5mWOcONxPfXMZbo+T2GSK3vPjpBJZahujfPpXb6esIrDoXA7uPc+LTx0hlciRSuboOz++yrt4EULA7js6Geqf4it/9TzP/egwVbVhbNtmqG+Kof4pLMuma3MDN966ZlkjY0XBKNgW3+l7myOxgSWP8WpOHqjZyCONO2jyluOYNaYvh5SSR60C55JjPN7/Ds+NHC8JwkQ+ydNDR5dc1S3b5rkTZxmdSS36vduhccfaViK+i+pU1irwxMAB4oWld6GIw8snmm7gwdrNVLoCS8ZbpJQYtslQJsbzoyf4wcDBebvnsfjAkjbOYpBSMp6f5ut9T/HW5BHy9soLwpJjIclaOXrSg1xID/HaxEHurrqRe6t2E9R9C36Prqv4g242bW9i201tfOnPn2J4YBpFUeja3MCjn99DfDrNl/78Kfa/1g1AdV2Ehz99E4HLcpYcDo0HH9lBtNzPj7/9Nhe6xzi49zy2JVG1ouq16/a1fPQzu1m3qX7JIOBg7yTvvH629PQVReAPuvF6nawU/hJC4PU5CZf5ueWeLqLlAb715Vc4eXiAC2fHsC0bVVXw+Jys39LIp375ViqqQ8vG1cRyLCFSSo7GB/i3B7/NeC6x6DEB3c0vt93Gww3b8KiOVQXxiiulwRMDB/ibsy8t8EJdDlUo/M6aewinogzHEsxkcxwdGKWrtoKA20XvZAwpJX/44G2ltBGAY/FBfmf/N5gyFhemsMPD73c+wD3VXcUg3mrmPhsIPBof4C9PP8fRWP+KCppPc/KX2z/NtmhT6bNpY4Yvnfs2+6eOL7oYaELFqTpwK04cSjFuYkubgm2StwsYs/8sZevpQmNX2SY+2/RByp3heb8tlcgyNhwnFPURinjpPTfG6aODOF0667c2UlkTQkrJYO8UJw73A5KOzlqa2ipQl1A/bFsyE0vTd26c4cFp8rkC3tn8qIbWCrw+57L3NzaVYmoiWXQbCVH6t8ulU10fWTSNfA6WaTE8GKOQN6mqDeP2Okglslw4O8ZQ3xS5bAG310FdYxlNbRV4/a4Vn/WyO4ZhW/x48DATSwiFQ9H4VNMuHmncgUtdfcCmmDDn5NGGnWRNg789+zIFubx/W1UUHty4Bgk8c6yb5vIwH9rSiSoUkvk8f/fK2yRz+ZJgFNWoC8QK6cXHEwqfatrFPdXrS/bEquaOQFNUtoQb+cOuB/nToz/gVGJk1ecDWNLiJ8Ov8c70iQVCEXEE2Bxax8ZQGzXuSvyaB03RimU7UmJKi6yVJ15IMJKd5Gyqn7PJPsZyUyVbBKAgTV6fOIQmVH6p5aP49IsLhi/gnue1aV1TTeua+ZFzIQQNLeU0tJSzGiiKIBz1EY762HxDy8onXIa5c68GqqYuKJ7yBz1s3N7Mxu3NVzXmsoLRn57izYmzS66I2yNNfKxxB07l6gLouqLySMMO3p7qYf/UhRWPF6KorGSNApPJDFnDxKGppHJ5plNZzEt88nnb5Fh8cGFK9ixafRV8sG4Lmrg6BiEhBGsC1fxi2638ybEfkrgCb9RodopXJg4siG10BVr5TNNDtPsb0IW24qompaQgTSbzcfZPH+eZkTcYzI6VvrexeWPyEOsCLdxTtYtMIkd/9ygFw6SyPkJFXQRFUUgnsvSfHcU0TGpaKvAFPYz0TVLfWoEEBs+PU9NUhqoqDPdOMj0+QyDspa61kkyqOKZpmAhVobIugj/kIT6ZpKa5gkK+wGj/FHWtldiWzcD5MZLxDNHKANVN5Yz0TRKMePGHvIwPTaNpKuGKAJZlk00buNw6+rtce7EYlnwrbCnZP9XDWG5x96lXc/JI4w4iDu9V50AJIQg5PHykfjuOKxCunS119E3F+L+eeI7/8IPn+U9PvkxDNERt+KJhlzbzDKSXdhbcUrmGctfShUdzkFJi2jbWImQMihDsKm/jpvK2Vc8d4Eyyl4l8bN5nVa4ov9T6CJ2BlpLqtBKEEDgUnRp3OR+ouZXfXfMYnYH5q3XeLvDC2F5mCimGL0xw5nAfA+fG+NZfPstI7ySZZI5v/eUzvP38Cc4dH+TCySFmppL88O9fJp8rkEvn+eHfv0xiKsW+547zk396nQsnhzn8ejeJ6RSWaTE1OsP3/voF+s6MYOQKDJ4f59l/3otlWsQmkvzoK6+QTed47jt7efkH73Dh5BCHXjtDLp3nuW/vpfdUccfd99xxjr55Ftuy+dE/7+OPf+1rfPNvXyGfu3JP37ViybcxZxXYO3kea4kVd22gmi2RxmtODBRCsD3aRKM3ytnk2MonAHXhIH9w/630TsZIGwblfi+N0TDOS/TfuJFhZgmj26XqbI00LjCWDdPi9MQE2UJhNmlPMpZM8/ixE3h0nZ/buoly3/z6bLfq4N7qDbw6dmZVHjWAvswI1mWq47ZwF83emqu+n6pQaPPV81jTQ/yX019l0ohfcr1RetNDbNywhoq6CN2H+zh14AK2ZTM4u4J/4c8+VizzlDAxEp+XumGaFvlcgTeePkLHpgZqmsuRsmhXlFeFuOHu9Rx5s5ttt62jrqWCUwcuYM1FzqXEKlgkptO889Ipdt23kVBZ0SFgmRaWaWPPLjq2VVyA0uk8Lz99jO4TQ8SnU9z1wc3UNkSxbJusVcCt6mStAh7NQd4yyVsmDlVDV5TivKSNS7uo2ttSkizkUYTApzmwZv9WhcCnO8iaJm5Nw5pdBF2qtrRgTOSTnFviRVUQ7CprI6h7KNgW6UIeh6qhzXp0UoU8TlUrpUoAOBSVjGXgUDQKtoVb1clZJpqiEHH62BxuWLVgAOiqgqoIFASqKP73PAPTzJFd4kUNaC5q3fMNUiklz589zw9PnMKpaeiqgi0l+YLJA+vWcGZigpfO9fDo5g3zxhJC0BWqpd4b4UxidMV5SylJLWL3NHlrrsirtRiEELT7G9kcXsvzY3tLn2etHBfSw1TEo/zw71+hprmcR75wJ7UtFZw53IeiFOvx54jyAPJZoyQcc5RIhXwxIh4bT/L2Cye45YNbKL+sfrt0zVQe27KLjCGzv9vIF0jG01imxWtPHuLTv/cAlmmRy+SLO7NpoQiBrmuUVQQ4d2qYYNiLazZSPpCO893zR/lI8wa+ff4In2rfwjP9p3GoGlO5NA82riNvmYxkkjzQsLY0l6NTI7wwdJaN0Wr2VDXzk/7TjGdTeDUH99R38FTfKT7cvJ6JbIqTsTEebl6/uGBIKelPTzJtLG64ejUnG8P1WNLmib4jxPIZ0maeneVNTOSSTObS5G2TjkAFTlXDqWhsitTx3QuH2F7WwPHYMI82b+O54VO0BypYG6xkU7iBx/vfWVUQbiqd4W9ffptz41PE0llqQgFuW9vCw1s70WYzbPOWiWEvbtD7dfeCTFcp4ejIKL+550ZqgwH+84uvsbu5gZfO9XB7WzNRr5sDg8OLjhdyeFgXqFmVYACLxheUq7R1LocuNFp99bw0/vY8G2Y8N00sliCXyROpCNBzYojymjB1rRUoiuAHf/8yoTI/NU3lRKtDTI3N8OLjb6MoCqqqEIz62HbbOoYujKOoAl/QTUtnHQXD5PzxAZLx+bvzSO8ELz3xDrHxBIGIj0hlkPU3tGLkCrg9Tqrqo1Q3liFtyb7njpPLFug+3M8HP38LLrfOz//O3ey5q5P65nLCUR8SGE4nSJsFjk+PkirkGUzFieWz3FzdzEvpGdIFg4JtkTDmezm7ZybYUV7P7qom+lNx3hkf4MHGdeiKWiyTzmewpE3eMpmZPXfJHaM3NUluiShumdNHnSfCZC7FYCbGL7bv5qnB4yQLOSZyKeq9YUazCWJGBr/uxFRsJMUJ5CyTuFE0VGeMHHnbLHpAZtOyL0/AWwxv9wwS9Xm5fW0Lb50f4ENb1vH3r+7nxtYG6iPFMs6CvXSWpVvVF3iiJJJYNkv3xCQZo4BDU6kPBtFmV9F4NodbW/x26UKlPVCJKsSSqucchBBUOKMIxDxX63huasXfvRoIIfCorgW7T9bK0bqhnvs+pTAxHKOsOoTu1HE4NT79+w9w5nAfRraAP1xUFSvqItS1VpJN5/n4b92DN+Dmtg9vo/tIP/HJJB/91TupaS6nkC+Qzxa4/cPbCM9Gxasby/jsHz5ENpXHH/aydmsTLo+Dhz53C6cP9ZKbHTMY9XHnx24AJKP9U3zgszfTsbmontc1llHXOJ+NZDybptkf5kRsjDWhcnKWycfbNjGUTmBJu8jXRfG9sqSNMkt3akuJrqioyqwWYFvEjRz7xwe4pbqZrGmSMwsUpF26b4s+aUtK+tNLP6gqd5Cgw82MkZt1Xyqz1WQqDzdupic5QX86hg+BZUuSVnGiNsVEtESh+HdBWiizE4k6ffh116oEI5nLU+734nY4UIWgOujH53SSzOaAomDYy+w9yhJBPFtKnj59Fpem8aH166gJ+kkZBf5m7356pqb57PYti44nhKDeE0VXNKxVpIR0+Btxq04y1sXfeiJxnoyVw6tdW+mplJKkmV7gjdMUFd2h0bljoSs1XB7gxrsvqohjg9NoukrnjhY8l+RGOd0ONtw439HgdDvYvGcN/WdHS7GGUJmfUJmfy+ENuNl267p5n7VvrJ/99/Ip+ZaUZEyDjZFqehJTbIhU05ucZiA1Q/fMBE5Fo8rtZyybJJbP8vXug6wLV1DtCXBsaoTeZIyCbbGtvI5N0WoGUzMEHS46QuW8MzHIj/tOkTBy3FpTvD9LCIbFyDI5UZWuIA5FI+r0Uub08fXzb9OXmua26g6m8mlOxceYMbJsjzYQNzLsm+hjNJsg5HATcLhImwZfP/82E9kk1Z7ii+zRHAR096pysdbXVvK3r+znQO8gIY8bw7KwpcTnuvpCICEED6ztYEN1JS5NwzNbBvqru3ZwaGiEXY31bK6pXvL8qNOHS9GX3GUvRYuvjq5gK/unL9ZtnE328frEIe6qunGebXalyNl5TiV6sC/jp4o6QosWhy0Gp1unfcPi3EyLwbIszh7pJxj14fKs/hmcPXiBgTPDpWh4164OKhoWLxtQheDBxnW4VZ1Gfxif7qQ9WIYiBO3BMtyaTsjhosztpT1YRtYs4NaKmsFNVU3oisq6cAVuTecTbZuZzmXw6U68uoNf7dqFaduYtkWZq+hlXVQw8ra57ModdfqK/n8BH2veQsLI8cZ4DyqCFn8ZYYcHVQjCTg+GZbK9rJGsVSCou9EUhd/ruoOcZeJUNQJ6cUVyKho+zbXkNS/F2upyfumWHbx1vo+W8ghOTePjOzdSHVq4Sq0WAri1tZnpTIbjo+MULIumSJj1VZVsqCrWaS/nMfJoDtyaY9n0k9KxqotH6u5hIDPK6KwKlbcLfL3vSfK2wc3lWwnq/pIytGiKCnJeMZGkmIj4wtg+Dsbmsyo6FJ1mb+2qjftgxMcHPncLQoBhFxjPTTOQGWUwO8ZUPk7WyiMQeDQXFc4IDd5qtnx4DUGnb7bU9eJ1DLtAspCenapEEQoBzYemqIxcGGNsYJKmzroiu+MySX1CCIKO4vsRUYvBSsesPenRdArSZCg7Tl9mhKHMGFPGzOw8QUqBX/dSiI1S4YxQ5gwTcQbxaEVap7lxL8XigmGZZMzFPToKAr/uKjLDIXCpOi63TpMvgq6oOBSVSvfFF9StOXADQS6qCLrDzeWpZJqi4lJXF8swLZv6SJC6SHH7N0yLquDCnKArxfnJaf77G28xGE8gkZR7vTy2fQu7mxpWHNupaKsOdAohWBto4gutH+cfLvyA/swwEogXknzlwg94YWwvawLNNHiqCejexXcQCRY2OStP3EgynJ3gQnqQgcwYBTk/y7jeU0W7f+XfcClMTE7Ez/Pc6FucSvQQLyTnRdYvhUPRqXRG2BFdz12VN1Lrrig5Ew7FTvPlnicwZ+cU1P38wdrPUe0uJz6e4M5P7Ka8PnpVz24uE+Bk4jzPjr7JyZniPC93hV8KTah4NDeVzgi/2PrRBXGf0nGLfWhJa0mPjhACt+pYsPpsjtQtevxqoaKgr/LFevNcH1994yCqouDSi+d4HDq/cecuGsuurFXAHCTw1Okz3NneSq5gYlgWbWURfnTiNFtra0rEbkvOX1GvSAVShMKW8Fr+yP0L/GTkdfZOHmXSiGFKi570ED3poXnHX/7arLYCw6U4uL96DxFHcFXHz9ko3xt4jufG3iJlrhzRN+wCA9kxBgfH2Td1jI833Mfuss3oQqMnNchobrLkaDBtq+Qt23jLOnzhqwsQF8ur8/xo+CV+PPQKCXNxD+rlMKVFopAia+ZIFBbPoYNljO+lpE6wuLtxtT9OSokkj2VNI4SCqkQAHQSr1oGDHjetFVE+sGktYW9xJ1KFoCJwdbk2sxMjmctTHwrSNx3Hsm1aIxEM0yJnmisLBmLV85+DEIIadwWfb/4QD1Tv4dWJg/xg8EXS1sKX8WpKkZyKzgM1N3NL+dZVuYOLyZ05vtr7I14Y23fF5bgSyVB2nL89/z0yZpbbK3YylF260rO8PlqySVLxNKZhEqpYnQAXpMmPhl/muwPPYdjXPzK+eByDxfmS5nAtCovEIJ78hxJRmRBOQr7PAfqqK9HOjk2yqb6azQ3V142SRwjBhuoqvn7gCE5NZUNVJelZt61DXUWSobj6+6KgkLXyHIydJGut7JVbeTxBpauMD9Tcwl2VN+JWV2e7SSQ/HX2LF8f2LyoUutCIOIJEnSE8qgsbm4yZY9qYIV5Ill7QlJnhn/ufQVd0hrITC8bJpnKkjDSvPr6Pps463H4X/aeG8AY9bL9n08rzlJKTMz08OfzKokLhUp1UOCNEHAF0RceWFnm7QM7KkzZz5Ow89qw7dyksKhhz0eSlMHfTLDuBZcdASoRwoKnl2DKLbSdRFC9F214gsVEUH7adQMoClh3H7/kQinAxnfwbbDsBIrLqFcrvcvLy6R58LkcpDURVFLpqK/FfpWdKCMG9a9oQwL7+ARrDIfwuB5/cvHHF3eJakTKzfK33x5xKLJ5IqcxxVi3yHAXFdBBd0fGqbmrc5WwKreGG6AZq3BWrVu+klIzmJnl65LWSPXDxGoI2Xz0P1NxMV6CNoO5FU7RSEmOykKEnPcir4+9wKH56Nvs3yVd7f0TOyi+41sxkEqeiEYj4OPLqKYQQTA5Nse3ujauaq3FJ/tfl92l9sJ0P1t5Gu78Bj+pCEcpszxN71kQokDazpKwsNa6lM4cXFQxViFJg63LYSPKzjB2mNUYq+xPyhTP43Q/icmwlnvoHFCWEZU3gcmxAUYLYMonf82GSmR/i0Nfgcmwmlvp7HFoLXtctqEqIgi1XXf22p72RiWSaF0+dL+1sbodGXTh41YIxlyy4p7mR3c1Fn7pA0BBe3dZ+LTifGuDEzPl5n6lCpdVXx8ZgB7WeCryqe1F1aC4N3qO6COl+gg4/LmV1dTGXY//0iZKX7OL4sDW8jl9ufYRqV9mCcZ048GkeqlxRtobW8urEAb7Z/zTTxsySOnxVUzl1nkoa1taWPhs6N0omsboM5Yl8jJOJngWfdwXb+M2OT1LpXN6YjzpDK15jUcFwKNqS9RW2lKTMHFJKnHo7Ut6BlCY+9z2Y9hSWnSDgeZhM/i1smUJIF7adAwm2nUHKAqoaRVPKcekbcDm3ABoFaawqBgAQcLt47KYt2Jf1UlCvgSJSAt8+fIznus/jcegl9akm4Od3b9l91QK3Ggxnx+dV8Ang5vKtfK7pQ0QcgfeED9awCxyKnVpgD5Q7I3y68cFFheJSCCFway7urLwREPzDhSfmBTAXg23ZTI/GSc9kCJYHqGpaXe3HYHaMeGE+G4tLdfKBmltWFIrVYlHBcKr6sqx5cSODjUS9bG/XlHIC3o+SNQ5hmOdw6sVELlummK19K9aAF86gaw0UrEEKmRGC3k9g2CZpc+G2uxSEEKjX8YURQLnPy9baau5f14FHLy4MDk1911Wpy6ErOreWbyPqfPd3qznMFFIMZhfWWe+MrqfZV7vql01TVG4u38rRmTO8OnFw2WNPvX2ON364H5fXRSFX4INfuJvyuuiy50gpmcjFKFxmW5Q7w7T7rswlvRwWFQxdUYk4lm5/NZFPUrCtRSKjAmQBIZwI4UZT64ECOeMIiczjFMw+/O77MK1RTHsS204hZRYpcyX6nJ8VpITjo2M8uHYNG6vfvb6Ai6HGXYFLcZCb3TVsKUu0OO8Ve3i8kCRlzg9O6kJjU2jNqllH5uBWndxavoP908s7E7oP9HDf52+nvr2at546SP+poZUFA0nKzCzwc4V0P17t+nH0Lmlj1HuXnuBodoaMaeBUNOQ82gqBrrUCKk69A4e+BttOomutWPY0LsdmdK0JTa0hb54pGunCDQimjTSpVeRJvWsQxUjqS+d7ir0uZvV5p67RGgmXsnbfDbT66lgTaOJIvEg8YEqTtyaPsCW8dtUepWtFysxgXKbKemcDYVcKIYrGerUruiAecyn8YS9urxOhCPxh77IEaJfi8gAmgFNxXLG7fDksKhiCYrarKpRFPUUTuQST+SQBLUsm9waK4mOucbuuVaFrF1dcRXWiqfPzX4Rw43ZsLv0tpWQoEyO9RLT9vYAAHl7fyVffOcSX3z5Qsl2qA35+++Zd+N9FwfBpHh6tv5eR7CTj+WLV4d6pYzR6a3ig+mbc6vJEAtcDhl3Auiy/yqHoeK4yqdGve2nwVC8qGGbBJDGVZMPN61B1lZmpJJWNZfiCyzfpvIhF3PrX+fYsLhhC0Owrx6e5Fq2CixeynE2O0u5fT8j7KYRwAFf/4kgkJ2aGfqb8rkIIWqMR/v1dt2NYJpZd9FI5Ne1dtzGEEKwPtvGrrR/jH3t/xEBmlJyd59v9zzCUHacr2ErOMrCkhSZU3KqLiCNIuStMxBG8ai/UpbAXIXhWhHLFatQcNKFS465YkF4PMNo7was/fIv4RAIjVyA6S2Vz68dupHn99SW+vlosmYNR4w5R4w4tKhiGbbJ/8gJ3V63HoV5dCsalSBbyHIn1X/M41wIpJeOpYlpB0O3iiePHOToyyv1rO7it9eqYJq4EilDYGlmHjeR/nvsOU0acnG3wwtheXhrfjy2t2Wa+YjZuoRHQfDR5a9gZXc/WcCdRx7V0NLq+3fqK3apCqEJZkGNV3VzBxn+zhue+/hprd7RSv6bYf8/hev/0PF9SMIK6m03hek4lFq9aOzDdy2BmmhZ/xTVNQMoiw/n55OqZ52xb0j8d5+jACMm8QXXQz5aGGkKelfmClpwH8KMTp2iJRqj0+zg+Osa22hqePHmG7XW1BN5Fd+1cMtxbU0f4/uDzxAsX6YokzEvPkRSPNa0ijc5YfoqDsVO0+xt4uO5OtoU7V51z9m7Dp3mKz+MymVM1FY/HjaIIug/0EBsrEm60b2kmukSp7HuNJa0dVSjcWN5Woqq8HMPZOM+NnsBcItlwtTBskyeHDpO6Aldt99gk//Wnr3NscIyJRJrnTpzjSy/uJZlb/RiXQ0rJUCJJuc/LSCLJTY0N3L2mjaDLeV36LSwHS1o8O/omf33uu5xPDS5QKVWh4FQcuBQnTsWBdpl6U5AmJxM9fPHsP/Ps6BvvSu7Q1cCpzHWaWhx7PryDaHWYXDpPLp2/SKDwPsCSS4sQgo2hOjoCVRxeRM2xpM2PBw+xq6yNDaG6q86Q3Dt5npfHTq988CU4OjDCjuY6Pr5zI5qiMJPN899++jojM0kC7qvz4ggh8Og6e/sGkLLYuuz57vNU+X3vqo0hpeRg7DT/3P80ycsyRIO6jw3BDrqCrVS5orhUJwXbZDIf43Syl8Ox00zkp0sLcryQ5Ft9T+PVPNxavu261ZFfLVShLCkYti0Z7hmn66YOXF4Xqqqgvoss6FeKZffckMPD/TUbOTEzRGGRnWEoE+Ovz77IH61/aAHrxkooJoIN88UzL6w6flEwi5V6IY+b4XiCXMFEV1WyRgG/y3lN0WkBPLhuDf/w9gGms1kERabzzsoKDMta0MbsemGmkOLxwecW5P20eOt4rOkhuoKtOC8zrqWU3Faxg57UIN/oe4rD8TMlAzdhpvn+wPO0+xqo9VRcM/PItWHpfiUn93bz/b96murmClweJw6Xzp2f2kNZ7ZW7h98NLCsYilC4vWodzwwf5dAiu4YE9k2e5y9O/IRfW3Mnbf7KFZPW5siR3566wBfPPE93cnXMGgXL5ht7D9MzMU2uYHJufIoDfUMEXE5GZ1K4Hfo1+bGFEHRWlvNn999FwbJKq7AqBG79XeoXJyWH4qc4m5x/byOOIL/Q8jAbgotT5gsh0IVGh7+Rn295mP/n9FfpzVy0Bfszo7w5eZhH6u9+f7YXFtC4tpbWTY3c+OBWAhEfx14/Q9/JwX8ZggFQ5vTzc8030ZOaWLQpiiUlr453M5CZ5sP129hT0UGVK4hT1YpZobP8vAXbJGXmOZcc47mR47wweorYZfQ8uqIuujNBMQ9qc1MtbZWLBx41RcHrvHqvhpSSff2DDCfmDF9ByO1ic001q/WuXylMabFv6viCgNUN0Q10BlpXfKmFEDR4qritYjtf632yVOdtY3Mwdor7qvcQ0N+t2V89BAJ/xMf2uzdS21qFy+tk/U0d2Pa7a8tdCVYUDEUI9lR08KH6rXzzwluLZsBKJD2pCf7q9HN8p28fLb4K6j2RYgksxf4X47kEfekpBjPTpAoLe0A0eKPcXNHBd3rfXpTgWRGC9XXFwGEsnWUqNetGno1Yl/u9pWq+q4EEhmYSdE9MAmADwzMJ9vcP8m9uuQnHEtQ514KkmaYvPd/rpwuNLaG1K/a2mIMiFLqCbfg097wqtpHcJDFj5n0pGHNoXl+PPmu/BaL+fxnG96VwKhqfad7NaHaGF0ZPLMmdZEqLwUyMwUxs0e+XQpnTz2+tuZu8XVhVkO9A3xBPHr5osBuWRVtFlF++bSe+q9w1BPDh9esuCqyUDM4k+KvX95IuFN4dwShkFuQnuVQn5c4rc1mGHQH8uneeYGStHPFCksbrMtPrCyNfII/BW08eoG1zEy6fi/5TgyiKwubbu1Ye4D3Aqp62EIIyp4/fXnsPAC+OnryizkHLodIV4LfX3sOtlWv5Xv/+VTER7mlvYnvTXI25ZCaT43++tI/hWIKOqsXpV1YDMdeXgeIOkikUqPB5ca6SpOFKYUpzwUKgKcW+GFcCh6LjUObbQbaU5FfJpfteY3JoGoEkn8nz3D+9iqIpTA3HuPEDW3/WUyth1U+8WJ8c4t92PkCVK8gPBw9eUyNGBUFnqIYvtN/JDWWtKEIQX4IS9HK4dG2e2qQpKlGfB32VSWiLQQKPHz3BmVlVyjAtuicnWV9VuWJHn6uFKtQFLlW5TL39UrClvYBgTcyO/35EVVM5te5K6tdUY5nFhWHgzDD57PtHkK9oKZzbOb6w5g62RBr5Tt8+jsQGVs3yDRd79d1Xs4GPNGwvuXltaZeoO1fC8cFRDvYVdXPLtumZjJVctlcLATSEg/OEa2tdNQGX67pmbV4Kj+rCpehc2mghZxskV8FNdSkyVm5BUZCu6Pj165eGfT0xx4drAznDwOHUqOuoZujcKKO941Q2lv/MvWlXrCPM0efcVrmWLZEGDk3389r4GY7HhxjPJchaRWJdG1mqR3YoGgHdTZOvjBvLWtld3kGTr6zEjg7FFXu1aeemLcmbZum82lAAt0Ofp4SFHF5uKGtZ1MvV4qtY0DBGCMENDfVXejtK0IXGxnA9EedCphK36igRy10Kn+Yh6gwzlr/YxyNvGVxID7E+2Lbqtm0j2QmSl8VBQg4/IX3xRpDvFxx7/TTv/PQoDreOqioIRcE0TD7yW/fjDf5shfqqledi0xcvt1WuZU9FO3Ejy3guwVhuhkQhi2EXeWk9moOI00eVK0iZ04dHcxZL+xd56HO15CthU30VG+sXFhNdOmJXsIb/svUTS85dv85qRkB38QddDy6RPiLQF6mhd6lO1vgbOZm4WO8tkeybOsbtFTvwr8KjZNgF9k0fLxU5zaHN10DIcfXMjO8FLhzr585P7eHwS8fJZw3atzYzdG6UXCb/L1cw5jAXbCp3+Sl3+emiduWTlsBS/EOLXXOltVQRCs5rsDmuFEIIHOLKbqciBDujGxYQm51OXuC5sb08VHPrsgmBlrR4e/o4eyePzvvco7q4qWwT+hXO571GbHyGn37tFSLVIZo3NHDucC+FfAG3970pzloO7+87978B2n0N7Ihs4KXxt0ufGXaB7w78lLSZ5a7KGyh3hlFnu8pKKbGxiRlJ3po8whNDL5Aw56tRa/xNNHpqMOwCunJtGQHvJm57dBe+kBdf6OLOWNlQhu2WnEv2L7pQ2kimjYXNUtNmlvOpgQXeueVQ5gwT0hdvN/cvSjBsaVKwE6jCiSo8F+0TKTHtJBIbXQkgZrmECvYMqUIPpp3GoQTxOlpQhRPTTqEpARShIqVNwZ5BVbxIWSBlnKdgz+BQy/DpzajKwtXLlgaZwhA5awQpi9d06zU4lMjstW0KdoKiCjWf5cO0M1gyi64EUYSGQ9F5pO4u+tLD9KQHS8elzAyPDz7H65OHaPXVUeUqw606SyTLPekhhhbhqQU4m+rnz099eZYcLUiFM0Ktp5Kt72Gp7GrQ1FW06ebuz877NgNwYPokf3X2G0tmbl+uNkKRLf4/nfz7K8oM+7nGB7m/es+i3/2LEoysOcLRif+TSs9tNAc/V/rclgZnYn+FYU2xoexP0NUAGXOAU1P/mRnjJJriRaDid3RQ5t7FcOopNpT9KR69FsOOc2Tijyh372LGOEU8dxRbFp0AVd57aAt9AYdaZOuQUpK3JuiZ+QfGMi/PHicQKLi0Kjqj/46Qcz2WzHJy6s8RQmF99P+HKi56y4ZSP2Qo9WM2lv0ZPkfLbG+NKn617WP8zfli2vkcLGkznB1neJa9o6hArqxwpsxi4HBO0ASCsCPAn234Deo97y3Rw3JYyrlQ5JdNL0kivdQ5l2cnr4Tl0vM1KW0mc0cYy76FaWdxKH7K3TuIujagvM90VCkLZM1BDPvyyHrxhc2ZY0hspLQZSv2I6fxB1oR/h3L3bkyZYTj1FGdjXyweQ2F2TIusOcjZ+N9Q5bmTzeV/jqI4GU49SX/ye7i1WpoCP4cQCpbMcDb+JcYyL9Hof5So+yYUoWNYMZJGN2K2vFciyVljCBS4rI66YM2QKQxiy0t4pIRgrb+Z31/zOb4/+AJ7p46QNBe6bFdrgy12ni1XEzp9f8CveWjwVDNpxMmY2SsSkOsFLWOOcir2dzT6P4BXqyFjjnA6/hXWhX6eMvfm93xC1wMSk0xhAIcSpty9G49eh5SS1tAvkjBOkzTOLDjHoYRoDf0yHq0YUW8Ofp5Y7hAj6Wep9T2EQw0Rzx9nLP0Cdf6P0BL6JRT0kt5f7t59TXMWQlDrruBXWh/hzsqdvDV1lJMzPUzkp8laeQq2WUoSVFBmWy44Vl2tF9R9y2Y+OxSdqDM4L1AY0v3XZJ/oikbEESB/ycoc0v0rZmB3+Jv4D+u/QNxIMpafYjAzRl9mhNHsJJNGnEQhiWHPVyF1oc3GbVY/X5e6dNxLA1CFk4CjBY9WjVevYyz7NslCP2XuzbNll1lMO40idHTFh0ClYKdQhIqmeGb1+SSK0NEUd9FAlAaGnUSgoKs+FHQsmcWWVnEMITDtTOnv6wmBhlurZSL7GvH8UZxaBQo6mvDhd7STNLoXnOPVG3FpFaXt3aEECTrXM5L+KXlrAl0JMJM/ho1FuXsPirhYnVY859oNXCEETtVBZ6CVdYEW0maWmJEgVkiQNrNFnVsUXwK36iSg+4r99lbx8iqz6tRSWB9s4883/s68z1ShENSv/tm0+Rr4sw2/MW+nKs5jeSI5TVEJOwKEHQGavDXcENmAjU3WypMspHlm9A2eGHxx3g66LtDCr7Q+ckXpNL5leKg0j1ZJo/9BDk78/3GqEUCiKW7KXJuQ0mYsu4/e5I+w7DxCKNR4b6XBdx9nZ76JT6+j0f8gEovu+NcJOFqo993LjHGWszP/jGHFAUHYtY41wc8wlH6JVGGAzvAvA4LB1AukzCG6wr+y6h+zOgjq/B8maZzhTOy/MZx+Gq/eiK4ESeQXrxbUFB8KjnljONQIlsxh2mkkNnlrEoFgxjiBYU1flIUiSwFOJUrItfnaZy9EMTVb9xZpaFi6xdn1gkt1LruCXg2cqk6FujyB2kqYE3oVFZ/mwau62R7u4tmRN+e1S3CoOhWuyKp+g5SSRDbP+aEYDeUhgm4Xw7EEli2pjxYJJTQxu+p79Tq6Ir+KKhzoig9NeEiZA5yNf5O24McJuzqx7XxJSg07gWlf1IMNO4EpMxTsJKfjX6HCvYMazy3F4n07gxAapp3BsC662goyTcFa6HpbCbY0Kb2NxZ+64GZ6tHo2lv/fzOSPkTBOk7PGyRT6MKypBcdfHOPSMUHOdvEsdhMXKEKnYCe5MPNVFKFfcpxF3pom6trO1sq/vGREC8nPjhJoKUhpgB0HTBBeEIGSSgj27Hf52e/8gAEyA2I261cW3cNC8SOlDTI5+30AZr2FxbHmriNBCQIukOniNcRs8FHGQLgRYnX8VXMqZ4UrwoVlyNyWg2nZ/OMrB+gemaChLMRv37eb/qk4+84N8Nv3FVViTUqJV6slb8U4G/8GHq2KBv99aKqHmfw5LGkghErS6AVAFW6cy1DmZMxRMoURHN4AyUL/7I/RcMmrz3q9HHlrDFsaqKLoeiz28zARQoFL1BuHGqTcs4dyT9ElJ6WkO/aXDKZ+xOWqj2HFsGQOTXhmx7TImkNoig9dDQIKHq0eXfHRGf13hJ0X+zhkzGGOTPwhmhpAoJaEwbDiFOwkmuItXd/GpEhO97NL8LOzP8HOvwxCB2mgeh4Fx02AgZ35FraxD3CAEkLz/TrS7MHOPYca+D8AHTv7AwAUz88h869i5ebupwPV+1nQ1oA1jJX5B6Q1AQiE1o7q+0Xs3FNgp1C8nwckVvKLKK7bEc7F3aaLwa97afHVXbVgpPIGU6kMf/DQrfztC29zdnSKqM9DJl8oLY0awFD6Zfx6I23BjzGQep7u+DfZGP0tbApkrQkGUy+gCI2cNU3einFj5X8CJLY0L0mBmEvXtjDsJMPpV9EUD6bMEs+fZmfFnwFgSYPFV+zVI5Y/SsI4Tci5ERDkrQky5iAevR5VFNWhYmwjgSKcKLPuUlOmSRbOogp36bPSzSqcJ2l0l8ZMF/qI5Q/hd3TgVItJbWHXFnQlxEz+OBXuW2bHsInlDmHaKcLOTShCx5ZFYzNrDjGVfYsa30MIVCyZIWmcRVO8aCvYVXKWyb2YCT+fw9aWsriTiYX7pmDxzy49X3HuRnHdAuhY2e9jZZ9Cc+xCGoexci+iBf49Qq0EmQMlhJR5pJxhbleVctYtao9hZb6F6v0FhL4OO/cUVvpraIE/wsp8E5QImvfXQCggs4CGtDOlHac41gxSXhm7iyZU1gVaeHl88QY3K2HunrodOjvb6njy0CmaysNF+qW5a4AkY44ScDTj15sIOtoYTD+HlBZ+vQGfVsva8GfxaNUMpJ5lOP0qqnAhpU3c6MaUGUBi2Ek04cGlluHV62gOfJioaxPT+RMcn/oiDrW4dSYLF8hZMZxqiJw5WVpNr+BnIVA4Nf0XVHhuQVMCTGReJWeN0xT4dOmFt2SW07H/F8OKE3JuRFcCxPKHmMq+Q43v/gVEcQKF07H/OvvCOxhNP49pp2nwfwx1dpv36s00Bj7OhZl/wrBiBJ0byFsTjKSfJuBYR5X3ruKuNSv3DjVKb+KbJAvn8WoNxPPHmcruo8b3II5ldG8pJadGJjjYO8RDm9fx7f1HuX/DGkIeF8+fOEffVJwyv4cHN67lYN8Q1aEAa6vLeeZYN2ury+kenaS1IkJreZQnj5xmS2MN9ZFLDF4ljDRPYedeQhZOoHgeAQTSPIeitSG0uQTGS431hYuZtEaK905fh1D8CH0L5J4HewJpngS1Biv7ndmjdVT3Q1fyoJeEEIJWbx1+zbugHcBq4HU6uKGtvsh+2NnC+bFpTg2N89lbtpWO0UBQ7d3DhcQTFOwU49m3EagkC70E9BbK3ds5Pv0lXGoZ6cIQLYGPoiluhFBIGYMcm/of2DJPwU4TdnbiUqM0+u7n7My3GEq/TNocpt53Ny61jKJPQuPk9N+gKA7i+W7WR75whT9LUuG5Fa/WyGjmpxhWHIcapiP069T47p9Vp4rqW5lrF6OZFxlJP4stc2hKgMbAJ2gMfPIyQxvCru1EXTsYTj+FYcVmA3Z/RJl7V2m1VYRGg/9RHEqY4fRP6Et8A1XxUOG+hYbAx3GpRSNZQaPcfTNurRJFOBlIfp+JzGuowk194GM0Bz6NwvKpC+fHpzgxPEZnbQXHB8forK7gaDbHWCLFR7d3YZgWuqbSPz2DQyt2N7owGaM66Kd3MkbU50EiOT8+RftldfLSeAsr/U8orrtR3R+B2XmjeJEyCZggtfmiYCdAGiX1C+EG4QAskEZRc5BZQAXhBOFFKBGE1g52HCvzdRTnzcXr29PF8wCkyTL0Zkui0hUtdn69CsHQVZUHtxRbVAgh+K37bsKWEl1VS89aE0JQ6b4Rr1ZN2hwh6GgHiraEqjhpD36CROECeSuOV6vBp9fOGuCCWu9tlLk2U7CT+PRGPFoVQgjqfHcRcq4hY47iUqMEHM0oQqPKs4sK9w5saZC1JmgNfBS/3jivcm41UIWLxsAnqfV/EFsaKMKBJrwloSge46DKey+V3jsw7QwSq+iyVbyL6vdCqNT7P0q1776S/XJp2klpXMVNje8hKr13YcksAg1N8c4LhqqKi9bQzwPF1b/MfdOSxy4GS0pGZ5I0l0U42DtMV20F/dNx4pkcFyan+eGhU6Ryee5d31EsbLJn1YlLqg/nPlvUzWBNgOJHqNXYhSMIGUdoXSj6Vqzsj7HSX0VoLSBzKM5bZs/pw84+AWo1snAYxfNJhNoASiVW9tsoWhdW/gWE8wZQylGcd2AbbyN0DWlPIbS1iFkBlIVjRVsDBWmPlz6/Eng0Fx2+Rk4nLgDyimmCTNvm3OgU58em0VWFzroKaiPBS1UpUIRKwNFCwLGw57GqOAk71877TM7m56jCQcS1sEZXERoBRzMBx3zOV69eU/rvIG1X9EMWQqAry6dVF92eDhyr8W1LiRAKulg5VbvozvOgsXJq9JUcO4dM3iBrmGxqqOaHh07y0W1dHB0YpaksTK5gsqWhmmePnwWKD/hQ3zDlfi8TyTQep07BtDjYN4zP5SSWyeK+jDBOcd0F2Nj5t0A4EVpT8Qu1Hs3/77DzLyCN/aDWMCdaQmsD4UQaR1BcD6E4doNwo/l/Azv3HHbhHRTHThTnbQiho7gfAMWHLBwEEULz/QYIP4q+pigI9gTSGkP1/iJCa131vSn9BhRuqdiKS3VgI6lzV666YtGWkp8ePcuLJ87TNxGjNhLkmSPd/PKdO1lbU7QnryrnQyAoc23GdY0+6n9FEcUWz7P/m+XdWlsbpb0qzJbGKtqromQKBlsaalAVwemRCe5Y10pXbQV502QymWZfzwA3tNTTGA2ztbGGeDbH2z0D3NLRRE1ofmBPKAFUzyOLzkXobSj6IouW8KC4P4y4zGmBWo3qfWzh4cKF6roHXPfM/9x505XdnCUghKDD30SHv+mKz03nDN4+N8Cv330jj799nHs2djAcS/D8sXOsrSm2O1u1YNjSnpezUum5DVg+EetKYEvJzmgTwUUq3RQhaPJFkbip8D6IV+8qtppabfurRWqr56Aqbmq8H8Ct1Sz6/fXGXNp4xiyyeEzmp5nMx5gy4swUkqTNLDk7jykt9g6CGlT4ytBBXJqT3nEX/oCX2rIALj1Bf3aI1lo/m/RKHIpejLYIwZ6Opus6Z6F4QamkYJtFD9MyUK+hdcDVYK5GfjWZYLrQZsuoJbaUJeYXVRHURYIcuDB00YsnV8lYfDbZx3cHn37fEAavFqpQ+Ujt3XQF239mc5hjM58y4pxL9XEqcZ6e1AAT+WnSZhbDNlb1YOcgEOiKhlNxENB9VDgjNHnraPM10uitocwRxqHo161uWkqD/nQv3xp4adGU70txZ8Uu9pRtI2akmSmkcasOyp0BTGkzmotj2haqUKhwBXGpOpP5JBkzT8jhxaM5mTEylDn9ZC0DwzYJObwUbJOx3AyKEFS6QvNyrUzb4qmRlzkUP7nsvEJ6gM80foioM4Rl23zrjSMc6R9hIpHm9z9wMzOZHN0jk3zu1m1XpkolzRTH4mdWvDHvN2hC5Y6KG34m15ZSkrVydKd62Tt1mGMz3UzkphetobiicSn26DPsAkkzzVB2jEPxUzgUnbAeoNXXyNZwJ13Bdsoc4SK58jXRlzpIWwrHZrpX7MS6PtCBKW0Oxs4zmU8ymU+wq2wN7f5qTicGeXnsOLvK1nJT+RpOzAxwcPo8YYePqNNPh7+Gnwwf4Jfb7uF0Yoi+9DgfrruBA9M97JvqpitYT9Thn9f7USLpz4xwJL48MXiFM4Ix++6qisJHb1hPa1WU4ekZqkJ+asIBOmsvtrR4f+WV/y8CKSV52+DEzFmeG3uTE4mzC4jV3g0YdoGx/BRj+Snenj5KtauMj9Tdyy3l299TcmdNKOwuW8dAZpIXxo6StQz8upvd5es4PTPE7vK1BHQ3r42fZGukhUZvOYoQWNImO8s4Y0qL/GwG7UBmkp3RdnaVrbmmeeUKJkPZmZIDtD4SpD4SJGcUr+N2XELJdE1X+l8AsXiabHa+eqhpCtGIb5GutCvDljaD2VGeHH6Zt6YOk7rC4pnrBVOaDGRH6UkPcHP5tpVPuI6QSF4ZP85gZoqd0Xa6gvWLCmbeLnAqMchgZoqzyRE+1rCrxDJj2tYl0XuJehWxjsvRNxnjyTcPUbBs0rk86XyBqN+DOktUsamxms/fWrxX/9sLxitvdPP63rP4fa6SIETCXh77xC58V1iUb9gF9k8f47sDz9CfGb7qwqJ/6ZBA2szjVHUGM1NUuIJUu8KcnBkgbeUQCDShcnN5J+dSI6hCoc1fhUdzMZKN8+TwO/SnJ7ixrIPBzBTnk6PE8iksbLaGW3CqV8c+31we4f/4YBOGafGNNw6xob6KzY3VaLPP/VIa1v/tBSObM7jz1nVs29xYWjkURcHjXn1ev0SSNfM8M/oqPxx+gcRlHE//u0FBcF/NFoYy00gkUUeRcCDq8HNrRRcerdjv48ayDuo8UXJ2gXpPGdP5JPXeKBtDjWwKNdHgLSNl5mnwFuvdy5yBFYucloNDUyl3e4mlsySzeXa01hH1eRd1bq5aMPyaj3WBNlJmGsM2KcgCBdss/WPJYoq1PeuOtGd98+8Gim5JBQWBMmtYakJFExoORUNTNHSh41A0PKp7WeIxl1Pn6eeOc/TEYGnlCIe8fPzhHXi9q6tPyJg5nhj6KU8Nv0LOvvp2Z/+rQAiBV3PREbjoApdSUu4I8nTvMUTWTaUnQHXAT6P3IutgysxS6QhT5Yjime13EnZo3F+9DdO28Ciua80/BcA5uzN87dWDNJVfbHhUE/azs7X+yrxSLb56/u3aX8C0LQpyTiAKs/9dIG8ZZO08OStP1sqTs3Kz/85f/LedI1lIcz7Vv6JnJqj7afLW4lacuFQX7tlCGpfqxKU45/+tFnvT6YqGLjR0RS/9tyrUZbdet8vBrh0tbOyqK6lSDoeG07m6W5Oz8vxo+AWeHH6Z/FV67DSh4VFdBHQfXs2NV/PgVBylPuumNMlaebJWjqyZI21lyVl5Cnbhity8PytIKZlIpfny2wd48ewAP5AD6IrK+upKfnnXDtrKIrP0rwFkzM8fHn6WP7nvTqLeYnWoJjX+7q2DjCVS/Jtbd1MfXr4CcCW4HRqfu3UbL5/soX8yXvr8UnrWVQuGKpQi9coVxG7mIrpzu4iUkvH8FH964otMGsu3CtgQ7OBXWz9ZCs4ps1VtYjaIdb0wPBonFs/gcGilXG2f10VNVQhNW/7HmrbFS+P7eHL4pSsWCqeiU+2uYJ2/lQ5/M3XuSoIOPx7VVSR7RswGMIvp5zY2Bdska+VIm1mmjTgjuUkGM6MMZEYYz0+RKKSu2RX8biBbMPnSG/t4q3eAX9i5nXVVFQzPJPjyvgP838+/wn9+6F4qfF4UBFOpLCdGxzGsYjA5b1l8/Z0jPHXiDL9z601UB6+dXVEIQWtllJaKyLwa90vfq3fVxpgr0VQEzEnU5f3kloIqVFyq85p0ytXggw9s5vCxflKpiyqQoqyOM/Zk4hzfH/rpir79S+FSHHQG27i1fCedgTZCemDVcQa3CoHZGuwW6ktR36yVZ8qI05se4nTyPGeSFxjLTZK13h9q3YnRMZ7vPs8v3ridj21ej6oobKyuxKVr/OGPn+XV8xf46MaFOXembfOTk2f41qGjfGLLBh7sXIO2CNXplaJgWXSPTJbctHMIeV20VBRbnb3vjW9L2pyIjSKRdIaqODMzTp03RMixulLIleD1OLlpZxtOp8bR44N0nxtlfWftiqpUzJjh8cFnmcyvrkmOQFDvqeZDNXewI7LxYg/sa0DRttLwKxp+3Uujp4Y9ZVuZKaToTQ9yKH6KSmeU60HUcC04MjyKLSXb62tLDg4hBOurKol6PezvH+LhDZ0lRhLDNBlLpjg7McUXX9/Hba3NfGb7lpJtcK0omBY/PdrN2+cGqYkEcMw2Hu2qr/yXIxgT2RTPDJ7ERuLVHJyMj2BJm1Dk6jlyL8Urb5zB43bQ1lzBE08eIhrx8s+Pv83v/trdeDyLG9+WtHh54m1OJs6t6hoKCtsiXXyq4SEaPNXvWpvhOUGJOkNEHEE2hdZiSbuolv2MMGdfuDQNv3P+/XRpGgGXi6l0Bsu2UWZf0ETe4E+efZFU3qA1GuHX99yA/xr6K14OTVVw6Tq/88AeNjZUXSRcuLTK8bpd7V1CxjIoc/nYU9HCa6PnSRWM6/qgz50fJxT0MDgcY/OGej73qd04HRp5Y3GSL4lkODvOi+N7V0UEpqCwq2wzv9TyKI2emves97YQAk3RcKqrU13fTWiKMpu4N78M1aZYS6Kp81XJmoCfTTVVTGey3NrWTLnPe11/QzpfYHBqhpaKCG6HXmpEpGuXFCotN8CZU8M4HBrxWJrq2jAXzo+ztrOGA29fIJczCEd8VFUHyaQNwlEvI0NxGpvLOH9ujDVra3j7rXPYtiQQdNPYXE59w5WnqUecXlr9ZayP1HBqZgwJNPquY8tbAWPjM1i2xON20Ns/STTiw+tZfIWypc3rkwcYyU6savgNwQ4+0/hhyhyL90F/+lQ3nZUV1IeDvNnbj5SSm5oaODYyxv6BITwOndtam6kJ+MmZJm/19nNmfBK3rnNrazM+p4O3+vq5d007qqLwfPd51lWWM5JI4lBVttbVMJFK82ZvP/etbSdvmrx8vpeB+Awht4t7OtpI5Q3OTExy75o28qbFT053c3tbM2H3taurQggaIyGyBZPRZIqmyMX7EMtkmUxn2NlQV1KxoOiRfWzHFlyaxjcOHKHK7+O2tuZ5x1wLnJpGV30l6jK25LJXGuibYmQ4xpnTI0xPpTh+ZIDTJ4c5dXKINetqOXygl94LE5w/N8bEWIJTJ4aYnk5z4sgARw71MTgwRfuaKt56vZuxkfhV/Yig7mJ3ZTOqEHykaROPte3Ar18//qOdW5t5+rnj/PjpIzz57BG+9OWXiM9kMM3Fi+wn8zH2Th0usQIuhwpnlE80PEiFM7LkivdW3wAjySRHh0f50fFT1IWCnJ2c4psHj9BeHkVTFP52734S+TzPnD7Ly+d76aqupD4cxLAsYtksr/X0YVo2tm2zt2+AsWSKE6NjpbZp8VyO13p6yZkmXz9whLMTk2yuqaLC58WwLIYTCfb2DQBgWCavnL9AKn/9kkW31dUS9rj50fHTxLM5pJRkjAI/OdmNadvc1tY8TwcoWBYeXecLe27g5pZG/uKl13i++zymfX2oiNwOjUdv3EjYu7Tgr2BjyIt0S7OoqAzgdjs4fXKIfL4AiIvfS1n8R0BdfYRz3aN0nxlZ8iVbDSxp89Oh0+yf7EcC64KVfLhxw5KxiVyuwMmTQ0xMJmlrraCpqbwUnxifSPDc88fZc1MHDQ1RhBBs29xIQ12EdOYie4muqzgcC121UkqOz5xd1W6hCZV7q/bQ7m9cVg0wbZvXL/Qxmkzxic0baAyH+NbBo7SVRbm1pYlMocC+vgEuTMV4s7ef29uaaS8r7rwuTWM8tfpcrEQuz5HhUX7hhm3Uh4qxAK/j+unuS6EpEuKXbtzOl97Yx+/98GlayyIMJ5KcGBnj09s2samm6hIuqiIkEHA6+fU9NyCA//LS65iWzb1r20uB2KuFEAJNXV41W1YwbAnjYzNMTiQYG53Btm3KK4LcdmcnuVyBgf4pnE6NuGUzNjrD5GSS8bEigVpNXYRbbl+HYZicOVlUya4G47kUZ2bG+cWOXeiKyvd6D9ObmmZNsHLBsaZp88MfH+R7j+/HNG0CARe/81v3snlTw+zNUHj1tTMIBA2zap2iiNmEwQymZREMeHC7Fq9lMOwCB2MnVhUraPTUcHP5dpQVzDhNUeiZmibi8dBZWYEACrZVeviKKMZtLNsmUyjwzOlzHBgcZiqdpTrg4wOdazAsC0vaaCilbAMpIW+aszQ8c59JEvk83z96Aq/TwdBMgl2NDbSWRcib5my2Akt0hbp6qIrCQ+vXUhsK8EL3eYZmEoTdbv7Pu29jd0sjurp4vEgIgd/p5Nf23MD66iocmjrv3rybWPZtrawMcHoqRTjiZXIiSWt7FQ6HSl/vJP29k0QiXtZ11aJpCr0XJqmpDTM8FGNdZy1CQM+5MUaH4zQ0ldHcWrHcpZZEzioQcLio9hQL1SvdRV17MUxOJXnhhZPcf+9Gtmxp5O/+/mW+/8Q7dLRX4fU6CQTc1NdF6B+YwrYlqipIJHN883v7ONczjgACfjeffGQnbS0VC4Rj0ohxLtW/4pwVFHaXbSPqCK1oNAoBj2xcz8mxcb575Dgf37KB9VWVfPvwMU6NTzCaSKKrKk2RMDvr60gbBre3NfP06bMEnE5URWF4JsmbvQNUB3xMpNIEXS4ksL9/iB31dZwYHcel60Q8HrbUVtMYDrGhqpJ/OnCYCr8XAZydnOLA4DCGZWHMqjLXEw5V5YaGOnbU12JJiYJAVVYO1gohCLhcfKDr2lLOrxTLCsaGzY2s39RQ+luI4kRvv6sT25IIRaAogp272thxY9slxxXJwO59YBO2ffG4q0G5y8eOsgaK/iDBmmAlNZ7FUwKmp1Pkcga7d7fT0V7FA/dv4h+/9hpnz42yaWMDqqrg97uZnr6ofrz6xhkymTy/9St34nBo7N1/nieePMRv/+pd82IZUkp600PEjJnFLj0PEWeQreHOVdVASAkeh85j27fwvaPHOT02waaaKmKZLD86cRq3rvP5HVuIeNx8cP1afnKymyeOnaI64OOhrnXkTZN71rQxkkjyzsAQd7a30hQJMTgTxqVrPNd9jmyhwMc3b8Dr0Pn0ts08eeI0Pzh+ii211dzS0kR/LM79azs4ODjMRDrNo5vWXxfD+3IIIVCFuJLkiZ8ZlhWMjFnge8ePc1drG9PZDCfHx/lIVxczuRzPnzvPaCpFbcDP/R0dZAsFXu/r5wNr1+CYC+KoAuUq74KUkv0TfUzm0ghgIBVDUlQ9qt2LJwXaVjH9ZE792La1icefeIdXXj1DV2ctQgiSyRxe70W9+nzvJLftWUNDXdFAvnlXB0dPDJLJGvMEw0auKscLoM3XSKWr7IpcjH6ng89u3wIUVY+7Olq5vb0FwUV1KuRy8cmtG7FtiaJcFLuf37kVQVH1nfv89rYi48tcyoM6O0a138cv3LANecmxayrKWVNeVjIn54793xnLCsZ4KsXrvX00hEIMJRLsGxjgtuZmvn3sOJU+L/e1t5EpmAgEiXyeg8PD3N/RDkvojFcCSdHwTpsGb41fYEOkhjKnFyGXbqDi9ToRCEZG47S1VVJREWDPTe0889NjtLdV4nRqnDw1xCc/fmNpB9M0BaNwMR5h2/ZsH+r5L0bBLtC7Cq5UBUFnoBWnsrhRK6XEMC3SWQNbSuoDAcJuV2k1ncMs4/a8c+eacipq0VDNF0wyuQKWbaMqCk6HhtuhIy4Rmsv7W1x+HZiNi79PBOG+te10VVUQdP1sW6ItKxhDiSRtZVHOT02TKRjUBYJciMU4MjpCrT9Af3yGnGmiKQpex/XVSRUhuLGimYFUjJSZ53PtN6wY2IuW+WhoiDI5mUJKUFWFB+7fxMlTw3zpr19AUQQbN9Rz066LxAh33roO3yXp5bquce8dXXgvi3qnzMyq0j9cqotmb/2iK242X+D1oz08u+8M/WMxTMsm5HcjJ02Cu524nDpfeept8gWTx+7bTk3ZQpXRlpKhiRleOniWA6cHGZ1OYhRMdE0l7HfTVB1h+9p6dqxtIORfqA6d7hvjn58/hKoqfOrurbTWXj+y7WuFEILOqgo6q67OHr0SWLZNrmDi0jVURSFrFKs4Xbq2fNq5LSUDM3E2VlbxztAQXodOSyTCeDpNudfLjQ31tEYi/N3+d8iaBbwOnclMmvFUmiq/D1UItOuwc/h0J4PpOF869RoORUNXVO6rW7eoneHzuvjt37wHr89ZWgCrqoL84R88yJnuUTRVYc2aaoJBD9lcAWlLGmqLwcJMpui3d+gq6ztrEZfZRMlCmoS5Mh1kUPdR7lzIBp/JGXz5yX1896XDZHIFdE3F7dSZnElxomeUd04N8JFbN/LkGydQFMGHb95AzWXvrGnZvHL4PH/7w7e4MFJ0IGiqgqoo2LZNz/AUB84M8uPXT/A7H7+VR+/YvGAeY7EUz+w7ja6p3HvDWlqvT2bNvyjYtuTpw2d47tg5buts4YPb1nGod5jeiRifvKnIYr+0YMy6B3fW1dE9OUnU46GjLEr35CQPd3bydHc37wwN0RIJ01VRwVQmQ40/wPdPniRl5Png2rVsqr72hidBh5uPNm1iIB3HlhJVKDiXaK+lKIKKisvIxYSgvDxAWZm/9HcimeVv//FVpmPpYrApa+BwFFMCAKIRH7/8uVvw+y5u57FCgry1MnVQ2BHEp80nqral5Nl9p/nOi4fJGSY71tbzyO2bqCkPkssXONQ9xOMvH+G/ffcVktk8wUVKam0pef1oD3/xjReZnElTVx7krh1rWN9chdulYxQsJuMpTveNc/zCyHV3uV4vXM28Lo9xXPr51SCVz7Pv3AAP7+jkxwdOs6OljrDXzcsne+a3AVgMqqLw6Pr1eBwOfmH7NhQhcKgqrZEIXoeDzvJy8pZF0OVCVxTcmsa/2X0TQggyhnHddMRYPsN3LxzGreo4VLVY4BKuApZnSV/uAXjcDh750DYKpsWRYwP0DUxx122dxXJWAQ5dw+26pDEMctW1DhFHcEFfvKmZNN9/9RjZfIGu5ir++HN3U1sWLD3wTW011FWE+LOv/hTbXnze49NJ/uHJfUzOpFnTUM4fPXY36xorZj2A4pJYBcRT2fdlvbmUkhff6mYqluKj923hePcwew/38pkP7wTg+88eZnQiQTqTx+9z0d5Uwf23doIQHD09xJsHesjmDOqrw9x/WxfBRVTF1cC0bASwoaGaM8OTvH6ml+aK8Lx4ypKCMec/BuZlRc6dHLjsxddUFf/sd77rGE0t2BYORWVbWT0ORUNVBL5F2ArnIKUkny9w9twY3d2jTMfS6JpKbV2ErnU1VFUFUVWFpoainvL8y6e4+/YuNsx6rRYfFNJmBmsVSYOLNV880z9O78g0qiL4wO7OklAApRf7pg1NrG2o5GD34IIxpZTsO9lP98AELofGz92znc6mynnzvTgeRAKr58l9L2FZNodODjAxleLeWzo5cmqId4728eBtXdRUBrn3lk5Onx/lmz96h0c/sI2qsgCqqnDoxABf/+F+Hriti0jQSyyRmecwuVK4HTpRv5ecUeDuje38v0+9xiunevj4rk3zSZ3fz3CpOrqiEjeyuFUdTVEusntfBikl09Np/vFrr/Pa62eQUuJ06ti2TTZboLzcz2Of2c2tN68teZ0URXDwSB8ej6OUpKZrClVVoXkR1uwqi5G8mmdetFtKyZm+cXKGScDrpKu5elEB9LocrG2sWFQwTMvmwJkBTMumriLElo5lhPh9jEyuQKFg4fe5GB6bYSqepr4mzMhEgtqqEOURH/FEELdLp7YyRMDnwrJtXj/Qw/r2anZubCx5z5xXmUkBRQP752/bjtuhoyqCP/7w7eRMk/rIxYCsZkubpJnEsAt4VA8e1f2+uukF26JgW8wYWZIih6aoGPbiq4Vp2jz+xDu8+WY3Dz6wiV03thEKejBNm4HBKX7ww4N8+cuvUFcbob2tuOLec3sX3/rePv7+q6+WximL+vmVz92K3z/XykzOa8m7HC5300opGZ1OIqXE73ERXmb7r4ouHp/JGSZDE8XAYlXET8DjWrWu/n56ltPxNKqi0FAT4uS5UUzTYm1rFQMjMbZvaFj8JAnJVI7j3cMMjMYBSSKZ495bOrnn5nVXNQ8hBD6XA3s2mTHodVOpa/N8ntpAZpADsYNEHBFmCnFuiu6i3FV+VRd8N1Dh9vOZtp0cnh7EtG1a/FGCjsVVqampJHv3nuO++zby2c/smZef1dgYpaE+yv/1J99n777ztLVWIgQ0NUT5vd+8l2y22PykGMOYT59TjKmsvHULijUQl76Mli3J5i+6AvVl8nzczsVd3kbBJDfrTpyIp/jn5w+uSAanqQo3b2qlsWrpfonvNUbGEwQDbtoay3nqpePUVoVoayzntf3nioFZYLFGoy31ZXjcDj7xgaJd+KWvv3ZNYRcpJWMzKb6z9yg949MoCLY01/Dwji68zmL9iiaR6IpO2BEiZsRImElcBRcX0r1IJC3eZhJmgmQhRc7O0+Jtwqf5GMoOM5GfIKgHqHZVM56foMFTz0R+craK7PrUTOSsAs8Nn+bg5AA+3clwZoYW/+K+9+lYmmzWYNuWpgVJi0IIamrDtDSX098/NbviCkzT5sDhXvbu7yGXL7B+XS2337z2qlNYFjtrTlBWIhSyl1AR5+wQgPNDU/zPoTdXnIdT16gpCy4rGO+l50pKycBIjJqKIPU1YYbHZ7hhcxNVZQGS6Ty5XIH+kRiv7DuLZV28D0LAbTe285Xv7eXbTx2kYFoE/S62di2xw6wCpm3zzTcOoyoKn791O4Zp8cT+4/hdTj60vRMArcZdzd6pfYzlxlkXWEuNu5oXxl6i3FmGT/Nh2AYHY4fRhYZP9/PW1D7W+tdwIHaQNf4OLGmRNJMcih+mxl3D+VQPXs1z3QRjPJvEsm1ur+6g2R/l9MwYfalpNkQW0vbbdvHF0/XF4yeKEKiqOu8FfPvgBV545VTJC3WuZ5xEMssnP3pDaVUupmWsLqPz8io1VVHwuoq7TzZfWNZoTGYWJy9wOjR87qIDpCLs48auxiVjRGcHJjjeM4IQLLurmJZNLm8uaHx57ZCzWW0Lx7xxSxNet4OA383vfO52aiqD+L0uHn1gK7qu4nE52Limlhs2NZWehxCCqvIAv/bpm7kwOIUQgua6KAHf1Xs90zmD8USK375/D9WhOTc+/PRoNx/c3ll015qzxLm6otOfGaDCVUFfpphBOp4fx7ANNKHR7m8n7AjzwtiLDGQHmcxP4tU8GLbBusC62Zyc678CeTQHcSPLZD5Na6AMh6IuSHOYg9frRFUVhkfirF9ft+CB53IFpqdTdHRcrPM9cmyAD9y7kVg8QyyeZveN7fzdV18lnc4TCFy0BxwrtAeDORby+S+bEFBTFkARgmQmz9RMmpqywIK5SSkZHI8vOq5T12ioDPPO6QEiAQ+/8dGbF/U8SSn5+x/v5XjPCLqmLhoPmUPBtOgbmwYWdtG6FljSnt82dhZCCBpqLi6W69dcXNg6mouR7sbaCLqu8tPXTrG2tbIUVxJCEAp42NJ5nbxtYjb/bN5HYp67VjHsAgJBi7eJ8fw4IKlwllPjrkagkLNyFGSBoewwg5lBXKqLCmc5YUeYWnctM4Vi/cW0Mc1gZogpYwqncv0q7MpcPh6o76LWE6RiNtO22b94iWxZmZ89uzsIhxePceTzBRrqo9yws7WkozocGpNTKYxZKpW5AiXrkniCQOBSV/ebslZunsIkhGBtYyVul046a3D47NACFUZKSSyV5XTf+KJjqopg29o6nLrG8GSCc4OTi6pBOcPk3NAkkuLOUhVZnoPp1cM9TCcy11WlMq+R18qhqURD17fG+3J4HQ7u2dgxrwVbwOPkzvVtF3PM/LqPrmAnZ1PnCepBbGlzc/luEoUEUWeUDaH1aEIjZSaZMqbZGdlBs7eJNf41jOXG2RnZQaWzko3B9Qxlhwg7wjR4rl7/uxwCiDo9lLl8HJgqll+6lqje83md/MLnb2HH9uZFb2wo5OULv3onmzZezGW6dXcHr77ZzQ9/chhFVchkDKoqgwu4az2ae8WiI4CkmV6gTnXUl7OmvgJbSp566yTnhiZLWa9zSYXP7D1Nz/DU4vdACLZ11NHZVEkynePbLxxibNbTNTeGadnsP9XPoe4hFCHYtb6JaHDpIKimKlwYmeKrT+9nKpEpqqGzRU2WbZPM5DGtK6+8zF9hE5zLURbx8dCdG3At4Yi4FtiyWDaLgN1rGov9Ci2LgmXRVB5mU+PFTA1NFSrrg12sDxYJr4rdf2xujJTN8u1IHIpOu6+dKldx+9OEysbQ+lnCL0nBttgc3FraigqWVUr/vlYkC3m+1XOAKncAXVH55wsH+Xz7DVQuknouhFi2UlBRxAK+qLaWCn7rV+6kf2iamqoQZREfn/zoznmlrUII/Jp31lW8/MsSM2Zmq+kuIuhz8bE7NnF+aJKeoSn+7B+f46HdXdRXhEjnDPafHuC5/WcI+d1MxhcvVY0GvXz2gR0MfW2G149dIPXlPHdu76C2PIhp2pzqHeUne08RS2RY11TJh27esGylW2XYzwM3reN7Lx3hZO8Yu9Y3URXxY1o2faPTXBie5jce2XPFSYYpM4Mt7XedKO9q0DsR4+tHThbr42cXAE25yFCypqacj+5cDywR4Hv2/Dle6D3PH+2+lTK3hy2hLejCyRf37wMBv77tBhyqyrnYNN85eYyeWAyvQ2dPfSPNoTBPnj3Db+3YRdRz7TrhZD5FQHfziZZtCOC7vYcZySSodAcoFCxef6ObqakrYxffvr2ZpsbiAz/VPcLEZDE58Oz5Mc6eH8PtcrB5Q/08IQvpfnRFX7HV2rQxQ9bK47ykU6wQgls2tTI2neSfnnmHk71jnOmfwKEXHQFSws7OBrZ21PHF77++6LhCCG7sauR3P3Ebf/ejvRw+O8Ths0M4dK2Ugq6pKls66vj1j+6msWpxVpI5BP0uHr5lA26Hzj89+w5Hzg2hKsrsjlFMTrxta9sVC0aikMaSFvr7MHYc8rq4sa0B07Z55dQFHJrK9pbaEv1/eeDiDrvo7EeSCQ6NjmBYVpG+3RkhZ5qcnppEiGJCW8LI8xdvvUb/zAwfXdeJpqi82t/Hd08dJ2kY5K3rw6HqUnWCDlept7hPc+CbZQkpFCyef+EEZ7pH5p2TSBSZKNxuHV3XFvi8y8p8JcE41zPOD548RFNDtMRuHg556VpbM08wAroPr+omvUJnpHghwUwhScgxX793OjQevWMzHfXlvHDgLBeGpzFMi/KQl53rGrh9Wzt7j/fOs20uh6aq3DH7sr56+BzHzo8wNZNBKILKsI+ta+q4ZVMrFWHfkkJRXxHi0/duo6YsSNjv4RN3bWFNYwUvHjhL78g0OcPE73HSVB2hpfbK6Y7ihQR521i1TfZeIuJ109VZQSKT483uPn75jp2UBxa3Z65arCcyaU5NTvBo53p+YfN2BPBAWwe/99zTxO3Vc7kuB9O2iDg83F27tpQGclNlC16tuBq7XBpf+JU7yOWKq7htS15/s5s33jjLXXd20tlZi8e9kHDs0gxc07T5+Ed2cMvuNSXVYzFXp0/zEnYEGc8vbgfMIWVmGM6O0eBZmPrh0DV2rCvuDLlC0XulaypOXZv9vSvr9Iqi0FwdobFqB4ZhFnVmBA5NxaGrKxqtLTVRfuOjN8/7bOe6BratqSNnmKVUdqeuoVwFj1OykCJVyBDUr518efW4QptGQCKb5+TQOM1GuLRwuh0OyvyeK2sDcDm8moOA00VPPMZUJkPI5aLc42FLVTXP9qyOunI52NLmJwMn6E/HEYApbQzbIqC7+GDDBuq8IRRFoa7uogtwfCLBoUN9PPzwNu6/d+OqWoUNDE1z085WHA512Rptl+qk1l3BmWTPsuMZdoHuVB87oxtRF6luFkKgaSq+y5jUr9QzpAiBy6nj4tqNVDFbO+NzX3v9TNJMM5GfptazkMXlUkgpMQoWqiJQVYW8YaLr6mxtiSRvmCiKwDEbkzItu7SQzJ03x0ZvyZUXlOKzLT5fn9PBnV2tPLH/xLxjVtVq7FLalcVQ7vXyi1u28ZUjB/nd55+mORQm4HByaGxkyXOuBIpQ2F7eyPpwLSkzz/d7j+DRdO6o7iDiXNx2mZxIMpPIsKajatX989qaK/jOD97h4NH+UhJhMODmwXs3zvNMaUKlxVvPy+xb0etyKnGelPler5rvD+Qtg77MEJtCa5fdvSxb8vUfvE17UwWbO+v422+9zgfv2khzXZSX9nZz6twoiirYva2VzetqeXlvN2OTST72wFa++cP9NNZFuP3GjlIH25WgCLXkEFAUhXs2tnPTmkZyBXP2++KuO4clBSNnmqSM+Wx0tpTFOmRRJCV4qH0tW6tqOD01wWgqRaZQuC6eqDnUeILkLZMn+o6yMVLDZC7NqfjokhSdQhEUChZjYwlaWypXldZxx61riUa8jI4nSguB1+tctFa6xVePR3Ov2IF1MDNCT2qAzaF176skvvcCNpLTyQvcu4Kdkcka9A1NI6WkqjzAwEiM3sEpcvkC+4/28dhHbmA6nub7zx6hpiLI2d4JpuNpJqaS9AxOUbAsbr2hHUtaq2oAqgllXvZCxjB5s7ufM8MTs0Z4HZubLqq/SwpGLJfljcF+WsMRNEUhlssylk7RWV6ONnsBW0pCLhd3NbWiKAoFy2I8nSKeyy1JonWlSBXy1HlC3FTZXMybGjrNaDaxaJCvojxAWdTPP37tdfr7p4hGfYsmm3V11VFbU8whcrsc3LijdVVzqXFXUOOqoDvVu+xxaSvLW1OH6Aq24xDXzx8vpSReSJK1clS5yokbCXJ2nipXORKb0ewkaStLmTOMYReIOIpxqcl8nGp3GapQmczHEAhCDj/D2QnKnWFcqpOMmSVmJKhxL+TTulJcSA0wkZ+m3rN0BWdsJk0o4CZvmJzvm2BNSyVDYzMk0zma66LUVYWoLAugPn+U3sEp8oZJKOChu3ecspCXvGGSy5vk1TzJwsqC4VQdOJTiszAtm+/tO0bvxDRrayooWBbf2XuUfMFk95rG5W2MgNPJT3vOMpRMUOv3c3B0hLF0il/ZuqPUvOPI2Ch/ffBtWsMRqrw+hlNJnu05x32t7QSd16eCr8zlozMseHPsApa0uaG8iQr34ipKOOzlM5/ezTe++SaPP/HOkkl5v/Ubd5cE40rg0zx0Bds5m+pd0dw7EDvBHakB1vgXDzYuhmjAy+b2WvweJx7XQoGSwOuTBziT6OXX2j7Bi+P76M8M82ttn+RMspenR16lwVNDwS4wmpvk55s/QtrK8oOhF/jllo/h0dy8MXkIXdG4tXwH3x14hkfq76XBU01fZoTnx97kC62fQFtF+stymDTiHI2fodZdtaQGMTKeoLYyRDprcPLcCDs3NfHOsX6CflcpG9m0LGy7WHqsaQqNtRGOnBqivamc3sFpZpJZcp4E8cLKtfge1V0SjHTeoGdsil+9+8ZSrtQ7PYO8cuoCN61pXLq0tcrv58Mdndzb2sZPznXz+kA/Xl3n3+2+hTubWkoPuj4QYE99I4dHRzgzNYlb03hs42YeXtOJfp2YqdOFPN+9cIjzyUkiDg9Hpod4rG0nUdfCqK6iCLZva6a9rZKJySS5XGFRO6m+/srdkFBkGNwa7uL5sTdJrrB9TxszPD36Kg2eajza6kowd61vZNuaOgBciwQqLWkxmY8DRXLpuWBiyszQnx6m3Bnh4bq7GMyM8vW+HxfT+WRRB5+7C6ZtllwMebtQitLb0l51zclKsKTFW1OH2F22lZBjYSBWSsngaJyqigDpjMHhkwN88qHtvH2kj6a6KMe7h3n21ZPEk1kiIS+aphD0uWmsjfD0Kye486Y1xGYyjE8miZUNrajaAkQcIVRR1GIUIUAI0vkihZGUkMwZ6Kq6fAXffS3t3NPchkNV2VxZjWnbKKKYZHXpClDl8/PZjVv4VNfGIu2iEDhU5br2yZvMp9EVlZsqmmnxR+memWAoE19UMKAoHOGwt5QvNScY12M+QgiavXWs8TfzTuz4ise/PXWUrkAbd1buKj2U5cbWVHVZZpWMlSNn5alxV3AuNYAQClFHiKl8nE2htfxk5FWeGHwekPNyln4WvAhnU33sjx3jzopdi2YmdzRXUFUWwLQs3E6d8oif225sp7kuymc+fAMnz41QFvZxz551JFI5qiuCVJYFePiezTTXRYv8wprklfiZVeVn1borSs/A63JwY3s9f/38PioCXkzLZiqV4fO3bi8dv0AwhJifZair6rL2giLEdWsBtRiCDhdxI8uF5BQt/jI0RcGpLn09KSWZjMGZ7hHOnBklPpPBoavUN0TZ0FVHZWXwqmstADyqi1vKd3B85uyKrYtzdp7HB5+l3BlhU2jtNTeNiRsJdEWjyVvLodgpKl1RPJqL0dwkt5Rv59ONDzFjphjLTXI21V9yP6fNDGkzi0d1kbcNnLNGsWEXiBsJpKeGuWTS67WgGXaBp0deZZ2/lVr3wvr0jWsv8vbUVIYA2La+mGMXDnpovmRXj4QuLoJ371kLFPPiLqQHOTF6dsW5OBS9OIfZvxUhuHtDO01lYc6OTqFrCl11lfNLW6/qV7+HCDk8fKxpMyfjo9R6glS5A0u6a6WUjI0n+Mevvsb+d3oQFHOnLNvGMEzKy/z83KduYs/ujlW7cy+HEIJNobV0Bts4GDux4vHj+Wm+cuFxfqHlY6wPdlx1DpFEMpabwq95qfdU8oOhF9gY6sCruTmb7CNpZnh1Yj8ORWckO0FI9+Od9aClrSw/HX2DiDNId7KPj9TdPTuo5LXJg4znYxyb6abFW7eqRMnVojc9xOODz/L55o/i172r4vJdLQqywIvje0uq5XII6n7qLwu4qkIh7PNQFzXRFEHQ7ZrnqHnfC0bMyPDjgeNkzQKnZ8bQFZWHGzdS511oPBuGyT9/ey+nT4/w6U/tpqurFo/HgW1JxsZm+Onzx/nyP7xCeXmAdWsXJyVYDfyalweqbuFcspfEKlyFA9lR/vr8t3i0/gF2RTevunPt5ahyl1HuilDujPDh2jvo8DehCQ2n4sCp6LT66hnKjlPvqebuwE24VRcRZ4jPNH4QXdEYyU3wkbq7WRco1mB8sPYOfJqHgcwou6Kb2RTquOI5LQeJ5I3JgwT1AI/U34v3OvEJ2NLmnenjvDqxf1U0QQ2eaqLO0MV5yf+vvPeOkuu6znx/56bKoXPOjZwzCIAEmERSzBIVSAVayWNb9njsN6M3fh6vN2/sNTN+nmBbHluy5KdkicoiRZESBeaIQIAIRAa60UDn3JWrbjjvj1td3Y0O6G6ApOj51uoFVN1c9+579tn729+WvHGug58ePEFb3zClIT9l4SC/e9s2aksi15b5frdgOw4Z22J3VStRw6V+F3tmnl/09cU4cvQSH//4dm6/ddWUUaGurpjW1gr+nz9/nFdePcPyZVWLrhsWQrA6spTd5dt4qvvFeXVX6s0M8vW2H3EqdoG7Km+izl+FqijzfosKBPWTwp87SjcU/h81QjjSocpbTtbOcXj0BEJApbeUiB5kfZHrfqyKtE7Z54YiV0xgSahhXuewGJjS4pe9L5G2M3y49g7KPHOTG68GW9ocHT3DdzuevGoABNy22BuLVuGdVCOUypo8+/Z5PrVrA786epZbV7fQ1jfMr46e5fO3bAHeByNG0srhU3WWRSoK+ZPZlAhj8TS25dDSXD7NVRJCEI36qa8vobd3rFDzvVgYis49VXtoT3by9tjZeW2TstM82/c6R0dPs7V4LTeUrKc+UI1f9S04MToebRo1Y1xK9XBi7BwnY+fpSveRtjOsDC9hU9GqQl/w9xI5x+S5/te5nOrm3ppbWRtZhl/1LshApJQkrBSvDh7i8a699GeH57VduaeYtZFlU45l2ja27VBTHEFTFXyGzsraCp44dPLqSoSLhVuj4WBJC0vaWI5NzsmRsbNknCx9maF5pfDHUeYNIoC/PfESqhAYqsZHmzbMmP32eV0lwf7+GK0t0xNVmYzJwGCc6qroNYt7CyEo8xTzifp7+V/n/5nOdN+8tpNI+rNDPNXzIi8O7KfOX8XSYCOtwXrK8294r+pBFWpBxNpBYjk2aTtDzIwzkB2mI9XNxWQXXek+hnNj5JzcFKeiPdnJ+cQlNryL2XddaJR7i+lJD04bRW3pcCrexsVz3awIt7C9eB3Lwy2UGBG8qmfGif+48Y/kxjgVb+PlgYOcjJ2f9/OjINhRupHKK1RvAl6DymiIrzy7j67hGKxzSYXFAd+1C67FzSQdqS6SVpqElSJuJYmbSRJWkqSdJmVlSNsZUnaGrJ3DlCY5Z+JvvghoBp9ftoOEmcVBInD1bKWUmJbtStZobrFJZVWEJa0V/OCH+zAMlZaWCjyGhuNIRsdSPPf8CdrbBnjwvo3XLXy7NNTIo40P8rW2H12VeTsZEvcNeCp2gVOxC2hCxad68ale/KoXr+pBEyoSt1w0bWdJ2+5vmrGz2NKe07tO2WkODB9jTWQp+hwJu1zmRSxrPLJjg3RQ1GI83nsRytwyqFcioPl4pP4+nuh6dlZ2QNrOcHjkBMdGTxPRQ1R5y6jwllLmKSao+TEUHQdJ2s4wlB2lJzNAV7qXoezovCRSJ6PWX8Wesq3TAh6aovDIzvW8cLKNqN9HcdBPUcBHQ1l0Yp0FHWkSziU6+Juz3yJpp13C4VXFYRYHIQQeVcMxJQeOtJPL2SxvrSAWz3DwaAeOlHz03k0E/R78PoNPPrKDf/jq8/yXv/wFxUUBAkEvlmUzPJzAshwevH8T6/I9+a4HFKGwoWgVn2+Gb7T/hJ7M/NocXwlL2u7LZR5+83xxbPQ0/dkhanyzM11VrQWhFINMk0n/EEWpQtP3gFi4zKopbUo8UT5a/0H+/vx3GZ6j+5QlbYZyowzlRnk7dq4w13L/zfcCvIbnya96ub/m1hkpLhLQNZXbVrdOVJrm+X/jWLRh2NIm6+TmJUR2PXD0ZCenz/dhGBr7j7STzpjs3NxC30CMnr4xljS5P0BTUxn//kv3sP/ABY4eu8ToaAot6GHtmjq2b2thxfLqWeV1FgtVKGwqWoVf9fLti49zLtHxGyGq3J8d5tjoGaq9s/OfVK0ORZaTSf0Q3diJY3dhWx2o2sIjVI60yTkm6yLL+VjdB/lOxxPzykrDhBFcj99NExp3VN7IjpINM+aOUtkcf/fMG5zrHcRv6IW6k3X1lXxmj5vk+42ffI9jcCTBmuXVRMI+zlzwYlo25SUhUunclKJ9IQQlJUHuunMtd3xgDbbtuF2EVAWXCfDO+NuKUFgZbuUPlz7KTzqf4fXBw2Sc69crezGwpc2B4aPcVLaZgDZ7mbGUOTR9OZq+ASnTmNmXkTKFEDNLhs4GR0oydhZNUdlTvg3TsfjB5aev6yh4NehC49aKG3ig5rZZu1oZmkbQa7B7RTObm2sKCeygd1KZwbtyttcBuZzFj59+i9KiAPfctpZLXcMcO9VFIpVlV54d6ziSWCyNZc09igWDXrxefV7FQbP1Zpi8fPL/q7xlfL75I6yJLOMX3c/TnuyaVzj3ncL5xCXak52sCi+Z9aUghA9FqcCxXRUWTV+DEAuv13ekQ8Z22QCGovOByl2E9SCPXXqKnszM0kDXE0HNz52VN3F/9S0ENP+s15vK5hiMp3h453p3wn09S1vfbSxrqWDV0mpKiwMURfxUlYd54fWzrFlRTVmJy5BMpXP89//5S9raB/IEITFjRPZffeFmbrpxGcO5IQ4O78erelGEwrroBk6MHceSFgkzzrroBqp81ZyLn+VC8jy60NlY5A617ck2NhZtnpaHEELgU73sLtvC6sgSXhs8xIsDB+lM9WC9S27nOLyKQYW3lIx9lZFLZkknvwXkECKKUCJ4/R9HiIWFeh1kwTAAdEVjZ+lGanwV/KxrL28Ov31VGs1ioAqVlkAdD9TezqaiVehCm9Mz0FSFZDbH3mPnaKkoKUQoiwI+msuLry3B5xYKiuua5p+6/6n7XdFaxaWuYQ4cuYjH0Fi7opaP3LPRXTd/ZR5DY9PGRk6e6qa4KEBzcznhkHda27Dxmu+TsbcxVIMloWU82f0zlodWcjp+kq3FN1DhqeT1oVe5oWQXb40eYk/5rahCxav6GM4N0ZXuZEPRptnPXwhKjCj3Vd/KjWVbODZ6hn1DRzif6GDUjM2rHHOhUIVCSAtS5StjZbiFNZFlNAZqCGlzP+CSHKpajTfwKbiGUlkpnWnuoyIUmgK1/F7rIxwbPcOzfa9zOt4277nHXPAoBg3+am4s28yO0o0U6dMVHmdCwGPwyM71PPHmSQ63TzQcXVNfSXO5mwZYtGG0BOv5N0sfnSYudr1Q5ime0oyy/fIgP/zFIUbGUkRCPk6e6+XTD22fomFqmjanz/Rww/ZWHv3ULkpKgnMSBpsCLbw5sp+z8TOFB9WjeKnx1aIKlUMjBxnI9jOQ7eetkTfJOTmaAi0UGcXIebhH4zep2Iiwu2wLO0o30J8Z4nziEqdi5+lI9TCUHSFpp8jaJnIeUmXuC0lBVzR8qpeQHqDMU0y9v4qWQD11/irKPEX4FpRAU1DUSmDuN+3V4CDJzTCvGh9FtxavZV10OReTXbw1epKTY+fpyQwQt5KYjjXnxFsg0BWNgOanzFPE0mAT66LLWRpqJKQtTLlQCMGGxmrWNVRN6bUyOcm6aMMoMiJsK1m32M0XjLNt/dywsZnh0ST1NcW8faab7t5Rwq2VhXW6e0Y4c6aHP/6jOyktnV1CZhzl3grWRTeSs7O0Jc6jCpWMneFy6pLLQVI9VHgrKDZKaAw0cyZ+irSdoohiBrOD9KS78Kl+okbRvGjlhtCp9VdS66/kprLNpO0sMTPBSG6METPGcG6UmJkgZWVcRT/pBg40oWIoBgHNR1DzU2RECOtBInqIsBbAr/mu6j7MfW4hDO8dQH4+JdMgPIirXNNMmGvaJoQrdbo83MyyUBOZmiwjuTEGsiP0Z4cYyo4St5Jk7RwODrrQMBSDkB6g2IhQYkQp8xQTNcKLYgtcCUUIlFmY4++bOUYk7OXEmR4s26G+xvUDr3SRMmlXTVzX5ndDbWnTlbrMmDnGpqItBLUguqIzkO3DkjY7SnZR4a1iS/E22hIXKPOUsyaynoyTZk1kLReT7QBsKd6OusBSXkUoBDQfAc1Hle+960cipYl0YljWCXTdnT/lss+hG9sR6jt3XuOjiM/npXqOPMt7hfeNYaxfWUffQJyT53oIBbysaK2kumJqS+NQ2KUO733uBMGQl0DAM+McyO83MAwNn+pjV9nuwvemY+JRPGwu3kZEjxa+XxpaztLQ8ont8bOtZMf1v8j3AGZuH4paTS6zl1z2FQAcuxfN2PIen9l7i/eNYXi9OvfevpY796xE01QURUwbSisrouzauZSnf3mUffsvuI3tZxhtf+vTN3LD9tZp36tCZVfZbvzqwqgQ72foxmZAxx/6t4ADSHKZ5xDXoS7DDXPbgIIQyqTPAgr7t3Fz0a5ipLuOA6iFbfN7y/87fkOnrjN1/zK/3eRjqJNC7xOfZ0PBMKR0MJ1hLCeGIrwYaimKMHCkiWkPYst04XuRj1zYMoFpDyOx0ZUomhJFFBRErPx2KVQRxFCLAYWc3YemRFAVP1LaZO2+wrHmwpnzvby8/3y+HZhA11Xu2rOKyvKJUcPj0fjkIztYuqSSEye7SCZnDg0GgzPLuihCocZXO+d5/EuDEOP16OMCEwLDcwtCWVhybyZITAbj38RvrCfg2YJpdzEY/zZFgQ/h1VtJZN8glnoWiUnAs5WI705y9mVi6ecpDX6awcS3CPtux7IHyVrnEBgYWj2aWk4svZeS4CMMJx4j5NuDoTWSyLxKLP0CjkxhaDUUBx5GCJXB+LcoDX0aXa3AcvoZjH+T0tBn0edwFTUAKS0GU88wmPwVQuiApNT/QUoDtxPPHqEn/n0UoePIDEFjFdWhT4FQ6Il/j1TuLEJoODJHVegRwp7NODJDb/z7xLKHEUJHoFId/jR+vZWO0b+hIvgQEe9mLCdG+/B/pbHoj/HpjVe5gYJUJseWtQ14vTqqorgjwhUIBr3ccvNKbt6zYtae2ddS2vovEVJa5DK/QsocHu8dmLl9GJ49cM3SPw4Z8xSGVo0jY/TH/gFdLcejNZLKHWMg9nVKgp9AVYIMxL+BKzVaQyZ3EolNOneCgGcblt1PxjyHIrwI4UURXncdaZI2T+H3bCCReZWhxD9TFPgImlKC5QwCNo7MkcodwXE+Aio4TppU9ggymJ7zzDWAtHWJ3vgPqY/+AQFjGY6cCLkF9GU0F/8JqvCRzJ2mY/TLlAbuwqNWUx54ADXfhbQ79m2GU88T9mxgLHuQ0cw+moq+hKGVYztpVMUHSCwnjpQuu1biYDkxJFdPfF3uHmHDqjp2bmmZV/TFpYFMpzE7tkMyliE5miSbzuFYDkIRGD6DUFEAX8iHosxd+2xbNtYC+0wrikAz5o4cSSlxLIdkLEViNEkuY7rn5tHxR/z4Qz60GfRpHUdi5VwtXEVVZlyncAxHYl6xrnRGsazzCOHBss5i25eQMong2l1KKR1y1mUG498EbEqCn0YID7H0XvyedYR9t4EQmPYgY+lfUhr89CKOYRJLP4vfWIffWI9A4KEeRQlgOfOr27gSrmGYF3FkBtMeJpY55C5Qo+hKBFUJ4diDDKWfYzj9EgFjKZpShBAKulpMyjzPSOol4tmjVIY+CqgksidQhIe01UHGcmkGHq0ar7Z4NyUc8qJM6mWwUNi2w8nXz/DaEwc5/1Y7w31jpONpLNNGUQS+oJfS2hLW3rSCmz68nfrlNSiz1IW//sRBnvr68yxETLhuWQ2f+U8fwx+eLqUjpftgnz3Uxqs/O8CpfWcZ7h0lk8ohFIHXbxApC9O0up4d921m0+3r0CYRIQc6h/jGf3iM0YEYq3cs42Nfuh99lsYrQz0jfP1PvsfowBjLt7byqT97CKEoCBHB8Gwlk/4ZAg+I+Un+zAejqacQqNSV/DdUJQqAZQ/iM1YznibW1CIcJ+lGyab8rlf+xnLatxIbyx4inTtJxnR1k027n4j/DsLeW/JrL4ycqAEIoWE5MeLZIwihkbEu4cgcy0r/CtMZ5eLIf0NXiqkIPkDIswFV+JFSMpTaS3/y50Q8W2gs+nf4dVdzShE6WbuHePYtQBDPHiVorKQu+kWktLDl5PZW86uk27Sm3r086Qr+CiHmpe49jkwiw3f+/MccecEVMFBUBVVT3YdfSuLDCbov9HH8lVO89KM3+Oyff5wb7t08o3GMDsQ4d+gCZs7CsR0cxx2JnDyZUSgCVXPPTVEEqq4iFIFtzzzKJMdSPP53v+IXX93LcO+oe36KQMmHnccGHHra+jm9/zydZ3tYtWMZwUnKGZlkhuOvnmbg8hC+oHdWFxIgk8py/NVTDFweQs/XqmhqBI/vbhSlGK/vwwgRWDAdZDYIoVLkf5C0eZxk9hCG1oBAx9DqyFmdgIWUGjmrE00tRQgPUqaRMosj0zgyjcRCoLojqkwgMQv/Ip383KMOj95KaegzIC26R/8zSAcQOE4c0+7H0BpxZBb3mZs7vK4BBPQl+PRmIt7t+PQGehM/QKChCC9ZqxvLiVMb/jyK4idjdRLQ3YhOInucoL6CEv/t2DJJzh7EUCsIezYRzx6jxH8bqgiQsS4RMJYjUJBYDKdewKc3kjY7kFho87gJI2MpYokMwYCH7//8TTy6xsMPbCEyR0P5yRg3xLrlNSzd2ETL+kaqmirwh304jsNQ9wjHXz7F60++yeXT3fzTnz5GdWslTaunt03b9eBWWtY3kkvnSCezpONpzhy8wJNf3YuVs9j8gXXsfmg7/rAfX9CLx28QKg7in+Fcc5kcP/rvT/KTv36KXMYkEPGzZtdyVt6wjNKaIlcMbDhO94U+2o5fIhC5Tg0ap/w2SRz7MooSQdWaAf06spAlulZB2HczvWN/7cqDBh4k7LuD3rG/ZDD+TRTFTyz9HGWhz+Vf0sOMJH+KZfeRyLyKaffhM1ZhWr2kskfJmOdwnDgjyZ9hOaNoahkR/130x77CWOoppMzhyARB740gXJd9JPlDctZlUrkj6FpVYeSaDRqAoVZQHX6UweRT2Kk0HrWCqpA7ow8Yy4h4t9AV+xbgEDCW49MaUYSHssDd9CZ+zKXRLyOESnnwQQy1gqBnNaWBO+mN/xAHk6CxmmL/LYBC0FiBpkToGvsGlpOgxP8gtgiStXNoiorCzO7SsdNd+XbECksay+ntd+sw5msYhs/gk//hw5TVlVJSXYR+hb8vpWT3R26gfmUN3/gP36f7Qh8Hf3WExlV1086nqCJKUcXUHzZcEuKX//Q8Vs5iyYYmbvvkTbO6YpOPefSlkzz51b3kMialNcV89i8+zo77NuMLTbA+C3OjsRTx4QS+ObqxLhgyTTb9c3LZF9H0lYBAVRvx+O7JB2KuDwytiYrIH5LIvI7txPDqS6iMfIlE5lVsJ0Z5+Iv4jfWYdg+loc9gOwnKw7+PIvxkzLNEfXeTMc8iMcma7RRFHyBtnqI4+DEMrQ5BAxXh3yeR3QcIKiP/Fq++BNsZoyz0OTS1knTuKB6tkbDvdpSrsIfzrpRCxLOFkLEGiYkifCj5ckhVhKgNfw5burN4RXgReU5NwFhFU1ErUuYQQkUR7s0U6JT676TYtxuJgyr8+Tgz1EV+D4ROd6qTN0eO0zbSz5j5NTShUeuvZHPRapaFmqa06gLIZi1UVcFM5agqDxNLZAodkOZ1Yzw6a29aOetyIQQen8H6PavwhXwF1+qdhJm1+PW3XiIxkkQzNB7643u4+eM7Ua/I3AvhumbhkhDhkuvcWkDoaPoapDOKx3c/YJNJ/wzpjCHUhbUZm/MwQuDVW/DqEwLaPmM5PmP5lPUMrRbjirloyOc2utG1PP0n/y70e9ZPWc/vWYffM5WmpKlFFAU+5O7HO/+kbCGPIYRAFb6JowIpK8OZeDumM79a27AeYEmoEVW4CRdVTI1qCAEKPo6PneWbF39KR7J7Sq3CW6Mnean/ALdX7uSBmtsITiquaW0s4/s/f5NkKoeqKng9GntuuH46SFJKbMvmzMELZJIZELwjbstkDPUMc+agO1msai7nxge3TTOKdx5a3n2SKKr7QBqe3Yuqx5gOBUOrv6rb8puIOTPfw7kxvn3xCeJ5irDb2chVqzAUHV1M9UWXhRr510s+iarOnqwbzI3wnY4naE92zrg8ZiV4svt5PIrBh2puR1XcB6W1sZwvPrqbRD5ppygKRTNEeBYKKSW2adN7sZ+XfvQGT351L2bWIlQUYP3Nq95RhY2By0OM5RtjNq6qo7gq+o4day4IEci7US5UrfmachiOlFwaGWU0laE68mmCHjdZmDEtLgwOAYLWsuKCtOtgIknnaIwiv5f6ogmZTNtx6Bge5Vh3L33xBIoQVIVDrK6uoC4awXIcLgwM4zM0GoqKpuSn+uMJuseuroIOEPIaNJUUz59dW+Yp4l8v+WSBkp22M/y8+wV8qpddZXn++6SIkk/1oM+i+TSOI6OnZzWKceQckxf697GzdCPVvnIALMvmXPsAZ9r60DWVjavr0Csjc+5nLkhHEh9Ncu5QG/ueOsyhvUfpaevHtmz8IR/3/KvbWXPjikXvfz6IDyfIpt2cUXld6VXnJO8EpEziOFms3AF0YxsgyWWfd7Pfavmi9mnaNl977U32njnP/3nbTXx4vatD2xuL86UnnkEAX/n4/dRG3fv3wrk2/t9nX+EDy5fwF/fcBrgtAJ58+wz/+NoBOkdj2FKiCoGqCGqiET6zbSNNJUV86Yln2FBbxV/ccxteZcKY954+z9++9MZV+xoKYEdTPX/14F1TNJjnfIo9qkFTcMLfOzR8gqyd47dbPkqpEV3w29SRDqdjF+YloDCYHaE92VkwjGOnu3j14Hk2rK4jk7V44tdH+dSHtxUEgecLKSWj/TH2P3WYF37wGucOt5EYS4EEj89g2ZYW7v7t29j1wFa8/ne286iVswvRMsO3cFWO63MOR1DVBizzOJZ5EpDYdje6Z8817TdjmSQy2XzzTBeOlCSzOYRw/z+OnO0Qz2TJmPnEr5Sc6hvgr194jf5Ekg21Vdy+vJWw10t/PMEb7Zf425feoKW0mN5YnLRZOi1Lsb62ii/s2EIilyOVzdEbT/DS+XZyls32xjqaS4sJGDo+Q6eltLjQZm4cCyIRdmcG8GlewgssDBmH6ViM5GLzWteSNv2ZCZ2m4ZEk2zc2sXNzi9tOOZ4mlshQvQDGsnQkJ/ed5Tt//mPefu0MuXQORVUoqSpixbYl7HxgC+tvXk1RRWRRHUsXCt2roygC25FkEtep0+0kY5vXORhbUVQDf+jf5IspJLnsC7zX6q2vt12iN56gJhrmz+68heUVpQghcKTkoQ2r+dprB/neoaOzjgirqipYWVleyH2d7R/kSGcPo+k0H9+0lluXtrgMB2YWyFjQ1ftUD73pATpS3dT5KqftUMlXls1KR0AuSG4na+c4erKTkbEUg6NJ2o91EE9kyeYsLveMcMuOZQs5fXov9vMPf/wtzh5qQ9UUWtY1cuOHt7HlzvXULqnCG/C8a6p9AJGSEB6/h1QsTV/HAJZpo8/QMGYhiI8kMLPm7KPdlTaTn0s4zijk742qr7guJMLFQgLdMXd+UBkKUhudKFlVhKA04OfR7RvZ39HJ6b7ZdbzcCCkgxBTNKFVRCq2rZ8OC7sKKUDPPKK/yP858iwpvybSqtYZANQ/Xf3DWvnOqUKaFYWeDAHyKl6GRJD39rnBXbVURQyMJpIT66uIF++QHnznKhaMdKIrgA4/u4eF//wDldaWIq3Cj3imU1ZdQVBElFUtz8cRlBjuHqGq+tqKdwa5hhrpHCBXNnDTNZU3sPM9rPDsvZZp04u9xqdghhBLF6/8YYhGia9cLRT43VzOUTDGSShPyThi6EIKyQIAVFWVzGsa1YEGGUeUr4/daH+bgyNsMZUenFfSHtbl7IGhCo8o7v6owTdGoCZSzacdS9yUnJf1DCdouDWLoKkuayqfUe88Hned6sC2bUHGQu79wGxUNZe+JQYyjuCLKqh3L6DrXQ1/HAM9//zU+9m/vQ7uGUWO4Z4TDzx6nbnnNNGFrKSW97f0kx9woY7R8vIlODkWtwuv/VN4YBNciinCtEMDO5gZ+cPg4l0dj/K9X9vNb2zZQG43g1TVURUFRBGHvtc0B3RC9g6q5vcWlI1Hzcq8LugOKUGgM1NAQqM5PnqaOy0KIORuPjDdd2dv3Oml7bp+6yltGQ6CmMBxe7hnl+z9/k57+MUJBL3VVRTx8/2YCC5ggh6Lu3MjMmvRfGqB1fSNiEgN3nMw32D2CbVrULFl8D435QNVV7nh0Nwd++Raj/WM8/uVfEoz4ufnjOwkVT9SsSykxsybDvWP4wz7CxbNTaCzT5smv/pqm1XWsuWllgWwopWSkb4y9336JbH5utWRTM0IRSKni2INk008ihIEQAQzvHibntN5NCCFYV1PFH+y+ga+9fpBfvH2afRcv0VhcREUoSMBjYKgqhzu7r+k4F45d4rWn3mLH3RsIFwU4c6idGx+4BiXCrJ2jLztEwkqhKzrlnmIiemhexekrwi3sKNnAC/37ZxUi86le7qy8kRIjWvju5Lke1q2spamuhLrqIt4+001X7yhLF+B6bLh1NU997VmGe0f5+p98j/NvXaR1QyO+kI9MMktvez/nDrdz7nAbtUur+NI3v0ggPHOiKzYU5/KZblKxNPGRBKf2n7uq0NuVEEKwYtsSHvqju/nnv/gpY4Nx/un/eoxXf3aAVTuXUV5fhiJguHeU9hOXaT9+iTse3cOH/+juWYMD5fWljPbH+B//6h/Z9eBWVt6wFF/Qy8DlIV59/ABvPe/2DqxdWsX6PSvz5xHGF3gU27qIlFmE4ofrUcHHQjmtE9BVhY9sWM26mkpeOtfO0a5e+hIJemJxTNvGsh3i2WvTqDr++jlqWyrY98sj3P7wTjrO9LBLuonoBRmGlJK2ZCc/vvwM5xIdJK00HtVDuaeY+6pvZnvJOjRl7sytV/HwSMO9BDQfbwwdYTQXw5SW2xZM0an0lnJn5Y3sKd82RXfU69G53D2MadpomoquqXOySGfCsi2tfOJPP8Rj//Vxui/08dhfPu4ybBWBdCT2JIZsJpml+3wvSzY2z7iv46+c4m+++HVSsfQUhu1CoRka9/3uHRheg5/+zVP0dQxy9KWTHHv5VGEO5TgOMn+t+35xiDt+a8+s1JAV25dQv7yGx//uV/z0b5/mib9/xo18WQ523nBLa4r5xJ9+iKqmivwcw8RxxtD0FaRTj6EoRejXoeZbSolpu1GyySOv7ThT712hanWqqqOuqqysLGdFRTlZ2yKZzZGxLCzHwbQdvrnvED8+cvV2b7NBUQVNq+vo7xzmuR+8QSDsK5zCggxjKDfKty8+gV/1cUv5dl4ZeJN7a27mYrKLxy49TdQIsSrcOqf7IYSgSA/zyYb7uK1iB52pXuJWEkUoFBkR6v1V+dazU99YG1bVcrFziPMdA2zd0Eh9TTGV5QuLnOiGxl2fvYXW9Y289ON9nD5wnpHeUbKZHIqi4At6KaqI0rKugfU3r6J6kjTPlQgVB1mxbQlmbjpdpmZJ5ZSbfDV4/Ab3/o6bUHz9iYMcf/UUg53DpPIhXI/PIFIaonZpFRtuXTNrrQW4IekHvngnresbee57r3Lx7cskxlKuT14SZMnGZm7/9G5Wbl9SMDzpjGLmXkPqG9C0FmyrA+nEEeqEmxrU/KyLLp9T1VDgdnEqnAsQy2QLhQWW47j9EG2bRHZiP6aTDwbMUFkphEAI8Ck6Pn3iui3bwZv/vJDOVJNxwwc34A96uO3jN3Dq4AVWbp3QAViQYZyOtZN1cnyx9RFGcmMcGjnBxqKV7C7bwt+ff4w3Bo+wPNSMNg+NJV3o1PmrqJvUPmsuhIJePvHAFlIZE59XZ0Xr9HDxfKAZGsu3LWHp5hZSsTTJWAozZ7mtmL0G/ogPr9+Dos5dFLV653JWbFsy4zIlLyA9X4yTBJvX1tO0uo5MMpuv4Mvlz1nHH/Lim6WCbzJsy8bwGWy/ZxMbb1tLbChONpV15WpCPkJFgemVhELDsQcw5X4EGlImQEwNbNT6q/ijpZ+56rUoQpkisn1xaATTtvFoGkPJFMmcSc62aBsaZlWVm7wdTCSRQMQ79ZiOlOQsG482/ZrHMplCRCrq804Jx84X0dIQmqERjAYorowyOjCRY1uQYQznxojqISJ6kJFJvQ/8qpeWYB1vj53HljbaVYpAFgMhBJqmEg5e+77HH8RQcZDQHBPZuaCoynWncAghEKrAH/bNWOm30H15fAZltSXzWDeCx3cftnUOcBBKK+KKZjOKEAXG9dVg5eeOQsDx7l5ea7vEsvJSnj55lpSZI+Tx8MSxUywpK0VXFQ50dCKAppKiwj6klFwcGuHvX9nPmuoK1tdWUREKoqkqw8kUPzlyguPdvXg0lbU1lTOONrPBsWwyqSxvPH2EFVtaCEb9pBMZXnvyMPf99q0Ln2O4BhFjzJxOznKkfMd0bN8PkFKSiqWxLZtgNPCe8J4WCyEUdGMdunF9lSWDHg83tjTyn595ESGgN5bAUFU+v2Mz+9ov8zs/eBxFKPTG4lSEg2yqq56y/ZGuHp47c4GnT5wh6PUQ9XrRVYVYJstQ0g0537K0hT2tTQvyHrovDvDq8SFGB2P86G9/hWZomFlzSkBjQYaxPNzMr3pf5X+df4wKb0mBjm5Lm97MIJUzJP3+d0HHyU6++u++Q2IkycN/8gDb79n8PlMjuX7nqgjB6qoKAobBp7aupzwU5PFjJ6mJhvnA8lYe3rSWnc0NfPmlNzjXP8Tqqgo+vXUDLWUlUx7wW5Y0E/J4eOXCRU73DTCcTJPI5vAbOs2ltexsbuC+NcspCSyMIl/VUMrOxgYQbk0MQDqR4dUnDxfWWZBhlHuK+UzTg/y081neGjlFkRFBQWBKm2pfGctCTYtu8P5+x5EXT3DkhbexLYfnvvsqm29f954RA99raIrCo1s3InHbeH12+0buX+sylYv9PjRFYVVlOf/9wQ8ylsng13W3Af2kfQghiPp93LashZuXNpPM5kjlTGzpoCkKQY8Hv6HPynWaC6qu4csnh335kqFA2MeN929eXFRKCMGSYAP/ZumnGDMTONKh2IigCpUHam5b1En+S4E34E7YbcvB4zfgfTVaXF+MR5LGRyFNVakITZ/LBT0GQc/cLw9X1FoQ8XmJ+K5jSS+QjKV55Yk36brQR1lNMbs/tLWwbEGGYTk2Vr5zZiTfP3qcFvJOulDjbNGskyVhJYhbMZJWEtPJYUvHjSgpHkJaiKhRRFALzlo7vpBjOjjEzTgj5jBxM46Z18PyKB4CWoCIHnWFoIXOtrs20v/vBhkdiHHXZ2+eRgZ0pEPcimMvsPPolRAohLQQ2qS6F3/Ix7YPbqC3r5/KTaWM2iMYOZ2gFkJX5kftSFjxgoS/QCGsh1DnOdl+v2LfL4+QTeXY/aGtnDvSwcuPH+Sez+4BFmgYbwwd4Zne16Z8J3Az1RuKVrC7bAs+9foyVB3p0Jm+zFsjhzmbOMNgdoCUncZ0TGzp9lQQCFSh4lE8RPQITYEWthZvY0lo6bQqw6vB7S2d5WziLAeHD9CWvEDMHCPrZAu9QNSCLH+QCk8Fy0LLWRlezcN/9gBa/mGa1mPczvDti9/gUurSNf0eQS3I55p+m1r/RJ1MaU0xv//lz/Krnqd5YeA5/tuFI3hVH7/V+FlagtM1emfC410/4+joEQDCeojfbv5dKryz53HeD0jmcoylM6RzJmcHhqbUhgAM9Y6x696NVDWVUVwR4Zffehm5mMx3UPNTfYVkvZSSodwY37/0NBLJnZW7rmt0KmkleezS9ziXODPrOhKJJS0s2yJpJ+nOdHN49E22F9/A3VX3EtHnV1QlpaQ308NTPb/gyOhhMs7MfK7xY6XsFAPZft6OHefFgef5QvPv0BqcObchcYhZMUbMxSnjjcOW1rRRRwgBEtJOmhFzBACvnSmM7vNB0koUzs3Bfte68b6TePL4ab72+kHSpkXWtEjmchiTauobllUV8lWO49C4snZxc4wNRSvYUDS13FNKSdbJ8Z2LT3J09Ay3lm+fN7V8PnBwyE56QDWh4VcDhPQgAdXtZ+FIh7SdYswcI2bFsKVN2k7z0sCLpJ0MD9d9goA2t9yklJL2VDvf7fg2HamLhe8FAp/qw6/60RS3oaUpTbJ2hoyTKTxACStBZg5ipK4YbCu+gXp/PRnbbQyTc7LknBwZO0N/tq/gymhCo8JbgVfxYSgGhuLBoxr5ETFKWF98Se+1wnVrM0jrEtK+DDIJGAi1GqE1gwgCDjj9IE1QSvPcq/Ht7fyynJtEVMoQswRspEyDPQhIUKKz1oi4zW6SSKsNaXcBJkIppswv2FxfhZQK0hkBGUfXwkRVnUtneqhoKCWbztFxuhspJa3rJjTErtmJFELgUQzq/BX0Z4euvsEioAudWl8tS4LLWBZaRqW3mrAeQleMPJtXYkqLuBnjTPw0z/c/R3fG7ZZ6aPggK0OruKFkx+wFVFLSn+3nsUv/XDAKgaDaV8224htYFlpOVI+iKa7gdc4xSVhxhrJDXEy2cT55nqHs0JzjpKEY3FZxuys/Kd0Q9/hfyk7y1bZ/oD3ZBkCZp5zfbfl9wpob2FCEgipUV8zyPQxuSCmR1lns5Fdxsq+DMwKYgAoihGKsRw18AaHWYI7+H0inHy38H1G9N0/aSRxz9EtI6xyKsRkt+lfMxuKVuaOYY/8eZA4t+PuogUdmOCcHaR7BTvwjjvkmOGOAA8LLjaUN7Kn/BIrvHqz4X+Nkfonqe4Ce3l3s/cEbDHaPkIqlqW4uR1EUGlfWcOvHtgPXwTBcn9zkUqqXlmDdlEnh9YBP9fJQ7Ucp9ZQR0SMzNjQH8OD635XeKqp81Xyt7SuMmqOY0uSt0cNsLt6CMUvhjSUtnun9ZaFDkkCwPrqBD9d+hArPzNSTMk8ZTYFmNhVtJmWn6M30UGwUX/V6RL6TrCY0NCbmI5ODF6pQCKgB/HP05n63IaUE+xLW2J8hzTdxO+JG84IJGlKO4mRfx7HaUH0fQlrnQGZBXjmKOuAMg9Off4vL2VMoMgd2P5BDyunNLKWUSPNNrLE/RVoXABWUcoRS7G5j92DF/yuq3YE038ofM0btkko+82cP8tQ3XmL5piaa19RPo/AsrOY7PcDlVM+U79J2llOxC7Qnu3i08f5Fzy+klKQti7FshoBuEDIMV59W8bAkNH/9KCEEDf5Gan11jJqjAAzlBsjYaYwZGqJLKelIXeTw6JsFMeF6fz0fqf0YZd7yq16PEIKAFpj3JPf9Cwc7/QTSPAwIhLELLfjFvPukgjOKnX0ZO/lP2Ml/dPv48Q7ncZwhrPiXXaMQflT/J1B8D7lCcdJEWm3Yyf8PO/U918gmQQiBZdoce+0sw31jIARF5WFa17ru1IIM49joGX7c+etJ30hs6eBIB13ReL5/H63B+kXNMQZTKb5/8jgZy0QRgrtbl7G8dHE94BzpTJl4jp/jTJBI3ho5TMJKAG7E6cbSPZR5rm4U/1tBJnFyrwMOKFVoof8Doa+ZGE2VIlS1HiHCWLH/m8VXYszzdKTEyb2BzB0CBIr3btTgHyCUiXyJUMrybt0fIs0j0/ax+8EtHHrhBD0XB/K5l3nqSl2J7SVrWRJqmHX5fHSlZsPJwQGWFpewu6GJCyPDHOzpWrBhSOmKLRwfOzolLBrWwnjUmZNDGTvDucTZwueIHmV5eMX/tonKWeHEkLYrWaroyxDa9D4lQqgo3j2I9Epk7sA7fEImTvYVIAMigup7EKFcEWARAtQaFO/t2OYxuKIwzus38PoM+i4NUtNcwcqtE/KhC3qKw3qIkB645uTZTIh4PJwdHuTU4ABtI8OEjfmXrLrJOJvB7CD7h/fx0sCLpOwk4I4AqyNr8Sgz7y9uxRjOTYRQS41SIu9h1Oc3FZKcO2cAUIphNqEEEUbRVmG/04YhE0jLfaEJtcp16WYY4YVQUPTV2MILV8xT9v/6GJ3nehnoGsEX8PL6U29x28dvABZoGJdS3bQlLrO7fCvqLG5GLJFheCSJogrKikN4PfPrP72yrJyxbIZ9XZeoCoa5ubHpqttIKUnbKTrTnRwZfYtjY0fpz/QVSmYFguWhlWwt3jrrpD1uJaaEg0N6GE1oi47jvxMvjd8cjLtHKrPNmIVQQK3kepTGzgknjnRG86dTDmKOcLxS5DbCucIwBrpGWLG1Be2ti9x4/yb2fu/1hSf4pJSci3dwLnGJG0o3oE150EQ+rCg4cvIyB492kErlKCkO8OkPbyc4D8EC07GJZbNICSkzR9qyCM+w2ThVYzA7yInY2xwZPUxHsoOknZiynkfxsDayjvuqHySqF03fUR45JzvFCHrSXfys6ydXPd/ZsDayjuXhd1ba8zcbArfh5TtrGFLmChEvIQJuAGBWGMyketK6tp4Xf3KAovIwZs6irLZ4/gk+KSWXUj0cHzvLKwOHGDXj/N25706ZmOqKRmuwnpvKNrN9QxNb1zUyFk/zP7/+HJe7hlmx5OpVesf6ehlIJbm5sYkLIyM8236BT6yeWh/gSIfeTC/7h9/g0MibDGT7p73ZPYqHBn8jO0tvZH10A37Vf9U3+GTlvu5MN92ZxatPhLTQb4xhLESR8PriN23EnFmWYe3OpZTXFiMUQVlNMTfev7mw7KqG4eBwKtbG6Vg7aTubn+A6Uy49aab5SedeTGlxX/XNKPleGD6vQTrrEu8sy+b46W4udg1RXhIiFPAQDvmorS5iMJVyw7SGQdDwEDY8ZKypdIasneXA8D729j1DT6YXOWkipaAQMaK0BpawsWgTy0LLCGnhebk0utBRhVogCP5LwUJVH68v5mkYMgssklQpDBCuSyFl0lVRnDUfksVNRE7FqYNttJ/oLJQiVzSUsjGvnHJVw1BQuK1iOzeXb+Xn3c/Tkx7k880PTam7sKXDjzt/zcmxC9xVeeOM4dqLncN868dvcOuu5fQPxfnu4wd48I71FJcFeer8GUYzaWLZLJ2xGCkzx9bq2kn7t3lt6BV+1vVT0vaEn+hTfdT7G1gXWc+K8ErKPRUYirEgH9+vBTAUo8CLKvOUszG6adY5yWRIJKdiJ6dky693gnOxcKRNyp6eFJsJ8h0Orc56XGcIZByYhepRaGYPV7pmQgQRStSlpdgD+fnDzPMM6Qzn8ypTERtOMDoYp2V1HYoqCEUmtr/qXXT58G6OdpyeYCj6NJmcSm8Jl1KzuyCmaSEUwbLmCspLQhw54XZzDRkGn1y9DltKLowMcX5kmMpAkLUVE8zOvkwvz/XtLRiFoRisCq9mZ+mNtAZbCajBRU94Q1qIkB4mZrmF8GEtzN1V984r62w5FikrWTAMVagE1OvT1PFaYUmLodzgNOmaGSGZQePrXXCHnH4c8wyKUj3tHKWU4IzivunFFL4VAEoQobUgzeNIuxdpX0QopdPUWVzKyNsTEbVJ6O8c4uaHtlLTUjHt+At6vflVH2E9OKMChipUGvzVs1bwNTeUcdeeVTz3msuSvdwzUljm0TTODA3y67YLXIqN0hiJkrVt9jQ0IaXkfOIcA1lXEUJBYXfZzdxddS8BdXGq65MR0ALU+eroSrs9O4ZyQ4yYI/MzDGlNCfUaikGp5/q157oWSCTtyXZyTg6POnfww5IWGXviwVFQrqr0cl0g0zjpH6EYG5BcyYDOTiQUhR+h1lyxsYFi7MJJ/xLkGE76FwhtdX7in9+9lGB34WSf48ocBkDjilr8Qe+1q53vLN2AJe0ZZTi3l6zDkQ6qcNvOjv8VLkNX3Yn5+iYsy6a7bxR9Uq/q7niMVWVl+HWdm+obONjdBQ1NSCSD2cHCGy2kh9lefANB7fq8mRUU1kTW8ebIQSxpETNjnIy9TbV3+lvsSgzlhujNTFBkSj1llHkW12zlnUBb4gI9mW4a/I1zXkvSSjCcGyx89qq+WROi88N8XTMDJ/syVuyvUAOfArUWUEDGsdNP42T2AiDUBoQ2lXIjhEDx7EQY65C5A9jpJ0CtRPXdDyIC2Ej7Inbi60jzlLvfK4yjpCrKpbM9XDrr3sNIaYjGFTUL164N6bPHigOaa6mZrMmLb5ylu2+MgeFEQVjYdiR7Xz1N++VBV7XPkSxpLC/csJaiYh47cYy05Wo81YQm/M6p/v78/WFHOm7d8Ry5BSEEy8MrqPPX055sw8HmlYGXWRFaSY2vdtbtTMfkwPC+woghEKwOryGsv3fy+Vdi1Bzh+f7n+Fjdw7NG56SUnIqfZDA7YRilnjJ86rXI98xvFFe8tyOdMZz0j3GyLyG0OsDjkv2sDtysdhDV/wgoM0ixKmVowd/DHOsF+xJ2/G9x0k/k180grcvgjKJ4b8bJHQdnqqt/8sB5jr16hsaVtaiqQnVzOY0r3JFpwTNFWzr0pPs5HW9nODeGV/HQGqyjJVjvzj1UhSVN5dRVF7FpTT3N9a5roSqCO25aQd9gHMt2KC0KUhydcFdqwxE+u34TyVyOikCQ5mhx/id26d+60DGlSdyM8+rgK4T1yDS27XgGPGWl6c/2cTp2imJPMduKb5iT9xTWwtxW/gG+0/FNMk6Gnkw3j13+Lg9Uf4iGQOOUKkApJQkrwf7hN3hp4MXCSFbprWJbyfY5Ra3fbUgkB4f341W93FZ+OyWe0sJLQkq3uOtc4ixP9zxViMopKKwIrUC/opWDQEEoIaRMT3FXZoTQQQnj0tGvzB8IUIIgIiie3QhjI3biKzjZF5G5w7hRKgF4EForqv8RFN+DM9ZsCKGAsQM98p+wEl9Bmm8jrfPAOUAHtQI1+AUUzx4c84+mbZ9OZHnoD+4oGMNkLMgwbGnz2uBb/LRzLzEzScJKEtXDSOCmss18uPZ2/JqXloYykuks3/7xfoqLAoQCrh8XDHgJztKjun10hCfPnkZXFRShsLK0jN0NTXkBhmU0Bpo4lziLg8Mrgy/RkWqnNbiUMk8ZXtVbqKnuz/TRme6kP9tPykrSEGhkZXj1nDQPIVya+eX0JZ7t+zWWtDgTP81X2/6epaHlNPgbCGlhHByGsoOcS5ylPdlG1nH98qAW5K7KD1I1D/crZaXoz/aRsTOk7BQpO8mYOTZlrnI9ENEjVHtrOBM/zYv9z3MmfprloeVUeasxFA8pO8mlVAcnYycKLGSAKl8166Mbp1+HWoUW/RuQZp7WPfscRPHcgq4tByEQat3UhSKEFv4LkBl3hBARtPB/RFrnkNZZl4oudIRajaKtALV6mvjblN0JDYwb0aMrkdZJpNWOlCZCKUXoKxFaozv6zBCO9/h0XvrZQc4ccssNKupLWX+T2155QYbRmerjia7n2Vm6kXJPMT/t3Mvnmj9MX2aIx7ueoyFQxY2lm1wJTk1l3coaQvNs1p4yTaJeH9tqalEVQcQzsV1Uj3J/zYN8/9J36Ux3YUmLtmQbbck2FFxDksiC6zQZXeku2hIXWB/dMOdDaygGd1XeDcBLAy+QttOMmqMcGN7Hm8MHZj1GVI9yd9W9bJ6DdjIZZxNn+PbFb5J1MjjSwcGZ8byvFeWeCh6q/SiPd/+UE2Nv05XupCvdiYLLUBg/9mRE9Cj3Vt1PmWc6eVMID0KfX+JSqCUIdWYFRCE0hH5F+a/wI4x1sEjBNyEEqKUI9Sbw3DRt+Wy/7E0PbObs4YsFjWDfpL7xCzKMc/EOgpqfOyt30Z3uR1M0yr0lrAy30Jbs5K2RU9xQsh5daBi6xo5NLVffaR4jmTQrSktZMQOjVgjB0uAyPtv0BZ7vf44TY8cZM8dwmHiwroShGET1KM2BFqKT2gnMBiEEftXPvVX3U++v58X+F7iU6iDjZGY8hl/10xpcwi3lt7E8tGLe+QszX/03WwuE64VyTznVvhoeqf8Ue/ue4dDIm8TMMRxsrhSJNxSDBn8jd1bexerI2n/BXK+pCIT9bNizcsZlCzKMtJPBoxjTqOWqUKnwlnB09Ay2tNEXURi4rrxyzjmbIhTqfPU8Uv9JejO9XEy20Z3uZsQcIWO7yRtD8RDWw5QapVT5qqn2VhM1iuatFCKEwKN62FK0jeWhlXSkLtKebKMv00vSSrruYL5KsDnQQr2/YV6Uk8mo89fz0bqHp2Tur0RQCy0qKrQ2sq4w+W8KNKMJjVKjlIdqP8oNJTs4Fz9LV7qTuBXHkQ4+1UeZp5ymQBPNwVbCk9gCMi+onM6ZqIqC36OjKgq245DKmfgNfUqnUyllYZnjSDy6hlefSiC1HYdkNoeU4Pfo6Ko6adkI6fTTSJlFVcvR1Hp0fSW53CGyucMIoeH13ISuL6zv4mKxoCe40lvKc9l9XEhcnvYGTdtZPIqOssjE0JVK1zNBCIEhDOr99dT56qa5IQLhig/n/d/FvvmEEIT1MKvDa1gVXo0jbZz8McZdt8XWX1d6K6l8B2RphBAsCS2dsdrREAZNgWYa/U3Y0p7CPp6pllxKyYnOPn564ASjqTSqonDj8kbu2bCCoXiKrzy7n8/dvIWa4okInO04/OTACQ61dSKEwKtrPLhlFesa3K5Ulu3w5OFTvHK6HZ+h85Fta1jfWF04Xir1Exwnhtd7E/HE1/B5P4DEJpn+GX7fveNndt1/t9mwMO3aUDMN/mq+fO67hPUA2byqRc4x6U730+CvfscpEVJKMqaFpipoikLWtPHo7jGTmVz+7aYWbkbOsvFNkr3P5CwURRRkVGzHIZmX2w94DUzbQRGgqyrpnIWhqaiKhrTdt51XF2gqxDMZHEciBAQ8hntzcyZSuhG4kM+DIgTJbA7LdvB7DJCuCRua6l6DoqBr757W7ziL4WoYiqf46nMHuGVVC5uaashZFrbj1mabtkPn8Ng0jSYhBOsbqtjaWotX03jhZBs/eOMYK2rK8egaI8k0vzh8ik/u2sDymnLCvslJRwfTPEMg8AiGvh5D3wdIzNwxbOsy2ex+wEJVq9G0FsQszU+vJxasK/Vo0wO8PPAmJ8bOU+Urx1BcN+WW8m1U+crelXLQZ946y5LqUpZUlfCTfW+zZ1Uzp7r6Odc9iAR2r2pmdV0F3SMxXjnZzsd2rkPL99p74e0LlEcCbGqpxbIdnjlyhosDI2iKws2rW7g4MELE72VzSy0/P3iCrUvqqCuN8pN9x+mPJblhaT3Lqst48e0L7Dt7ieU15dy6pgXTdnj22Hk6BkbYsbyBPauaOXG5j/1nL2HoGltb68jkTDKmxc2rW3jmrbO0VJWwpv43T9TsQv8QY6kM9SVRUvkGL7qmYs/RMUpVFJZWlZIxLc72DHKyq5+igK/Qfi5rWgigtaKEquiV3aAEQgngOEOAie0MoKpVKEoRqlqJz3s72dwhTPPkoq5HCD+KZzvSGUbRlzKfPMuCtWuL9DD3Vd/MB6tuQkqJrugoQkzTm3qnIIHRVJpMzsSR7tutZyTO0Ys9fOaWzfSOxHnu+HmWVZeRs2yGE6kpEZ9YOkPQ65Ice0fjHDzfyedu3YKhqXh0jWMdvW4PaAkjiTRZ0yaTs2jvH+Zzt26lJORHEYIPrFvKhd4hbl3bSl1JxA1Zr2ziueM2t69dguU4vPh2Gx/evpq60igAL59sI5lnG4+m0qRzEyHEcW0sAJ/qnxLhcqTF5cSzlHjXMJI9Q9hoxKsW05N8HdNJUOJdTZFnBWl7gO7ky/jUcqoCO3CkRVfyRWyZozawB0um6U3tw3ZyVPi3YKgRhjLHqfbfOMWVypo2fWNxfrz/OJqqkMjkGEmm+MtHPujeAylxrmg8L6WkvX+Yb758mNFkms3Ntdy1flmhn/a4szvTMymEgt97N8nU98nlDmNZHRj6WjyeHeTMt0mlH8eRKQK+B1iUsI1ajRb5L/kPCvOpFVnwUdwuqgLjPVQ1d6Qka1kgJ1wrVREEPQZFAR9Z05pXf750zqRrOMYvDp1iLJmhpiSCz9DJmhYyfxxwj6EIgUdTCxNONd8bfPxfkf/ObbAisPNttaIBX8HVA/fNOX4N48+Imx96hVcGXwZgZ8kudpXeVHBLTSdJf/owqvAykH4LW2awnQxCqJT61qPlux8Npo+iCg8l3tUIFJJWN3HzEk2h+1CEwcWxnxAy6iny1KIKD5aTZDhzimr/LiY/sZXREDVFEX771q3UFEd47cxFvv/GUby6RsLOEU9naesfprGsuLCZlJKnj5wh4NH5wzt3EvG75zTfeZhhbELTGtzmmOlfAKAoJYRDf4jjDCBEAEUpWdS8zt1mYQIdvxkc6QXCsh1eOXWReDpHMpujqbyIoxe7ee74BUYSKZZWl5E2Tc52D9A7Gud4Ry9Lq0sZjqe5PDhGKmtSWRSiIhJkZW05TeXFXOgdojwSJJ7Osv/sZTyaxmA8SdBr0N4/TH8sydGOXporiqdMOseRzpm09w8XfG+/YVBXGuVXR85QX1pEXYmbYDx0oZOKSJBLg6PsXuk2vhzNjfCr3qfpz/bnP4/SGlxa0KfN2iP4tDLGchfwqFFydoyU1YuUDimzD4RgRfTTODKHVyvFq7msAUea6EoQv1aGLU0SZieWTDOSPYNHjVLt34Us6P9OoLGsiG2tdXzl2f3Ul0Y53T3A3euXE/J5SGRyhHweDlzo5GhHD7YjuW/zSpZVlVJbHOH5Exf44b5jxNIZVtdVcte6ZVzoH+LFk230jsX5+aFTFAV8bGmppbVi4kEXQkFVy/Ns4Am9Ldcg5laRfCfwvjQMXVVZUlmKoak8vGs9NSURHt61nlOd/ZRHAqyurySdM0ll3b/RVAbLdshaFhnTJJbOkMhkaa4o5hM3beBkZz/bl9azur6S/rEES6tLGYqn+OiOdVREQwzEkqhCMJbKTHF/JsOyHTy6xvYl9YVR5MFtqzl5uZd4JleYZC+tLkMIwYe2raahzC25TdtpUvZEvUDKTpKwxrtWSVJWH2G9iYH0Ycp8693PRhOmk0ITXmyZxZQpklYPOSeOX6sgoFWTMDtJmT2MZM8QMhop9q5EoGDJNB4lAghSdj99qf141CKKPMsQQkFXFT5900ZOdvYzEE+we0UTy6rKUISgKODld27bRl2JazA526Y05Ias71q/jMbyInpG4nh0jWVVZQgBIa+HikgQv0cn6DEI+TwY6uxBB69nN0JcW3P7a8X70jACHp3WqhLWNkyUzJaGA9y4ckJAwWfo3Lq2lY6BES70DlJfEqG1spQ7Nyxj79FznO8ZYmlVGeWRIOWRCaZuXWm0MCcYx7rGKjy6RktlCV5dw7Id9p+7TCydKdDsQz4PrZWlHG7rwpGgKYKg12Drkgk91La+IepKI9y0cmprrJAepsQoKRhDVI9SZBRNWl6PYugE9Rp8Whk5J45PLWEs14YtsxR7ViCxEULDclKYTqKQJ3GwyTpjhJA0hO5kOHMKgBLvSiSwLPoIppOcklcRQuAzdDY1T+cQ+T0Gm5rdkWzy7wbg0TXWN1Sz/gqFpcpoiDvWLqVnJM4H1i6hqmh2oqUQAl2fv8DeOwUh37vC4EVBSkkikytMluezbiKTJRrw4dVdAeiRRBpHSkpC/ilJqrn2Mw4hBI6UjCRSWLZDSShQmGCatk02ZxHwzlxFmM6ZOFK6nYCuyBucT5xj3/Dr2NJmU9EWVoVXz4tiMhkZawSJjU9ziZuWkyFtDRDUZ2cJv1uQUubD3Xrh9/pNxv8PGA1DCKZiOucAAAAASUVORK5CYII=\" y=\"-301.68\"/>\r\n   </g>\r\n   <g id=\"text_4\">\r\n    <!-- User 2 -->\r\n    <g transform=\"translate(371.600625 296.007273)scale(0.24 -0.24)\">\r\n     <defs>\r\n      <path d=\"M 19.1875 8.296875 \r\nL 53.609375 8.296875 \r\nL 53.609375 0 \r\nL 7.328125 0 \r\nL 7.328125 8.296875 \r\nQ 12.9375 14.109375 22.625 23.890625 \r\nQ 32.328125 33.6875 34.8125 36.53125 \r\nQ 39.546875 41.84375 41.421875 45.53125 \r\nQ 43.3125 49.21875 43.3125 52.78125 \r\nQ 43.3125 58.59375 39.234375 62.25 \r\nQ 35.15625 65.921875 28.609375 65.921875 \r\nQ 23.96875 65.921875 18.8125 64.3125 \r\nQ 13.671875 62.703125 7.8125 59.421875 \r\nL 7.8125 69.390625 \r\nQ 13.765625 71.78125 18.9375 73 \r\nQ 24.125 74.21875 28.421875 74.21875 \r\nQ 39.75 74.21875 46.484375 68.546875 \r\nQ 53.21875 62.890625 53.21875 53.421875 \r\nQ 53.21875 48.921875 51.53125 44.890625 \r\nQ 49.859375 40.875 45.40625 35.40625 \r\nQ 44.1875 33.984375 37.640625 27.21875 \r\nQ 31.109375 20.453125 19.1875 8.296875 \r\nz\r\n\" id=\"DejaVuSans-50\"/>\r\n     </defs>\r\n     <use xlink:href=\"#DejaVuSans-85\"/>\r\n     <use x=\"73.193359\" xlink:href=\"#DejaVuSans-115\"/>\r\n     <use x=\"125.292969\" xlink:href=\"#DejaVuSans-101\"/>\r\n     <use x=\"186.816406\" xlink:href=\"#DejaVuSans-114\"/>\r\n     <use x=\"227.929688\" xlink:href=\"#DejaVuSans-32\"/>\r\n     <use x=\"259.716797\" xlink:href=\"#DejaVuSans-50\"/>\r\n    </g>\r\n   </g>\r\n  </g>\r\n  <g id=\"text_5\">\r\n   <!-- WordClouds -->\r\n   <g transform=\"translate(154.053182 31.515)scale(0.32 -0.32)\">\r\n    <defs>\r\n     <path d=\"M 3.328125 72.90625 \r\nL 13.28125 72.90625 \r\nL 28.609375 11.28125 \r\nL 43.890625 72.90625 \r\nL 54.984375 72.90625 \r\nL 70.3125 11.28125 \r\nL 85.59375 72.90625 \r\nL 95.609375 72.90625 \r\nL 77.296875 0 \r\nL 64.890625 0 \r\nL 49.515625 63.28125 \r\nL 33.984375 0 \r\nL 21.578125 0 \r\nz\r\n\" id=\"DejaVuSans-87\"/>\r\n     <path d=\"M 30.609375 48.390625 \r\nQ 23.390625 48.390625 19.1875 42.75 \r\nQ 14.984375 37.109375 14.984375 27.296875 \r\nQ 14.984375 17.484375 19.15625 11.84375 \r\nQ 23.34375 6.203125 30.609375 6.203125 \r\nQ 37.796875 6.203125 41.984375 11.859375 \r\nQ 46.1875 17.53125 46.1875 27.296875 \r\nQ 46.1875 37.015625 41.984375 42.703125 \r\nQ 37.796875 48.390625 30.609375 48.390625 \r\nz\r\nM 30.609375 56 \r\nQ 42.328125 56 49.015625 48.375 \r\nQ 55.71875 40.765625 55.71875 27.296875 \r\nQ 55.71875 13.875 49.015625 6.21875 \r\nQ 42.328125 -1.421875 30.609375 -1.421875 \r\nQ 18.84375 -1.421875 12.171875 6.21875 \r\nQ 5.515625 13.875 5.515625 27.296875 \r\nQ 5.515625 40.765625 12.171875 48.375 \r\nQ 18.84375 56 30.609375 56 \r\nz\r\n\" id=\"DejaVuSans-111\"/>\r\n     <path d=\"M 45.40625 46.390625 \r\nL 45.40625 75.984375 \r\nL 54.390625 75.984375 \r\nL 54.390625 0 \r\nL 45.40625 0 \r\nL 45.40625 8.203125 \r\nQ 42.578125 3.328125 38.25 0.953125 \r\nQ 33.9375 -1.421875 27.875 -1.421875 \r\nQ 17.96875 -1.421875 11.734375 6.484375 \r\nQ 5.515625 14.40625 5.515625 27.296875 \r\nQ 5.515625 40.1875 11.734375 48.09375 \r\nQ 17.96875 56 27.875 56 \r\nQ 33.9375 56 38.25 53.625 \r\nQ 42.578125 51.265625 45.40625 46.390625 \r\nz\r\nM 14.796875 27.296875 \r\nQ 14.796875 17.390625 18.875 11.75 \r\nQ 22.953125 6.109375 30.078125 6.109375 \r\nQ 37.203125 6.109375 41.296875 11.75 \r\nQ 45.40625 17.390625 45.40625 27.296875 \r\nQ 45.40625 37.203125 41.296875 42.84375 \r\nQ 37.203125 48.484375 30.078125 48.484375 \r\nQ 22.953125 48.484375 18.875 42.84375 \r\nQ 14.796875 37.203125 14.796875 27.296875 \r\nz\r\n\" id=\"DejaVuSans-100\"/>\r\n     <path d=\"M 64.40625 67.28125 \r\nL 64.40625 56.890625 \r\nQ 59.421875 61.53125 53.78125 63.8125 \r\nQ 48.140625 66.109375 41.796875 66.109375 \r\nQ 29.296875 66.109375 22.65625 58.46875 \r\nQ 16.015625 50.828125 16.015625 36.375 \r\nQ 16.015625 21.96875 22.65625 14.328125 \r\nQ 29.296875 6.6875 41.796875 6.6875 \r\nQ 48.140625 6.6875 53.78125 8.984375 \r\nQ 59.421875 11.28125 64.40625 15.921875 \r\nL 64.40625 5.609375 \r\nQ 59.234375 2.09375 53.4375 0.328125 \r\nQ 47.65625 -1.421875 41.21875 -1.421875 \r\nQ 24.65625 -1.421875 15.125 8.703125 \r\nQ 5.609375 18.84375 5.609375 36.375 \r\nQ 5.609375 53.953125 15.125 64.078125 \r\nQ 24.65625 74.21875 41.21875 74.21875 \r\nQ 47.75 74.21875 53.53125 72.484375 \r\nQ 59.328125 70.75 64.40625 67.28125 \r\nz\r\n\" id=\"DejaVuSans-67\"/>\r\n     <path d=\"M 9.421875 75.984375 \r\nL 18.40625 75.984375 \r\nL 18.40625 0 \r\nL 9.421875 0 \r\nz\r\n\" id=\"DejaVuSans-108\"/>\r\n     <path d=\"M 8.5 21.578125 \r\nL 8.5 54.6875 \r\nL 17.484375 54.6875 \r\nL 17.484375 21.921875 \r\nQ 17.484375 14.15625 20.5 10.265625 \r\nQ 23.53125 6.390625 29.59375 6.390625 \r\nQ 36.859375 6.390625 41.078125 11.03125 \r\nQ 45.3125 15.671875 45.3125 23.6875 \r\nL 45.3125 54.6875 \r\nL 54.296875 54.6875 \r\nL 54.296875 0 \r\nL 45.3125 0 \r\nL 45.3125 8.40625 \r\nQ 42.046875 3.421875 37.71875 1 \r\nQ 33.40625 -1.421875 27.6875 -1.421875 \r\nQ 18.265625 -1.421875 13.375 4.4375 \r\nQ 8.5 10.296875 8.5 21.578125 \r\nz\r\nM 31.109375 56 \r\nz\r\n\" id=\"DejaVuSans-117\"/>\r\n    </defs>\r\n    <use xlink:href=\"#DejaVuSans-87\"/>\r\n    <use x=\"93.001953\" xlink:href=\"#DejaVuSans-111\"/>\r\n    <use x=\"154.183594\" xlink:href=\"#DejaVuSans-114\"/>\r\n    <use x=\"193.546875\" xlink:href=\"#DejaVuSans-100\"/>\r\n    <use x=\"257.023438\" xlink:href=\"#DejaVuSans-67\"/>\r\n    <use x=\"326.847656\" xlink:href=\"#DejaVuSans-108\"/>\r\n    <use x=\"354.630859\" xlink:href=\"#DejaVuSans-111\"/>\r\n    <use x=\"415.8125\" xlink:href=\"#DejaVuSans-117\"/>\r\n    <use x=\"479.191406\" xlink:href=\"#DejaVuSans-100\"/>\r\n    <use x=\"542.667969\" xlink:href=\"#DejaVuSans-115\"/>\r\n   </g>\r\n  </g>\r\n </g>\r\n <defs>\r\n  <clipPath id=\"p99fbb45690\">\r\n   <rect height=\"197.672727\" width=\"197.672727\" x=\"7.2\" y=\"64.8\"/>\r\n  </clipPath>\r\n  <clipPath id=\"pcd5a280e82\">\r\n   <rect height=\"197.672727\" width=\"197.672727\" x=\"311.563636\" y=\"64.8\"/>\r\n  </clipPath>\r\n  <clipPath id=\"p70752aada2\">\r\n   <rect height=\"197.672727\" width=\"197.672727\" x=\"7.2\" y=\"302.007273\"/>\r\n  </clipPath>\r\n  <clipPath id=\"p5aefca21f1\">\r\n   <rect height=\"197.672727\" width=\"197.672727\" x=\"311.563636\" y=\"302.007273\"/>\r\n  </clipPath>\r\n </defs>\r\n</svg>\r\n",
      "image/png": "[encoded data removed]"
     },
     "metadata": {
      "needs_background": "light"
     }
    }
   ],
   "source": [
    "word_clouds1 = word_clouds_plot(data=df, title = \"WordClouds\")\n",
    "fig = word_clouds1.plot(figsize=(10,8), title_size=32)\n",
    "plt.show()"
   ]
  },
  {
   "source": [
    "# Interday response time"
   ],
   "cell_type": "markdown",
   "metadata": {}
  },
  {
   "cell_type": "code",
   "execution_count": 28,
   "metadata": {},
   "outputs": [],
   "source": [
    "wait_time = compute_wait_time(df)"
   ]
  },
  {
   "cell_type": "code",
   "execution_count": 29,
   "metadata": {},
   "outputs": [
    {
     "output_type": "display_data",
     "data": {
      "application/vnd.plotly.v1+json": {
       "config": {
        "plotlyServerURL": "https://plot.ly"
       },
       "data": [
        {
         "alignmentgroup": "True",
         "hovertemplate": "wait_time=%{x}<br>person=%{y}<extra></extra>",
         "legendgroup": "",
         "marker": {
          "color": "#4C78A8"
         },
         "name": "",
         "notched": false,
         "offsetgroup": "",
         "orientation": "h",
         "showlegend": false,
         "type": "box",
         "x": [
          5,
          3,
          0,
          6,
          1,
          15,
          2,
          1,
          0,
          2,
          6,
          3,
          2,
          45,
          95,
          6,
          2,
          70,
          null,
          31,
          1,
          0,
          1,
          1,
          1,
          18,
          1,
          2,
          6,
          1,
          10,
          12,
          81,
          15,
          null,
          1,
          1,
          1,
          1,
          1,
          1,
          1,
          1,
          0,
          31,
          1,
          null,
          4,
          42,
          37,
          1,
          0,
          1,
          0,
          182,
          1,
          1,
          1,
          0,
          0,
          null,
          3,
          55,
          57,
          3,
          3,
          0,
          0,
          0,
          0,
          0,
          1,
          0,
          0,
          1,
          0,
          0,
          1,
          0,
          171,
          19,
          0,
          1,
          1,
          0,
          3,
          19,
          156,
          32,
          10,
          15,
          10,
          null,
          96,
          0,
          null,
          6,
          3,
          3,
          3,
          8,
          1,
          1,
          0,
          0,
          7,
          0,
          41,
          null,
          36,
          181,
          null,
          10,
          61,
          2,
          40,
          null,
          null,
          2,
          5,
          4,
          13,
          10,
          146,
          1,
          32,
          49,
          50,
          null,
          17,
          3,
          0,
          null,
          219,
          null,
          1,
          0,
          1,
          1,
          0,
          0,
          null,
          1,
          1,
          0,
          null,
          4,
          2,
          1,
          0,
          0,
          1,
          5,
          12,
          87,
          9,
          15,
          30,
          77,
          10,
          1,
          14,
          2,
          0,
          9,
          0,
          null,
          22,
          84,
          null,
          19,
          4,
          0,
          2,
          32,
          68,
          108,
          1,
          4,
          12,
          null,
          null,
          75,
          90,
          91,
          null,
          1,
          null,
          1,
          22,
          44,
          4,
          8,
          null,
          null,
          1,
          0,
          0,
          1,
          0,
          null,
          0,
          null,
          6,
          null,
          1,
          1,
          0,
          0,
          null,
          1,
          4,
          114,
          128,
          1,
          0,
          0,
          1,
          149,
          1,
          0,
          2,
          1,
          0,
          0,
          0,
          0,
          1,
          16,
          2,
          4,
          null,
          5,
          4,
          0,
          4,
          1,
          8,
          12,
          17,
          2,
          10,
          null,
          5,
          null,
          54,
          null,
          2,
          null,
          1,
          0,
          1,
          0,
          0,
          0,
          0,
          null,
          0,
          0,
          0,
          null,
          19,
          null,
          19,
          0,
          null,
          1,
          1,
          0,
          0,
          34,
          1,
          null,
          0,
          null,
          0,
          null,
          4,
          7,
          null,
          1,
          0,
          1,
          0,
          0,
          0,
          0,
          null,
          4,
          1,
          null,
          8,
          12,
          null,
          null,
          null,
          null,
          262,
          null,
          null,
          null,
          243,
          34,
          300,
          28,
          1,
          0,
          7,
          null,
          224,
          1,
          60,
          2,
          3,
          null,
          null,
          null,
          null,
          38,
          null,
          0,
          3,
          2,
          23,
          23,
          96,
          15,
          10,
          58,
          2,
          1,
          338,
          112,
          10,
          88,
          13,
          50,
          215,
          4,
          14,
          15,
          158,
          5,
          1,
          12,
          null,
          5,
          4,
          1,
          15,
          43,
          null,
          53,
          49,
          72,
          0,
          null,
          0,
          1,
          2,
          1,
          1,
          0,
          2,
          9,
          112,
          6,
          58,
          null,
          83,
          74,
          1,
          0,
          2,
          12,
          1,
          0,
          1,
          null,
          null,
          105,
          15,
          51,
          0,
          1,
          0,
          2,
          15,
          null,
          4,
          1,
          0,
          0,
          0,
          13,
          7,
          0,
          1,
          0,
          33,
          0,
          0,
          1,
          0,
          26,
          0,
          8,
          1,
          null,
          3,
          0,
          98,
          null,
          35,
          3,
          2,
          0,
          72,
          1,
          8,
          87,
          1,
          1,
          null,
          284,
          1,
          6,
          null,
          null,
          4,
          1,
          1,
          1,
          1,
          0,
          2,
          2,
          0,
          1,
          0,
          1,
          78,
          83,
          null,
          3,
          4,
          1,
          3,
          5,
          null,
          20,
          null,
          12,
          63,
          4,
          null,
          12,
          52,
          2,
          0,
          11,
          8,
          null,
          178,
          112,
          11,
          211,
          null,
          0,
          4,
          4,
          2,
          1,
          0,
          null,
          62,
          0,
          1,
          0,
          0,
          0,
          1,
          0,
          null,
          2,
          1,
          208,
          0,
          0,
          1,
          2,
          125,
          6,
          126,
          159,
          2,
          1,
          0,
          29,
          1,
          null,
          61,
          114,
          1,
          1,
          1,
          2,
          55,
          14,
          null,
          1,
          null,
          null,
          19,
          30,
          10,
          1,
          42,
          11,
          0,
          6,
          191,
          1,
          5,
          null,
          null,
          88,
          259,
          180,
          1,
          31,
          2,
          null,
          null,
          168,
          3,
          11,
          61,
          50,
          1,
          14,
          1,
          13,
          0,
          0,
          1,
          1,
          1,
          1,
          6,
          44,
          336,
          2,
          0,
          175,
          82,
          null,
          1,
          null,
          6,
          3,
          2,
          17,
          1,
          114,
          151,
          null,
          41,
          6,
          null,
          null,
          35,
          0,
          1,
          0,
          null,
          0,
          null,
          1,
          0,
          0,
          0,
          0,
          0,
          1,
          0,
          0,
          0,
          null,
          null,
          null,
          null,
          null,
          0,
          0,
          1,
          1,
          19,
          13,
          19,
          82,
          36,
          null,
          null,
          null,
          69,
          154,
          null,
          131,
          null,
          0,
          0,
          0,
          0,
          0,
          1,
          1,
          0,
          0,
          1,
          0,
          1,
          0,
          1,
          0,
          1,
          3,
          null,
          9,
          3,
          12,
          1,
          null,
          null,
          0,
          51,
          0,
          22,
          0,
          21,
          90,
          2,
          null,
          81,
          null,
          0,
          3,
          42,
          0,
          0,
          28,
          1,
          19,
          0,
          46,
          0,
          2,
          0,
          null,
          72,
          0,
          1,
          2,
          null,
          2,
          null,
          null,
          22,
          224,
          4,
          27,
          77,
          32,
          null,
          6,
          18,
          2,
          19,
          107,
          30,
          48,
          120,
          null,
          0,
          275,
          null,
          3,
          1,
          0,
          1,
          0,
          null,
          null,
          1,
          null,
          null,
          0,
          1,
          null,
          1,
          1,
          1,
          0,
          2,
          4,
          256,
          null,
          2,
          5,
          null,
          1,
          1,
          0,
          0,
          5,
          61,
          1,
          null,
          18,
          37,
          319,
          16,
          null,
          7,
          133,
          1,
          0,
          20,
          173,
          null,
          null,
          6,
          2,
          27,
          5,
          null,
          29,
          0,
          50,
          26,
          null,
          17,
          null,
          14,
          111,
          null,
          null,
          3,
          1,
          9,
          122,
          8,
          231,
          null,
          1,
          1,
          0,
          3,
          0,
          3,
          2,
          1,
          null,
          14,
          3,
          134,
          287,
          35,
          1,
          8,
          6,
          1,
          null,
          1,
          2,
          2,
          1,
          2,
          15,
          0,
          8,
          1,
          0,
          0,
          0,
          0,
          9,
          0,
          null,
          null,
          10,
          14,
          210,
          7,
          27,
          58,
          null,
          4,
          1,
          225,
          10,
          2,
          1,
          3,
          17,
          67,
          null,
          null,
          1,
          6,
          0,
          3,
          null,
          74,
          40,
          0,
          0,
          1,
          30,
          16,
          3,
          1,
          162,
          null,
          9,
          null,
          38,
          268,
          0,
          285,
          21,
          5,
          null,
          null,
          1,
          null,
          null,
          2,
          3,
          5,
          null,
          0,
          37,
          48,
          40,
          77,
          1,
          2,
          null,
          0,
          null,
          1,
          52,
          2,
          246,
          null,
          102,
          null,
          30,
          1,
          0,
          1,
          4,
          81,
          5,
          null,
          4,
          1,
          0,
          0,
          0,
          1,
          0,
          1,
          1,
          0,
          0,
          null,
          3,
          5,
          56,
          1,
          null,
          null,
          7,
          2,
          26,
          21,
          0,
          42,
          4,
          142,
          0,
          173,
          null,
          38,
          null,
          23,
          3,
          89,
          1,
          1,
          25,
          49,
          9,
          34,
          18,
          null,
          47,
          2,
          2,
          1,
          1,
          0,
          204,
          3,
          1,
          2,
          null,
          1,
          2,
          0,
          11,
          1,
          null,
          3,
          4,
          1,
          1,
          0,
          131,
          1,
          0,
          0,
          0,
          1,
          1,
          57,
          278,
          94,
          35,
          11,
          null,
          0,
          24,
          0,
          1,
          null,
          1,
          0,
          1,
          0,
          1,
          0,
          2,
          0,
          null,
          161,
          218,
          null,
          6,
          200,
          300,
          3,
          1,
          2,
          4,
          null,
          10,
          130,
          0,
          1,
          1,
          0,
          null,
          24,
          5,
          17,
          null,
          1,
          1,
          1,
          0,
          0,
          0,
          44,
          13
         ],
         "x0": " ",
         "xaxis": "x",
         "y": [
          "User 1",
          "User 3",
          "User 1",
          "User 2",
          "User 0",
          "User 3",
          "User 2",
          "User 3",
          "User 2",
          "User 3",
          "User 2",
          "User 3",
          "User 1",
          "User 3",
          "User 0",
          "User 1",
          "User 0",
          "User 3",
          "User 0",
          "User 3",
          "User 1",
          "User 3",
          "User 1",
          "User 3",
          "User 1",
          "User 3",
          "User 0",
          "User 3",
          "User 0",
          "User 3",
          "User 0",
          "User 3",
          "User 2",
          "User 3",
          "User 2",
          "User 3",
          "User 2",
          "User 3",
          "User 2",
          "User 3",
          "User 2",
          "User 3",
          "User 0",
          "User 3",
          "User 0",
          "User 3",
          "User 0",
          "User 1",
          "User 0",
          "User 3",
          "User 1",
          "User 3",
          "User 1",
          "User 3",
          "User 0",
          "User 1",
          "User 0",
          "User 1",
          "User 3",
          "User 0",
          "User 3",
          "User 0",
          "User 3",
          "User 1",
          "User 2",
          "User 3",
          "User 2",
          "User 3",
          "User 2",
          "User 3",
          "User 2",
          "User 3",
          "User 2",
          "User 3",
          "User 2",
          "User 3",
          "User 2",
          "User 3",
          "User 2",
          "User 3",
          "User 2",
          "User 3",
          "User 2",
          "User 3",
          "User 2",
          "User 3",
          "User 0",
          "User 3",
          "User 1",
          "User 2",
          "User 3",
          "User 0",
          "User 3",
          "User 2",
          "User 3",
          "User 1",
          "User 3",
          "User 1",
          "User 0",
          "User 1",
          "User 0",
          "User 1",
          "User 0",
          "User 2",
          "User 1",
          "User 0",
          "User 1",
          "User 3",
          "User 0",
          "User 1",
          "User 0",
          "User 3",
          "User 1",
          "User 2",
          "User 3",
          "User 1",
          "User 3",
          "User 0",
          "User 1",
          "User 3",
          "User 0",
          "User 1",
          "User 3",
          "User 0",
          "User 1",
          "User 0",
          "User 1",
          "User 3",
          "User 1",
          "User 0",
          "User 3",
          "User 1",
          "User 3",
          "User 0",
          "User 1",
          "User 3",
          "User 1",
          "User 3",
          "User 1",
          "User 3",
          "User 1",
          "User 0",
          "User 3",
          "User 1",
          "User 3",
          "User 0",
          "User 2",
          "User 1",
          "User 0",
          "User 1",
          "User 0",
          "User 1",
          "User 2",
          "User 0",
          "User 1",
          "User 0",
          "User 1",
          "User 0",
          "User 2",
          "User 0",
          "User 2",
          "User 0",
          "User 2",
          "User 0",
          "User 2",
          "User 0",
          "User 1",
          "User 3",
          "User 0",
          "User 3",
          "User 2",
          "User 3",
          "User 1",
          "User 3",
          "User 2",
          "User 3",
          "User 2",
          "User 1",
          "User 2",
          "User 1",
          "User 2",
          "User 1",
          "User 2",
          "User 1",
          "User 2",
          "User 0",
          "User 2",
          "User 3",
          "User 1",
          "User 2",
          "User 1",
          "User 3",
          "User 0",
          "User 1",
          "User 3",
          "User 1",
          "User 3",
          "User 1",
          "User 3",
          "User 1",
          "User 3",
          "User 1",
          "User 0",
          "User 1",
          "User 0",
          "User 1",
          "User 0",
          "User 1",
          "User 0",
          "User 3",
          "User 1",
          "User 0",
          "User 2",
          "User 1",
          "User 3",
          "User 2",
          "User 1",
          "User 2",
          "User 3",
          "User 1",
          "User 3",
          "User 2",
          "User 1",
          "User 2",
          "User 3",
          "User 2",
          "User 1",
          "User 2",
          "User 1",
          "User 2",
          "User 1",
          "User 0",
          "User 1",
          "User 3",
          "User 2",
          "User 1",
          "User 3",
          "User 0",
          "User 1",
          "User 0",
          "User 1",
          "User 0",
          "User 3",
          "User 2",
          "User 1",
          "User 0",
          "User 3",
          "User 1",
          "User 3",
          "User 1",
          "User 3",
          "User 1",
          "User 3",
          "User 2",
          "User 3",
          "User 2",
          "User 3",
          "User 1",
          "User 3",
          "User 1",
          "User 2",
          "User 3",
          "User 1",
          "User 3",
          "User 1",
          "User 3",
          "User 1",
          "User 3",
          "User 1",
          "User 3",
          "User 1",
          "User 3",
          "User 2",
          "User 3",
          "User 1",
          "User 3",
          "User 0",
          "User 2",
          "User 3",
          "User 1",
          "User 3",
          "User 1",
          "User 3",
          "User 1",
          "User 3",
          "User 1",
          "User 3",
          "User 0",
          "User 1",
          "User 3",
          "User 1",
          "User 3",
          "User 2",
          "User 1",
          "User 2",
          "User 3",
          "User 2",
          "User 3",
          "User 2",
          "User 1",
          "User 3",
          "User 0",
          "User 3",
          "User 2",
          "User 3",
          "User 2",
          "User 1",
          "User 3",
          "User 1",
          "User 0",
          "User 2",
          "User 0",
          "User 2",
          "User 3",
          "User 1",
          "User 3",
          "User 1",
          "User 3",
          "User 1",
          "User 0",
          "User 2",
          "User 0",
          "User 2",
          "User 0",
          "User 3",
          "User 2",
          "User 1",
          "User 3",
          "User 0",
          "User 2",
          "User 3",
          "User 2",
          "User 0",
          "User 1",
          "User 0",
          "User 1",
          "User 0",
          "User 1",
          "User 3",
          "User 2",
          "User 3",
          "User 2",
          "User 3",
          "User 2",
          "User 3",
          "User 2",
          "User 0",
          "User 3",
          "User 2",
          "User 1",
          "User 0",
          "User 2",
          "User 3",
          "User 1",
          "User 0",
          "User 1",
          "User 3",
          "User 2",
          "User 3",
          "User 2",
          "User 3",
          "User 2",
          "User 3",
          "User 2",
          "User 3",
          "User 2",
          "User 3",
          "User 0",
          "User 2",
          "User 0",
          "User 3",
          "User 2",
          "User 0",
          "User 2",
          "User 0",
          "User 2",
          "User 0",
          "User 2",
          "User 3",
          "User 2",
          "User 3",
          "User 2",
          "User 3",
          "User 0",
          "User 1",
          "User 3",
          "User 2",
          "User 3",
          "User 0",
          "User 2",
          "User 0",
          "User 2",
          "User 0",
          "User 2",
          "User 3",
          "User 2",
          "User 0",
          "User 2",
          "User 0",
          "User 3",
          "User 2",
          "User 3",
          "User 2",
          "User 3",
          "User 0",
          "User 2",
          "User 3",
          "User 2",
          "User 3",
          "User 2",
          "User 3",
          "User 2",
          "User 3",
          "User 1",
          "User 3",
          "User 1",
          "User 3",
          "User 2",
          "User 3",
          "User 2",
          "User 3",
          "User 2",
          "User 3",
          "User 2",
          "User 3",
          "User 2",
          "User 3",
          "User 2",
          "User 3",
          "User 1",
          "User 3",
          "User 1",
          "User 3",
          "User 1",
          "User 3",
          "User 1",
          "User 3",
          "User 1",
          "User 3",
          "User 1",
          "User 3",
          "User 2",
          "User 3",
          "User 2",
          "User 3",
          "User 2",
          "User 3",
          "User 2",
          "User 3",
          "User 1",
          "User 3",
          "User 1",
          "User 3",
          "User 2",
          "User 3",
          "User 2",
          "User 0",
          "User 3",
          "User 2",
          "User 3",
          "User 2",
          "User 3",
          "User 1",
          "User 3",
          "User 1",
          "User 2",
          "User 3",
          "User 0",
          "User 3",
          "User 0",
          "User 3",
          "User 2",
          "User 3",
          "User 2",
          "User 3",
          "User 2",
          "User 3",
          "User 2",
          "User 3",
          "User 2",
          "User 3",
          "User 2",
          "User 3",
          "User 2",
          "User 3",
          "User 2",
          "User 3",
          "User 2",
          "User 3",
          "User 2",
          "User 3",
          "User 1",
          "User 2",
          "User 3",
          "User 2",
          "User 3",
          "User 1",
          "User 2",
          "User 1",
          "User 3",
          "User 2",
          "User 0",
          "User 3",
          "User 2",
          "User 3",
          "User 2",
          "User 3",
          "User 2",
          "User 3",
          "User 1",
          "User 3",
          "User 1",
          "User 2",
          "User 3",
          "User 2",
          "User 3",
          "User 2",
          "User 3",
          "User 1",
          "User 0",
          "User 3",
          "User 1",
          "User 0",
          "User 3",
          "User 2",
          "User 3",
          "User 2",
          "User 3",
          "User 2",
          "User 3",
          "User 2",
          "User 3",
          "User 1",
          "User 2",
          "User 3",
          "User 2",
          "User 3",
          "User 1",
          "User 3",
          "User 1",
          "User 3",
          "User 2",
          "User 3",
          "User 2",
          "User 3",
          "User 2",
          "User 3",
          "User 2",
          "User 3",
          "User 1",
          "User 0",
          "User 3",
          "User 2",
          "User 3",
          "User 2",
          "User 3",
          "User 2",
          "User 3",
          "User 2",
          "User 0",
          "User 3",
          "User 0",
          "User 2",
          "User 3",
          "User 1",
          "User 0",
          "User 3",
          "User 2",
          "User 3",
          "User 2",
          "User 3",
          "User 2",
          "User 3",
          "User 2",
          "User 3",
          "User 2",
          "User 3",
          "User 2",
          "User 3",
          "User 1",
          "User 2",
          "User 3",
          "User 2",
          "User 3",
          "User 2",
          "User 3",
          "User 2",
          "User 3",
          "User 2",
          "User 3",
          "User 2",
          "User 3",
          "User 2",
          "User 3",
          "User 0",
          "User 2",
          "User 0",
          "User 2",
          "User 3",
          "User 1",
          "User 2",
          "User 1",
          "User 3",
          "User 1",
          "User 3",
          "User 1",
          "User 0",
          "User 2",
          "User 3",
          "User 2",
          "User 3",
          "User 2",
          "User 3",
          "User 2",
          "User 3",
          "User 2",
          "User 3",
          "User 2",
          "User 3",
          "User 2",
          "User 3",
          "User 2",
          "User 3",
          "User 2",
          "User 3",
          "User 2",
          "User 3",
          "User 1",
          "User 0",
          "User 3",
          "User 1",
          "User 3",
          "User 0",
          "User 2",
          "User 3",
          "User 0",
          "User 1",
          "User 0",
          "User 1",
          "User 2",
          "User 1",
          "User 3",
          "User 1",
          "User 2",
          "User 3",
          "User 1",
          "User 3",
          "User 0",
          "User 1",
          "User 3",
          "User 0",
          "User 1",
          "User 0",
          "User 3",
          "User 0",
          "User 1",
          "User 2",
          "User 1",
          "User 0",
          "User 2",
          "User 0",
          "User 2",
          "User 1",
          "User 0",
          "User 2",
          "User 0",
          "User 2",
          "User 0",
          "User 3",
          "User 2",
          "User 3",
          "User 2",
          "User 3",
          "User 0",
          "User 1",
          "User 0",
          "User 2",
          "User 0",
          "User 2",
          "User 0",
          "User 1",
          "User 0",
          "User 3",
          "User 0",
          "User 2",
          "User 1",
          "User 0",
          "User 2",
          "User 0",
          "User 2",
          "User 0",
          "User 3",
          "User 1",
          "User 2",
          "User 3",
          "User 1",
          "User 3",
          "User 1",
          "User 3",
          "User 2",
          "User 3",
          "User 0",
          "User 3",
          "User 1",
          "User 3",
          "User 2",
          "User 1",
          "User 2",
          "User 1",
          "User 0",
          "User 3",
          "User 1",
          "User 0",
          "User 3",
          "User 1",
          "User 0",
          "User 3",
          "User 0",
          "User 1",
          "User 2",
          "User 0",
          "User 2",
          "User 0",
          "User 2",
          "User 0",
          "User 2",
          "User 0",
          "User 2",
          "User 0",
          "User 3",
          "User 2",
          "User 3",
          "User 2",
          "User 3",
          "User 1",
          "User 2",
          "User 3",
          "User 2",
          "User 0",
          "User 3",
          "User 0",
          "User 2",
          "User 3",
          "User 2",
          "User 0",
          "User 2",
          "User 0",
          "User 2",
          "User 0",
          "User 3",
          "User 2",
          "User 1",
          "User 0",
          "User 2",
          "User 3",
          "User 2",
          "User 3",
          "User 1",
          "User 2",
          "User 3",
          "User 0",
          "User 3",
          "User 0",
          "User 3",
          "User 1",
          "User 0",
          "User 2",
          "User 0",
          "User 1",
          "User 3",
          "User 1",
          "User 2",
          "User 0",
          "User 3",
          "User 1",
          "User 3",
          "User 1",
          "User 3",
          "User 0",
          "User 2",
          "User 0",
          "User 2",
          "User 0",
          "User 2",
          "User 0",
          "User 2",
          "User 3",
          "User 1",
          "User 3",
          "User 1",
          "User 3",
          "User 0",
          "User 2",
          "User 3",
          "User 2",
          "User 3",
          "User 2",
          "User 3",
          "User 2",
          "User 3",
          "User 0",
          "User 3",
          "User 1",
          "User 3",
          "User 2",
          "User 3",
          "User 0",
          "User 3",
          "User 2",
          "User 3",
          "User 2",
          "User 3",
          "User 2",
          "User 3",
          "User 0",
          "User 3",
          "User 0",
          "User 3",
          "User 0",
          "User 3",
          "User 2",
          "User 3",
          "User 0",
          "User 2",
          "User 3",
          "User 1",
          "User 3",
          "User 0",
          "User 2",
          "User 3",
          "User 1",
          "User 3",
          "User 0",
          "User 3",
          "User 2",
          "User 0",
          "User 2",
          "User 3",
          "User 2",
          "User 3",
          "User 2",
          "User 3",
          "User 0",
          "User 1",
          "User 3",
          "User 2",
          "User 3",
          "User 2",
          "User 3",
          "User 1",
          "User 2",
          "User 3",
          "User 2",
          "User 3",
          "User 0",
          "User 2",
          "User 3",
          "User 2",
          "User 3",
          "User 2",
          "User 3",
          "User 1",
          "User 3",
          "User 0",
          "User 3",
          "User 2",
          "User 3",
          "User 2",
          "User 3",
          "User 2",
          "User 3",
          "User 2",
          "User 3",
          "User 2",
          "User 3",
          "User 2",
          "User 3",
          "User 1",
          "User 3",
          "User 0",
          "User 3",
          "User 2",
          "User 3",
          "User 2",
          "User 3",
          "User 2",
          "User 3",
          "User 2",
          "User 3",
          "User 1",
          "User 3",
          "User 0",
          "User 2",
          "User 3",
          "User 1",
          "User 3",
          "User 0",
          "User 2",
          "User 3",
          "User 1",
          "User 0",
          "User 1",
          "User 0",
          "User 1",
          "User 3",
          "User 1",
          "User 3",
          "User 0",
          "User 1",
          "User 0",
          "User 3",
          "User 2",
          "User 3",
          "User 2",
          "User 3",
          "User 0",
          "User 2",
          "User 3",
          "User 2",
          "User 3",
          "User 2",
          "User 3",
          "User 2",
          "User 3",
          "User 2",
          "User 3",
          "User 0",
          "User 3",
          "User 0",
          "User 2",
          "User 3",
          "User 1",
          "User 3",
          "User 2",
          "User 3",
          "User 2",
          "User 3",
          "User 0",
          "User 3",
          "User 0",
          "User 1",
          "User 2",
          "User 3",
          "User 0",
          "User 1",
          "User 3",
          "User 1",
          "User 0",
          "User 3",
          "User 0",
          "User 3",
          "User 1",
          "User 3",
          "User 0",
          "User 1",
          "User 3",
          "User 1",
          "User 0",
          "User 3",
          "User 2",
          "User 3",
          "User 2",
          "User 3",
          "User 2",
          "User 3",
          "User 2",
          "User 3",
          "User 1",
          "User 0",
          "User 3",
          "User 2",
          "User 3",
          "User 2",
          "User 3",
          "User 1",
          "User 3",
          "User 1",
          "User 3",
          "User 1",
          "User 0",
          "User 3",
          "User 1",
          "User 3",
          "User 1",
          "User 3",
          "User 2",
          "User 3"
         ],
         "y0": " ",
         "yaxis": "y"
        }
       ],
       "layout": {
        "autosize": true,
        "boxmode": "group",
        "font": {
         "size": 14
        },
        "legend": {
         "orientation": "h",
         "tracegroupgap": 0,
         "y": -0.3
        },
        "margin": {
         "b": 0,
         "l": 0,
         "r": 0,
         "t": 120
        },
        "template": {
         "data": {
          "bar": [
           {
            "error_x": {
             "color": "#2a3f5f"
            },
            "error_y": {
             "color": "#2a3f5f"
            },
            "marker": {
             "line": {
              "color": "white",
              "width": 0.5
             }
            },
            "type": "bar"
           }
          ],
          "barpolar": [
           {
            "marker": {
             "line": {
              "color": "white",
              "width": 0.5
             }
            },
            "type": "barpolar"
           }
          ],
          "carpet": [
           {
            "aaxis": {
             "endlinecolor": "#2a3f5f",
             "gridcolor": "#C8D4E3",
             "linecolor": "#C8D4E3",
             "minorgridcolor": "#C8D4E3",
             "startlinecolor": "#2a3f5f"
            },
            "baxis": {
             "endlinecolor": "#2a3f5f",
             "gridcolor": "#C8D4E3",
             "linecolor": "#C8D4E3",
             "minorgridcolor": "#C8D4E3",
             "startlinecolor": "#2a3f5f"
            },
            "type": "carpet"
           }
          ],
          "choropleth": [
           {
            "colorbar": {
             "outlinewidth": 0,
             "ticks": ""
            },
            "type": "choropleth"
           }
          ],
          "contour": [
           {
            "colorbar": {
             "outlinewidth": 0,
             "ticks": ""
            },
            "colorscale": [
             [
              0,
              "#0d0887"
             ],
             [
              0.1111111111111111,
              "#46039f"
             ],
             [
              0.2222222222222222,
              "#7201a8"
             ],
             [
              0.3333333333333333,
              "#9c179e"
             ],
             [
              0.4444444444444444,
              "#bd3786"
             ],
             [
              0.5555555555555556,
              "#d8576b"
             ],
             [
              0.6666666666666666,
              "#ed7953"
             ],
             [
              0.7777777777777778,
              "#fb9f3a"
             ],
             [
              0.8888888888888888,
              "#fdca26"
             ],
             [
              1,
              "#f0f921"
             ]
            ],
            "type": "contour"
           }
          ],
          "contourcarpet": [
           {
            "colorbar": {
             "outlinewidth": 0,
             "ticks": ""
            },
            "type": "contourcarpet"
           }
          ],
          "heatmap": [
           {
            "colorbar": {
             "outlinewidth": 0,
             "ticks": ""
            },
            "colorscale": [
             [
              0,
              "#0d0887"
             ],
             [
              0.1111111111111111,
              "#46039f"
             ],
             [
              0.2222222222222222,
              "#7201a8"
             ],
             [
              0.3333333333333333,
              "#9c179e"
             ],
             [
              0.4444444444444444,
              "#bd3786"
             ],
             [
              0.5555555555555556,
              "#d8576b"
             ],
             [
              0.6666666666666666,
              "#ed7953"
             ],
             [
              0.7777777777777778,
              "#fb9f3a"
             ],
             [
              0.8888888888888888,
              "#fdca26"
             ],
             [
              1,
              "#f0f921"
             ]
            ],
            "type": "heatmap"
           }
          ],
          "heatmapgl": [
           {
            "colorbar": {
             "outlinewidth": 0,
             "ticks": ""
            },
            "colorscale": [
             [
              0,
              "#0d0887"
             ],
             [
              0.1111111111111111,
              "#46039f"
             ],
             [
              0.2222222222222222,
              "#7201a8"
             ],
             [
              0.3333333333333333,
              "#9c179e"
             ],
             [
              0.4444444444444444,
              "#bd3786"
             ],
             [
              0.5555555555555556,
              "#d8576b"
             ],
             [
              0.6666666666666666,
              "#ed7953"
             ],
             [
              0.7777777777777778,
              "#fb9f3a"
             ],
             [
              0.8888888888888888,
              "#fdca26"
             ],
             [
              1,
              "#f0f921"
             ]
            ],
            "type": "heatmapgl"
           }
          ],
          "histogram": [
           {
            "marker": {
             "colorbar": {
              "outlinewidth": 0,
              "ticks": ""
             }
            },
            "type": "histogram"
           }
          ],
          "histogram2d": [
           {
            "colorbar": {
             "outlinewidth": 0,
             "ticks": ""
            },
            "colorscale": [
             [
              0,
              "#0d0887"
             ],
             [
              0.1111111111111111,
              "#46039f"
             ],
             [
              0.2222222222222222,
              "#7201a8"
             ],
             [
              0.3333333333333333,
              "#9c179e"
             ],
             [
              0.4444444444444444,
              "#bd3786"
             ],
             [
              0.5555555555555556,
              "#d8576b"
             ],
             [
              0.6666666666666666,
              "#ed7953"
             ],
             [
              0.7777777777777778,
              "#fb9f3a"
             ],
             [
              0.8888888888888888,
              "#fdca26"
             ],
             [
              1,
              "#f0f921"
             ]
            ],
            "type": "histogram2d"
           }
          ],
          "histogram2dcontour": [
           {
            "colorbar": {
             "outlinewidth": 0,
             "ticks": ""
            },
            "colorscale": [
             [
              0,
              "#0d0887"
             ],
             [
              0.1111111111111111,
              "#46039f"
             ],
             [
              0.2222222222222222,
              "#7201a8"
             ],
             [
              0.3333333333333333,
              "#9c179e"
             ],
             [
              0.4444444444444444,
              "#bd3786"
             ],
             [
              0.5555555555555556,
              "#d8576b"
             ],
             [
              0.6666666666666666,
              "#ed7953"
             ],
             [
              0.7777777777777778,
              "#fb9f3a"
             ],
             [
              0.8888888888888888,
              "#fdca26"
             ],
             [
              1,
              "#f0f921"
             ]
            ],
            "type": "histogram2dcontour"
           }
          ],
          "mesh3d": [
           {
            "colorbar": {
             "outlinewidth": 0,
             "ticks": ""
            },
            "type": "mesh3d"
           }
          ],
          "parcoords": [
           {
            "line": {
             "colorbar": {
              "outlinewidth": 0,
              "ticks": ""
             }
            },
            "type": "parcoords"
           }
          ],
          "pie": [
           {
            "automargin": true,
            "type": "pie"
           }
          ],
          "scatter": [
           {
            "marker": {
             "colorbar": {
              "outlinewidth": 0,
              "ticks": ""
             }
            },
            "type": "scatter"
           }
          ],
          "scatter3d": [
           {
            "line": {
             "colorbar": {
              "outlinewidth": 0,
              "ticks": ""
             }
            },
            "marker": {
             "colorbar": {
              "outlinewidth": 0,
              "ticks": ""
             }
            },
            "type": "scatter3d"
           }
          ],
          "scattercarpet": [
           {
            "marker": {
             "colorbar": {
              "outlinewidth": 0,
              "ticks": ""
             }
            },
            "type": "scattercarpet"
           }
          ],
          "scattergeo": [
           {
            "marker": {
             "colorbar": {
              "outlinewidth": 0,
              "ticks": ""
             }
            },
            "type": "scattergeo"
           }
          ],
          "scattergl": [
           {
            "marker": {
             "colorbar": {
              "outlinewidth": 0,
              "ticks": ""
             }
            },
            "type": "scattergl"
           }
          ],
          "scattermapbox": [
           {
            "marker": {
             "colorbar": {
              "outlinewidth": 0,
              "ticks": ""
             }
            },
            "type": "scattermapbox"
           }
          ],
          "scatterpolar": [
           {
            "marker": {
             "colorbar": {
              "outlinewidth": 0,
              "ticks": ""
             }
            },
            "type": "scatterpolar"
           }
          ],
          "scatterpolargl": [
           {
            "marker": {
             "colorbar": {
              "outlinewidth": 0,
              "ticks": ""
             }
            },
            "type": "scatterpolargl"
           }
          ],
          "scatterternary": [
           {
            "marker": {
             "colorbar": {
              "outlinewidth": 0,
              "ticks": ""
             }
            },
            "type": "scatterternary"
           }
          ],
          "surface": [
           {
            "colorbar": {
             "outlinewidth": 0,
             "ticks": ""
            },
            "colorscale": [
             [
              0,
              "#0d0887"
             ],
             [
              0.1111111111111111,
              "#46039f"
             ],
             [
              0.2222222222222222,
              "#7201a8"
             ],
             [
              0.3333333333333333,
              "#9c179e"
             ],
             [
              0.4444444444444444,
              "#bd3786"
             ],
             [
              0.5555555555555556,
              "#d8576b"
             ],
             [
              0.6666666666666666,
              "#ed7953"
             ],
             [
              0.7777777777777778,
              "#fb9f3a"
             ],
             [
              0.8888888888888888,
              "#fdca26"
             ],
             [
              1,
              "#f0f921"
             ]
            ],
            "type": "surface"
           }
          ],
          "table": [
           {
            "cells": {
             "fill": {
              "color": "#EBF0F8"
             },
             "line": {
              "color": "white"
             }
            },
            "header": {
             "fill": {
              "color": "#C8D4E3"
             },
             "line": {
              "color": "white"
             }
            },
            "type": "table"
           }
          ]
         },
         "layout": {
          "annotationdefaults": {
           "arrowcolor": "#2a3f5f",
           "arrowhead": 0,
           "arrowwidth": 1
          },
          "autotypenumbers": "strict",
          "coloraxis": {
           "colorbar": {
            "outlinewidth": 0,
            "ticks": ""
           }
          },
          "colorscale": {
           "diverging": [
            [
             0,
             "#8e0152"
            ],
            [
             0.1,
             "#c51b7d"
            ],
            [
             0.2,
             "#de77ae"
            ],
            [
             0.3,
             "#f1b6da"
            ],
            [
             0.4,
             "#fde0ef"
            ],
            [
             0.5,
             "#f7f7f7"
            ],
            [
             0.6,
             "#e6f5d0"
            ],
            [
             0.7,
             "#b8e186"
            ],
            [
             0.8,
             "#7fbc41"
            ],
            [
             0.9,
             "#4d9221"
            ],
            [
             1,
             "#276419"
            ]
           ],
           "sequential": [
            [
             0,
             "#0d0887"
            ],
            [
             0.1111111111111111,
             "#46039f"
            ],
            [
             0.2222222222222222,
             "#7201a8"
            ],
            [
             0.3333333333333333,
             "#9c179e"
            ],
            [
             0.4444444444444444,
             "#bd3786"
            ],
            [
             0.5555555555555556,
             "#d8576b"
            ],
            [
             0.6666666666666666,
             "#ed7953"
            ],
            [
             0.7777777777777778,
             "#fb9f3a"
            ],
            [
             0.8888888888888888,
             "#fdca26"
            ],
            [
             1,
             "#f0f921"
            ]
           ],
           "sequentialminus": [
            [
             0,
             "#0d0887"
            ],
            [
             0.1111111111111111,
             "#46039f"
            ],
            [
             0.2222222222222222,
             "#7201a8"
            ],
            [
             0.3333333333333333,
             "#9c179e"
            ],
            [
             0.4444444444444444,
             "#bd3786"
            ],
            [
             0.5555555555555556,
             "#d8576b"
            ],
            [
             0.6666666666666666,
             "#ed7953"
            ],
            [
             0.7777777777777778,
             "#fb9f3a"
            ],
            [
             0.8888888888888888,
             "#fdca26"
            ],
            [
             1,
             "#f0f921"
            ]
           ]
          },
          "colorway": [
           "#636efa",
           "#EF553B",
           "#00cc96",
           "#ab63fa",
           "#FFA15A",
           "#19d3f3",
           "#FF6692",
           "#B6E880",
           "#FF97FF",
           "#FECB52"
          ],
          "font": {
           "color": "#2a3f5f"
          },
          "geo": {
           "bgcolor": "white",
           "lakecolor": "white",
           "landcolor": "white",
           "showlakes": true,
           "showland": true,
           "subunitcolor": "#C8D4E3"
          },
          "hoverlabel": {
           "align": "left"
          },
          "hovermode": "closest",
          "mapbox": {
           "style": "light"
          },
          "paper_bgcolor": "white",
          "plot_bgcolor": "white",
          "polar": {
           "angularaxis": {
            "gridcolor": "#EBF0F8",
            "linecolor": "#EBF0F8",
            "ticks": ""
           },
           "bgcolor": "white",
           "radialaxis": {
            "gridcolor": "#EBF0F8",
            "linecolor": "#EBF0F8",
            "ticks": ""
           }
          },
          "scene": {
           "xaxis": {
            "backgroundcolor": "white",
            "gridcolor": "#DFE8F3",
            "gridwidth": 2,
            "linecolor": "#EBF0F8",
            "showbackground": true,
            "ticks": "",
            "zerolinecolor": "#EBF0F8"
           },
           "yaxis": {
            "backgroundcolor": "white",
            "gridcolor": "#DFE8F3",
            "gridwidth": 2,
            "linecolor": "#EBF0F8",
            "showbackground": true,
            "ticks": "",
            "zerolinecolor": "#EBF0F8"
           },
           "zaxis": {
            "backgroundcolor": "white",
            "gridcolor": "#DFE8F3",
            "gridwidth": 2,
            "linecolor": "#EBF0F8",
            "showbackground": true,
            "ticks": "",
            "zerolinecolor": "#EBF0F8"
           }
          },
          "shapedefaults": {
           "line": {
            "color": "#2a3f5f"
           }
          },
          "ternary": {
           "aaxis": {
            "gridcolor": "#DFE8F3",
            "linecolor": "#A2B1C6",
            "ticks": ""
           },
           "baxis": {
            "gridcolor": "#DFE8F3",
            "linecolor": "#A2B1C6",
            "ticks": ""
           },
           "bgcolor": "white",
           "caxis": {
            "gridcolor": "#DFE8F3",
            "linecolor": "#A2B1C6",
            "ticks": ""
           }
          },
          "title": {
           "x": 0.05
          },
          "xaxis": {
           "automargin": true,
           "gridcolor": "#EBF0F8",
           "linecolor": "#EBF0F8",
           "ticks": "",
           "title": {
            "standoff": 15
           },
           "zerolinecolor": "#EBF0F8",
           "zerolinewidth": 2
          },
          "yaxis": {
           "automargin": true,
           "gridcolor": "#EBF0F8",
           "linecolor": "#EBF0F8",
           "ticks": "",
           "title": {
            "standoff": 15
           },
           "zerolinecolor": "#EBF0F8",
           "zerolinewidth": 2
          }
         }
        },
        "title": {
         "font": {
          "size": 24
         },
         "text": "Average Wait times per Person",
         "x": 0.5
        },
        "xaxis": {
         "anchor": "y",
         "domain": [
          0,
          1
         ],
         "title": {}
        },
        "yaxis": {
         "anchor": "x",
         "domain": [
          0,
          1
         ],
         "title": {}
        }
       }
      }
     },
     "metadata": {}
    }
   ],
   "source": [
    "box2=P.boxplot(data=wait_time, y=\"person\", x=\"wait_time\", title_text=\"Average Wait times per Person\")#, xaxis_title=\"Text length [characters]\")\n",
    "box2.show()"
   ]
  },
  {
   "cell_type": "code",
   "execution_count": 30,
   "metadata": {},
   "outputs": [
    {
     "output_type": "display_data",
     "data": {
      "application/vnd.plotly.v1+json": {
       "config": {
        "plotlyServerURL": "https://plot.ly"
       },
       "data": [
        {
         "alignmentgroup": "True",
         "bingroup": "x",
         "hovertemplate": "person=User 0<br>wait_time=%{x}<br>count=%{y}<extra></extra>",
         "legendgroup": "User 0",
         "marker": {
          "color": "#4C78A8"
         },
         "name": "User 0",
         "offsetgroup": "User 0",
         "orientation": "v",
         "showlegend": true,
         "type": "histogram",
         "x": [
          5,
          0,
          0,
          26,
          37,
          4,
          17,
          32,
          1,
          4,
          30,
          12,
          0,
          40,
          4,
          0,
          7,
          1,
          8,
          14,
          3,
          0,
          10,
          1,
          0,
          0,
          19,
          8,
          57,
          15,
          44,
          8,
          6,
          1,
          0,
          17,
          10,
          54,
          2,
          25,
          1,
          4,
          0,
          1,
          5,
          8,
          3,
          60,
          3,
          1,
          23,
          50,
          43,
          0,
          0,
          14,
          58,
          10,
          30,
          0,
          9,
          12,
          12,
          0,
          0,
          58,
          0,
          10,
          10,
          0,
          51,
          0,
          22,
          31,
          0,
          3,
          1,
          0,
          42,
          1,
          1,
          28,
          46,
          2,
          2,
          10,
          6,
          0,
          1,
          30,
          22,
          0,
          19,
          19,
          50,
          42,
          18,
          9,
          0,
          3,
          0,
          0,
          2,
          1,
          35,
          1,
          0,
          1,
          1
         ],
         "xaxis": "x",
         "yaxis": "y"
        },
        {
         "alignmentgroup": "True",
         "bingroup": "x",
         "hovertemplate": "person=User 1<br>wait_time=%{x}<br>count=%{y}<extra></extra>",
         "legendgroup": "User 1",
         "marker": {
          "color": "#F58518"
         },
         "name": "User 1",
         "offsetgroup": "User 1",
         "orientation": "v",
         "showlegend": true,
         "type": "histogram",
         "x": [
          18,
          38,
          15,
          2,
          10,
          1,
          13,
          12,
          48,
          1,
          2,
          2,
          1,
          0,
          1,
          1,
          1,
          15,
          0,
          0,
          34,
          34,
          0,
          5,
          0,
          0,
          4,
          0,
          49,
          42,
          0,
          6,
          6,
          0,
          12,
          1,
          1,
          8,
          29,
          36,
          0,
          0,
          11,
          3,
          0,
          1,
          3,
          1,
          6,
          1,
          2,
          19,
          49,
          0,
          2,
          0,
          1,
          2,
          0,
          0,
          1,
          1,
          0,
          21,
          0,
          35,
          48,
          2,
          5,
          4,
          0,
          1,
          1,
          0,
          4,
          5,
          47,
          0,
          36,
          10,
          1,
          40,
          2,
          13,
          1,
          49,
          0,
          0,
          1,
          0,
          1,
          2,
          0,
          1,
          15,
          0,
          1,
          0,
          1,
          3,
          3,
          0,
          0,
          1,
          2,
          6,
          1,
          5,
          1,
          1,
          4,
          2,
          1,
          1,
          1,
          1,
          0,
          57,
          1,
          24,
          35,
          32,
          12,
          1,
          5,
          1,
          4,
          16,
          0,
          6,
          0,
          1,
          0,
          1,
          0,
          1,
          44,
          0,
          5,
          1,
          0
         ],
         "xaxis": "x",
         "yaxis": "y"
        },
        {
         "alignmentgroup": "True",
         "bingroup": "x",
         "hovertemplate": "person=User 2<br>wait_time=%{x}<br>count=%{y}<extra></extra>",
         "legendgroup": "User 2",
         "marker": {
          "color": "#E45756"
         },
         "name": "User 2",
         "offsetgroup": "User 2",
         "orientation": "v",
         "showlegend": true,
         "type": "histogram",
         "x": [
          0,
          1,
          1,
          0,
          1,
          0,
          1,
          19,
          2,
          1,
          0,
          1,
          17,
          41,
          35,
          0,
          1,
          0,
          1,
          0,
          11,
          1,
          3,
          0,
          1,
          23,
          1,
          0,
          1,
          6,
          1,
          0,
          0,
          1,
          27,
          55,
          30,
          1,
          0,
          0,
          1,
          10,
          0,
          31,
          1,
          0,
          1,
          0,
          0,
          0,
          0,
          0,
          2,
          1,
          1,
          2,
          0,
          4,
          20,
          5,
          2,
          1,
          2,
          1,
          6,
          1,
          1,
          1,
          0,
          1,
          7,
          16,
          2,
          37,
          2,
          6,
          1,
          1,
          2,
          2,
          0,
          17,
          1,
          3,
          19,
          1,
          0,
          0,
          0,
          1,
          0,
          1,
          3,
          1,
          14,
          1,
          17,
          1,
          0,
          0,
          2,
          0,
          21,
          3,
          1,
          1,
          0,
          1,
          1,
          2,
          5,
          1,
          1,
          1,
          15,
          1,
          0,
          2,
          4,
          4,
          44,
          2,
          0,
          52,
          7,
          2,
          1,
          0,
          1,
          2,
          11,
          0,
          12,
          1,
          1,
          2,
          22,
          2,
          0,
          1,
          2,
          1,
          0,
          4,
          2,
          1,
          32,
          1,
          1,
          1,
          1,
          0,
          1,
          19,
          1,
          9,
          0,
          2,
          1,
          2,
          14,
          3,
          0,
          3,
          21,
          1,
          0,
          0,
          4,
          4,
          3,
          0,
          2,
          11,
          11,
          0,
          0,
          0,
          1,
          3,
          1,
          2,
          1,
          8
         ],
         "xaxis": "x",
         "yaxis": "y"
        },
        {
         "alignmentgroup": "True",
         "bingroup": "x",
         "hovertemplate": "person=User 3<br>wait_time=%{x}<br>count=%{y}<extra></extra>",
         "legendgroup": "User 3",
         "marker": {
          "color": "#72B7B2"
         },
         "name": "User 3",
         "offsetgroup": "User 3",
         "orientation": "v",
         "showlegend": true,
         "type": "histogram",
         "x": [
          17,
          4,
          0,
          0,
          58,
          24,
          1,
          3,
          5,
          2,
          0,
          38,
          0,
          1,
          1,
          7,
          4,
          3,
          0,
          0,
          1,
          0,
          18,
          40,
          3,
          0,
          1,
          6,
          1,
          6,
          0,
          8,
          0,
          1,
          3,
          1,
          3,
          0,
          56,
          2,
          1,
          10,
          3,
          2,
          7,
          9,
          0,
          30,
          1,
          1,
          2,
          5,
          1,
          1,
          0,
          1,
          2,
          0,
          2,
          1,
          1,
          2,
          38,
          9,
          5,
          1,
          4,
          27,
          4,
          6,
          16,
          0,
          4,
          1,
          9,
          29,
          9,
          1,
          0,
          26,
          1,
          14,
          0,
          26,
          0,
          1,
          1,
          0,
          1,
          19,
          19,
          0,
          0,
          0,
          0,
          0,
          1,
          0,
          0,
          1,
          1,
          0,
          4,
          2,
          4,
          22,
          4,
          0,
          0,
          1,
          1,
          1,
          53,
          4,
          12,
          5,
          15,
          4,
          1,
          7,
          10,
          3,
          7,
          28,
          34,
          8,
          1,
          0,
          0,
          1,
          23,
          1,
          0,
          1,
          1,
          0,
          1,
          1,
          1,
          1,
          15,
          12,
          1,
          37,
          2,
          1,
          0,
          31,
          45,
          3,
          2,
          1,
          15,
          3,
          18,
          0,
          0,
          0,
          1,
          3,
          50,
          10,
          5,
          2,
          41,
          6,
          0,
          15,
          3,
          1,
          0,
          1,
          0,
          0,
          1,
          0,
          0,
          3,
          55,
          0,
          9,
          6,
          51,
          0,
          0,
          0,
          1,
          0,
          0,
          0,
          6,
          1,
          0,
          3,
          0,
          1,
          1,
          0,
          13,
          14,
          50,
          11,
          2,
          1,
          0,
          13,
          0,
          4,
          0,
          1,
          0,
          32,
          27,
          0,
          0,
          3,
          2,
          0,
          1,
          3,
          3,
          0,
          0,
          0,
          0,
          1,
          0,
          0,
          1,
          0,
          5,
          42,
          3,
          1,
          1,
          2,
          0,
          1,
          1,
          6,
          1,
          1,
          1,
          3,
          0,
          8,
          0,
          0,
          33,
          13,
          15,
          0,
          0,
          5,
          20,
          12,
          10,
          19,
          1,
          14,
          2,
          1,
          1,
          2,
          2,
          0,
          2,
          0,
          0,
          0,
          1,
          4,
          0,
          8,
          0,
          52,
          4,
          6,
          13
         ],
         "xaxis": "x",
         "yaxis": "y"
        }
       ],
       "layout": {
        "autosize": true,
        "barmode": "relative",
        "font": {
         "size": 14
        },
        "legend": {
         "orientation": "h",
         "title": {},
         "tracegroupgap": 0,
         "y": -0.3
        },
        "margin": {
         "b": 0,
         "l": 0,
         "r": 0,
         "t": 120
        },
        "template": {
         "data": {
          "bar": [
           {
            "error_x": {
             "color": "#2a3f5f"
            },
            "error_y": {
             "color": "#2a3f5f"
            },
            "marker": {
             "line": {
              "color": "white",
              "width": 0.5
             }
            },
            "type": "bar"
           }
          ],
          "barpolar": [
           {
            "marker": {
             "line": {
              "color": "white",
              "width": 0.5
             }
            },
            "type": "barpolar"
           }
          ],
          "carpet": [
           {
            "aaxis": {
             "endlinecolor": "#2a3f5f",
             "gridcolor": "#C8D4E3",
             "linecolor": "#C8D4E3",
             "minorgridcolor": "#C8D4E3",
             "startlinecolor": "#2a3f5f"
            },
            "baxis": {
             "endlinecolor": "#2a3f5f",
             "gridcolor": "#C8D4E3",
             "linecolor": "#C8D4E3",
             "minorgridcolor": "#C8D4E3",
             "startlinecolor": "#2a3f5f"
            },
            "type": "carpet"
           }
          ],
          "choropleth": [
           {
            "colorbar": {
             "outlinewidth": 0,
             "ticks": ""
            },
            "type": "choropleth"
           }
          ],
          "contour": [
           {
            "colorbar": {
             "outlinewidth": 0,
             "ticks": ""
            },
            "colorscale": [
             [
              0,
              "#0d0887"
             ],
             [
              0.1111111111111111,
              "#46039f"
             ],
             [
              0.2222222222222222,
              "#7201a8"
             ],
             [
              0.3333333333333333,
              "#9c179e"
             ],
             [
              0.4444444444444444,
              "#bd3786"
             ],
             [
              0.5555555555555556,
              "#d8576b"
             ],
             [
              0.6666666666666666,
              "#ed7953"
             ],
             [
              0.7777777777777778,
              "#fb9f3a"
             ],
             [
              0.8888888888888888,
              "#fdca26"
             ],
             [
              1,
              "#f0f921"
             ]
            ],
            "type": "contour"
           }
          ],
          "contourcarpet": [
           {
            "colorbar": {
             "outlinewidth": 0,
             "ticks": ""
            },
            "type": "contourcarpet"
           }
          ],
          "heatmap": [
           {
            "colorbar": {
             "outlinewidth": 0,
             "ticks": ""
            },
            "colorscale": [
             [
              0,
              "#0d0887"
             ],
             [
              0.1111111111111111,
              "#46039f"
             ],
             [
              0.2222222222222222,
              "#7201a8"
             ],
             [
              0.3333333333333333,
              "#9c179e"
             ],
             [
              0.4444444444444444,
              "#bd3786"
             ],
             [
              0.5555555555555556,
              "#d8576b"
             ],
             [
              0.6666666666666666,
              "#ed7953"
             ],
             [
              0.7777777777777778,
              "#fb9f3a"
             ],
             [
              0.8888888888888888,
              "#fdca26"
             ],
             [
              1,
              "#f0f921"
             ]
            ],
            "type": "heatmap"
           }
          ],
          "heatmapgl": [
           {
            "colorbar": {
             "outlinewidth": 0,
             "ticks": ""
            },
            "colorscale": [
             [
              0,
              "#0d0887"
             ],
             [
              0.1111111111111111,
              "#46039f"
             ],
             [
              0.2222222222222222,
              "#7201a8"
             ],
             [
              0.3333333333333333,
              "#9c179e"
             ],
             [
              0.4444444444444444,
              "#bd3786"
             ],
             [
              0.5555555555555556,
              "#d8576b"
             ],
             [
              0.6666666666666666,
              "#ed7953"
             ],
             [
              0.7777777777777778,
              "#fb9f3a"
             ],
             [
              0.8888888888888888,
              "#fdca26"
             ],
             [
              1,
              "#f0f921"
             ]
            ],
            "type": "heatmapgl"
           }
          ],
          "histogram": [
           {
            "marker": {
             "colorbar": {
              "outlinewidth": 0,
              "ticks": ""
             }
            },
            "type": "histogram"
           }
          ],
          "histogram2d": [
           {
            "colorbar": {
             "outlinewidth": 0,
             "ticks": ""
            },
            "colorscale": [
             [
              0,
              "#0d0887"
             ],
             [
              0.1111111111111111,
              "#46039f"
             ],
             [
              0.2222222222222222,
              "#7201a8"
             ],
             [
              0.3333333333333333,
              "#9c179e"
             ],
             [
              0.4444444444444444,
              "#bd3786"
             ],
             [
              0.5555555555555556,
              "#d8576b"
             ],
             [
              0.6666666666666666,
              "#ed7953"
             ],
             [
              0.7777777777777778,
              "#fb9f3a"
             ],
             [
              0.8888888888888888,
              "#fdca26"
             ],
             [
              1,
              "#f0f921"
             ]
            ],
            "type": "histogram2d"
           }
          ],
          "histogram2dcontour": [
           {
            "colorbar": {
             "outlinewidth": 0,
             "ticks": ""
            },
            "colorscale": [
             [
              0,
              "#0d0887"
             ],
             [
              0.1111111111111111,
              "#46039f"
             ],
             [
              0.2222222222222222,
              "#7201a8"
             ],
             [
              0.3333333333333333,
              "#9c179e"
             ],
             [
              0.4444444444444444,
              "#bd3786"
             ],
             [
              0.5555555555555556,
              "#d8576b"
             ],
             [
              0.6666666666666666,
              "#ed7953"
             ],
             [
              0.7777777777777778,
              "#fb9f3a"
             ],
             [
              0.8888888888888888,
              "#fdca26"
             ],
             [
              1,
              "#f0f921"
             ]
            ],
            "type": "histogram2dcontour"
           }
          ],
          "mesh3d": [
           {
            "colorbar": {
             "outlinewidth": 0,
             "ticks": ""
            },
            "type": "mesh3d"
           }
          ],
          "parcoords": [
           {
            "line": {
             "colorbar": {
              "outlinewidth": 0,
              "ticks": ""
             }
            },
            "type": "parcoords"
           }
          ],
          "pie": [
           {
            "automargin": true,
            "type": "pie"
           }
          ],
          "scatter": [
           {
            "marker": {
             "colorbar": {
              "outlinewidth": 0,
              "ticks": ""
             }
            },
            "type": "scatter"
           }
          ],
          "scatter3d": [
           {
            "line": {
             "colorbar": {
              "outlinewidth": 0,
              "ticks": ""
             }
            },
            "marker": {
             "colorbar": {
              "outlinewidth": 0,
              "ticks": ""
             }
            },
            "type": "scatter3d"
           }
          ],
          "scattercarpet": [
           {
            "marker": {
             "colorbar": {
              "outlinewidth": 0,
              "ticks": ""
             }
            },
            "type": "scattercarpet"
           }
          ],
          "scattergeo": [
           {
            "marker": {
             "colorbar": {
              "outlinewidth": 0,
              "ticks": ""
             }
            },
            "type": "scattergeo"
           }
          ],
          "scattergl": [
           {
            "marker": {
             "colorbar": {
              "outlinewidth": 0,
              "ticks": ""
             }
            },
            "type": "scattergl"
           }
          ],
          "scattermapbox": [
           {
            "marker": {
             "colorbar": {
              "outlinewidth": 0,
              "ticks": ""
             }
            },
            "type": "scattermapbox"
           }
          ],
          "scatterpolar": [
           {
            "marker": {
             "colorbar": {
              "outlinewidth": 0,
              "ticks": ""
             }
            },
            "type": "scatterpolar"
           }
          ],
          "scatterpolargl": [
           {
            "marker": {
             "colorbar": {
              "outlinewidth": 0,
              "ticks": ""
             }
            },
            "type": "scatterpolargl"
           }
          ],
          "scatterternary": [
           {
            "marker": {
             "colorbar": {
              "outlinewidth": 0,
              "ticks": ""
             }
            },
            "type": "scatterternary"
           }
          ],
          "surface": [
           {
            "colorbar": {
             "outlinewidth": 0,
             "ticks": ""
            },
            "colorscale": [
             [
              0,
              "#0d0887"
             ],
             [
              0.1111111111111111,
              "#46039f"
             ],
             [
              0.2222222222222222,
              "#7201a8"
             ],
             [
              0.3333333333333333,
              "#9c179e"
             ],
             [
              0.4444444444444444,
              "#bd3786"
             ],
             [
              0.5555555555555556,
              "#d8576b"
             ],
             [
              0.6666666666666666,
              "#ed7953"
             ],
             [
              0.7777777777777778,
              "#fb9f3a"
             ],
             [
              0.8888888888888888,
              "#fdca26"
             ],
             [
              1,
              "#f0f921"
             ]
            ],
            "type": "surface"
           }
          ],
          "table": [
           {
            "cells": {
             "fill": {
              "color": "#EBF0F8"
             },
             "line": {
              "color": "white"
             }
            },
            "header": {
             "fill": {
              "color": "#C8D4E3"
             },
             "line": {
              "color": "white"
             }
            },
            "type": "table"
           }
          ]
         },
         "layout": {
          "annotationdefaults": {
           "arrowcolor": "#2a3f5f",
           "arrowhead": 0,
           "arrowwidth": 1
          },
          "autotypenumbers": "strict",
          "coloraxis": {
           "colorbar": {
            "outlinewidth": 0,
            "ticks": ""
           }
          },
          "colorscale": {
           "diverging": [
            [
             0,
             "#8e0152"
            ],
            [
             0.1,
             "#c51b7d"
            ],
            [
             0.2,
             "#de77ae"
            ],
            [
             0.3,
             "#f1b6da"
            ],
            [
             0.4,
             "#fde0ef"
            ],
            [
             0.5,
             "#f7f7f7"
            ],
            [
             0.6,
             "#e6f5d0"
            ],
            [
             0.7,
             "#b8e186"
            ],
            [
             0.8,
             "#7fbc41"
            ],
            [
             0.9,
             "#4d9221"
            ],
            [
             1,
             "#276419"
            ]
           ],
           "sequential": [
            [
             0,
             "#0d0887"
            ],
            [
             0.1111111111111111,
             "#46039f"
            ],
            [
             0.2222222222222222,
             "#7201a8"
            ],
            [
             0.3333333333333333,
             "#9c179e"
            ],
            [
             0.4444444444444444,
             "#bd3786"
            ],
            [
             0.5555555555555556,
             "#d8576b"
            ],
            [
             0.6666666666666666,
             "#ed7953"
            ],
            [
             0.7777777777777778,
             "#fb9f3a"
            ],
            [
             0.8888888888888888,
             "#fdca26"
            ],
            [
             1,
             "#f0f921"
            ]
           ],
           "sequentialminus": [
            [
             0,
             "#0d0887"
            ],
            [
             0.1111111111111111,
             "#46039f"
            ],
            [
             0.2222222222222222,
             "#7201a8"
            ],
            [
             0.3333333333333333,
             "#9c179e"
            ],
            [
             0.4444444444444444,
             "#bd3786"
            ],
            [
             0.5555555555555556,
             "#d8576b"
            ],
            [
             0.6666666666666666,
             "#ed7953"
            ],
            [
             0.7777777777777778,
             "#fb9f3a"
            ],
            [
             0.8888888888888888,
             "#fdca26"
            ],
            [
             1,
             "#f0f921"
            ]
           ]
          },
          "colorway": [
           "#636efa",
           "#EF553B",
           "#00cc96",
           "#ab63fa",
           "#FFA15A",
           "#19d3f3",
           "#FF6692",
           "#B6E880",
           "#FF97FF",
           "#FECB52"
          ],
          "font": {
           "color": "#2a3f5f"
          },
          "geo": {
           "bgcolor": "white",
           "lakecolor": "white",
           "landcolor": "white",
           "showlakes": true,
           "showland": true,
           "subunitcolor": "#C8D4E3"
          },
          "hoverlabel": {
           "align": "left"
          },
          "hovermode": "closest",
          "mapbox": {
           "style": "light"
          },
          "paper_bgcolor": "white",
          "plot_bgcolor": "white",
          "polar": {
           "angularaxis": {
            "gridcolor": "#EBF0F8",
            "linecolor": "#EBF0F8",
            "ticks": ""
           },
           "bgcolor": "white",
           "radialaxis": {
            "gridcolor": "#EBF0F8",
            "linecolor": "#EBF0F8",
            "ticks": ""
           }
          },
          "scene": {
           "xaxis": {
            "backgroundcolor": "white",
            "gridcolor": "#DFE8F3",
            "gridwidth": 2,
            "linecolor": "#EBF0F8",
            "showbackground": true,
            "ticks": "",
            "zerolinecolor": "#EBF0F8"
           },
           "yaxis": {
            "backgroundcolor": "white",
            "gridcolor": "#DFE8F3",
            "gridwidth": 2,
            "linecolor": "#EBF0F8",
            "showbackground": true,
            "ticks": "",
            "zerolinecolor": "#EBF0F8"
           },
           "zaxis": {
            "backgroundcolor": "white",
            "gridcolor": "#DFE8F3",
            "gridwidth": 2,
            "linecolor": "#EBF0F8",
            "showbackground": true,
            "ticks": "",
            "zerolinecolor": "#EBF0F8"
           }
          },
          "shapedefaults": {
           "line": {
            "color": "#2a3f5f"
           }
          },
          "ternary": {
           "aaxis": {
            "gridcolor": "#DFE8F3",
            "linecolor": "#A2B1C6",
            "ticks": ""
           },
           "baxis": {
            "gridcolor": "#DFE8F3",
            "linecolor": "#A2B1C6",
            "ticks": ""
           },
           "bgcolor": "white",
           "caxis": {
            "gridcolor": "#DFE8F3",
            "linecolor": "#A2B1C6",
            "ticks": ""
           }
          },
          "title": {
           "x": 0.05
          },
          "xaxis": {
           "automargin": true,
           "gridcolor": "#EBF0F8",
           "linecolor": "#EBF0F8",
           "ticks": "",
           "title": {
            "standoff": 15
           },
           "zerolinecolor": "#EBF0F8",
           "zerolinewidth": 2
          },
          "yaxis": {
           "automargin": true,
           "gridcolor": "#EBF0F8",
           "linecolor": "#EBF0F8",
           "ticks": "",
           "title": {
            "standoff": 15
           },
           "zerolinecolor": "#EBF0F8",
           "zerolinewidth": 2
          }
         }
        },
        "title": {
         "font": {
          "size": 24
         },
         "text": "Wait times per Person",
         "x": 0.5
        },
        "xaxis": {
         "anchor": "y",
         "domain": [
          0,
          1
         ],
         "tickangle": 0,
         "title": {
          "text": "Emojies"
         }
        },
        "yaxis": {
         "anchor": "x",
         "domain": [
          0,
          1
         ],
         "title": {
          "text": "Count"
         }
        }
       }
      }
     },
     "metadata": {}
    }
   ],
   "source": [
    "plot_data = wait_time[wait_time[\"wait_time\"]<=60]\n",
    "plot_data = plot_data.sort_values(by=[\"person\"])\n",
    "bar5 = P.histogram(data=plot_data, x=\"wait_time\", color=\"person\", title_text=\"Wait times per Person\", xaxis_title=\"Emojies\", yaxis_title=\"Count\",xtickangle=0)\n",
    "bar5.show()"
   ]
  },
  {
   "cell_type": "code",
   "execution_count": 31,
   "metadata": {},
   "outputs": [
    {
     "output_type": "display_data",
     "data": {
      "application/vnd.plotly.v1+json": {
       "config": {
        "plotlyServerURL": "https://plot.ly"
       },
       "data": [
        {
         "alignmentgroup": "True",
         "hovertemplate": "person=User 0<br>hour=%{x}<br>value=%{y}<extra></extra>",
         "legendgroup": "User 0",
         "marker": {
          "color": "#4C78A8"
         },
         "name": "User 0",
         "offsetgroup": "User 0",
         "orientation": "v",
         "showlegend": true,
         "textposition": "auto",
         "type": "bar",
         "x": [
          7,
          8,
          9,
          10,
          11,
          12,
          14,
          17,
          18,
          19,
          20,
          21
         ],
         "xaxis": "x",
         "y": [
          0,
          20.181818181818183,
          4.142857142857143,
          16.066666666666666,
          16.666666666666668,
          42.875,
          10.125,
          30.736842105263158,
          25.333333333333332,
          33.705882352941174,
          23,
          37
         ],
         "yaxis": "y"
        },
        {
         "alignmentgroup": "True",
         "hovertemplate": "person=User 1<br>hour=%{x}<br>value=%{y}<extra></extra>",
         "legendgroup": "User 1",
         "marker": {
          "color": "#F58518"
         },
         "name": "User 1",
         "offsetgroup": "User 1",
         "orientation": "v",
         "showlegend": true,
         "textposition": "auto",
         "type": "bar",
         "x": [
          5,
          6,
          8,
          9,
          10,
          11,
          12,
          13,
          14,
          15,
          16,
          17,
          18,
          19,
          20,
          21,
          22
         ],
         "xaxis": "x",
         "y": [
          0,
          0,
          0.42857142857142855,
          20.857142857142858,
          9.916666666666666,
          11.294117647058824,
          32.84615384615385,
          14.714285714285714,
          2.3333333333333335,
          39.22222222222222,
          0,
          7.375,
          17.962962962962962,
          8.227272727272727,
          15.23076923076923,
          4.294117647058823,
          5
         ],
         "yaxis": "y"
        },
        {
         "alignmentgroup": "True",
         "hovertemplate": "person=User 2<br>hour=%{x}<br>value=%{y}<extra></extra>",
         "legendgroup": "User 2",
         "marker": {
          "color": "#E45756"
         },
         "name": "User 2",
         "offsetgroup": "User 2",
         "orientation": "v",
         "showlegend": true,
         "textposition": "auto",
         "type": "bar",
         "x": [
          0,
          1,
          6,
          7,
          8,
          9,
          10,
          11,
          12,
          13,
          14,
          15,
          16,
          17,
          18,
          19,
          20,
          21,
          23
         ],
         "xaxis": "x",
         "y": [
          1,
          0,
          3.6666666666666665,
          29.625,
          10.333333333333334,
          14.166666666666666,
          13.523809523809524,
          18.11111111111111,
          18,
          23.352941176470587,
          40.416666666666664,
          23.785714285714285,
          46.6,
          30.56,
          11.542857142857143,
          21.352941176470587,
          15.066666666666666,
          6.4375,
          6
         ],
         "yaxis": "y"
        },
        {
         "alignmentgroup": "True",
         "hovertemplate": "person=User 3<br>hour=%{x}<br>value=%{y}<extra></extra>",
         "legendgroup": "User 3",
         "marker": {
          "color": "#72B7B2"
         },
         "name": "User 3",
         "offsetgroup": "User 3",
         "orientation": "v",
         "showlegend": true,
         "textposition": "auto",
         "type": "bar",
         "x": [
          0,
          5,
          6,
          7,
          8,
          9,
          10,
          11,
          12,
          13,
          14,
          15,
          16,
          17,
          18,
          19,
          20,
          21,
          22,
          23
         ],
         "xaxis": "x",
         "y": [
          39,
          0,
          11,
          3.3333333333333335,
          10.166666666666666,
          5.2,
          12.333333333333334,
          43.166666666666664,
          16.57894736842105,
          14.263157894736842,
          9.833333333333334,
          26.523809523809526,
          27.727272727272727,
          7,
          21.1864406779661,
          22.964285714285715,
          12.742857142857142,
          32.27272727272727,
          34.77777777777778,
          6.5
         ],
         "yaxis": "y"
        }
       ],
       "layout": {
        "autosize": true,
        "font": {
         "size": 14
        },
        "legend": {
         "orientation": "h",
         "title": {},
         "tracegroupgap": 0,
         "y": -0.3
        },
        "margin": {
         "b": 0,
         "l": 0,
         "r": 0,
         "t": 120
        },
        "template": {
         "data": {
          "bar": [
           {
            "error_x": {
             "color": "#2a3f5f"
            },
            "error_y": {
             "color": "#2a3f5f"
            },
            "marker": {
             "line": {
              "color": "white",
              "width": 0.5
             }
            },
            "type": "bar"
           }
          ],
          "barpolar": [
           {
            "marker": {
             "line": {
              "color": "white",
              "width": 0.5
             }
            },
            "type": "barpolar"
           }
          ],
          "carpet": [
           {
            "aaxis": {
             "endlinecolor": "#2a3f5f",
             "gridcolor": "#C8D4E3",
             "linecolor": "#C8D4E3",
             "minorgridcolor": "#C8D4E3",
             "startlinecolor": "#2a3f5f"
            },
            "baxis": {
             "endlinecolor": "#2a3f5f",
             "gridcolor": "#C8D4E3",
             "linecolor": "#C8D4E3",
             "minorgridcolor": "#C8D4E3",
             "startlinecolor": "#2a3f5f"
            },
            "type": "carpet"
           }
          ],
          "choropleth": [
           {
            "colorbar": {
             "outlinewidth": 0,
             "ticks": ""
            },
            "type": "choropleth"
           }
          ],
          "contour": [
           {
            "colorbar": {
             "outlinewidth": 0,
             "ticks": ""
            },
            "colorscale": [
             [
              0,
              "#0d0887"
             ],
             [
              0.1111111111111111,
              "#46039f"
             ],
             [
              0.2222222222222222,
              "#7201a8"
             ],
             [
              0.3333333333333333,
              "#9c179e"
             ],
             [
              0.4444444444444444,
              "#bd3786"
             ],
             [
              0.5555555555555556,
              "#d8576b"
             ],
             [
              0.6666666666666666,
              "#ed7953"
             ],
             [
              0.7777777777777778,
              "#fb9f3a"
             ],
             [
              0.8888888888888888,
              "#fdca26"
             ],
             [
              1,
              "#f0f921"
             ]
            ],
            "type": "contour"
           }
          ],
          "contourcarpet": [
           {
            "colorbar": {
             "outlinewidth": 0,
             "ticks": ""
            },
            "type": "contourcarpet"
           }
          ],
          "heatmap": [
           {
            "colorbar": {
             "outlinewidth": 0,
             "ticks": ""
            },
            "colorscale": [
             [
              0,
              "#0d0887"
             ],
             [
              0.1111111111111111,
              "#46039f"
             ],
             [
              0.2222222222222222,
              "#7201a8"
             ],
             [
              0.3333333333333333,
              "#9c179e"
             ],
             [
              0.4444444444444444,
              "#bd3786"
             ],
             [
              0.5555555555555556,
              "#d8576b"
             ],
             [
              0.6666666666666666,
              "#ed7953"
             ],
             [
              0.7777777777777778,
              "#fb9f3a"
             ],
             [
              0.8888888888888888,
              "#fdca26"
             ],
             [
              1,
              "#f0f921"
             ]
            ],
            "type": "heatmap"
           }
          ],
          "heatmapgl": [
           {
            "colorbar": {
             "outlinewidth": 0,
             "ticks": ""
            },
            "colorscale": [
             [
              0,
              "#0d0887"
             ],
             [
              0.1111111111111111,
              "#46039f"
             ],
             [
              0.2222222222222222,
              "#7201a8"
             ],
             [
              0.3333333333333333,
              "#9c179e"
             ],
             [
              0.4444444444444444,
              "#bd3786"
             ],
             [
              0.5555555555555556,
              "#d8576b"
             ],
             [
              0.6666666666666666,
              "#ed7953"
             ],
             [
              0.7777777777777778,
              "#fb9f3a"
             ],
             [
              0.8888888888888888,
              "#fdca26"
             ],
             [
              1,
              "#f0f921"
             ]
            ],
            "type": "heatmapgl"
           }
          ],
          "histogram": [
           {
            "marker": {
             "colorbar": {
              "outlinewidth": 0,
              "ticks": ""
             }
            },
            "type": "histogram"
           }
          ],
          "histogram2d": [
           {
            "colorbar": {
             "outlinewidth": 0,
             "ticks": ""
            },
            "colorscale": [
             [
              0,
              "#0d0887"
             ],
             [
              0.1111111111111111,
              "#46039f"
             ],
             [
              0.2222222222222222,
              "#7201a8"
             ],
             [
              0.3333333333333333,
              "#9c179e"
             ],
             [
              0.4444444444444444,
              "#bd3786"
             ],
             [
              0.5555555555555556,
              "#d8576b"
             ],
             [
              0.6666666666666666,
              "#ed7953"
             ],
             [
              0.7777777777777778,
              "#fb9f3a"
             ],
             [
              0.8888888888888888,
              "#fdca26"
             ],
             [
              1,
              "#f0f921"
             ]
            ],
            "type": "histogram2d"
           }
          ],
          "histogram2dcontour": [
           {
            "colorbar": {
             "outlinewidth": 0,
             "ticks": ""
            },
            "colorscale": [
             [
              0,
              "#0d0887"
             ],
             [
              0.1111111111111111,
              "#46039f"
             ],
             [
              0.2222222222222222,
              "#7201a8"
             ],
             [
              0.3333333333333333,
              "#9c179e"
             ],
             [
              0.4444444444444444,
              "#bd3786"
             ],
             [
              0.5555555555555556,
              "#d8576b"
             ],
             [
              0.6666666666666666,
              "#ed7953"
             ],
             [
              0.7777777777777778,
              "#fb9f3a"
             ],
             [
              0.8888888888888888,
              "#fdca26"
             ],
             [
              1,
              "#f0f921"
             ]
            ],
            "type": "histogram2dcontour"
           }
          ],
          "mesh3d": [
           {
            "colorbar": {
             "outlinewidth": 0,
             "ticks": ""
            },
            "type": "mesh3d"
           }
          ],
          "parcoords": [
           {
            "line": {
             "colorbar": {
              "outlinewidth": 0,
              "ticks": ""
             }
            },
            "type": "parcoords"
           }
          ],
          "pie": [
           {
            "automargin": true,
            "type": "pie"
           }
          ],
          "scatter": [
           {
            "marker": {
             "colorbar": {
              "outlinewidth": 0,
              "ticks": ""
             }
            },
            "type": "scatter"
           }
          ],
          "scatter3d": [
           {
            "line": {
             "colorbar": {
              "outlinewidth": 0,
              "ticks": ""
             }
            },
            "marker": {
             "colorbar": {
              "outlinewidth": 0,
              "ticks": ""
             }
            },
            "type": "scatter3d"
           }
          ],
          "scattercarpet": [
           {
            "marker": {
             "colorbar": {
              "outlinewidth": 0,
              "ticks": ""
             }
            },
            "type": "scattercarpet"
           }
          ],
          "scattergeo": [
           {
            "marker": {
             "colorbar": {
              "outlinewidth": 0,
              "ticks": ""
             }
            },
            "type": "scattergeo"
           }
          ],
          "scattergl": [
           {
            "marker": {
             "colorbar": {
              "outlinewidth": 0,
              "ticks": ""
             }
            },
            "type": "scattergl"
           }
          ],
          "scattermapbox": [
           {
            "marker": {
             "colorbar": {
              "outlinewidth": 0,
              "ticks": ""
             }
            },
            "type": "scattermapbox"
           }
          ],
          "scatterpolar": [
           {
            "marker": {
             "colorbar": {
              "outlinewidth": 0,
              "ticks": ""
             }
            },
            "type": "scatterpolar"
           }
          ],
          "scatterpolargl": [
           {
            "marker": {
             "colorbar": {
              "outlinewidth": 0,
              "ticks": ""
             }
            },
            "type": "scatterpolargl"
           }
          ],
          "scatterternary": [
           {
            "marker": {
             "colorbar": {
              "outlinewidth": 0,
              "ticks": ""
             }
            },
            "type": "scatterternary"
           }
          ],
          "surface": [
           {
            "colorbar": {
             "outlinewidth": 0,
             "ticks": ""
            },
            "colorscale": [
             [
              0,
              "#0d0887"
             ],
             [
              0.1111111111111111,
              "#46039f"
             ],
             [
              0.2222222222222222,
              "#7201a8"
             ],
             [
              0.3333333333333333,
              "#9c179e"
             ],
             [
              0.4444444444444444,
              "#bd3786"
             ],
             [
              0.5555555555555556,
              "#d8576b"
             ],
             [
              0.6666666666666666,
              "#ed7953"
             ],
             [
              0.7777777777777778,
              "#fb9f3a"
             ],
             [
              0.8888888888888888,
              "#fdca26"
             ],
             [
              1,
              "#f0f921"
             ]
            ],
            "type": "surface"
           }
          ],
          "table": [
           {
            "cells": {
             "fill": {
              "color": "#EBF0F8"
             },
             "line": {
              "color": "white"
             }
            },
            "header": {
             "fill": {
              "color": "#C8D4E3"
             },
             "line": {
              "color": "white"
             }
            },
            "type": "table"
           }
          ]
         },
         "layout": {
          "annotationdefaults": {
           "arrowcolor": "#2a3f5f",
           "arrowhead": 0,
           "arrowwidth": 1
          },
          "autotypenumbers": "strict",
          "coloraxis": {
           "colorbar": {
            "outlinewidth": 0,
            "ticks": ""
           }
          },
          "colorscale": {
           "diverging": [
            [
             0,
             "#8e0152"
            ],
            [
             0.1,
             "#c51b7d"
            ],
            [
             0.2,
             "#de77ae"
            ],
            [
             0.3,
             "#f1b6da"
            ],
            [
             0.4,
             "#fde0ef"
            ],
            [
             0.5,
             "#f7f7f7"
            ],
            [
             0.6,
             "#e6f5d0"
            ],
            [
             0.7,
             "#b8e186"
            ],
            [
             0.8,
             "#7fbc41"
            ],
            [
             0.9,
             "#4d9221"
            ],
            [
             1,
             "#276419"
            ]
           ],
           "sequential": [
            [
             0,
             "#0d0887"
            ],
            [
             0.1111111111111111,
             "#46039f"
            ],
            [
             0.2222222222222222,
             "#7201a8"
            ],
            [
             0.3333333333333333,
             "#9c179e"
            ],
            [
             0.4444444444444444,
             "#bd3786"
            ],
            [
             0.5555555555555556,
             "#d8576b"
            ],
            [
             0.6666666666666666,
             "#ed7953"
            ],
            [
             0.7777777777777778,
             "#fb9f3a"
            ],
            [
             0.8888888888888888,
             "#fdca26"
            ],
            [
             1,
             "#f0f921"
            ]
           ],
           "sequentialminus": [
            [
             0,
             "#0d0887"
            ],
            [
             0.1111111111111111,
             "#46039f"
            ],
            [
             0.2222222222222222,
             "#7201a8"
            ],
            [
             0.3333333333333333,
             "#9c179e"
            ],
            [
             0.4444444444444444,
             "#bd3786"
            ],
            [
             0.5555555555555556,
             "#d8576b"
            ],
            [
             0.6666666666666666,
             "#ed7953"
            ],
            [
             0.7777777777777778,
             "#fb9f3a"
            ],
            [
             0.8888888888888888,
             "#fdca26"
            ],
            [
             1,
             "#f0f921"
            ]
           ]
          },
          "colorway": [
           "#636efa",
           "#EF553B",
           "#00cc96",
           "#ab63fa",
           "#FFA15A",
           "#19d3f3",
           "#FF6692",
           "#B6E880",
           "#FF97FF",
           "#FECB52"
          ],
          "font": {
           "color": "#2a3f5f"
          },
          "geo": {
           "bgcolor": "white",
           "lakecolor": "white",
           "landcolor": "white",
           "showlakes": true,
           "showland": true,
           "subunitcolor": "#C8D4E3"
          },
          "hoverlabel": {
           "align": "left"
          },
          "hovermode": "closest",
          "mapbox": {
           "style": "light"
          },
          "paper_bgcolor": "white",
          "plot_bgcolor": "white",
          "polar": {
           "angularaxis": {
            "gridcolor": "#EBF0F8",
            "linecolor": "#EBF0F8",
            "ticks": ""
           },
           "bgcolor": "white",
           "radialaxis": {
            "gridcolor": "#EBF0F8",
            "linecolor": "#EBF0F8",
            "ticks": ""
           }
          },
          "scene": {
           "xaxis": {
            "backgroundcolor": "white",
            "gridcolor": "#DFE8F3",
            "gridwidth": 2,
            "linecolor": "#EBF0F8",
            "showbackground": true,
            "ticks": "",
            "zerolinecolor": "#EBF0F8"
           },
           "yaxis": {
            "backgroundcolor": "white",
            "gridcolor": "#DFE8F3",
            "gridwidth": 2,
            "linecolor": "#EBF0F8",
            "showbackground": true,
            "ticks": "",
            "zerolinecolor": "#EBF0F8"
           },
           "zaxis": {
            "backgroundcolor": "white",
            "gridcolor": "#DFE8F3",
            "gridwidth": 2,
            "linecolor": "#EBF0F8",
            "showbackground": true,
            "ticks": "",
            "zerolinecolor": "#EBF0F8"
           }
          },
          "shapedefaults": {
           "line": {
            "color": "#2a3f5f"
           }
          },
          "ternary": {
           "aaxis": {
            "gridcolor": "#DFE8F3",
            "linecolor": "#A2B1C6",
            "ticks": ""
           },
           "baxis": {
            "gridcolor": "#DFE8F3",
            "linecolor": "#A2B1C6",
            "ticks": ""
           },
           "bgcolor": "white",
           "caxis": {
            "gridcolor": "#DFE8F3",
            "linecolor": "#A2B1C6",
            "ticks": ""
           }
          },
          "title": {
           "x": 0.05
          },
          "xaxis": {
           "automargin": true,
           "gridcolor": "#EBF0F8",
           "linecolor": "#EBF0F8",
           "ticks": "",
           "title": {
            "standoff": 15
           },
           "zerolinecolor": "#EBF0F8",
           "zerolinewidth": 2
          },
          "yaxis": {
           "automargin": true,
           "gridcolor": "#EBF0F8",
           "linecolor": "#EBF0F8",
           "ticks": "",
           "title": {
            "standoff": 15
           },
           "zerolinecolor": "#EBF0F8",
           "zerolinewidth": 2
          }
         }
        },
        "title": {
         "font": {
          "size": 24
         },
         "text": "Average wait times per hour",
         "x": 0.5
        },
        "xaxis": {
         "anchor": "y",
         "domain": [
          0,
          1
         ],
         "tickvals": [
          7,
          8,
          9,
          10,
          11,
          12,
          14,
          17,
          18,
          19,
          20,
          21,
          5,
          6,
          8,
          9,
          10,
          11,
          12,
          13,
          14,
          15,
          16,
          17,
          18,
          19,
          20,
          21,
          22,
          0,
          1,
          6,
          7,
          8,
          9,
          10,
          11,
          12,
          13,
          14,
          15,
          16,
          17,
          18,
          19,
          20,
          21,
          23,
          0,
          5,
          6,
          7,
          8,
          9,
          10,
          11,
          12,
          13,
          14,
          15,
          16,
          17,
          18,
          19,
          20,
          21,
          22,
          23
         ],
         "title": {
          "text": "Hour of the day"
         }
        },
        "yaxis": {
         "anchor": "x",
         "domain": [
          0,
          1
         ],
         "title": {
          "text": "Wait time"
         }
        }
       }
      }
     },
     "metadata": {}
    }
   ],
   "source": [
    "plot_data = wait_time.fillna(0)\n",
    "plot_data[\"hour\"] = plot_data[\"date_time\"].dt.hour \n",
    "plot_data = plot_data.groupby([\"hour\",\"person\"]).mean()[\"wait_time\"].unstack().reset_index().melt(id_vars=[\"hour\"])\n",
    "plot_data = plot_data[plot_data[\"value\"] <= 50]\n",
    "\n",
    "bar_test = P.barplot(data=plot_data, x=\"hour\", y=\"value\",color=\"person\", title_text=\"Average wait times per hour\", xaxis_title=\"Hour of the day\", yaxis_title=\"Wait time\", xtickvals=plot_data[\"hour\"])\n",
    "bar_test.show()\n"
   ]
  },
  {
   "source": [
    "# Ideas:\n",
    "\n",
    "Categorize Messages"
   ],
   "cell_type": "markdown",
   "metadata": {}
  }
 ],
 "metadata": {
  "language_info": {
   "name": "python",
   "codemirror_mode": {
    "name": "ipython",
    "version": 3
   },
   "version": "3.8.5-final"
  },
  "orig_nbformat": 2,
  "file_extension": ".py",
  "mimetype": "text/x-python",
  "name": "python",
  "npconvert_exporter": "python",
  "pygments_lexer": "ipython3",
  "version": 3,
  "kernelspec": {
   "name": "python3",
   "display_name": "Python 3.8.5 64-bit ('whatsapp-analytis': conda)",
   "metadata": {
    "interpreter": {
     "hash": "bbe809f78f1aac195ffcbb056cc0910dc9c5dbca64b7bacaf76b4af22070b12e"
    }
   }
  }
 },
 "nbformat": 4,
 "nbformat_minor": 2
}